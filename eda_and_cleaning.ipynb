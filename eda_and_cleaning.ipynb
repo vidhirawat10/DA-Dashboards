{
 "cells": [
  {
   "cell_type": "code",
   "execution_count": 1,
   "id": "af9be840",
   "metadata": {},
   "outputs": [],
   "source": [
    "import pandas as pd"
   ]
  },
  {
   "cell_type": "markdown",
   "id": "2e9c1fc1",
   "metadata": {},
   "source": [
    "Importing dataset\n",
    "and \n",
    "Display the first few rows to confirm it loaded correctly"
   ]
  },
  {
   "cell_type": "code",
   "execution_count": 3,
   "id": "980e0f30",
   "metadata": {},
   "outputs": [],
   "source": [
    "df = pd.read_csv('data/survey.csv')"
   ]
  },
  {
   "cell_type": "markdown",
   "id": "4e1cfbbf",
   "metadata": {},
   "source": [
    "# I ) EDA"
   ]
  },
  {
   "cell_type": "code",
   "execution_count": 4,
   "id": "96c706f5",
   "metadata": {},
   "outputs": [
    {
     "name": "stdout",
     "output_type": "stream",
     "text": [
      "             Timestamp  Age  Gender         Country state self_employed  \\\n",
      "0  2014-08-27 11:29:31   37  Female   United States    IL           NaN   \n",
      "1  2014-08-27 11:29:37   44       M   United States    IN           NaN   \n",
      "2  2014-08-27 11:29:44   32    Male          Canada   NaN           NaN   \n",
      "3  2014-08-27 11:29:46   31    Male  United Kingdom   NaN           NaN   \n",
      "4  2014-08-27 11:30:22   31    Male   United States    TX           NaN   \n",
      "\n",
      "  family_history treatment work_interfere    no_employees  ...  \\\n",
      "0             No       Yes          Often            6-25  ...   \n",
      "1             No        No         Rarely  More than 1000  ...   \n",
      "2             No        No         Rarely            6-25  ...   \n",
      "3            Yes       Yes          Often          26-100  ...   \n",
      "4             No        No          Never         100-500  ...   \n",
      "\n",
      "                leave mental_health_consequence phys_health_consequence  \\\n",
      "0       Somewhat easy                        No                      No   \n",
      "1          Don't know                     Maybe                      No   \n",
      "2  Somewhat difficult                        No                      No   \n",
      "3  Somewhat difficult                       Yes                     Yes   \n",
      "4          Don't know                        No                      No   \n",
      "\n",
      "      coworkers supervisor mental_health_interview phys_health_interview  \\\n",
      "0  Some of them        Yes                      No                 Maybe   \n",
      "1            No         No                      No                    No   \n",
      "2           Yes        Yes                     Yes                   Yes   \n",
      "3  Some of them         No                   Maybe                 Maybe   \n",
      "4  Some of them        Yes                     Yes                   Yes   \n",
      "\n",
      "  mental_vs_physical obs_consequence comments  \n",
      "0                Yes              No      NaN  \n",
      "1         Don't know              No      NaN  \n",
      "2                 No              No      NaN  \n",
      "3                 No             Yes      NaN  \n",
      "4         Don't know              No      NaN  \n",
      "\n",
      "[5 rows x 27 columns]\n"
     ]
    }
   ],
   "source": [
    "print(df.head())"
   ]
  },
  {
   "cell_type": "code",
   "execution_count": 5,
   "id": "67e95c8f",
   "metadata": {},
   "outputs": [
    {
     "name": "stdout",
     "output_type": "stream",
     "text": [
      "<class 'pandas.core.frame.DataFrame'>\n",
      "RangeIndex: 1259 entries, 0 to 1258\n",
      "Data columns (total 27 columns):\n",
      " #   Column                     Non-Null Count  Dtype \n",
      "---  ------                     --------------  ----- \n",
      " 0   Timestamp                  1259 non-null   object\n",
      " 1   Age                        1259 non-null   int64 \n",
      " 2   Gender                     1259 non-null   object\n",
      " 3   Country                    1259 non-null   object\n",
      " 4   state                      744 non-null    object\n",
      " 5   self_employed              1241 non-null   object\n",
      " 6   family_history             1259 non-null   object\n",
      " 7   treatment                  1259 non-null   object\n",
      " 8   work_interfere             995 non-null    object\n",
      " 9   no_employees               1259 non-null   object\n",
      " 10  remote_work                1259 non-null   object\n",
      " 11  tech_company               1259 non-null   object\n",
      " 12  benefits                   1259 non-null   object\n",
      " 13  care_options               1259 non-null   object\n",
      " 14  wellness_program           1259 non-null   object\n",
      " 15  seek_help                  1259 non-null   object\n",
      " 16  anonymity                  1259 non-null   object\n",
      " 17  leave                      1259 non-null   object\n",
      " 18  mental_health_consequence  1259 non-null   object\n",
      " 19  phys_health_consequence    1259 non-null   object\n",
      " 20  coworkers                  1259 non-null   object\n",
      " 21  supervisor                 1259 non-null   object\n",
      " 22  mental_health_interview    1259 non-null   object\n",
      " 23  phys_health_interview      1259 non-null   object\n",
      " 24  mental_vs_physical         1259 non-null   object\n",
      " 25  obs_consequence            1259 non-null   object\n",
      " 26  comments                   164 non-null    object\n",
      "dtypes: int64(1), object(26)\n",
      "memory usage: 265.7+ KB\n",
      "None\n"
     ]
    }
   ],
   "source": [
    "# concise summary of the DataFrame\n",
    "print(df.info())"
   ]
  },
  {
   "cell_type": "code",
   "execution_count": 6,
   "id": "e2848849",
   "metadata": {},
   "outputs": [
    {
     "name": "stdout",
     "output_type": "stream",
     "text": [
      "                Age\n",
      "count  1.259000e+03\n",
      "mean   7.942815e+07\n",
      "std    2.818299e+09\n",
      "min   -1.726000e+03\n",
      "25%    2.700000e+01\n",
      "50%    3.100000e+01\n",
      "75%    3.600000e+01\n",
      "max    1.000000e+11\n"
     ]
    }
   ],
   "source": [
    "# descriptive statistics for numerical columns\n",
    "print(df.describe())"
   ]
  },
  {
   "cell_type": "code",
   "execution_count": 7,
   "id": "13360cbb",
   "metadata": {},
   "outputs": [
    {
     "name": "stdout",
     "output_type": "stream",
     "text": [
      "(1259, 27)\n"
     ]
    }
   ],
   "source": [
    "# number of rows and columns\n",
    "print(df.shape)"
   ]
  },
  {
   "cell_type": "code",
   "execution_count": 8,
   "id": "72abf204",
   "metadata": {},
   "outputs": [
    {
     "name": "stdout",
     "output_type": "stream",
     "text": [
      "Index(['Timestamp', 'Age', 'Gender', 'Country', 'state', 'self_employed',\n",
      "       'family_history', 'treatment', 'work_interfere', 'no_employees',\n",
      "       'remote_work', 'tech_company', 'benefits', 'care_options',\n",
      "       'wellness_program', 'seek_help', 'anonymity', 'leave',\n",
      "       'mental_health_consequence', 'phys_health_consequence', 'coworkers',\n",
      "       'supervisor', 'mental_health_interview', 'phys_health_interview',\n",
      "       'mental_vs_physical', 'obs_consequence', 'comments'],\n",
      "      dtype='object')\n"
     ]
    }
   ],
   "source": [
    "# Listing all column names\n",
    "print(df.columns)"
   ]
  },
  {
   "cell_type": "code",
   "execution_count": 9,
   "id": "874c84dd",
   "metadata": {},
   "outputs": [
    {
     "name": "stdout",
     "output_type": "stream",
     "text": [
      "Timestamp                       0\n",
      "Age                             0\n",
      "Gender                          0\n",
      "Country                         0\n",
      "state                         515\n",
      "self_employed                  18\n",
      "family_history                  0\n",
      "treatment                       0\n",
      "work_interfere                264\n",
      "no_employees                    0\n",
      "remote_work                     0\n",
      "tech_company                    0\n",
      "benefits                        0\n",
      "care_options                    0\n",
      "wellness_program                0\n",
      "seek_help                       0\n",
      "anonymity                       0\n",
      "leave                           0\n",
      "mental_health_consequence       0\n",
      "phys_health_consequence         0\n",
      "coworkers                       0\n",
      "supervisor                      0\n",
      "mental_health_interview         0\n",
      "phys_health_interview           0\n",
      "mental_vs_physical              0\n",
      "obs_consequence                 0\n",
      "comments                     1095\n",
      "dtype: int64\n"
     ]
    }
   ],
   "source": [
    "# Calculating the number of missing values for each column\n",
    "print(df.isnull().sum())"
   ]
  },
  {
   "cell_type": "code",
   "execution_count": 10,
   "id": "c96b55a1",
   "metadata": {},
   "outputs": [
    {
     "name": "stdout",
     "output_type": "stream",
     "text": [
      "\n",
      "Percentage of missing values per column:\n",
      "Timestamp                     0.000000\n",
      "Age                           0.000000\n",
      "Gender                        0.000000\n",
      "Country                       0.000000\n",
      "state                        40.905481\n",
      "self_employed                 1.429706\n",
      "family_history                0.000000\n",
      "treatment                     0.000000\n",
      "work_interfere               20.969023\n",
      "no_employees                  0.000000\n",
      "remote_work                   0.000000\n",
      "tech_company                  0.000000\n",
      "benefits                      0.000000\n",
      "care_options                  0.000000\n",
      "wellness_program              0.000000\n",
      "seek_help                     0.000000\n",
      "anonymity                     0.000000\n",
      "leave                         0.000000\n",
      "mental_health_consequence     0.000000\n",
      "phys_health_consequence       0.000000\n",
      "coworkers                     0.000000\n",
      "supervisor                    0.000000\n",
      "mental_health_interview       0.000000\n",
      "phys_health_interview         0.000000\n",
      "mental_vs_physical            0.000000\n",
      "obs_consequence               0.000000\n",
      "comments                     86.973789\n",
      "dtype: float64\n"
     ]
    }
   ],
   "source": [
    "# calculating the percentage of missing values for better context\n",
    "print(\"\\nPercentage of missing values per column:\")\n",
    "print((df.isnull().sum() / len(df)) * 100)"
   ]
  },
  {
   "cell_type": "markdown",
   "id": "36321c6b",
   "metadata": {},
   "source": [
    "# II ) DATA CLEANING"
   ]
  },
  {
   "cell_type": "markdown",
   "id": "83c177ab",
   "metadata": {},
   "source": [
    "### Missing Value Handling Strategy:\n",
    "\n",
    "- **`state`**: Fill `NaN` with 'Not Applicable' since it's only relevant for US respondents.\n",
    "- **`work_interfere`**: Fill `NaN` with 'Not Applicable' as these likely indicate respondents without a mental health condition.\n",
    "- **`comments`**: Will drop this column as it's not central to the dashboard's quantitative analysis.\n",
    "- **`self_employed`**: Fill `NaN` with 'No' (assuming most people are not self-employed or based on mode).\n",
    "- **`Age`**: (Check if any are NaN. If so, impute with median. Also check for illogical values like 0 or >100 and decide how to treat them)."
   ]
  },
  {
   "cell_type": "code",
   "execution_count": 11,
   "id": "923ea584",
   "metadata": {},
   "outputs": [],
   "source": [
    "import numpy as np"
   ]
  },
  {
   "cell_type": "code",
   "execution_count": null,
   "id": "bb6b5b9b",
   "metadata": {},
   "outputs": [],
   "source": [
    "# 1. Handling 'state' column\n",
    "df['state'] = df['state'].fillna('Not Applicable')\n",
    "\n",
    "# 2. Handling 'work_interfere' column\n",
    "df['work_interfere'] = df['work_interfere'].fillna('Not applicable')"
   ]
  },
  {
   "cell_type": "code",
   "execution_count": null,
   "id": "e95ca886",
   "metadata": {},
   "outputs": [],
   "source": [
    "# 3. Handling 'self_employed' column\n",
    "df['self_employed'] = df['self_employed'].fillna('Unknown')"
   ]
  },
  {
   "cell_type": "code",
   "execution_count": null,
   "id": "c433ac7a",
   "metadata": {},
   "outputs": [],
   "source": [
    "# 4. Handling 'Age' column\n",
    "df['Age'] = df['Age'].fillna('median_age')"
   ]
  },
  {
   "cell_type": "code",
   "execution_count": 18,
   "id": "0d830912",
   "metadata": {},
   "outputs": [],
   "source": [
    "# 5. Drop the 'comments' column if it's not going to be used for quantitative analysis\n",
    "df.drop('comments', axis=1, inplace=True)"
   ]
  },
  {
   "cell_type": "code",
   "execution_count": 19,
   "id": "520a5ff0",
   "metadata": {},
   "outputs": [
    {
     "name": "stdout",
     "output_type": "stream",
     "text": [
      "Missing values after handling and refactoring:\n",
      "Timestamp                    0\n",
      "Age                          0\n",
      "Gender                       0\n",
      "Country                      0\n",
      "state                        0\n",
      "self_employed                0\n",
      "family_history               0\n",
      "treatment                    0\n",
      "work_interfere               0\n",
      "no_employees                 0\n",
      "remote_work                  0\n",
      "tech_company                 0\n",
      "benefits                     0\n",
      "care_options                 0\n",
      "wellness_program             0\n",
      "seek_help                    0\n",
      "anonymity                    0\n",
      "leave                        0\n",
      "mental_health_consequence    0\n",
      "phys_health_consequence      0\n",
      "coworkers                    0\n",
      "supervisor                   0\n",
      "mental_health_interview      0\n",
      "phys_health_interview        0\n",
      "mental_vs_physical           0\n",
      "obs_consequence              0\n",
      "dtype: int64\n"
     ]
    }
   ],
   "source": [
    "# checking count of missing vales again\n",
    "print(\"Missing values after handling and refactoring:\")\n",
    "print(df.isnull().sum())"
   ]
  },
  {
   "cell_type": "markdown",
   "id": "23bb4d99",
   "metadata": {},
   "source": [
    "### duplicates"
   ]
  },
  {
   "cell_type": "code",
   "execution_count": 20,
   "id": "1c93caa1",
   "metadata": {},
   "outputs": [
    {
     "name": "stdout",
     "output_type": "stream",
     "text": [
      "Number of duplicate rows: 0\n",
      "No duplicate rows found.\n"
     ]
    }
   ],
   "source": [
    "# Checking for duplicate rows\n",
    "print(f\"Number of duplicate rows: {df.duplicated().sum()}\")\n",
    "\n",
    "# If duplicates exist, drop them\n",
    "if df.duplicated().sum() > 0:\n",
    "    df.drop_duplicates(inplace=True)\n",
    "    print(\"Duplicate rows removed.\")\n",
    "    print(f\"Number of duplicate rows after removal: {df.duplicated().sum()}\")\n",
    "else:\n",
    "    print(\"No duplicate rows found.\")"
   ]
  },
  {
   "cell_type": "code",
   "execution_count": 22,
   "id": "1694cc24",
   "metadata": {},
   "outputs": [
    {
     "name": "stdout",
     "output_type": "stream",
     "text": [
      "Timestamp Dtype after conversion: datetime64[ns]\n",
      "Age Dtype after conversion and cleaning: int64\n",
      "\n",
      "Data types after conversion:\n",
      "<class 'pandas.core.frame.DataFrame'>\n",
      "RangeIndex: 1259 entries, 0 to 1258\n",
      "Data columns (total 26 columns):\n",
      " #   Column                     Non-Null Count  Dtype         \n",
      "---  ------                     --------------  -----         \n",
      " 0   Timestamp                  1259 non-null   datetime64[ns]\n",
      " 1   Age                        1259 non-null   int64         \n",
      " 2   Gender                     1259 non-null   object        \n",
      " 3   Country                    1259 non-null   object        \n",
      " 4   state                      1259 non-null   object        \n",
      " 5   self_employed              1259 non-null   object        \n",
      " 6   family_history             1259 non-null   object        \n",
      " 7   treatment                  1259 non-null   object        \n",
      " 8   work_interfere             1259 non-null   object        \n",
      " 9   no_employees               1259 non-null   object        \n",
      " 10  remote_work                1259 non-null   object        \n",
      " 11  tech_company               1259 non-null   object        \n",
      " 12  benefits                   1259 non-null   object        \n",
      " 13  care_options               1259 non-null   object        \n",
      " 14  wellness_program           1259 non-null   object        \n",
      " 15  seek_help                  1259 non-null   object        \n",
      " 16  anonymity                  1259 non-null   object        \n",
      " 17  leave                      1259 non-null   object        \n",
      " 18  mental_health_consequence  1259 non-null   object        \n",
      " 19  phys_health_consequence    1259 non-null   object        \n",
      " 20  coworkers                  1259 non-null   object        \n",
      " 21  supervisor                 1259 non-null   object        \n",
      " 22  mental_health_interview    1259 non-null   object        \n",
      " 23  phys_health_interview      1259 non-null   object        \n",
      " 24  mental_vs_physical         1259 non-null   object        \n",
      " 25  obs_consequence            1259 non-null   object        \n",
      "dtypes: datetime64[ns](1), int64(1), object(24)\n",
      "memory usage: 255.9+ KB\n",
      "None\n"
     ]
    }
   ],
   "source": [
    "# 1. Convert 'Timestamp' to datetime objects\n",
    "df['Timestamp'] = pd.to_datetime(df['Timestamp'], errors='coerce')\n",
    "print(\"Timestamp Dtype after conversion:\", df['Timestamp'].dtype)\n",
    "\n",
    "# 2. Clean and convert 'Age' to a numeric type (integer or float) - Convert 'Age' to numeric, coercing errors to NaN\n",
    "df['Age'] = pd.to_numeric(df['Age'], errors='coerce')\n",
    "\n",
    "# Remove or cap illogical age values (e.g., ages outside a reasonable range like 18-100)\n",
    "min_reasonable_age = 18\n",
    "max_reasonable_age = 100\n",
    "\n",
    "# Replace ages outside this range (and NaNs introduced by coerce) with NaN\n",
    "df.loc[(df['Age'] < min_reasonable_age) | (df['Age'] > max_reasonable_age), 'Age'] = np.nan\n",
    "\n",
    "# Now, handle any remaining NaNs in Age (e.g., from initial non-numeric or out-of-range values) - A common strategy is to fill with the median, or drop rows if few\n",
    "if df['Age'].isnull().sum() > 0:\n",
    "    median_age = df['Age'].median()\n",
    "    df['Age'].fillna(median_age, inplace=True) # Using inplace=True here is fine for a direct series op.\n",
    "\n",
    "# Finally, convert Age to integer if all values are whole numbers, otherwise keep as float\n",
    "df['Age'] = df['Age'].astype(int) # This will convert to integer, might need to be 'Int64' if any NaNs remained (but we filled them)\n",
    "print(\"Age Dtype after conversion and cleaning:\", df['Age'].dtype)\n",
    "\n",
    "\n",
    "# 3. Verify the changes\n",
    "print(\"\\nData types after conversion:\")\n",
    "print(df.info())"
   ]
  },
  {
   "cell_type": "code",
   "execution_count": 23,
   "id": "8ab8bcfd",
   "metadata": {},
   "outputs": [
    {
     "name": "stdout",
     "output_type": "stream",
     "text": [
      "Original unique Gender values:\n",
      "['Female' 'M' 'Male' 'male' 'female' 'm' 'Male-ish' 'maile' 'Trans-female'\n",
      " 'Cis Female' 'F' 'something kinda male?' 'Cis Male' 'Woman' 'f' 'Mal'\n",
      " 'Male (CIS)' 'queer/she/they' 'non-binary' 'Femake' 'woman' 'Make' 'Nah'\n",
      " 'All' 'Enby' 'fluid' 'Genderqueer' 'Female ' 'Androgyne' 'Agender'\n",
      " 'cis-female/femme' 'Guy (-ish) ^_^' 'male leaning androgynous' 'Male '\n",
      " 'Man' 'Trans woman' 'msle' 'Neuter' 'Female (trans)' 'queer'\n",
      " 'Female (cis)' 'Mail' 'cis male' 'A little about you' 'Malr' 'p' 'femail'\n",
      " 'Cis Man' 'ostensibly male, unsure what that really means']\n",
      "\n",
      "Unique Gender values after initial standardization:\n",
      "['Female' 'Male' 'Transgender' 'something kinda male?' 'mal'\n",
      " 'Non-binary/Other' 'femake' 'make' 'androgyne' 'cis-female/femme'\n",
      " 'guy (-ish) ^_^' 'male leaning androgynous' 'msle' 'mail'\n",
      " 'a little about you' 'cis man'\n",
      " 'ostensibly male, unsure what that really means']\n",
      "\n",
      "Final standardized Gender unique values and their counts:\n",
      "Gender\n",
      "Male                983\n",
      "Female              245\n",
      "Other/Unknown        16\n",
      "Non-binary/Other     11\n",
      "Transgender           4\n",
      "Name: count, dtype: int64\n"
     ]
    }
   ],
   "source": [
    "# 1. Inspect unique values in 'Gender'\n",
    "print(\"Original unique Gender values:\")\n",
    "print(df['Gender'].unique())\n",
    "\n",
    "# 2. Convert Gender to lowercase and strip whitespace for easier comparison\n",
    "df['Gender'] = df['Gender'].str.lower().str.strip()\n",
    "\n",
    "# 3. Standardize common variations. This is a common pattern for survey data. || Create a mapping or use conditional logic || Define mappings for common gender categories\n",
    "gender_mapping = {\n",
    "    'male': 'Male',\n",
    "    'm': 'Male',\n",
    "    'mish': 'Male', # Example of an odd entry you might find\n",
    "    'cis male': 'Male',\n",
    "    'man': 'Male',\n",
    "    'male (cis)': 'Male',\n",
    "    'malr': 'Male',\n",
    "    'male-ish': 'Male',\n",
    "    'maile': 'Male',\n",
    "\n",
    "    'female': 'Female',\n",
    "    'f': 'Female',\n",
    "    'fem': 'Female',\n",
    "    'cis female': 'Female',\n",
    "    'woman': 'Female',\n",
    "    'female (cis)': 'Female',\n",
    "    'femail': 'Female',\n",
    "\n",
    "    'trans-female': 'Transgender',\n",
    "    'male (trans)': 'Transgender',\n",
    "    'trans woman': 'Transgender',\n",
    "    'transgender': 'Transgender',\n",
    "    'female (trans)': 'Transgender',\n",
    "    'trans man': 'Transgender',\n",
    "\n",
    "    # Non-binary and other identities\n",
    "    'genderqueer': 'Non-binary/Other',\n",
    "    'non-binary': 'Non-binary/Other',\n",
    "    'a little bit o female': 'Non-binary/Other', # Example of specific entry\n",
    "    'agender': 'Non-binary/Other',\n",
    "    'queer': 'Non-binary/Other',\n",
    "    'ostensibly male, sometimes female': 'Non-binary/Other', # Another example\n",
    "    'fluid': 'Non-binary/Other',\n",
    "    'androgynous': 'Non-binary/Other',\n",
    "    'p': 'Non-binary/Other', # Might be an error or specific short form\n",
    "    'nah': 'Non-binary/Other',\n",
    "    'all': 'Non-binary/Other',\n",
    "    'enby': 'Non-binary/Other',\n",
    "    'something kinda new': 'Non-binary/Other',\n",
    "    'queer/she/they': 'Non-binary/Other',\n",
    "    'neuter': 'Non-binary/Other',\n",
    "    'genderfluid': 'Non-binary/Other',\n",
    "    'genderflux': 'Non-binary/Other',\n",
    "    'transfeminine': 'Non-binary/Other',\n",
    "    'transmasculine': 'Non-binary/Other',\n",
    "    'trans-male': 'Non-binary/Other', # This could also go into 'Transgender' if you prefer a single Trans category\n",
    "    'trans gender': 'Non-binary/Other'\n",
    "}\n",
    "\n",
    "# Apply the mapping. Use .get() to handle any entries not in the mapping. || If an entry is not in the mapping, it will default to itself, || allowing for manual inspection of remaining unique values.\n",
    "df['Gender'] = df['Gender'].apply(lambda x: gender_mapping.get(x, x))\n",
    "\n",
    "\n",
    "# 4. Consolidate remaining less common entries if any, or group them into 'Other' || This step might be iterative. Inspect current unique values after mapping.\n",
    "print(\"\\nUnique Gender values after initial standardization:\")\n",
    "print(df['Gender'].unique())\n",
    "\n",
    "# After reviewing the above output, you might decide to group anything left over: || Example: if there are still many unique values, you might set a threshold and group infrequent ones into 'Other' or 'Unknown'. ||For simplicity, let's assume we want a few main categories: 'Male', 'Female', 'Transgender', 'Non-binary/Other' || Any remaining values not in these primary categories can be grouped into 'Other/Unknown'\n",
    "\n",
    "common_genders = ['Male', 'Female', 'Transgender', 'Non-binary/Other']\n",
    "df['Gender'] = df['Gender'].apply(lambda x: x if x in common_genders else 'Other/Unknown')\n",
    "\n",
    "# 5. Verify the final unique values and their counts\n",
    "print(\"\\nFinal standardized Gender unique values and their counts:\")\n",
    "print(df['Gender'].value_counts())"
   ]
  },
  {
   "cell_type": "code",
   "execution_count": 25,
   "id": "eb9ad6e8",
   "metadata": {},
   "outputs": [
    {
     "name": "stdout",
     "output_type": "stream",
     "text": [
      "\n",
      "Original unique 'no_employees' values:\n",
      "['6-25', 'More than 1000', '26-100', NaN, '1-5']\n",
      "Categories (6, object): ['1-5' < '6-25' < '26-100' < '101-500' < '501-1000' < 'More than 1000']\n",
      "\n",
      "Standardized 'no_employees' unique values and their counts (after refined mapping):\n",
      "no_employees\n",
      "6-25              290\n",
      "26-100            289\n",
      "More than 1000    282\n",
      "1-5               162\n",
      "Name: count, dtype: int64\n",
      "\n",
      "'no_employees' dtype after setting categorical order: category\n",
      "\n",
      "Standardized 'self_employed' unique values and their counts:\n",
      "self_employed\n",
      "No         1095\n",
      "Yes         146\n",
      "Unknown      18\n",
      "Name: count, dtype: int64\n",
      "\n",
      "Standardized 'family_history' unique values and their counts:\n",
      "family_history\n",
      "No     767\n",
      "Yes    492\n",
      "Name: count, dtype: int64\n",
      "\n",
      "Standardized 'treatment' unique values and their counts:\n",
      "treatment\n",
      "Yes    637\n",
      "No     622\n",
      "Name: count, dtype: int64\n",
      "\n",
      "Standardized 'remote_work' unique values and their counts:\n",
      "remote_work\n",
      "No     883\n",
      "Yes    376\n",
      "Name: count, dtype: int64\n",
      "\n",
      "Standardized 'tech_company' unique values and their counts:\n",
      "tech_company\n",
      "Yes    1031\n",
      "No      228\n",
      "Name: count, dtype: int64\n",
      "\n",
      "Standardized 'benefits' unique values and their counts:\n",
      "benefits\n",
      "Yes           477\n",
      "Don't Know    408\n",
      "No            374\n",
      "Name: count, dtype: int64\n",
      "\n",
      "Standardized 'care_options' unique values and their counts:\n",
      "care_options\n",
      "No            501\n",
      "Yes           444\n",
      "Don't Know    314\n",
      "Name: count, dtype: int64\n",
      "\n",
      "Standardized 'wellness_program' unique values and their counts:\n",
      "wellness_program\n",
      "No            842\n",
      "Yes           229\n",
      "Don't Know    188\n",
      "Name: count, dtype: int64\n",
      "\n",
      "Standardized 'seek_help' unique values and their counts:\n",
      "seek_help\n",
      "No            646\n",
      "Don't Know    363\n",
      "Yes           250\n",
      "Name: count, dtype: int64\n",
      "\n",
      "Standardized 'anonymity' unique values and their counts:\n",
      "anonymity\n",
      "Don't Know    819\n",
      "Yes           375\n",
      "No             65\n",
      "Name: count, dtype: int64\n",
      "\n",
      "Standardized 'leave' unique values and their counts:\n",
      "leave\n",
      "Don't Know            563\n",
      "somewhat easy         266\n",
      "very easy             206\n",
      "somewhat difficult    126\n",
      "very difficult         98\n",
      "Name: count, dtype: int64\n",
      "\n",
      "Standardized 'mental_health_consequence' unique values and their counts:\n",
      "mental_health_consequence\n",
      "No            490\n",
      "Don't Know    477\n",
      "Yes           292\n",
      "Name: count, dtype: int64\n",
      "\n",
      "Standardized 'phys_health_consequence' unique values and their counts:\n",
      "phys_health_consequence\n",
      "No            925\n",
      "Don't Know    273\n",
      "Yes            61\n",
      "Name: count, dtype: int64\n",
      "\n",
      "Standardized 'coworkers' unique values and their counts:\n",
      "coworkers\n",
      "some    774\n",
      "No      260\n",
      "Yes     225\n",
      "Name: count, dtype: int64\n",
      "\n",
      "Standardized 'supervisor' unique values and their counts:\n",
      "supervisor\n",
      "Yes     516\n",
      "No      393\n",
      "some    350\n",
      "Name: count, dtype: int64\n",
      "\n",
      "Standardized 'mental_health_interview' unique values and their counts:\n",
      "mental_health_interview\n",
      "No            1008\n",
      "Don't Know     207\n",
      "Yes             44\n",
      "Name: count, dtype: int64\n",
      "\n",
      "Standardized 'phys_health_interview' unique values and their counts:\n",
      "phys_health_interview\n",
      "Don't Know    557\n",
      "No            500\n",
      "Yes           202\n",
      "Name: count, dtype: int64\n",
      "\n",
      "Standardized 'mental_vs_physical' unique values and their counts:\n",
      "mental_vs_physical\n",
      "Don't Know    576\n",
      "Yes           343\n",
      "No            340\n",
      "Name: count, dtype: int64\n",
      "\n",
      "Standardized 'obs_consequence' unique values and their counts:\n",
      "obs_consequence\n",
      "No     1075\n",
      "Yes     184\n",
      "Name: count, dtype: int64\n"
     ]
    }
   ],
   "source": [
    "# 1. Standardize 'no_employees' (Company Size)\n",
    "# Original unique values observed: ['6-25', 'More than 1000', '26-100', '100-500', '1-5', '500-1000']\n",
    "print(\"\\nOriginal unique 'no_employees' values:\")\n",
    "print(df['no_employees'].unique())\n",
    "\n",
    "# Define a consistent order and consolidate categories\n",
    "employee_size_mapping = {\n",
    "    '1-5': '1-5',\n",
    "    '6-25': '6-25',\n",
    "    '26-100': '26-100',\n",
    "    '100-500': '101-500',  # Consolidating '100-500' into '101-500' as per typical survey ranges, or keep it if distinct. ||  # Let's keep it '100-500' if it's truly a separate category in your data, || # but for consistency with common buckets, '101-500' is standard. || # If your data has '100-500' and you want to preserve it: || '100-500': '100-500',\n",
    "    '500-1000': '501-1000', # Consolidating '500-1000' into '501-1000'\n",
    "    'more than 1000': 'More than 1000', # Ensure consistency for case\n",
    "    'More than 1000': 'More than 1000'\n",
    "}\n",
    "# Let's adjust the mapping for '100-500' and '500-1000' based on your actual data || If your data consistently uses '100-500' and '500-1000', use those as the final categories. || Let's assume you want to keep them as seen in your data unique()\n",
    "employee_size_mapping = {\n",
    "    '1-5': '1-5',\n",
    "    '6-25': '6-25',\n",
    "    '26-100': '26-100',\n",
    "    '100-500': '100-500',\n",
    "    '500-1000': '500-1000',\n",
    "    'more than 1000': 'More than 1000',\n",
    "    'More than 1000': 'More than 1000'\n",
    "}\n",
    "\n",
    "df['no_employees'] = df['no_employees'].str.lower().str.strip().apply(lambda x: employee_size_mapping.get(x, x))\n",
    "# No capitalize() as fallback, better to explicitly map or find anomalies.\n",
    "\n",
    "# Verify after standardization\n",
    "print(\"\\nStandardized 'no_employees' unique values and their counts (after refined mapping):\")\n",
    "print(df['no_employees'].value_counts())\n",
    "\n",
    "# Define the correct order based on your dataset's specific ranges:\n",
    "from pandas.api.types import CategoricalDtype\n",
    "employee_order = ['1-5', '6-25', '26-100', '100-500', '500-1000', 'More than 1000']\n",
    "df['no_employees'] = df['no_employees'].astype(CategoricalDtype(categories=employee_order, ordered=True))\n",
    "print(\"\\n'no_employees' dtype after setting categorical order:\", df['no_employees'].dtype)\n",
    "\n",
    "# Re-run the standardization for yes_no_cols if you haven't recently, to ensure consistency. || (Copy-paste the entire loop from previous step here if needed)\n",
    "yes_no_cols = [\n",
    "    'self_employed', 'family_history', 'treatment', 'remote_work',\n",
    "    'tech_company', 'benefits', 'care_options', 'wellness_program',\n",
    "    'seek_help', 'anonymity', 'leave', 'mental_health_consequence',\n",
    "    'phys_health_consequence', 'coworkers', 'supervisor',\n",
    "    'mental_health_interview', 'phys_health_interview', 'mental_vs_physical',\n",
    "    'obs_consequence'\n",
    "]\n",
    "\n",
    "def standardize_yes_no_like(series):\n",
    "    series = series.astype(str).str.lower().str.strip() # Ensure string type and clean\n",
    "    series = series.replace({\n",
    "        'yes': 'Yes',\n",
    "        'no': 'No',\n",
    "        'don\\'t know': 'Don\\'t Know',\n",
    "        'not sure': 'Don\\'t Know',\n",
    "        'some of them': 'Some', # For 'coworkers', 'supervisor' etc.\n",
    "        'maybe': 'Don\\'t Know',\n",
    "        'unknown': 'Unknown', # For self_employed etc.\n",
    "        'not applicable': 'Not Applicable' # For work_interfere etc.\n",
    "    })\n",
    "    return series\n",
    "\n",
    "for col in yes_no_cols:\n",
    "    # Re-run standardization for these to ensure all cleanups apply consistently\n",
    "    df[col] = standardize_yes_no_like(df[col])\n",
    "    print(f\"\\nStandardized '{col}' unique values and their counts:\")\n",
    "    print(df[col].value_counts())"
   ]
  },
  {
   "cell_type": "code",
   "execution_count": 26,
   "id": "ee07d790",
   "metadata": {},
   "outputs": [
    {
     "name": "stdout",
     "output_type": "stream",
     "text": [
      "\n",
      "Age Group counts:\n",
      "Age_Group\n",
      "18-25    156\n",
      "26-35    715\n",
      "36-45    320\n",
      "46-55     51\n",
      "56-65     15\n",
      "65+        2\n",
      "Name: count, dtype: int64\n",
      "\n",
      "DataFrame head with new 'Age_Group' column:\n",
      "   Age Age_Group\n",
      "0   37     36-45\n",
      "1   44     36-45\n",
      "2   32     26-35\n",
      "3   31     26-35\n",
      "4   31     26-35\n"
     ]
    }
   ],
   "source": [
    "# Create Age Bins/Groups\n",
    "bins = [0, 25, 35, 45, 55, 65, np.inf] # np.inf for the last open-ended bin\n",
    "labels = ['18-25', '26-35', '36-45', '46-55', '56-65', '65+'] # Age 0 was handled earlier by capping at 18\n",
    "df['Age_Group'] = pd.cut(df['Age'], bins=bins, labels=labels, right=False) # right=False means [lower, upper)\n",
    "# If any NaNs in Age were not handled, they would become NaN in Age_Group.\n",
    "# But we filled NaNs in Age with median, so this shouldn't be an issue now.\n",
    "\n",
    "print(\"\\nAge Group counts:\")\n",
    "print(df['Age_Group'].value_counts().sort_index())\n",
    "\n",
    "# Verify the new column\n",
    "print(\"\\nDataFrame head with new 'Age_Group' column:\")\n",
    "print(df[['Age', 'Age_Group']].head())"
   ]
  },
  {
   "cell_type": "code",
   "execution_count": 27,
   "id": "8b165f08",
   "metadata": {},
   "outputs": [
    {
     "name": "stdout",
     "output_type": "stream",
     "text": [
      "Cleaned data saved to 'data/cleaned_mental_health_survey.csv'\n"
     ]
    }
   ],
   "source": [
    "# Save the cleaned DataFrame to a new CSV file || Set index=False to prevent pandas from writing the DataFrame index as a column\n",
    "df.to_csv('data/cleaned_mental_health_survey.csv', index=False)\n",
    "\n",
    "print(\"Cleaned data saved to 'data/cleaned_mental_health_survey.csv'\")"
   ]
  },
  {
   "cell_type": "markdown",
   "id": "a5b00ec1",
   "metadata": {},
   "source": [
    "# III) DISTRIBUTION"
   ]
  },
  {
   "cell_type": "markdown",
   "id": "7db24907",
   "metadata": {},
   "source": [
    "### 1. Gender distribution"
   ]
  },
  {
   "cell_type": "code",
   "execution_count": 28,
   "id": "1181aa6e",
   "metadata": {},
   "outputs": [],
   "source": [
    "import plotly.express as px"
   ]
  },
  {
   "cell_type": "code",
   "execution_count": 29,
   "id": "48f44ada",
   "metadata": {},
   "outputs": [
    {
     "data": {
      "application/vnd.plotly.v1+json": {
       "config": {
        "plotlyServerURL": "https://plot.ly"
       },
       "data": [
        {
         "hovertemplate": "Gender=%{x}<br>count=%{y}<extra></extra>",
         "legendgroup": "",
         "marker": {
          "color": "#636efa",
          "pattern": {
           "shape": ""
          }
         },
         "name": "",
         "orientation": "v",
         "showlegend": false,
         "textposition": "auto",
         "type": "bar",
         "x": [
          "Female",
          "Male",
          "Male",
          "Male",
          "Male",
          "Male",
          "Female",
          "Male",
          "Female",
          "Male",
          "Male",
          "Male",
          "Female",
          "Male",
          "Male",
          "Female",
          "Male",
          "Male",
          "Male",
          "Male",
          "Male",
          "Male",
          "Male",
          "Male",
          "Male",
          "Male",
          "Male",
          "Female",
          "Male",
          "Male",
          "Male",
          "Male",
          "Male",
          "Male",
          "Female",
          "Male",
          "Male",
          "Male",
          "Male",
          "Male",
          "Male",
          "Male",
          "Male",
          "Male",
          "Male",
          "Female",
          "Male",
          "Male",
          "Male",
          "Male",
          "Male",
          "Male",
          "Male",
          "Male",
          "Male",
          "Male",
          "Male",
          "Male",
          "Male",
          "Male",
          "Male",
          "Female",
          "Male",
          "Male",
          "Male",
          "Male",
          "Female",
          "Male",
          "Female",
          "Male",
          "Male",
          "Male",
          "Transgender",
          "Male",
          "Male",
          "Male",
          "Male",
          "Male",
          "Male",
          "Male",
          "Male",
          "Male",
          "Male",
          "Female",
          "Male",
          "Male",
          "Male",
          "Female",
          "Female",
          "Male",
          "Male",
          "Male",
          "Male",
          "Other/Unknown",
          "Female",
          "Male",
          "Male",
          "Male",
          "Male",
          "Male",
          "Female",
          "Female",
          "Male",
          "Male",
          "Male",
          "Male",
          "Male",
          "Male",
          "Male",
          "Male",
          "Male",
          "Male",
          "Male",
          "Male",
          "Male",
          "Male",
          "Male",
          "Male",
          "Male",
          "Male",
          "Male",
          "Male",
          "Male",
          "Male",
          "Male",
          "Male",
          "Male",
          "Male",
          "Male",
          "Male",
          "Male",
          "Male",
          "Male",
          "Male",
          "Male",
          "Male",
          "Male",
          "Male",
          "Female",
          "Male",
          "Male",
          "Male",
          "Male",
          "Male",
          "Female",
          "Male",
          "Male",
          "Male",
          "Male",
          "Female",
          "Male",
          "Male",
          "Male",
          "Male",
          "Male",
          "Male",
          "Male",
          "Male",
          "Male",
          "Male",
          "Male",
          "Female",
          "Male",
          "Male",
          "Female",
          "Female",
          "Male",
          "Male",
          "Male",
          "Male",
          "Male",
          "Male",
          "Male",
          "Female",
          "Female",
          "Male",
          "Male",
          "Female",
          "Female",
          "Male",
          "Male",
          "Female",
          "Female",
          "Male",
          "Male",
          "Male",
          "Male",
          "Male",
          "Male",
          "Female",
          "Female",
          "Male",
          "Male",
          "Male",
          "Female",
          "Other/Unknown",
          "Female",
          "Male",
          "Male",
          "Male",
          "Female",
          "Female",
          "Male",
          "Male",
          "Male",
          "Male",
          "Male",
          "Male",
          "Male",
          "Male",
          "Female",
          "Male",
          "Male",
          "Female",
          "Female",
          "Female",
          "Male",
          "Male",
          "Female",
          "Male",
          "Female",
          "Male",
          "Male",
          "Male",
          "Male",
          "Male",
          "Male",
          "Male",
          "Male",
          "Male",
          "Male",
          "Male",
          "Male",
          "Male",
          "Male",
          "Male",
          "Male",
          "Male",
          "Female",
          "Female",
          "Male",
          "Male",
          "Male",
          "Male",
          "Male",
          "Male",
          "Male",
          "Male",
          "Male",
          "Female",
          "Male",
          "Male",
          "Male",
          "Male",
          "Male",
          "Male",
          "Female",
          "Male",
          "Male",
          "Male",
          "Female",
          "Male",
          "Male",
          "Male",
          "Male",
          "Male",
          "Male",
          "Male",
          "Female",
          "Male",
          "Male",
          "Female",
          "Male",
          "Male",
          "Male",
          "Male",
          "Male",
          "Male",
          "Male",
          "Male",
          "Male",
          "Male",
          "Male",
          "Male",
          "Male",
          "Male",
          "Female",
          "Male",
          "Female",
          "Female",
          "Male",
          "Male",
          "Male",
          "Male",
          "Male",
          "Female",
          "Female",
          "Male",
          "Male",
          "Male",
          "Female",
          "Female",
          "Male",
          "Female",
          "Female",
          "Male",
          "Non-binary/Other",
          "Male",
          "Male",
          "Male",
          "Male",
          "Male",
          "Male",
          "Male",
          "Male",
          "Male",
          "Male",
          "Male",
          "Female",
          "Male",
          "Male",
          "Male",
          "Male",
          "Female",
          "Male",
          "Male",
          "Female",
          "Male",
          "Male",
          "Male",
          "Male",
          "Male",
          "Male",
          "Male",
          "Male",
          "Male",
          "Male",
          "Female",
          "Male",
          "Male",
          "Male",
          "Female",
          "Male",
          "Male",
          "Male",
          "Female",
          "Male",
          "Male",
          "Male",
          "Non-binary/Other",
          "Male",
          "Male",
          "Male",
          "Male",
          "Female",
          "Male",
          "Male",
          "Male",
          "Male",
          "Male",
          "Other/Unknown",
          "Male",
          "Male",
          "Male",
          "Male",
          "Male",
          "Male",
          "Male",
          "Male",
          "Male",
          "Female",
          "Male",
          "Male",
          "Female",
          "Female",
          "Male",
          "Female",
          "Female",
          "Female",
          "Female",
          "Male",
          "Male",
          "Other/Unknown",
          "Male",
          "Male",
          "Female",
          "Male",
          "Non-binary/Other",
          "Female",
          "Female",
          "Non-binary/Other",
          "Female",
          "Male",
          "Male",
          "Female",
          "Male",
          "Male",
          "Male",
          "Female",
          "Male",
          "Male",
          "Male",
          "Male",
          "Male",
          "Male",
          "Male",
          "Male",
          "Male",
          "Male",
          "Female",
          "Male",
          "Female",
          "Male",
          "Non-binary/Other",
          "Female",
          "Male",
          "Non-binary/Other",
          "Male",
          "Male",
          "Male",
          "Male",
          "Male",
          "Male",
          "Male",
          "Female",
          "Male",
          "Male",
          "Female",
          "Male",
          "Female",
          "Male",
          "Female",
          "Male",
          "Male",
          "Female",
          "Male",
          "Male",
          "Male",
          "Female",
          "Male",
          "Male",
          "Male",
          "Male",
          "Female",
          "Male",
          "Male",
          "Male",
          "Female",
          "Male",
          "Male",
          "Male",
          "Non-binary/Other",
          "Male",
          "Male",
          "Male",
          "Male",
          "Male",
          "Male",
          "Male",
          "Male",
          "Male",
          "Female",
          "Other/Unknown",
          "Female",
          "Male",
          "Male",
          "Male",
          "Male",
          "Male",
          "Female",
          "Male",
          "Male",
          "Male",
          "Female",
          "Male",
          "Male",
          "Male",
          "Male",
          "Male",
          "Female",
          "Male",
          "Male",
          "Female",
          "Male",
          "Male",
          "Male",
          "Female",
          "Male",
          "Male",
          "Male",
          "Male",
          "Male",
          "Male",
          "Female",
          "Male",
          "Female",
          "Male",
          "Female",
          "Male",
          "Male",
          "Female",
          "Male",
          "Male",
          "Male",
          "Female",
          "Male",
          "Male",
          "Male",
          "Male",
          "Male",
          "Female",
          "Female",
          "Male",
          "Male",
          "Male",
          "Male",
          "Male",
          "Female",
          "Male",
          "Male",
          "Male",
          "Female",
          "Male",
          "Male",
          "Male",
          "Female",
          "Male",
          "Male",
          "Male",
          "Female",
          "Male",
          "Male",
          "Female",
          "Male",
          "Male",
          "Female",
          "Male",
          "Male",
          "Male",
          "Female",
          "Female",
          "Female",
          "Male",
          "Female",
          "Other/Unknown",
          "Female",
          "Male",
          "Male",
          "Male",
          "Male",
          "Female",
          "Male",
          "Female",
          "Non-binary/Other",
          "Female",
          "Female",
          "Male",
          "Male",
          "Male",
          "Male",
          "Male",
          "Male",
          "Male",
          "Male",
          "Male",
          "Male",
          "Male",
          "Male",
          "Male",
          "Other/Unknown",
          "Male",
          "Other/Unknown",
          "Female",
          "Female",
          "Male",
          "Male",
          "Male",
          "Male",
          "Male",
          "Male",
          "Male",
          "Male",
          "Male",
          "Male",
          "Male",
          "Female",
          "Male",
          "Female",
          "Male",
          "Male",
          "Male",
          "Male",
          "Male",
          "Male",
          "Male",
          "Male",
          "Female",
          "Male",
          "Male",
          "Male",
          "Male",
          "Male",
          "Male",
          "Other/Unknown",
          "Male",
          "Male",
          "Male",
          "Male",
          "Male",
          "Male",
          "Male",
          "Male",
          "Male",
          "Male",
          "Male",
          "Male",
          "Male",
          "Male",
          "Male",
          "Male",
          "Male",
          "Male",
          "Female",
          "Female",
          "Female",
          "Female",
          "Other/Unknown",
          "Male",
          "Other/Unknown",
          "Male",
          "Female",
          "Male",
          "Male",
          "Female",
          "Male",
          "Male",
          "Male",
          "Male",
          "Male",
          "Male",
          "Male",
          "Male",
          "Female",
          "Male",
          "Female",
          "Male",
          "Male",
          "Male",
          "Female",
          "Female",
          "Male",
          "Male",
          "Male",
          "Female",
          "Male",
          "Male",
          "Male",
          "Male",
          "Male",
          "Male",
          "Female",
          "Male",
          "Male",
          "Male",
          "Male",
          "Male",
          "Male",
          "Male",
          "Male",
          "Male",
          "Male",
          "Male",
          "Male",
          "Female",
          "Male",
          "Male",
          "Male",
          "Female",
          "Male",
          "Male",
          "Male",
          "Male",
          "Transgender",
          "Female",
          "Female",
          "Female",
          "Female",
          "Male",
          "Male",
          "Female",
          "Male",
          "Male",
          "Male",
          "Female",
          "Male",
          "Male",
          "Male",
          "Female",
          "Male",
          "Male",
          "Male",
          "Male",
          "Male",
          "Male",
          "Male",
          "Male",
          "Male",
          "Male",
          "Female",
          "Male",
          "Male",
          "Male",
          "Male",
          "Male",
          "Male",
          "Male",
          "Male",
          "Male",
          "Male",
          "Male",
          "Male",
          "Male",
          "Male",
          "Male",
          "Male",
          "Male",
          "Male",
          "Male",
          "Male",
          "Male",
          "Male",
          "Male",
          "Male",
          "Male",
          "Male",
          "Male",
          "Male",
          "Male",
          "Male",
          "Male",
          "Male",
          "Male",
          "Male",
          "Male",
          "Male",
          "Male",
          "Male",
          "Male",
          "Male",
          "Male",
          "Male",
          "Male",
          "Male",
          "Male",
          "Male",
          "Female",
          "Female",
          "Male",
          "Male",
          "Male",
          "Male",
          "Female",
          "Male",
          "Male",
          "Female",
          "Male",
          "Female",
          "Male",
          "Female",
          "Male",
          "Male",
          "Male",
          "Male",
          "Male",
          "Male",
          "Male",
          "Other/Unknown",
          "Non-binary/Other",
          "Female",
          "Female",
          "Male",
          "Male",
          "Male",
          "Male",
          "Male",
          "Male",
          "Male",
          "Male",
          "Male",
          "Male",
          "Male",
          "Male",
          "Female",
          "Female",
          "Female",
          "Male",
          "Female",
          "Male",
          "Male",
          "Female",
          "Male",
          "Male",
          "Male",
          "Female",
          "Male",
          "Transgender",
          "Female",
          "Female",
          "Male",
          "Male",
          "Male",
          "Male",
          "Male",
          "Male",
          "Female",
          "Female",
          "Male",
          "Male",
          "Non-binary/Other",
          "Male",
          "Female",
          "Male",
          "Male",
          "Male",
          "Male",
          "Female",
          "Male",
          "Male",
          "Female",
          "Male",
          "Male",
          "Male",
          "Male",
          "Female",
          "Male",
          "Male",
          "Female",
          "Female",
          "Male",
          "Male",
          "Male",
          "Male",
          "Female",
          "Male",
          "Male",
          "Male",
          "Male",
          "Male",
          "Male",
          "Male",
          "Male",
          "Male",
          "Male",
          "Male",
          "Male",
          "Male",
          "Male",
          "Male",
          "Male",
          "Male",
          "Male",
          "Male",
          "Male",
          "Male",
          "Male",
          "Male",
          "Male",
          "Male",
          "Male",
          "Male",
          "Male",
          "Female",
          "Male",
          "Male",
          "Male",
          "Male",
          "Male",
          "Male",
          "Female",
          "Male",
          "Male",
          "Other/Unknown",
          "Male",
          "Male",
          "Male",
          "Male",
          "Male",
          "Male",
          "Male",
          "Male",
          "Male",
          "Male",
          "Male",
          "Male",
          "Male",
          "Male",
          "Male",
          "Male",
          "Male",
          "Male",
          "Male",
          "Male",
          "Female",
          "Male",
          "Male",
          "Male",
          "Male",
          "Female",
          "Male",
          "Male",
          "Male",
          "Male",
          "Female",
          "Male",
          "Female",
          "Male",
          "Male",
          "Male",
          "Male",
          "Female",
          "Male",
          "Male",
          "Male",
          "Male",
          "Male",
          "Male",
          "Male",
          "Male",
          "Male",
          "Male",
          "Female",
          "Male",
          "Male",
          "Male",
          "Male",
          "Male",
          "Male",
          "Male",
          "Male",
          "Male",
          "Male",
          "Male",
          "Female",
          "Male",
          "Male",
          "Male",
          "Male",
          "Male",
          "Male",
          "Male",
          "Male",
          "Male",
          "Male",
          "Female",
          "Male",
          "Male",
          "Male",
          "Male",
          "Male",
          "Male",
          "Male",
          "Male",
          "Male",
          "Male",
          "Male",
          "Male",
          "Female",
          "Male",
          "Male",
          "Female",
          "Male",
          "Male",
          "Male",
          "Male",
          "Male",
          "Male",
          "Male",
          "Male",
          "Male",
          "Male",
          "Male",
          "Female",
          "Female",
          "Male",
          "Male",
          "Male",
          "Female",
          "Male",
          "Male",
          "Other/Unknown",
          "Male",
          "Male",
          "Female",
          "Male",
          "Male",
          "Male",
          "Male",
          "Female",
          "Male",
          "Male",
          "Male",
          "Male",
          "Male",
          "Female",
          "Male",
          "Male",
          "Male",
          "Male",
          "Male",
          "Female",
          "Male",
          "Female",
          "Female",
          "Female",
          "Male",
          "Male",
          "Female",
          "Transgender",
          "Male",
          "Male",
          "Male",
          "Female",
          "Male",
          "Male",
          "Male",
          "Male",
          "Female",
          "Male",
          "Female",
          "Male",
          "Male",
          "Male",
          "Male",
          "Female",
          "Male",
          "Male",
          "Male",
          "Male",
          "Female",
          "Male",
          "Female",
          "Male",
          "Male",
          "Male",
          "Female",
          "Female",
          "Male",
          "Male",
          "Male",
          "Male",
          "Female",
          "Female",
          "Male",
          "Male",
          "Male",
          "Male",
          "Male",
          "Male",
          "Male",
          "Female",
          "Female",
          "Male",
          "Male",
          "Male",
          "Male",
          "Male",
          "Male",
          "Male",
          "Male",
          "Male",
          "Female",
          "Male",
          "Male",
          "Male",
          "Male",
          "Male",
          "Male",
          "Female",
          "Female",
          "Male",
          "Male",
          "Male",
          "Female",
          "Female",
          "Male",
          "Male",
          "Male",
          "Male",
          "Male",
          "Female",
          "Male",
          "Male",
          "Male",
          "Male",
          "Male",
          "Male",
          "Male",
          "Male",
          "Male",
          "Male",
          "Male",
          "Male",
          "Female",
          "Female",
          "Male",
          "Male",
          "Male",
          "Male",
          "Female",
          "Male",
          "Male",
          "Male",
          "Male",
          "Male",
          "Male",
          "Male",
          "Male",
          "Male",
          "Male",
          "Male",
          "Male",
          "Male",
          "Female",
          "Female",
          "Male",
          "Male",
          "Female",
          "Non-binary/Other",
          "Male",
          "Male",
          "Female",
          "Male",
          "Female",
          "Male",
          "Male",
          "Male",
          "Male",
          "Male",
          "Male",
          "Male",
          "Male",
          "Male",
          "Male",
          "Female",
          "Male",
          "Female",
          "Male",
          "Male",
          "Male",
          "Male",
          "Male",
          "Male",
          "Male",
          "Female",
          "Male",
          "Male",
          "Male",
          "Male",
          "Male",
          "Male",
          "Male",
          "Male",
          "Male",
          "Male",
          "Female",
          "Male",
          "Male",
          "Male",
          "Male",
          "Female",
          "Male",
          "Male",
          "Female",
          "Male",
          "Male",
          "Male",
          "Female",
          "Male",
          "Male",
          "Female",
          "Female",
          "Male",
          "Female",
          "Female",
          "Female",
          "Female",
          "Female",
          "Male",
          "Female",
          "Male",
          "Male",
          "Male",
          "Male",
          "Male",
          "Male",
          "Female",
          "Female",
          "Male",
          "Male",
          "Male",
          "Male",
          "Female",
          "Male",
          "Male",
          "Male",
          "Male",
          "Male",
          "Male",
          "Male",
          "Male",
          "Male",
          "Male",
          "Female",
          "Male",
          "Male",
          "Male",
          "Male",
          "Male",
          "Male",
          "Male",
          "Male",
          "Male",
          "Female",
          "Male",
          "Male",
          "Female",
          "Male",
          "Female",
          "Male",
          "Male",
          "Female",
          "Other/Unknown",
          "Male",
          "Male",
          "Other/Unknown",
          "Male",
          "Male",
          "Male",
          "Male",
          "Male",
          "Male",
          "Male",
          "Male",
          "Female",
          "Female",
          "Male",
          "Male",
          "Male",
          "Female",
          "Male",
          "Male",
          "Male",
          "Male",
          "Male",
          "Male",
          "Male",
          "Male",
          "Female",
          "Male"
         ],
         "xaxis": "x",
         "y": {
          "bdata": "AQEBAQEBAQEBAQEBAQEBAQEBAQEBAQEBAQEBAQEBAQEBAQEBAQEBAQEBAQEBAQEBAQEBAQEBAQEBAQEBAQEBAQEBAQEBAQEBAQEBAQEBAQEBAQEBAQEBAQEBAQEBAQEBAQEBAQEBAQEBAQEBAQEBAQEBAQEBAQEBAQEBAQEBAQEBAQEBAQEBAQEBAQEBAQEBAQEBAQEBAQEBAQEBAQEBAQEBAQEBAQEBAQEBAQEBAQEBAQEBAQEBAQEBAQEBAQEBAQEBAQEBAQEBAQEBAQEBAQEBAQEBAQEBAQEBAQEBAQEBAQEBAQEBAQEBAQEBAQEBAQEBAQEBAQEBAQEBAQEBAQEBAQEBAQEBAQEBAQEBAQEBAQEBAQEBAQEBAQEBAQEBAQEBAQEBAQEBAQEBAQEBAQEBAQEBAQEBAQEBAQEBAQEBAQEBAQEBAQEBAQEBAQEBAQEBAQEBAQEBAQEBAQEBAQEBAQEBAQEBAQEBAQEBAQEBAQEBAQEBAQEBAQEBAQEBAQEBAQEBAQEBAQEBAQEBAQEBAQEBAQEBAQEBAQEBAQEBAQEBAQEBAQEBAQEBAQEBAQEBAQEBAQEBAQEBAQEBAQEBAQEBAQEBAQEBAQEBAQEBAQEBAQEBAQEBAQEBAQEBAQEBAQEBAQEBAQEBAQEBAQEBAQEBAQEBAQEBAQEBAQEBAQEBAQEBAQEBAQEBAQEBAQEBAQEBAQEBAQEBAQEBAQEBAQEBAQEBAQEBAQEBAQEBAQEBAQEBAQEBAQEBAQEBAQEBAQEBAQEBAQEBAQEBAQEBAQEBAQEBAQEBAQEBAQEBAQEBAQEBAQEBAQEBAQEBAQEBAQEBAQEBAQEBAQEBAQEBAQEBAQEBAQEBAQEBAQEBAQEBAQEBAQEBAQEBAQEBAQEBAQEBAQEBAQEBAQEBAQEBAQEBAQEBAQEBAQEBAQEBAQEBAQEBAQEBAQEBAQEBAQEBAQEBAQEBAQEBAQEBAQEBAQEBAQEBAQEBAQEBAQEBAQEBAQEBAQEBAQEBAQEBAQEBAQEBAQEBAQEBAQEBAQEBAQEBAQEBAQEBAQEBAQEBAQEBAQEBAQEBAQEBAQEBAQEBAQEBAQEBAQEBAQEBAQEBAQEBAQEBAQEBAQEBAQEBAQEBAQEBAQEBAQEBAQEBAQEBAQEBAQEBAQEBAQEBAQEBAQEBAQEBAQEBAQEBAQEBAQEBAQEBAQEBAQEBAQEBAQEBAQEBAQEBAQEBAQEBAQEBAQEBAQEBAQEBAQEBAQEBAQEBAQEBAQEBAQEBAQEBAQEBAQEBAQEBAQEBAQEBAQEBAQEBAQEBAQEBAQEBAQEBAQEBAQEBAQEBAQEBAQEBAQEBAQEBAQEBAQEBAQEBAQEBAQEBAQEBAQEBAQEBAQEBAQEBAQEBAQEBAQEBAQEBAQEBAQEBAQEBAQEBAQEBAQEBAQEBAQEBAQEBAQEBAQEBAQEBAQEBAQEBAQEBAQEBAQEBAQEBAQEBAQEBAQEBAQEBAQEBAQEBAQEBAQEBAQEBAQEBAQEBAQEBAQEBAQEBAQEBAQEBAQEBAQEBAQEBAQEBAQEBAQEBAQEBAQEBAQEBAQEBAQEBAQEBAQEBAQEBAQEBAQEBAQEBAQEBAQEBAQEBAQEBAQEBAQEBAQEBAQEBAQEBAQEBAQEBAQEBAQEBAQEBAQEBAQEBAQE=",
          "dtype": "i1"
         },
         "yaxis": "y"
        }
       ],
       "layout": {
        "barmode": "relative",
        "legend": {
         "tracegroupgap": 0
        },
        "template": {
         "data": {
          "bar": [
           {
            "error_x": {
             "color": "#2a3f5f"
            },
            "error_y": {
             "color": "#2a3f5f"
            },
            "marker": {
             "line": {
              "color": "#E5ECF6",
              "width": 0.5
             },
             "pattern": {
              "fillmode": "overlay",
              "size": 10,
              "solidity": 0.2
             }
            },
            "type": "bar"
           }
          ],
          "barpolar": [
           {
            "marker": {
             "line": {
              "color": "#E5ECF6",
              "width": 0.5
             },
             "pattern": {
              "fillmode": "overlay",
              "size": 10,
              "solidity": 0.2
             }
            },
            "type": "barpolar"
           }
          ],
          "carpet": [
           {
            "aaxis": {
             "endlinecolor": "#2a3f5f",
             "gridcolor": "white",
             "linecolor": "white",
             "minorgridcolor": "white",
             "startlinecolor": "#2a3f5f"
            },
            "baxis": {
             "endlinecolor": "#2a3f5f",
             "gridcolor": "white",
             "linecolor": "white",
             "minorgridcolor": "white",
             "startlinecolor": "#2a3f5f"
            },
            "type": "carpet"
           }
          ],
          "choropleth": [
           {
            "colorbar": {
             "outlinewidth": 0,
             "ticks": ""
            },
            "type": "choropleth"
           }
          ],
          "contour": [
           {
            "colorbar": {
             "outlinewidth": 0,
             "ticks": ""
            },
            "colorscale": [
             [
              0,
              "#0d0887"
             ],
             [
              0.1111111111111111,
              "#46039f"
             ],
             [
              0.2222222222222222,
              "#7201a8"
             ],
             [
              0.3333333333333333,
              "#9c179e"
             ],
             [
              0.4444444444444444,
              "#bd3786"
             ],
             [
              0.5555555555555556,
              "#d8576b"
             ],
             [
              0.6666666666666666,
              "#ed7953"
             ],
             [
              0.7777777777777778,
              "#fb9f3a"
             ],
             [
              0.8888888888888888,
              "#fdca26"
             ],
             [
              1,
              "#f0f921"
             ]
            ],
            "type": "contour"
           }
          ],
          "contourcarpet": [
           {
            "colorbar": {
             "outlinewidth": 0,
             "ticks": ""
            },
            "type": "contourcarpet"
           }
          ],
          "heatmap": [
           {
            "colorbar": {
             "outlinewidth": 0,
             "ticks": ""
            },
            "colorscale": [
             [
              0,
              "#0d0887"
             ],
             [
              0.1111111111111111,
              "#46039f"
             ],
             [
              0.2222222222222222,
              "#7201a8"
             ],
             [
              0.3333333333333333,
              "#9c179e"
             ],
             [
              0.4444444444444444,
              "#bd3786"
             ],
             [
              0.5555555555555556,
              "#d8576b"
             ],
             [
              0.6666666666666666,
              "#ed7953"
             ],
             [
              0.7777777777777778,
              "#fb9f3a"
             ],
             [
              0.8888888888888888,
              "#fdca26"
             ],
             [
              1,
              "#f0f921"
             ]
            ],
            "type": "heatmap"
           }
          ],
          "histogram": [
           {
            "marker": {
             "pattern": {
              "fillmode": "overlay",
              "size": 10,
              "solidity": 0.2
             }
            },
            "type": "histogram"
           }
          ],
          "histogram2d": [
           {
            "colorbar": {
             "outlinewidth": 0,
             "ticks": ""
            },
            "colorscale": [
             [
              0,
              "#0d0887"
             ],
             [
              0.1111111111111111,
              "#46039f"
             ],
             [
              0.2222222222222222,
              "#7201a8"
             ],
             [
              0.3333333333333333,
              "#9c179e"
             ],
             [
              0.4444444444444444,
              "#bd3786"
             ],
             [
              0.5555555555555556,
              "#d8576b"
             ],
             [
              0.6666666666666666,
              "#ed7953"
             ],
             [
              0.7777777777777778,
              "#fb9f3a"
             ],
             [
              0.8888888888888888,
              "#fdca26"
             ],
             [
              1,
              "#f0f921"
             ]
            ],
            "type": "histogram2d"
           }
          ],
          "histogram2dcontour": [
           {
            "colorbar": {
             "outlinewidth": 0,
             "ticks": ""
            },
            "colorscale": [
             [
              0,
              "#0d0887"
             ],
             [
              0.1111111111111111,
              "#46039f"
             ],
             [
              0.2222222222222222,
              "#7201a8"
             ],
             [
              0.3333333333333333,
              "#9c179e"
             ],
             [
              0.4444444444444444,
              "#bd3786"
             ],
             [
              0.5555555555555556,
              "#d8576b"
             ],
             [
              0.6666666666666666,
              "#ed7953"
             ],
             [
              0.7777777777777778,
              "#fb9f3a"
             ],
             [
              0.8888888888888888,
              "#fdca26"
             ],
             [
              1,
              "#f0f921"
             ]
            ],
            "type": "histogram2dcontour"
           }
          ],
          "mesh3d": [
           {
            "colorbar": {
             "outlinewidth": 0,
             "ticks": ""
            },
            "type": "mesh3d"
           }
          ],
          "parcoords": [
           {
            "line": {
             "colorbar": {
              "outlinewidth": 0,
              "ticks": ""
             }
            },
            "type": "parcoords"
           }
          ],
          "pie": [
           {
            "automargin": true,
            "type": "pie"
           }
          ],
          "scatter": [
           {
            "fillpattern": {
             "fillmode": "overlay",
             "size": 10,
             "solidity": 0.2
            },
            "type": "scatter"
           }
          ],
          "scatter3d": [
           {
            "line": {
             "colorbar": {
              "outlinewidth": 0,
              "ticks": ""
             }
            },
            "marker": {
             "colorbar": {
              "outlinewidth": 0,
              "ticks": ""
             }
            },
            "type": "scatter3d"
           }
          ],
          "scattercarpet": [
           {
            "marker": {
             "colorbar": {
              "outlinewidth": 0,
              "ticks": ""
             }
            },
            "type": "scattercarpet"
           }
          ],
          "scattergeo": [
           {
            "marker": {
             "colorbar": {
              "outlinewidth": 0,
              "ticks": ""
             }
            },
            "type": "scattergeo"
           }
          ],
          "scattergl": [
           {
            "marker": {
             "colorbar": {
              "outlinewidth": 0,
              "ticks": ""
             }
            },
            "type": "scattergl"
           }
          ],
          "scattermap": [
           {
            "marker": {
             "colorbar": {
              "outlinewidth": 0,
              "ticks": ""
             }
            },
            "type": "scattermap"
           }
          ],
          "scattermapbox": [
           {
            "marker": {
             "colorbar": {
              "outlinewidth": 0,
              "ticks": ""
             }
            },
            "type": "scattermapbox"
           }
          ],
          "scatterpolar": [
           {
            "marker": {
             "colorbar": {
              "outlinewidth": 0,
              "ticks": ""
             }
            },
            "type": "scatterpolar"
           }
          ],
          "scatterpolargl": [
           {
            "marker": {
             "colorbar": {
              "outlinewidth": 0,
              "ticks": ""
             }
            },
            "type": "scatterpolargl"
           }
          ],
          "scatterternary": [
           {
            "marker": {
             "colorbar": {
              "outlinewidth": 0,
              "ticks": ""
             }
            },
            "type": "scatterternary"
           }
          ],
          "surface": [
           {
            "colorbar": {
             "outlinewidth": 0,
             "ticks": ""
            },
            "colorscale": [
             [
              0,
              "#0d0887"
             ],
             [
              0.1111111111111111,
              "#46039f"
             ],
             [
              0.2222222222222222,
              "#7201a8"
             ],
             [
              0.3333333333333333,
              "#9c179e"
             ],
             [
              0.4444444444444444,
              "#bd3786"
             ],
             [
              0.5555555555555556,
              "#d8576b"
             ],
             [
              0.6666666666666666,
              "#ed7953"
             ],
             [
              0.7777777777777778,
              "#fb9f3a"
             ],
             [
              0.8888888888888888,
              "#fdca26"
             ],
             [
              1,
              "#f0f921"
             ]
            ],
            "type": "surface"
           }
          ],
          "table": [
           {
            "cells": {
             "fill": {
              "color": "#EBF0F8"
             },
             "line": {
              "color": "white"
             }
            },
            "header": {
             "fill": {
              "color": "#C8D4E3"
             },
             "line": {
              "color": "white"
             }
            },
            "type": "table"
           }
          ]
         },
         "layout": {
          "annotationdefaults": {
           "arrowcolor": "#2a3f5f",
           "arrowhead": 0,
           "arrowwidth": 1
          },
          "autotypenumbers": "strict",
          "coloraxis": {
           "colorbar": {
            "outlinewidth": 0,
            "ticks": ""
           }
          },
          "colorscale": {
           "diverging": [
            [
             0,
             "#8e0152"
            ],
            [
             0.1,
             "#c51b7d"
            ],
            [
             0.2,
             "#de77ae"
            ],
            [
             0.3,
             "#f1b6da"
            ],
            [
             0.4,
             "#fde0ef"
            ],
            [
             0.5,
             "#f7f7f7"
            ],
            [
             0.6,
             "#e6f5d0"
            ],
            [
             0.7,
             "#b8e186"
            ],
            [
             0.8,
             "#7fbc41"
            ],
            [
             0.9,
             "#4d9221"
            ],
            [
             1,
             "#276419"
            ]
           ],
           "sequential": [
            [
             0,
             "#0d0887"
            ],
            [
             0.1111111111111111,
             "#46039f"
            ],
            [
             0.2222222222222222,
             "#7201a8"
            ],
            [
             0.3333333333333333,
             "#9c179e"
            ],
            [
             0.4444444444444444,
             "#bd3786"
            ],
            [
             0.5555555555555556,
             "#d8576b"
            ],
            [
             0.6666666666666666,
             "#ed7953"
            ],
            [
             0.7777777777777778,
             "#fb9f3a"
            ],
            [
             0.8888888888888888,
             "#fdca26"
            ],
            [
             1,
             "#f0f921"
            ]
           ],
           "sequentialminus": [
            [
             0,
             "#0d0887"
            ],
            [
             0.1111111111111111,
             "#46039f"
            ],
            [
             0.2222222222222222,
             "#7201a8"
            ],
            [
             0.3333333333333333,
             "#9c179e"
            ],
            [
             0.4444444444444444,
             "#bd3786"
            ],
            [
             0.5555555555555556,
             "#d8576b"
            ],
            [
             0.6666666666666666,
             "#ed7953"
            ],
            [
             0.7777777777777778,
             "#fb9f3a"
            ],
            [
             0.8888888888888888,
             "#fdca26"
            ],
            [
             1,
             "#f0f921"
            ]
           ]
          },
          "colorway": [
           "#636efa",
           "#EF553B",
           "#00cc96",
           "#ab63fa",
           "#FFA15A",
           "#19d3f3",
           "#FF6692",
           "#B6E880",
           "#FF97FF",
           "#FECB52"
          ],
          "font": {
           "color": "#2a3f5f"
          },
          "geo": {
           "bgcolor": "white",
           "lakecolor": "white",
           "landcolor": "#E5ECF6",
           "showlakes": true,
           "showland": true,
           "subunitcolor": "white"
          },
          "hoverlabel": {
           "align": "left"
          },
          "hovermode": "closest",
          "mapbox": {
           "style": "light"
          },
          "paper_bgcolor": "white",
          "plot_bgcolor": "#E5ECF6",
          "polar": {
           "angularaxis": {
            "gridcolor": "white",
            "linecolor": "white",
            "ticks": ""
           },
           "bgcolor": "#E5ECF6",
           "radialaxis": {
            "gridcolor": "white",
            "linecolor": "white",
            "ticks": ""
           }
          },
          "scene": {
           "xaxis": {
            "backgroundcolor": "#E5ECF6",
            "gridcolor": "white",
            "gridwidth": 2,
            "linecolor": "white",
            "showbackground": true,
            "ticks": "",
            "zerolinecolor": "white"
           },
           "yaxis": {
            "backgroundcolor": "#E5ECF6",
            "gridcolor": "white",
            "gridwidth": 2,
            "linecolor": "white",
            "showbackground": true,
            "ticks": "",
            "zerolinecolor": "white"
           },
           "zaxis": {
            "backgroundcolor": "#E5ECF6",
            "gridcolor": "white",
            "gridwidth": 2,
            "linecolor": "white",
            "showbackground": true,
            "ticks": "",
            "zerolinecolor": "white"
           }
          },
          "shapedefaults": {
           "line": {
            "color": "#2a3f5f"
           }
          },
          "ternary": {
           "aaxis": {
            "gridcolor": "white",
            "linecolor": "white",
            "ticks": ""
           },
           "baxis": {
            "gridcolor": "white",
            "linecolor": "white",
            "ticks": ""
           },
           "bgcolor": "#E5ECF6",
           "caxis": {
            "gridcolor": "white",
            "linecolor": "white",
            "ticks": ""
           }
          },
          "title": {
           "x": 0.05
          },
          "xaxis": {
           "automargin": true,
           "gridcolor": "white",
           "linecolor": "white",
           "ticks": "",
           "title": {
            "standoff": 15
           },
           "zerolinecolor": "white",
           "zerolinewidth": 2
          },
          "yaxis": {
           "automargin": true,
           "gridcolor": "white",
           "linecolor": "white",
           "ticks": "",
           "title": {
            "standoff": 15
           },
           "zerolinecolor": "white",
           "zerolinewidth": 2
          }
         }
        },
        "title": {
         "text": "Distribution of Gender"
        },
        "xaxis": {
         "anchor": "y",
         "domain": [
          0,
          1
         ],
         "title": {
          "text": "Gender"
         }
        },
        "yaxis": {
         "anchor": "x",
         "domain": [
          0,
          1
         ],
         "title": {
          "text": "count"
         }
        }
       }
      }
     },
     "metadata": {},
     "output_type": "display_data"
    }
   ],
   "source": [
    "fig = px.bar(df, x='Gender', title='Distribution of Gender')\n",
    "fig.show()"
   ]
  },
  {
   "cell_type": "markdown",
   "id": "f78316c3",
   "metadata": {},
   "source": [
    "### 2. Age distribution"
   ]
  },
  {
   "cell_type": "code",
   "execution_count": 30,
   "id": "e9cc1fea",
   "metadata": {},
   "outputs": [
    {
     "data": {
      "application/vnd.plotly.v1+json": {
       "config": {
        "plotlyServerURL": "https://plot.ly"
       },
       "data": [
        {
         "hovertemplate": "Age_Group=%{x}<br>count=%{y}<extra></extra>",
         "legendgroup": "",
         "marker": {
          "color": "#636efa",
          "pattern": {
           "shape": ""
          }
         },
         "name": "",
         "orientation": "v",
         "showlegend": false,
         "textposition": "auto",
         "type": "bar",
         "x": [
          "36-45",
          "36-45",
          "26-35",
          "26-35",
          "26-35",
          "26-35",
          "36-45",
          "36-45",
          "36-45",
          "18-25",
          "26-35",
          "26-35",
          "36-45",
          "36-45",
          "26-35",
          "26-35",
          "18-25",
          "26-35",
          "46-55",
          "36-45",
          "26-35",
          "26-35",
          "46-55",
          "36-45",
          "26-35",
          "36-45",
          "26-35",
          "36-45",
          "26-35",
          "36-45",
          "26-35",
          "26-35",
          "26-35",
          "36-45",
          "36-45",
          "26-35",
          "26-35",
          "36-45",
          "46-55",
          "36-45",
          "18-25",
          "36-45",
          "26-35",
          "18-25",
          "26-35",
          "36-45",
          "26-35",
          "26-35",
          "26-35",
          "26-35",
          "18-25",
          "26-35",
          "26-35",
          "26-35",
          "26-35",
          "26-35",
          "26-35",
          "18-25",
          "26-35",
          "26-35",
          "36-45",
          "26-35",
          "26-35",
          "26-35",
          "36-45",
          "36-45",
          "18-25",
          "36-45",
          "26-35",
          "26-35",
          "26-35",
          "26-35",
          "18-25",
          "36-45",
          "26-35",
          "18-25",
          "26-35",
          "26-35",
          "26-35",
          "26-35",
          "36-45",
          "18-25",
          "26-35",
          "26-35",
          "26-35",
          "26-35",
          "36-45",
          "26-35",
          "26-35",
          "26-35",
          "26-35",
          "36-45",
          "26-35",
          "18-25",
          "26-35",
          "26-35",
          "18-25",
          "26-35",
          "26-35",
          "26-35",
          "26-35",
          "36-45",
          "26-35",
          "26-35",
          "26-35",
          "36-45",
          "36-45",
          "26-35",
          "26-35",
          "26-35",
          "18-25",
          "26-35",
          "46-55",
          "26-35",
          "26-35",
          "26-35",
          "18-25",
          "26-35",
          "18-25",
          "36-45",
          "26-35",
          "26-35",
          "26-35",
          "36-45",
          "26-35",
          "26-35",
          "26-35",
          "26-35",
          "26-35",
          "18-25",
          "26-35",
          "26-35",
          "26-35",
          "36-45",
          "18-25",
          "36-45",
          "26-35",
          "36-45",
          "26-35",
          "18-25",
          "36-45",
          "36-45",
          "36-45",
          "26-35",
          "26-35",
          "36-45",
          "18-25",
          "18-25",
          "26-35",
          "26-35",
          "18-25",
          "26-35",
          "26-35",
          "36-45",
          "36-45",
          "26-35",
          "26-35",
          "26-35",
          "26-35",
          "26-35",
          "36-45",
          "26-35",
          "26-35",
          "26-35",
          "26-35",
          "26-35",
          "26-35",
          "36-45",
          "18-25",
          "18-25",
          "26-35",
          "26-35",
          "18-25",
          "18-25",
          "26-35",
          "26-35",
          "26-35",
          "26-35",
          "46-55",
          "26-35",
          "26-35",
          "26-35",
          "26-35",
          "46-55",
          "36-45",
          "36-45",
          "18-25",
          "26-35",
          "18-25",
          "36-45",
          "36-45",
          "26-35",
          "26-35",
          "36-45",
          "26-35",
          "26-35",
          "36-45",
          "26-35",
          "26-35",
          "26-35",
          "26-35",
          "26-35",
          "36-45",
          "36-45",
          "26-35",
          "26-35",
          "18-25",
          "26-35",
          "18-25",
          "26-35",
          "36-45",
          "36-45",
          "26-35",
          "26-35",
          "26-35",
          "26-35",
          "26-35",
          "26-35",
          "26-35",
          "36-45",
          "26-35",
          "26-35",
          "26-35",
          "26-35",
          "18-25",
          "18-25",
          "26-35",
          "26-35",
          "18-25",
          "26-35",
          "36-45",
          "36-45",
          "36-45",
          "36-45",
          "26-35",
          "26-35",
          "36-45",
          "26-35",
          "36-45",
          "26-35",
          "18-25",
          "26-35",
          "26-35",
          "26-35",
          "26-35",
          "36-45",
          "18-25",
          "26-35",
          "26-35",
          "26-35",
          "18-25",
          "26-35",
          "26-35",
          "26-35",
          "18-25",
          "26-35",
          "18-25",
          "36-45",
          "18-25",
          "26-35",
          "26-35",
          "26-35",
          "26-35",
          "26-35",
          "36-45",
          "26-35",
          "36-45",
          "26-35",
          "36-45",
          "26-35",
          "26-35",
          "18-25",
          "26-35",
          "26-35",
          "36-45",
          "26-35",
          "26-35",
          "26-35",
          "26-35",
          "18-25",
          "18-25",
          "26-35",
          "18-25",
          "36-45",
          "26-35",
          "26-35",
          "26-35",
          "18-25",
          "36-45",
          "26-35",
          "26-35",
          "36-45",
          "46-55",
          "26-35",
          "56-65",
          "18-25",
          "26-35",
          "56-65",
          "26-35",
          "36-45",
          "18-25",
          "26-35",
          "26-35",
          "26-35",
          "36-45",
          "26-35",
          "26-35",
          "26-35",
          "26-35",
          "26-35",
          "26-35",
          "36-45",
          "36-45",
          "26-35",
          "26-35",
          "26-35",
          "26-35",
          "26-35",
          "18-25",
          "26-35",
          "36-45",
          "26-35",
          "26-35",
          "18-25",
          "26-35",
          "26-35",
          "26-35",
          "26-35",
          "26-35",
          "26-35",
          "18-25",
          "26-35",
          "26-35",
          "46-55",
          "26-35",
          "46-55",
          "26-35",
          "26-35",
          "18-25",
          "26-35",
          "36-45",
          "26-35",
          "26-35",
          "36-45",
          "26-35",
          "26-35",
          "18-25",
          "46-55",
          "18-25",
          "26-35",
          "26-35",
          "26-35",
          "26-35",
          "26-35",
          "26-35",
          "26-35",
          "26-35",
          "26-35",
          "26-35",
          "26-35",
          "26-35",
          "26-35",
          "26-35",
          "26-35",
          "26-35",
          "26-35",
          "36-45",
          "36-45",
          "18-25",
          "18-25",
          "18-25",
          "36-45",
          "56-65",
          "26-35",
          "18-25",
          "46-55",
          "26-35",
          "26-35",
          "26-35",
          "26-35",
          "36-45",
          "26-35",
          "26-35",
          "26-35",
          "26-35",
          "26-35",
          "36-45",
          "26-35",
          "26-35",
          "26-35",
          "26-35",
          "36-45",
          "26-35",
          "26-35",
          "18-25",
          "26-35",
          "46-55",
          "36-45",
          "26-35",
          "26-35",
          "26-35",
          "26-35",
          "18-25",
          "36-45",
          "26-35",
          "26-35",
          "26-35",
          "26-35",
          "18-25",
          "26-35",
          "26-35",
          "26-35",
          "18-25",
          "26-35",
          "26-35",
          "26-35",
          "26-35",
          "18-25",
          "26-35",
          "56-65",
          "26-35",
          "26-35",
          "26-35",
          "26-35",
          "26-35",
          "18-25",
          "18-25",
          "26-35",
          "18-25",
          "18-25",
          "26-35",
          "18-25",
          "26-35",
          "26-35",
          "26-35",
          "26-35",
          "26-35",
          "18-25",
          "18-25",
          "26-35",
          "26-35",
          "36-45",
          "36-45",
          "26-35",
          "18-25",
          "36-45",
          "26-35",
          "26-35",
          "18-25",
          "36-45",
          "36-45",
          "36-45",
          "26-35",
          "26-35",
          "26-35",
          "36-45",
          "26-35",
          "36-45",
          "26-35",
          "36-45",
          "26-35",
          "26-35",
          "26-35",
          "26-35",
          "26-35",
          "36-45",
          "56-65",
          "26-35",
          "26-35",
          "36-45",
          "26-35",
          "56-65",
          "26-35",
          "36-45",
          "26-35",
          "56-65",
          "26-35",
          "18-25",
          "18-25",
          "26-35",
          "18-25",
          "36-45",
          "18-25",
          "26-35",
          "46-55",
          "36-45",
          "26-35",
          "26-35",
          "26-35",
          "26-35",
          "26-35",
          "26-35",
          "26-35",
          "18-25",
          "26-35",
          "18-25",
          "36-45",
          "26-35",
          "46-55",
          "26-35",
          "36-45",
          "36-45",
          "26-35",
          "26-35",
          "36-45",
          "46-55",
          "36-45",
          "26-35",
          "46-55",
          "18-25",
          "26-35",
          "26-35",
          "26-35",
          "36-45",
          "36-45",
          "36-45",
          "46-55",
          "36-45",
          "26-35",
          "26-35",
          "56-65",
          "18-25",
          "36-45",
          "26-35",
          "36-45",
          "36-45",
          "18-25",
          "46-55",
          "26-35",
          "26-35",
          "26-35",
          "26-35",
          "26-35",
          "18-25",
          "18-25",
          "26-35",
          "36-45",
          "26-35",
          "26-35",
          "18-25",
          "26-35",
          "26-35",
          "26-35",
          "26-35",
          "26-35",
          "18-25",
          "26-35",
          "36-45",
          "18-25",
          "26-35",
          "26-35",
          "26-35",
          "26-35",
          "18-25",
          "26-35",
          "26-35",
          "26-35",
          "26-35",
          "18-25",
          "18-25",
          "65+",
          "26-35",
          "26-35",
          "36-45",
          "36-45",
          "26-35",
          "36-45",
          "26-35",
          "26-35",
          "36-45",
          "18-25",
          "36-45",
          "26-35",
          "26-35",
          "46-55",
          "36-45",
          "18-25",
          "26-35",
          "26-35",
          "26-35",
          "36-45",
          "46-55",
          "26-35",
          "36-45",
          "26-35",
          "36-45",
          "26-35",
          "26-35",
          "26-35",
          "36-45",
          "26-35",
          "26-35",
          "18-25",
          "36-45",
          "26-35",
          "18-25",
          "18-25",
          "26-35",
          "36-45",
          "26-35",
          "26-35",
          "36-45",
          "26-35",
          "26-35",
          "26-35",
          "26-35",
          "46-55",
          "18-25",
          "26-35",
          "26-35",
          "26-35",
          "36-45",
          "36-45",
          "26-35",
          "26-35",
          "26-35",
          "36-45",
          "36-45",
          "36-45",
          "18-25",
          "18-25",
          "18-25",
          "26-35",
          "18-25",
          "26-35",
          "26-35",
          "36-45",
          "26-35",
          "26-35",
          "26-35",
          "18-25",
          "56-65",
          "26-35",
          "26-35",
          "36-45",
          "26-35",
          "36-45",
          "26-35",
          "36-45",
          "46-55",
          "36-45",
          "36-45",
          "26-35",
          "56-65",
          "26-35",
          "36-45",
          "26-35",
          "26-35",
          "26-35",
          "18-25",
          "36-45",
          "26-35",
          "46-55",
          "26-35",
          "26-35",
          "26-35",
          "26-35",
          "26-35",
          "26-35",
          "26-35",
          "18-25",
          "26-35",
          "26-35",
          "26-35",
          "26-35",
          "26-35",
          "18-25",
          "18-25",
          "26-35",
          "36-45",
          "26-35",
          "18-25",
          "26-35",
          "26-35",
          "36-45",
          "26-35",
          "18-25",
          "26-35",
          "26-35",
          "46-55",
          "26-35",
          "36-45",
          "18-25",
          "26-35",
          "18-25",
          "18-25",
          "26-35",
          "46-55",
          "26-35",
          "26-35",
          "18-25",
          "26-35",
          "26-35",
          "26-35",
          "26-35",
          "26-35",
          "36-45",
          "36-45",
          "26-35",
          "26-35",
          "26-35",
          "26-35",
          "36-45",
          "18-25",
          "36-45",
          "26-35",
          "26-35",
          "26-35",
          "36-45",
          "26-35",
          "26-35",
          "26-35",
          "26-35",
          "26-35",
          "26-35",
          "26-35",
          "26-35",
          "36-45",
          "26-35",
          "26-35",
          "26-35",
          "26-35",
          "26-35",
          "26-35",
          "26-35",
          "26-35",
          "18-25",
          "26-35",
          "26-35",
          "36-45",
          "36-45",
          "18-25",
          "26-35",
          "26-35",
          "26-35",
          "26-35",
          "36-45",
          "26-35",
          "26-35",
          "36-45",
          "36-45",
          "26-35",
          "36-45",
          "26-35",
          "36-45",
          "26-35",
          "26-35",
          "26-35",
          "36-45",
          "18-25",
          "26-35",
          "36-45",
          "36-45",
          "36-45",
          "36-45",
          "26-35",
          "36-45",
          "26-35",
          "26-35",
          "18-25",
          "26-35",
          "36-45",
          "36-45",
          "36-45",
          "26-35",
          "36-45",
          "26-35",
          "26-35",
          "36-45",
          "26-35",
          "36-45",
          "26-35",
          "26-35",
          "26-35",
          "36-45",
          "36-45",
          "36-45",
          "26-35",
          "26-35",
          "26-35",
          "36-45",
          "26-35",
          "26-35",
          "26-35",
          "26-35",
          "26-35",
          "26-35",
          "26-35",
          "36-45",
          "36-45",
          "26-35",
          "26-35",
          "36-45",
          "36-45",
          "18-25",
          "36-45",
          "26-35",
          "26-35",
          "26-35",
          "36-45",
          "26-35",
          "18-25",
          "36-45",
          "26-35",
          "26-35",
          "26-35",
          "36-45",
          "36-45",
          "26-35",
          "36-45",
          "26-35",
          "26-35",
          "36-45",
          "26-35",
          "36-45",
          "36-45",
          "36-45",
          "36-45",
          "26-35",
          "36-45",
          "36-45",
          "36-45",
          "36-45",
          "26-35",
          "36-45",
          "46-55",
          "18-25",
          "36-45",
          "26-35",
          "36-45",
          "26-35",
          "36-45",
          "26-35",
          "26-35",
          "26-35",
          "36-45",
          "18-25",
          "46-55",
          "36-45",
          "36-45",
          "36-45",
          "36-45",
          "26-35",
          "36-45",
          "26-35",
          "36-45",
          "26-35",
          "36-45",
          "36-45",
          "36-45",
          "36-45",
          "18-25",
          "18-25",
          "26-35",
          "26-35",
          "26-35",
          "46-55",
          "18-25",
          "26-35",
          "26-35",
          "26-35",
          "26-35",
          "18-25",
          "26-35",
          "46-55",
          "26-35",
          "36-45",
          "36-45",
          "26-35",
          "36-45",
          "56-65",
          "26-35",
          "36-45",
          "36-45",
          "36-45",
          "26-35",
          "26-35",
          "26-35",
          "18-25",
          "26-35",
          "26-35",
          "26-35",
          "36-45",
          "36-45",
          "36-45",
          "36-45",
          "26-35",
          "36-45",
          "26-35",
          "36-45",
          "36-45",
          "26-35",
          "26-35",
          "26-35",
          "36-45",
          "46-55",
          "26-35",
          "26-35",
          "46-55",
          "18-25",
          "26-35",
          "36-45",
          "26-35",
          "18-25",
          "46-55",
          "46-55",
          "26-35",
          "26-35",
          "36-45",
          "46-55",
          "46-55",
          "46-55",
          "18-25",
          "26-35",
          "26-35",
          "26-35",
          "26-35",
          "26-35",
          "26-35",
          "18-25",
          "26-35",
          "36-45",
          "26-35",
          "36-45",
          "26-35",
          "26-35",
          "36-45",
          "26-35",
          "26-35",
          "26-35",
          "36-45",
          "26-35",
          "36-45",
          "36-45",
          "26-35",
          "36-45",
          "36-45",
          "26-35",
          "26-35",
          "36-45",
          "26-35",
          "36-45",
          "26-35",
          "26-35",
          "26-35",
          "36-45",
          "46-55",
          "36-45",
          "36-45",
          "36-45",
          "26-35",
          "18-25",
          "56-65",
          "36-45",
          "36-45",
          "26-35",
          "26-35",
          "26-35",
          "26-35",
          "26-35",
          "26-35",
          "26-35",
          "36-45",
          "18-25",
          "56-65",
          "26-35",
          "26-35",
          "26-35",
          "46-55",
          "26-35",
          "36-45",
          "26-35",
          "36-45",
          "46-55",
          "26-35",
          "26-35",
          "36-45",
          "26-35",
          "26-35",
          "26-35",
          "36-45",
          "36-45",
          "26-35",
          "26-35",
          "26-35",
          "26-35",
          "36-45",
          "26-35",
          "18-25",
          "26-35",
          "36-45",
          "18-25",
          "26-35",
          "26-35",
          "18-25",
          "36-45",
          "36-45",
          "26-35",
          "26-35",
          "26-35",
          "26-35",
          "36-45",
          "26-35",
          "26-35",
          "36-45",
          "26-35",
          "36-45",
          "26-35",
          "36-45",
          "36-45",
          "36-45",
          "26-35",
          "18-25",
          "36-45",
          "26-35",
          "18-25",
          "26-35",
          "46-55",
          "26-35",
          "26-35",
          "18-25",
          "26-35",
          "26-35",
          "26-35",
          "36-45",
          "36-45",
          "26-35",
          "18-25",
          "36-45",
          "26-35",
          "26-35",
          "26-35",
          "36-45",
          "26-35",
          "36-45",
          "36-45",
          "26-35",
          "36-45",
          "26-35",
          "36-45",
          "26-35",
          "26-35",
          "36-45",
          "26-35",
          "26-35",
          "26-35",
          "26-35",
          "26-35",
          "36-45",
          "36-45",
          "26-35",
          "18-25",
          "36-45",
          "36-45",
          "36-45",
          "36-45",
          "26-35",
          "26-35",
          "26-35",
          "26-35",
          "26-35",
          "26-35",
          "36-45",
          "26-35",
          "18-25",
          "26-35",
          "26-35",
          "26-35",
          "46-55",
          "26-35",
          "36-45",
          "36-45",
          "36-45",
          "26-35",
          "26-35",
          "36-45",
          "36-45",
          "26-35",
          "36-45",
          "26-35",
          "26-35",
          "26-35",
          "26-35",
          "26-35",
          "26-35",
          "36-45",
          "36-45",
          "36-45",
          "26-35",
          "26-35",
          "26-35",
          "36-45",
          "26-35",
          "26-35",
          "36-45",
          "36-45",
          "18-25",
          "36-45",
          "26-35",
          "36-45",
          "26-35",
          "26-35",
          "26-35",
          "36-45",
          "46-55",
          "26-35",
          "46-55",
          "26-35",
          "26-35",
          "26-35",
          "26-35",
          "26-35",
          "36-45",
          "26-35",
          "36-45",
          "18-25",
          "36-45",
          "46-55",
          "36-45",
          "26-35",
          "26-35",
          "36-45",
          "26-35",
          "46-55",
          "36-45",
          "26-35",
          "18-25",
          "26-35",
          "36-45",
          "26-35",
          "36-45",
          "26-35",
          "36-45",
          "26-35",
          "26-35",
          "26-35",
          "26-35",
          "36-45",
          "18-25",
          "18-25",
          "26-35",
          "26-35",
          "26-35",
          "26-35",
          "18-25",
          "26-35",
          "36-45",
          "36-45",
          "36-45",
          "26-35",
          "26-35",
          "26-35",
          "36-45",
          "26-35",
          "36-45",
          "26-35",
          "36-45",
          "26-35",
          "26-35",
          "46-55",
          "26-35",
          "26-35",
          "26-35",
          "26-35",
          "46-55",
          "26-35",
          "26-35",
          "26-35",
          "26-35",
          "26-35",
          "26-35",
          "26-35",
          "36-45",
          "18-25",
          "18-25",
          "36-45",
          "26-35",
          "26-35",
          "36-45",
          "26-35",
          "26-35",
          "36-45",
          "65+",
          "36-45",
          "26-35",
          "26-35",
          "56-65",
          "36-45",
          "26-35",
          "36-45",
          "36-45",
          "26-35",
          "36-45",
          "36-45",
          "26-35",
          "26-35",
          "36-45",
          "26-35",
          "26-35",
          "26-35",
          "26-35",
          "26-35",
          "26-35",
          "18-25",
          "26-35",
          "26-35",
          "26-35",
          "18-25",
          "26-35",
          "26-35",
          "18-25",
          "46-55",
          "26-35",
          "26-35",
          "26-35",
          "26-35",
          "26-35",
          "36-45",
          "26-35",
          "36-45",
          "46-55",
          "46-55",
          "36-45",
          "18-25",
          "18-25",
          "18-25",
          "36-45",
          "26-35",
          "26-35",
          "36-45",
          "18-25",
          "18-25",
          "26-35",
          "18-25",
          "18-25",
          "18-25",
          "56-65",
          "26-35",
          "26-35",
          "26-35",
          "26-35",
          "26-35",
          "26-35",
          "36-45",
          "26-35",
          "18-25",
          "26-35",
          "36-45",
          "36-45",
          "26-35",
          "26-35",
          "36-45",
          "26-35",
          "36-45",
          "26-35",
          "26-35",
          "26-35",
          "46-55",
          "26-35"
         ],
         "xaxis": "x",
         "y": {
          "bdata": "AQEBAQEBAQEBAQEBAQEBAQEBAQEBAQEBAQEBAQEBAQEBAQEBAQEBAQEBAQEBAQEBAQEBAQEBAQEBAQEBAQEBAQEBAQEBAQEBAQEBAQEBAQEBAQEBAQEBAQEBAQEBAQEBAQEBAQEBAQEBAQEBAQEBAQEBAQEBAQEBAQEBAQEBAQEBAQEBAQEBAQEBAQEBAQEBAQEBAQEBAQEBAQEBAQEBAQEBAQEBAQEBAQEBAQEBAQEBAQEBAQEBAQEBAQEBAQEBAQEBAQEBAQEBAQEBAQEBAQEBAQEBAQEBAQEBAQEBAQEBAQEBAQEBAQEBAQEBAQEBAQEBAQEBAQEBAQEBAQEBAQEBAQEBAQEBAQEBAQEBAQEBAQEBAQEBAQEBAQEBAQEBAQEBAQEBAQEBAQEBAQEBAQEBAQEBAQEBAQEBAQEBAQEBAQEBAQEBAQEBAQEBAQEBAQEBAQEBAQEBAQEBAQEBAQEBAQEBAQEBAQEBAQEBAQEBAQEBAQEBAQEBAQEBAQEBAQEBAQEBAQEBAQEBAQEBAQEBAQEBAQEBAQEBAQEBAQEBAQEBAQEBAQEBAQEBAQEBAQEBAQEBAQEBAQEBAQEBAQEBAQEBAQEBAQEBAQEBAQEBAQEBAQEBAQEBAQEBAQEBAQEBAQEBAQEBAQEBAQEBAQEBAQEBAQEBAQEBAQEBAQEBAQEBAQEBAQEBAQEBAQEBAQEBAQEBAQEBAQEBAQEBAQEBAQEBAQEBAQEBAQEBAQEBAQEBAQEBAQEBAQEBAQEBAQEBAQEBAQEBAQEBAQEBAQEBAQEBAQEBAQEBAQEBAQEBAQEBAQEBAQEBAQEBAQEBAQEBAQEBAQEBAQEBAQEBAQEBAQEBAQEBAQEBAQEBAQEBAQEBAQEBAQEBAQEBAQEBAQEBAQEBAQEBAQEBAQEBAQEBAQEBAQEBAQEBAQEBAQEBAQEBAQEBAQEBAQEBAQEBAQEBAQEBAQEBAQEBAQEBAQEBAQEBAQEBAQEBAQEBAQEBAQEBAQEBAQEBAQEBAQEBAQEBAQEBAQEBAQEBAQEBAQEBAQEBAQEBAQEBAQEBAQEBAQEBAQEBAQEBAQEBAQEBAQEBAQEBAQEBAQEBAQEBAQEBAQEBAQEBAQEBAQEBAQEBAQEBAQEBAQEBAQEBAQEBAQEBAQEBAQEBAQEBAQEBAQEBAQEBAQEBAQEBAQEBAQEBAQEBAQEBAQEBAQEBAQEBAQEBAQEBAQEBAQEBAQEBAQEBAQEBAQEBAQEBAQEBAQEBAQEBAQEBAQEBAQEBAQEBAQEBAQEBAQEBAQEBAQEBAQEBAQEBAQEBAQEBAQEBAQEBAQEBAQEBAQEBAQEBAQEBAQEBAQEBAQEBAQEBAQEBAQEBAQEBAQEBAQEBAQEBAQEBAQEBAQEBAQEBAQEBAQEBAQEBAQEBAQEBAQEBAQEBAQEBAQEBAQEBAQEBAQEBAQEBAQEBAQEBAQEBAQEBAQEBAQEBAQEBAQEBAQEBAQEBAQEBAQEBAQEBAQEBAQEBAQEBAQEBAQEBAQEBAQEBAQEBAQEBAQEBAQEBAQEBAQEBAQEBAQEBAQEBAQEBAQEBAQEBAQEBAQEBAQEBAQEBAQEBAQEBAQEBAQEBAQEBAQEBAQEBAQEBAQEBAQEBAQEBAQEBAQEBAQEBAQEBAQEBAQEBAQEBAQEBAQEBAQE=",
          "dtype": "i1"
         },
         "yaxis": "y"
        }
       ],
       "layout": {
        "barmode": "relative",
        "legend": {
         "tracegroupgap": 0
        },
        "template": {
         "data": {
          "bar": [
           {
            "error_x": {
             "color": "#2a3f5f"
            },
            "error_y": {
             "color": "#2a3f5f"
            },
            "marker": {
             "line": {
              "color": "#E5ECF6",
              "width": 0.5
             },
             "pattern": {
              "fillmode": "overlay",
              "size": 10,
              "solidity": 0.2
             }
            },
            "type": "bar"
           }
          ],
          "barpolar": [
           {
            "marker": {
             "line": {
              "color": "#E5ECF6",
              "width": 0.5
             },
             "pattern": {
              "fillmode": "overlay",
              "size": 10,
              "solidity": 0.2
             }
            },
            "type": "barpolar"
           }
          ],
          "carpet": [
           {
            "aaxis": {
             "endlinecolor": "#2a3f5f",
             "gridcolor": "white",
             "linecolor": "white",
             "minorgridcolor": "white",
             "startlinecolor": "#2a3f5f"
            },
            "baxis": {
             "endlinecolor": "#2a3f5f",
             "gridcolor": "white",
             "linecolor": "white",
             "minorgridcolor": "white",
             "startlinecolor": "#2a3f5f"
            },
            "type": "carpet"
           }
          ],
          "choropleth": [
           {
            "colorbar": {
             "outlinewidth": 0,
             "ticks": ""
            },
            "type": "choropleth"
           }
          ],
          "contour": [
           {
            "colorbar": {
             "outlinewidth": 0,
             "ticks": ""
            },
            "colorscale": [
             [
              0,
              "#0d0887"
             ],
             [
              0.1111111111111111,
              "#46039f"
             ],
             [
              0.2222222222222222,
              "#7201a8"
             ],
             [
              0.3333333333333333,
              "#9c179e"
             ],
             [
              0.4444444444444444,
              "#bd3786"
             ],
             [
              0.5555555555555556,
              "#d8576b"
             ],
             [
              0.6666666666666666,
              "#ed7953"
             ],
             [
              0.7777777777777778,
              "#fb9f3a"
             ],
             [
              0.8888888888888888,
              "#fdca26"
             ],
             [
              1,
              "#f0f921"
             ]
            ],
            "type": "contour"
           }
          ],
          "contourcarpet": [
           {
            "colorbar": {
             "outlinewidth": 0,
             "ticks": ""
            },
            "type": "contourcarpet"
           }
          ],
          "heatmap": [
           {
            "colorbar": {
             "outlinewidth": 0,
             "ticks": ""
            },
            "colorscale": [
             [
              0,
              "#0d0887"
             ],
             [
              0.1111111111111111,
              "#46039f"
             ],
             [
              0.2222222222222222,
              "#7201a8"
             ],
             [
              0.3333333333333333,
              "#9c179e"
             ],
             [
              0.4444444444444444,
              "#bd3786"
             ],
             [
              0.5555555555555556,
              "#d8576b"
             ],
             [
              0.6666666666666666,
              "#ed7953"
             ],
             [
              0.7777777777777778,
              "#fb9f3a"
             ],
             [
              0.8888888888888888,
              "#fdca26"
             ],
             [
              1,
              "#f0f921"
             ]
            ],
            "type": "heatmap"
           }
          ],
          "histogram": [
           {
            "marker": {
             "pattern": {
              "fillmode": "overlay",
              "size": 10,
              "solidity": 0.2
             }
            },
            "type": "histogram"
           }
          ],
          "histogram2d": [
           {
            "colorbar": {
             "outlinewidth": 0,
             "ticks": ""
            },
            "colorscale": [
             [
              0,
              "#0d0887"
             ],
             [
              0.1111111111111111,
              "#46039f"
             ],
             [
              0.2222222222222222,
              "#7201a8"
             ],
             [
              0.3333333333333333,
              "#9c179e"
             ],
             [
              0.4444444444444444,
              "#bd3786"
             ],
             [
              0.5555555555555556,
              "#d8576b"
             ],
             [
              0.6666666666666666,
              "#ed7953"
             ],
             [
              0.7777777777777778,
              "#fb9f3a"
             ],
             [
              0.8888888888888888,
              "#fdca26"
             ],
             [
              1,
              "#f0f921"
             ]
            ],
            "type": "histogram2d"
           }
          ],
          "histogram2dcontour": [
           {
            "colorbar": {
             "outlinewidth": 0,
             "ticks": ""
            },
            "colorscale": [
             [
              0,
              "#0d0887"
             ],
             [
              0.1111111111111111,
              "#46039f"
             ],
             [
              0.2222222222222222,
              "#7201a8"
             ],
             [
              0.3333333333333333,
              "#9c179e"
             ],
             [
              0.4444444444444444,
              "#bd3786"
             ],
             [
              0.5555555555555556,
              "#d8576b"
             ],
             [
              0.6666666666666666,
              "#ed7953"
             ],
             [
              0.7777777777777778,
              "#fb9f3a"
             ],
             [
              0.8888888888888888,
              "#fdca26"
             ],
             [
              1,
              "#f0f921"
             ]
            ],
            "type": "histogram2dcontour"
           }
          ],
          "mesh3d": [
           {
            "colorbar": {
             "outlinewidth": 0,
             "ticks": ""
            },
            "type": "mesh3d"
           }
          ],
          "parcoords": [
           {
            "line": {
             "colorbar": {
              "outlinewidth": 0,
              "ticks": ""
             }
            },
            "type": "parcoords"
           }
          ],
          "pie": [
           {
            "automargin": true,
            "type": "pie"
           }
          ],
          "scatter": [
           {
            "fillpattern": {
             "fillmode": "overlay",
             "size": 10,
             "solidity": 0.2
            },
            "type": "scatter"
           }
          ],
          "scatter3d": [
           {
            "line": {
             "colorbar": {
              "outlinewidth": 0,
              "ticks": ""
             }
            },
            "marker": {
             "colorbar": {
              "outlinewidth": 0,
              "ticks": ""
             }
            },
            "type": "scatter3d"
           }
          ],
          "scattercarpet": [
           {
            "marker": {
             "colorbar": {
              "outlinewidth": 0,
              "ticks": ""
             }
            },
            "type": "scattercarpet"
           }
          ],
          "scattergeo": [
           {
            "marker": {
             "colorbar": {
              "outlinewidth": 0,
              "ticks": ""
             }
            },
            "type": "scattergeo"
           }
          ],
          "scattergl": [
           {
            "marker": {
             "colorbar": {
              "outlinewidth": 0,
              "ticks": ""
             }
            },
            "type": "scattergl"
           }
          ],
          "scattermap": [
           {
            "marker": {
             "colorbar": {
              "outlinewidth": 0,
              "ticks": ""
             }
            },
            "type": "scattermap"
           }
          ],
          "scattermapbox": [
           {
            "marker": {
             "colorbar": {
              "outlinewidth": 0,
              "ticks": ""
             }
            },
            "type": "scattermapbox"
           }
          ],
          "scatterpolar": [
           {
            "marker": {
             "colorbar": {
              "outlinewidth": 0,
              "ticks": ""
             }
            },
            "type": "scatterpolar"
           }
          ],
          "scatterpolargl": [
           {
            "marker": {
             "colorbar": {
              "outlinewidth": 0,
              "ticks": ""
             }
            },
            "type": "scatterpolargl"
           }
          ],
          "scatterternary": [
           {
            "marker": {
             "colorbar": {
              "outlinewidth": 0,
              "ticks": ""
             }
            },
            "type": "scatterternary"
           }
          ],
          "surface": [
           {
            "colorbar": {
             "outlinewidth": 0,
             "ticks": ""
            },
            "colorscale": [
             [
              0,
              "#0d0887"
             ],
             [
              0.1111111111111111,
              "#46039f"
             ],
             [
              0.2222222222222222,
              "#7201a8"
             ],
             [
              0.3333333333333333,
              "#9c179e"
             ],
             [
              0.4444444444444444,
              "#bd3786"
             ],
             [
              0.5555555555555556,
              "#d8576b"
             ],
             [
              0.6666666666666666,
              "#ed7953"
             ],
             [
              0.7777777777777778,
              "#fb9f3a"
             ],
             [
              0.8888888888888888,
              "#fdca26"
             ],
             [
              1,
              "#f0f921"
             ]
            ],
            "type": "surface"
           }
          ],
          "table": [
           {
            "cells": {
             "fill": {
              "color": "#EBF0F8"
             },
             "line": {
              "color": "white"
             }
            },
            "header": {
             "fill": {
              "color": "#C8D4E3"
             },
             "line": {
              "color": "white"
             }
            },
            "type": "table"
           }
          ]
         },
         "layout": {
          "annotationdefaults": {
           "arrowcolor": "#2a3f5f",
           "arrowhead": 0,
           "arrowwidth": 1
          },
          "autotypenumbers": "strict",
          "coloraxis": {
           "colorbar": {
            "outlinewidth": 0,
            "ticks": ""
           }
          },
          "colorscale": {
           "diverging": [
            [
             0,
             "#8e0152"
            ],
            [
             0.1,
             "#c51b7d"
            ],
            [
             0.2,
             "#de77ae"
            ],
            [
             0.3,
             "#f1b6da"
            ],
            [
             0.4,
             "#fde0ef"
            ],
            [
             0.5,
             "#f7f7f7"
            ],
            [
             0.6,
             "#e6f5d0"
            ],
            [
             0.7,
             "#b8e186"
            ],
            [
             0.8,
             "#7fbc41"
            ],
            [
             0.9,
             "#4d9221"
            ],
            [
             1,
             "#276419"
            ]
           ],
           "sequential": [
            [
             0,
             "#0d0887"
            ],
            [
             0.1111111111111111,
             "#46039f"
            ],
            [
             0.2222222222222222,
             "#7201a8"
            ],
            [
             0.3333333333333333,
             "#9c179e"
            ],
            [
             0.4444444444444444,
             "#bd3786"
            ],
            [
             0.5555555555555556,
             "#d8576b"
            ],
            [
             0.6666666666666666,
             "#ed7953"
            ],
            [
             0.7777777777777778,
             "#fb9f3a"
            ],
            [
             0.8888888888888888,
             "#fdca26"
            ],
            [
             1,
             "#f0f921"
            ]
           ],
           "sequentialminus": [
            [
             0,
             "#0d0887"
            ],
            [
             0.1111111111111111,
             "#46039f"
            ],
            [
             0.2222222222222222,
             "#7201a8"
            ],
            [
             0.3333333333333333,
             "#9c179e"
            ],
            [
             0.4444444444444444,
             "#bd3786"
            ],
            [
             0.5555555555555556,
             "#d8576b"
            ],
            [
             0.6666666666666666,
             "#ed7953"
            ],
            [
             0.7777777777777778,
             "#fb9f3a"
            ],
            [
             0.8888888888888888,
             "#fdca26"
            ],
            [
             1,
             "#f0f921"
            ]
           ]
          },
          "colorway": [
           "#636efa",
           "#EF553B",
           "#00cc96",
           "#ab63fa",
           "#FFA15A",
           "#19d3f3",
           "#FF6692",
           "#B6E880",
           "#FF97FF",
           "#FECB52"
          ],
          "font": {
           "color": "#2a3f5f"
          },
          "geo": {
           "bgcolor": "white",
           "lakecolor": "white",
           "landcolor": "#E5ECF6",
           "showlakes": true,
           "showland": true,
           "subunitcolor": "white"
          },
          "hoverlabel": {
           "align": "left"
          },
          "hovermode": "closest",
          "mapbox": {
           "style": "light"
          },
          "paper_bgcolor": "white",
          "plot_bgcolor": "#E5ECF6",
          "polar": {
           "angularaxis": {
            "gridcolor": "white",
            "linecolor": "white",
            "ticks": ""
           },
           "bgcolor": "#E5ECF6",
           "radialaxis": {
            "gridcolor": "white",
            "linecolor": "white",
            "ticks": ""
           }
          },
          "scene": {
           "xaxis": {
            "backgroundcolor": "#E5ECF6",
            "gridcolor": "white",
            "gridwidth": 2,
            "linecolor": "white",
            "showbackground": true,
            "ticks": "",
            "zerolinecolor": "white"
           },
           "yaxis": {
            "backgroundcolor": "#E5ECF6",
            "gridcolor": "white",
            "gridwidth": 2,
            "linecolor": "white",
            "showbackground": true,
            "ticks": "",
            "zerolinecolor": "white"
           },
           "zaxis": {
            "backgroundcolor": "#E5ECF6",
            "gridcolor": "white",
            "gridwidth": 2,
            "linecolor": "white",
            "showbackground": true,
            "ticks": "",
            "zerolinecolor": "white"
           }
          },
          "shapedefaults": {
           "line": {
            "color": "#2a3f5f"
           }
          },
          "ternary": {
           "aaxis": {
            "gridcolor": "white",
            "linecolor": "white",
            "ticks": ""
           },
           "baxis": {
            "gridcolor": "white",
            "linecolor": "white",
            "ticks": ""
           },
           "bgcolor": "#E5ECF6",
           "caxis": {
            "gridcolor": "white",
            "linecolor": "white",
            "ticks": ""
           }
          },
          "title": {
           "x": 0.05
          },
          "xaxis": {
           "automargin": true,
           "gridcolor": "white",
           "linecolor": "white",
           "ticks": "",
           "title": {
            "standoff": 15
           },
           "zerolinecolor": "white",
           "zerolinewidth": 2
          },
          "yaxis": {
           "automargin": true,
           "gridcolor": "white",
           "linecolor": "white",
           "ticks": "",
           "title": {
            "standoff": 15
           },
           "zerolinecolor": "white",
           "zerolinewidth": 2
          }
         }
        },
        "title": {
         "text": "Distribution of Age Groups"
        },
        "xaxis": {
         "anchor": "y",
         "domain": [
          0,
          1
         ],
         "title": {
          "text": "Age_Group"
         }
        },
        "yaxis": {
         "anchor": "x",
         "domain": [
          0,
          1
         ],
         "title": {
          "text": "count"
         }
        }
       }
      }
     },
     "metadata": {},
     "output_type": "display_data"
    }
   ],
   "source": [
    "fig = px.bar(df, x='Age_Group', title='Distribution of Age Groups')\n",
    "fig.show()"
   ]
  },
  {
   "cell_type": "markdown",
   "id": "7974f3b6",
   "metadata": {},
   "source": [
    "### 3. Country Distribution"
   ]
  },
  {
   "cell_type": "code",
   "execution_count": 31,
   "id": "f6c7cdad",
   "metadata": {},
   "outputs": [
    {
     "data": {
      "application/vnd.plotly.v1+json": {
       "config": {
        "plotlyServerURL": "https://plot.ly"
       },
       "data": [
        {
         "hovertemplate": "Country=%{x}<br>count=%{y}<extra></extra>",
         "legendgroup": "",
         "marker": {
          "color": "#636efa",
          "pattern": {
           "shape": ""
          }
         },
         "name": "",
         "orientation": "v",
         "showlegend": false,
         "textposition": "auto",
         "type": "bar",
         "x": [
          "United States",
          "United States",
          "Canada",
          "United Kingdom",
          "United States",
          "United States",
          "United States",
          "Canada",
          "United States",
          "Canada",
          "United States",
          "United States",
          "United States",
          "Canada",
          "United States",
          "United Kingdom",
          "United States",
          "United States",
          "France",
          "United States",
          "United States",
          "United States",
          "United States",
          "United States",
          "United States",
          "United States",
          "United States",
          "United States",
          "United Kingdom",
          "United Kingdom",
          "United States",
          "United Kingdom",
          "United States",
          "United States",
          "United States",
          "Canada",
          "United States",
          "United States",
          "United Kingdom",
          "United States",
          "Canada",
          "Netherlands",
          "United States",
          "United States",
          "United Kingdom",
          "United States",
          "Canada",
          "United States",
          "United States",
          "United States",
          "United States",
          "United States",
          "United States",
          "United States",
          "United States",
          "United States",
          "Canada",
          "United States",
          "United Kingdom",
          "France",
          "Canada",
          "United States",
          "Australia",
          "United States",
          "United States",
          "United States",
          "France",
          "Canada",
          "United States",
          "United Kingdom",
          "United States",
          "United Kingdom",
          "United States",
          "United States",
          "United States",
          "Germany",
          "United States",
          "United Kingdom",
          "Canada",
          "United States",
          "United States",
          "United States",
          "United Kingdom",
          "United States",
          "United States",
          "United States",
          "United States",
          "United States",
          "United States",
          "Canada",
          "United States",
          "United States",
          "United States",
          "United States",
          "Canada",
          "United States",
          "United States",
          "United States",
          "United States",
          "United States",
          "United States",
          "United States",
          "United States",
          "United States",
          "United States",
          "United States",
          "United States",
          "United States",
          "United Kingdom",
          "United Kingdom",
          "Canada",
          "United States",
          "United States",
          "United States",
          "United States",
          "United States",
          "United States",
          "Canada",
          "United States",
          "United Kingdom",
          "United States",
          "United Kingdom",
          "United States",
          "United States",
          "United States",
          "Canada",
          "United Kingdom",
          "United Kingdom",
          "United States",
          "United States",
          "United States",
          "United Kingdom",
          "United States",
          "United States",
          "United States",
          "United States",
          "United Kingdom",
          "United States",
          "Ireland",
          "United States",
          "Canada",
          "United States",
          "United States",
          "United Kingdom",
          "United States",
          "United States",
          "United States",
          "United States",
          "United States",
          "United Kingdom",
          "United States",
          "United States",
          "United States",
          "United States",
          "United Kingdom",
          "United States",
          "United States",
          "Ireland",
          "United Kingdom",
          "United Kingdom",
          "United Kingdom",
          "India",
          "United States",
          "Canada",
          "United States",
          "United Kingdom",
          "United States",
          "United States",
          "United States",
          "India",
          "United Kingdom",
          "United States",
          "United States",
          "United States",
          "United Kingdom",
          "France",
          "United Kingdom",
          "United States",
          "United States",
          "United States",
          "Germany",
          "United States",
          "United States",
          "United States",
          "United Kingdom",
          "United States",
          "United States",
          "United States",
          "Ireland",
          "United Kingdom",
          "Canada",
          "United States",
          "United States",
          "United States",
          "United Kingdom",
          "United Kingdom",
          "United States",
          "United States",
          "United States",
          "Germany",
          "Canada",
          "United States",
          "United States",
          "United States",
          "United Kingdom",
          "United States",
          "United States",
          "United States",
          "United States",
          "United States",
          "Australia",
          "United States",
          "United Kingdom",
          "United States",
          "United States",
          "United Kingdom",
          "United States",
          "Netherlands",
          "United Kingdom",
          "Canada",
          "United Kingdom",
          "United States",
          "Canada",
          "United States",
          "United States",
          "United States",
          "United States",
          "United States",
          "United Kingdom",
          "United States",
          "United States",
          "United States",
          "United States",
          "United States",
          "United Kingdom",
          "United States",
          "Canada",
          "United Kingdom",
          "United States",
          "United Kingdom",
          "Australia",
          "United States",
          "Canada",
          "United States",
          "Canada",
          "United States",
          "United States",
          "United Kingdom",
          "United States",
          "United States",
          "Ireland",
          "United States",
          "United States",
          "United Kingdom",
          "United States",
          "Canada",
          "United States",
          "United States",
          "United States",
          "Australia",
          "United States",
          "United States",
          "Canada",
          "United Kingdom",
          "United States",
          "United States",
          "United States",
          "United States",
          "United States",
          "United States",
          "United States",
          "United States",
          "United States",
          "United States",
          "United States",
          "United States",
          "United States",
          "United States",
          "United States",
          "United States",
          "United States",
          "United States",
          "Canada",
          "United States",
          "United States",
          "United States",
          "United States",
          "Canada",
          "United States",
          "United States",
          "United States",
          "United States",
          "United States",
          "United States",
          "United States",
          "United States",
          "United States",
          "United States",
          "United States",
          "United States",
          "United States",
          "United States",
          "United States",
          "United States",
          "United States",
          "Germany",
          "United States",
          "Canada",
          "United States",
          "Ireland",
          "United States",
          "United Kingdom",
          "United States",
          "United States",
          "United States",
          "United States",
          "United States",
          "United States",
          "United States",
          "United Kingdom",
          "United States",
          "United States",
          "United States",
          "United States",
          "United States",
          "United States",
          "United Kingdom",
          "United States",
          "United States",
          "United States",
          "United States",
          "United States",
          "United States",
          "United States",
          "Germany",
          "United States",
          "United States",
          "United States",
          "United States",
          "United States",
          "United States",
          "United States",
          "United Kingdom",
          "United States",
          "United States",
          "United States",
          "United States",
          "United States",
          "United States",
          "United States",
          "United States",
          "United States",
          "United States",
          "Canada",
          "United States",
          "United States",
          "Germany",
          "United States",
          "United States",
          "New Zealand",
          "United States",
          "United States",
          "United States",
          "United States",
          "Canada",
          "United States",
          "United States",
          "United Kingdom",
          "United Kingdom",
          "United States",
          "Canada",
          "United States",
          "United States",
          "United States",
          "United States",
          "Germany",
          "United States",
          "United States",
          "United States",
          "United States",
          "United States",
          "United States",
          "United Kingdom",
          "United States",
          "United States",
          "Germany",
          "India",
          "United States",
          "Germany",
          "New Zealand",
          "United Kingdom",
          "United States",
          "United States",
          "United States",
          "United States",
          "United States",
          "United States",
          "Canada",
          "United States",
          "United States",
          "United States",
          "United States",
          "United States",
          "United States",
          "Australia",
          "United States",
          "United States",
          "United Kingdom",
          "United States",
          "United States",
          "United States",
          "Canada",
          "United States",
          "United States",
          "United States",
          "United States",
          "Canada",
          "United States",
          "United States",
          "United States",
          "United States",
          "United States",
          "United States",
          "Netherlands",
          "United Kingdom",
          "United States",
          "United Kingdom",
          "United States",
          "United States",
          "United States",
          "United States",
          "United Kingdom",
          "United States",
          "United Kingdom",
          "France",
          "Netherlands",
          "United States",
          "United States",
          "United States",
          "United Kingdom",
          "United States",
          "United States",
          "Germany",
          "Germany",
          "United States",
          "United States",
          "United States",
          "United Kingdom",
          "United States",
          "United States",
          "Germany",
          "United States",
          "United States",
          "United States",
          "United States",
          "United States",
          "United States",
          "United States",
          "United States",
          "United States",
          "United Kingdom",
          "Netherlands",
          "United States",
          "Ireland",
          "United Kingdom",
          "Germany",
          "United States",
          "United States",
          "United States",
          "United Kingdom",
          "United States",
          "United States",
          "United States",
          "United States",
          "United States",
          "United States",
          "United States",
          "United States",
          "United States",
          "United States",
          "Germany",
          "United Kingdom",
          "United States",
          "United States",
          "United States",
          "United States",
          "United States",
          "New Zealand",
          "United States",
          "Canada",
          "United Kingdom",
          "Australia",
          "Canada",
          "Australia",
          "United States",
          "United States",
          "United Kingdom",
          "United States",
          "United States",
          "United States",
          "United Kingdom",
          "United States",
          "United Kingdom",
          "United Kingdom",
          "United Kingdom",
          "United States",
          "United States",
          "Germany",
          "United States",
          "New Zealand",
          "Canada",
          "United Kingdom",
          "New Zealand",
          "Canada",
          "Australia",
          "United States",
          "Netherlands",
          "United States",
          "United States",
          "United States",
          "Australia",
          "United States",
          "Canada",
          "United States",
          "United States",
          "United States",
          "United States",
          "United States",
          "United States",
          "United States",
          "United States",
          "United States",
          "United States",
          "United States",
          "United States",
          "United States",
          "Canada",
          "United States",
          "United States",
          "United States",
          "Canada",
          "United States",
          "United States",
          "Australia",
          "United States",
          "United States",
          "United States",
          "United States",
          "United States",
          "Canada",
          "United States",
          "United States",
          "United States",
          "United States",
          "United States",
          "United States",
          "United States",
          "United States",
          "United States",
          "United States",
          "United States",
          "United States",
          "United States",
          "United States",
          "United States",
          "United States",
          "Australia",
          "United States",
          "United States",
          "United States",
          "United States",
          "United States",
          "United States",
          "United States",
          "Netherlands",
          "United Kingdom",
          "Germany",
          "Netherlands",
          "United States",
          "United States",
          "United States",
          "United States",
          "Canada",
          "United States",
          "Canada",
          "United States",
          "United Kingdom",
          "United States",
          "Germany",
          "United States",
          "Germany",
          "Germany",
          "United Kingdom",
          "United States",
          "Germany",
          "Germany",
          "Australia",
          "United States",
          "Ireland",
          "Ireland",
          "Australia",
          "Australia",
          "Netherlands",
          "United States",
          "United Kingdom",
          "United Kingdom",
          "Australia",
          "United States",
          "Germany",
          "United Kingdom",
          "Germany",
          "United Kingdom",
          "United States",
          "Ireland",
          "Ireland",
          "India",
          "Ireland",
          "Netherlands",
          "France",
          "United States",
          "Canada",
          "Canada",
          "United States",
          "India",
          "United States",
          "Germany",
          "United States",
          "United States",
          "United States",
          "Canada",
          "United Kingdom",
          "India",
          "United States",
          "United States",
          "United States",
          "United Kingdom",
          "Canada",
          "Netherlands",
          "Germany",
          "Canada",
          "United Kingdom",
          "United Kingdom",
          "France",
          "United States",
          "France",
          "United States",
          "United States",
          "United States",
          "United States",
          "United States",
          "United States",
          "United Kingdom",
          "United States",
          "United States",
          "United States",
          "United States",
          "United Kingdom",
          "France",
          "United States",
          "United States",
          "United States",
          "United Kingdom",
          "Germany",
          "United States",
          "Netherlands",
          "United States",
          "United Kingdom",
          "Canada",
          "Canada",
          "United States",
          "United States",
          "Germany",
          "United States",
          "United Kingdom",
          "France",
          "United States",
          "United States",
          "United States",
          "United Kingdom",
          "United States",
          "United Kingdom",
          "United Kingdom",
          "United States",
          "Australia",
          "United Kingdom",
          "United States",
          "United States",
          "United States",
          "Canada",
          "United States",
          "Canada",
          "Germany",
          "United States",
          "United States",
          "United States",
          "United States",
          "United States",
          "Germany",
          "United States",
          "Canada",
          "United States",
          "Ireland",
          "Ireland",
          "United States",
          "Netherlands",
          "United States",
          "United Kingdom",
          "United States",
          "United Kingdom",
          "United Kingdom",
          "United States",
          "United Kingdom",
          "United Kingdom",
          "United Kingdom",
          "Canada",
          "United States",
          "United Kingdom",
          "United States",
          "United Kingdom",
          "United Kingdom",
          "United States",
          "United Kingdom",
          "United States",
          "United States",
          "United States",
          "United Kingdom",
          "United States",
          "Netherlands",
          "United Kingdom",
          "United States",
          "United States",
          "United States",
          "United States",
          "United States",
          "United States",
          "United States",
          "United States",
          "United States",
          "United States",
          "United States",
          "United Kingdom",
          "United States",
          "United States",
          "United States",
          "United States",
          "United States",
          "United Kingdom",
          "United Kingdom",
          "United States",
          "United States",
          "United Kingdom",
          "United States",
          "United States",
          "United States",
          "Germany",
          "United States",
          "United States",
          "United States",
          "United States",
          "United States",
          "United States",
          "United States",
          "United Kingdom",
          "United States",
          "United States",
          "United States",
          "United States",
          "United States",
          "United Kingdom",
          "United States",
          "United States",
          "United Kingdom",
          "United States",
          "United States",
          "United Kingdom",
          "United States",
          "United States",
          "United States",
          "United States",
          "Netherlands",
          "United States",
          "United States",
          "United States",
          "United States",
          "United Kingdom",
          "Canada",
          "United States",
          "United States",
          "United States",
          "United States",
          "United States",
          "United Kingdom",
          "United Kingdom",
          "United Kingdom",
          "United States",
          "United States",
          "United States",
          "United Kingdom",
          "United States",
          "United States",
          "Germany",
          "United States",
          "United Kingdom",
          "United Kingdom",
          "United States",
          "United States",
          "United States",
          "United States",
          "United States",
          "United Kingdom",
          "United States",
          "United States",
          "United States",
          "United States",
          "United States",
          "United States",
          "United States",
          "United Kingdom",
          "United Kingdom",
          "India",
          "United States",
          "United States",
          "United States",
          "United States",
          "United States",
          "United States",
          "United States",
          "United States",
          "Germany",
          "United States",
          "United States",
          "United States",
          "United Kingdom",
          "United States",
          "United Kingdom",
          "United States",
          "United States",
          "United States",
          "United States",
          "United States",
          "United States",
          "Australia",
          "United States",
          "United Kingdom",
          "United States",
          "Canada",
          "United Kingdom",
          "United States",
          "United Kingdom",
          "United States",
          "United States",
          "United States",
          "United States",
          "United States",
          "New Zealand",
          "United States",
          "United States",
          "United States",
          "United States",
          "United States",
          "United States",
          "United States",
          "United States",
          "United States",
          "United States",
          "United States",
          "United Kingdom",
          "United States",
          "Netherlands",
          "United States",
          "United States",
          "United States",
          "United States",
          "United States",
          "United States",
          "United States",
          "United States",
          "United States",
          "United States",
          "United States",
          "United States",
          "Netherlands",
          "United Kingdom",
          "United States",
          "United States",
          "Germany",
          "United States",
          "Netherlands",
          "United States",
          "United Kingdom",
          "United Kingdom",
          "Germany",
          "Germany",
          "United Kingdom",
          "United Kingdom",
          "United Kingdom",
          "United Kingdom",
          "United Kingdom",
          "United Kingdom",
          "United Kingdom",
          "United States",
          "United Kingdom",
          "United States",
          "United States",
          "Germany",
          "Germany",
          "United States",
          "France",
          "United Kingdom",
          "United States",
          "Canada",
          "United Kingdom",
          "United States",
          "Canada",
          "United Kingdom",
          "United Kingdom",
          "United Kingdom",
          "United States",
          "United Kingdom",
          "United Kingdom",
          "United States",
          "United Kingdom",
          "India",
          "United Kingdom",
          "United States",
          "United States",
          "United Kingdom",
          "United States",
          "United States",
          "United States",
          "United States",
          "United Kingdom",
          "United Kingdom",
          "United States",
          "United States",
          "United States",
          "United States",
          "United States",
          "United States",
          "United States",
          "United States",
          "United States",
          "United States",
          "United States",
          "United States",
          "United States",
          "Canada",
          "United States",
          "United States",
          "United Kingdom",
          "United States",
          "United States",
          "United States",
          "United States",
          "United States",
          "United States",
          "United States",
          "United States",
          "United States",
          "United States",
          "United States",
          "Canada",
          "Australia",
          "United States",
          "United States",
          "United States",
          "United States",
          "United States",
          "United States",
          "United States",
          "United Kingdom",
          "Canada",
          "United States",
          "United Kingdom",
          "United States",
          "United States",
          "United States",
          "United States",
          "United States",
          "United States",
          "United States",
          "Canada",
          "United States",
          "United States",
          "United States",
          "United States",
          "United States",
          "Germany",
          "United States",
          "United States",
          "United States",
          "United States",
          "United States",
          "United States",
          "United States",
          "United States",
          "United States",
          "United States",
          "United States",
          "United States",
          "Netherlands",
          "United States",
          "Netherlands",
          "United States",
          "Canada",
          "United Kingdom",
          "Germany",
          "Germany",
          "United States",
          "United States",
          "United States",
          "United States",
          "United States",
          "United States",
          "United States",
          "United States",
          "United States",
          "United States",
          "United States",
          "United States",
          "United States",
          "United States",
          "United States",
          "Canada",
          "United States",
          "United States",
          "United States",
          "France",
          "Australia",
          "United States",
          "India",
          "France",
          "Germany",
          "United States",
          "United States",
          "Canada",
          "United Kingdom",
          "United States",
          "United States",
          "United States",
          "United Kingdom",
          "United Kingdom",
          "United Kingdom",
          "United States",
          "United States",
          "Germany",
          "United States",
          "United States",
          "Netherlands",
          "United States",
          "United States",
          "United Kingdom",
          "United States",
          "New Zealand",
          "New Zealand",
          "United Kingdom",
          "United Kingdom",
          "United Kingdom",
          "Germany",
          "United Kingdom",
          "United Kingdom",
          "United States",
          "United Kingdom",
          "United Kingdom",
          "United States",
          "United States",
          "United States",
          "United Kingdom",
          "Canada",
          "United Kingdom",
          "United States",
          "Canada",
          "Netherlands",
          "United Kingdom",
          "United States",
          "United States",
          "United Kingdom",
          "India",
          "United States",
          "United States",
          "United States",
          "United States",
          "United States",
          "United States",
          "United States",
          "United States",
          "United Kingdom",
          "United States",
          "United States",
          "United States",
          "United States",
          "United States",
          "United States",
          "United States",
          "United States",
          "United States",
          "United States",
          "United States",
          "United States",
          "United States",
          "Canada",
          "United Kingdom",
          "Germany",
          "Ireland",
          "Ireland",
          "Ireland",
          "United States",
          "Ireland",
          "Australia",
          "United States",
          "United Kingdom",
          "Ireland",
          "Ireland",
          "United Kingdom",
          "United States",
          "Ireland",
          "Ireland",
          "United Kingdom",
          "United States",
          "Netherlands",
          "United Kingdom",
          "Ireland",
          "Netherlands",
          "United States",
          "United States",
          "United States",
          "Netherlands",
          "United Kingdom",
          "Ireland",
          "Ireland",
          "Netherlands",
          "Ireland",
          "United States",
          "United Kingdom",
          "United Kingdom",
          "United Kingdom",
          "United Kingdom",
          "United Kingdom",
          "Canada",
          "United States",
          "Ireland",
          "United States",
          "Netherlands",
          "Germany",
          "Ireland",
          "United States",
          "United Kingdom",
          "Australia",
          "United States",
          "United States",
          "United States",
          "United States",
          "United States",
          "United States",
          "United Kingdom",
          "United States",
          "United States",
          "United States",
          "United States"
         ],
         "xaxis": "x",
         "y": {
          "bdata": "AQEBAQEBAQEBAQEBAQEBAQEBAQEBAQEBAQEBAQEBAQEBAQEBAQEBAQEBAQEBAQEBAQEBAQEBAQEBAQEBAQEBAQEBAQEBAQEBAQEBAQEBAQEBAQEBAQEBAQEBAQEBAQEBAQEBAQEBAQEBAQEBAQEBAQEBAQEBAQEBAQEBAQEBAQEBAQEBAQEBAQEBAQEBAQEBAQEBAQEBAQEBAQEBAQEBAQEBAQEBAQEBAQEBAQEBAQEBAQEBAQEBAQEBAQEBAQEBAQEBAQEBAQEBAQEBAQEBAQEBAQEBAQEBAQEBAQEBAQEBAQEBAQEBAQEBAQEBAQEBAQEBAQEBAQEBAQEBAQEBAQEBAQEBAQEBAQEBAQEBAQEBAQEBAQEBAQEBAQEBAQEBAQEBAQEBAQEBAQEBAQEBAQEBAQEBAQEBAQEBAQEBAQEBAQEBAQEBAQEBAQEBAQEBAQEBAQEBAQEBAQEBAQEBAQEBAQEBAQEBAQEBAQEBAQEBAQEBAQEBAQEBAQEBAQEBAQEBAQEBAQEBAQEBAQEBAQEBAQEBAQEBAQEBAQEBAQEBAQEBAQEBAQEBAQEBAQEBAQEBAQEBAQEBAQEBAQEBAQEBAQEBAQEBAQEBAQEBAQEBAQEBAQEBAQEBAQEBAQEBAQEBAQEBAQEBAQEBAQEBAQEBAQEBAQEBAQEBAQEBAQEBAQEBAQEBAQEBAQEBAQEBAQEBAQEBAQEBAQEBAQEBAQEBAQEBAQEBAQEBAQEBAQEBAQEBAQEBAQEBAQEBAQEBAQEBAQEBAQEBAQEBAQEBAQEBAQEBAQEBAQEBAQEBAQEBAQEBAQEBAQEBAQEBAQEBAQEBAQEBAQEBAQEBAQEBAQEBAQEBAQEBAQEBAQEBAQEBAQEBAQEBAQEBAQEBAQEBAQEBAQEBAQEBAQEBAQEBAQEBAQEBAQEBAQEBAQEBAQEBAQEBAQEBAQEBAQEBAQEBAQEBAQEBAQEBAQEBAQEBAQEBAQEBAQEBAQEBAQEBAQEBAQEBAQEBAQEBAQEBAQEBAQEBAQEBAQEBAQEBAQEBAQEBAQEBAQEBAQEBAQEBAQEBAQEBAQEBAQEBAQEBAQEBAQEBAQEBAQEBAQEBAQEBAQEBAQEBAQEBAQEBAQEBAQEBAQEBAQEBAQEBAQEBAQEBAQEBAQEBAQEBAQEBAQEBAQEBAQEBAQEBAQEBAQEBAQEBAQEBAQEBAQEBAQEBAQEBAQEBAQEBAQEBAQEBAQEBAQEBAQEBAQEBAQEBAQEBAQEBAQEBAQEBAQEBAQEBAQEBAQEBAQEBAQEBAQEBAQEBAQEBAQEBAQEBAQEBAQEBAQEBAQEBAQEBAQEBAQEBAQEBAQEBAQEBAQEBAQEBAQEBAQEBAQEBAQEBAQEBAQEBAQEBAQEBAQEBAQEBAQEBAQEBAQEBAQEBAQEBAQEBAQEBAQEBAQEBAQEBAQEBAQEBAQEBAQEBAQEBAQEBAQEBAQEBAQEBAQEBAQEBAQEBAQEBAQEBAQEBAQEBAQEBAQEBAQEBAQEBAQEBAQEBAQEBAQEBAQEBAQEBAQ==",
          "dtype": "i1"
         },
         "yaxis": "y"
        }
       ],
       "layout": {
        "barmode": "relative",
        "legend": {
         "tracegroupgap": 0
        },
        "template": {
         "data": {
          "bar": [
           {
            "error_x": {
             "color": "#2a3f5f"
            },
            "error_y": {
             "color": "#2a3f5f"
            },
            "marker": {
             "line": {
              "color": "#E5ECF6",
              "width": 0.5
             },
             "pattern": {
              "fillmode": "overlay",
              "size": 10,
              "solidity": 0.2
             }
            },
            "type": "bar"
           }
          ],
          "barpolar": [
           {
            "marker": {
             "line": {
              "color": "#E5ECF6",
              "width": 0.5
             },
             "pattern": {
              "fillmode": "overlay",
              "size": 10,
              "solidity": 0.2
             }
            },
            "type": "barpolar"
           }
          ],
          "carpet": [
           {
            "aaxis": {
             "endlinecolor": "#2a3f5f",
             "gridcolor": "white",
             "linecolor": "white",
             "minorgridcolor": "white",
             "startlinecolor": "#2a3f5f"
            },
            "baxis": {
             "endlinecolor": "#2a3f5f",
             "gridcolor": "white",
             "linecolor": "white",
             "minorgridcolor": "white",
             "startlinecolor": "#2a3f5f"
            },
            "type": "carpet"
           }
          ],
          "choropleth": [
           {
            "colorbar": {
             "outlinewidth": 0,
             "ticks": ""
            },
            "type": "choropleth"
           }
          ],
          "contour": [
           {
            "colorbar": {
             "outlinewidth": 0,
             "ticks": ""
            },
            "colorscale": [
             [
              0,
              "#0d0887"
             ],
             [
              0.1111111111111111,
              "#46039f"
             ],
             [
              0.2222222222222222,
              "#7201a8"
             ],
             [
              0.3333333333333333,
              "#9c179e"
             ],
             [
              0.4444444444444444,
              "#bd3786"
             ],
             [
              0.5555555555555556,
              "#d8576b"
             ],
             [
              0.6666666666666666,
              "#ed7953"
             ],
             [
              0.7777777777777778,
              "#fb9f3a"
             ],
             [
              0.8888888888888888,
              "#fdca26"
             ],
             [
              1,
              "#f0f921"
             ]
            ],
            "type": "contour"
           }
          ],
          "contourcarpet": [
           {
            "colorbar": {
             "outlinewidth": 0,
             "ticks": ""
            },
            "type": "contourcarpet"
           }
          ],
          "heatmap": [
           {
            "colorbar": {
             "outlinewidth": 0,
             "ticks": ""
            },
            "colorscale": [
             [
              0,
              "#0d0887"
             ],
             [
              0.1111111111111111,
              "#46039f"
             ],
             [
              0.2222222222222222,
              "#7201a8"
             ],
             [
              0.3333333333333333,
              "#9c179e"
             ],
             [
              0.4444444444444444,
              "#bd3786"
             ],
             [
              0.5555555555555556,
              "#d8576b"
             ],
             [
              0.6666666666666666,
              "#ed7953"
             ],
             [
              0.7777777777777778,
              "#fb9f3a"
             ],
             [
              0.8888888888888888,
              "#fdca26"
             ],
             [
              1,
              "#f0f921"
             ]
            ],
            "type": "heatmap"
           }
          ],
          "histogram": [
           {
            "marker": {
             "pattern": {
              "fillmode": "overlay",
              "size": 10,
              "solidity": 0.2
             }
            },
            "type": "histogram"
           }
          ],
          "histogram2d": [
           {
            "colorbar": {
             "outlinewidth": 0,
             "ticks": ""
            },
            "colorscale": [
             [
              0,
              "#0d0887"
             ],
             [
              0.1111111111111111,
              "#46039f"
             ],
             [
              0.2222222222222222,
              "#7201a8"
             ],
             [
              0.3333333333333333,
              "#9c179e"
             ],
             [
              0.4444444444444444,
              "#bd3786"
             ],
             [
              0.5555555555555556,
              "#d8576b"
             ],
             [
              0.6666666666666666,
              "#ed7953"
             ],
             [
              0.7777777777777778,
              "#fb9f3a"
             ],
             [
              0.8888888888888888,
              "#fdca26"
             ],
             [
              1,
              "#f0f921"
             ]
            ],
            "type": "histogram2d"
           }
          ],
          "histogram2dcontour": [
           {
            "colorbar": {
             "outlinewidth": 0,
             "ticks": ""
            },
            "colorscale": [
             [
              0,
              "#0d0887"
             ],
             [
              0.1111111111111111,
              "#46039f"
             ],
             [
              0.2222222222222222,
              "#7201a8"
             ],
             [
              0.3333333333333333,
              "#9c179e"
             ],
             [
              0.4444444444444444,
              "#bd3786"
             ],
             [
              0.5555555555555556,
              "#d8576b"
             ],
             [
              0.6666666666666666,
              "#ed7953"
             ],
             [
              0.7777777777777778,
              "#fb9f3a"
             ],
             [
              0.8888888888888888,
              "#fdca26"
             ],
             [
              1,
              "#f0f921"
             ]
            ],
            "type": "histogram2dcontour"
           }
          ],
          "mesh3d": [
           {
            "colorbar": {
             "outlinewidth": 0,
             "ticks": ""
            },
            "type": "mesh3d"
           }
          ],
          "parcoords": [
           {
            "line": {
             "colorbar": {
              "outlinewidth": 0,
              "ticks": ""
             }
            },
            "type": "parcoords"
           }
          ],
          "pie": [
           {
            "automargin": true,
            "type": "pie"
           }
          ],
          "scatter": [
           {
            "fillpattern": {
             "fillmode": "overlay",
             "size": 10,
             "solidity": 0.2
            },
            "type": "scatter"
           }
          ],
          "scatter3d": [
           {
            "line": {
             "colorbar": {
              "outlinewidth": 0,
              "ticks": ""
             }
            },
            "marker": {
             "colorbar": {
              "outlinewidth": 0,
              "ticks": ""
             }
            },
            "type": "scatter3d"
           }
          ],
          "scattercarpet": [
           {
            "marker": {
             "colorbar": {
              "outlinewidth": 0,
              "ticks": ""
             }
            },
            "type": "scattercarpet"
           }
          ],
          "scattergeo": [
           {
            "marker": {
             "colorbar": {
              "outlinewidth": 0,
              "ticks": ""
             }
            },
            "type": "scattergeo"
           }
          ],
          "scattergl": [
           {
            "marker": {
             "colorbar": {
              "outlinewidth": 0,
              "ticks": ""
             }
            },
            "type": "scattergl"
           }
          ],
          "scattermap": [
           {
            "marker": {
             "colorbar": {
              "outlinewidth": 0,
              "ticks": ""
             }
            },
            "type": "scattermap"
           }
          ],
          "scattermapbox": [
           {
            "marker": {
             "colorbar": {
              "outlinewidth": 0,
              "ticks": ""
             }
            },
            "type": "scattermapbox"
           }
          ],
          "scatterpolar": [
           {
            "marker": {
             "colorbar": {
              "outlinewidth": 0,
              "ticks": ""
             }
            },
            "type": "scatterpolar"
           }
          ],
          "scatterpolargl": [
           {
            "marker": {
             "colorbar": {
              "outlinewidth": 0,
              "ticks": ""
             }
            },
            "type": "scatterpolargl"
           }
          ],
          "scatterternary": [
           {
            "marker": {
             "colorbar": {
              "outlinewidth": 0,
              "ticks": ""
             }
            },
            "type": "scatterternary"
           }
          ],
          "surface": [
           {
            "colorbar": {
             "outlinewidth": 0,
             "ticks": ""
            },
            "colorscale": [
             [
              0,
              "#0d0887"
             ],
             [
              0.1111111111111111,
              "#46039f"
             ],
             [
              0.2222222222222222,
              "#7201a8"
             ],
             [
              0.3333333333333333,
              "#9c179e"
             ],
             [
              0.4444444444444444,
              "#bd3786"
             ],
             [
              0.5555555555555556,
              "#d8576b"
             ],
             [
              0.6666666666666666,
              "#ed7953"
             ],
             [
              0.7777777777777778,
              "#fb9f3a"
             ],
             [
              0.8888888888888888,
              "#fdca26"
             ],
             [
              1,
              "#f0f921"
             ]
            ],
            "type": "surface"
           }
          ],
          "table": [
           {
            "cells": {
             "fill": {
              "color": "#EBF0F8"
             },
             "line": {
              "color": "white"
             }
            },
            "header": {
             "fill": {
              "color": "#C8D4E3"
             },
             "line": {
              "color": "white"
             }
            },
            "type": "table"
           }
          ]
         },
         "layout": {
          "annotationdefaults": {
           "arrowcolor": "#2a3f5f",
           "arrowhead": 0,
           "arrowwidth": 1
          },
          "autotypenumbers": "strict",
          "coloraxis": {
           "colorbar": {
            "outlinewidth": 0,
            "ticks": ""
           }
          },
          "colorscale": {
           "diverging": [
            [
             0,
             "#8e0152"
            ],
            [
             0.1,
             "#c51b7d"
            ],
            [
             0.2,
             "#de77ae"
            ],
            [
             0.3,
             "#f1b6da"
            ],
            [
             0.4,
             "#fde0ef"
            ],
            [
             0.5,
             "#f7f7f7"
            ],
            [
             0.6,
             "#e6f5d0"
            ],
            [
             0.7,
             "#b8e186"
            ],
            [
             0.8,
             "#7fbc41"
            ],
            [
             0.9,
             "#4d9221"
            ],
            [
             1,
             "#276419"
            ]
           ],
           "sequential": [
            [
             0,
             "#0d0887"
            ],
            [
             0.1111111111111111,
             "#46039f"
            ],
            [
             0.2222222222222222,
             "#7201a8"
            ],
            [
             0.3333333333333333,
             "#9c179e"
            ],
            [
             0.4444444444444444,
             "#bd3786"
            ],
            [
             0.5555555555555556,
             "#d8576b"
            ],
            [
             0.6666666666666666,
             "#ed7953"
            ],
            [
             0.7777777777777778,
             "#fb9f3a"
            ],
            [
             0.8888888888888888,
             "#fdca26"
            ],
            [
             1,
             "#f0f921"
            ]
           ],
           "sequentialminus": [
            [
             0,
             "#0d0887"
            ],
            [
             0.1111111111111111,
             "#46039f"
            ],
            [
             0.2222222222222222,
             "#7201a8"
            ],
            [
             0.3333333333333333,
             "#9c179e"
            ],
            [
             0.4444444444444444,
             "#bd3786"
            ],
            [
             0.5555555555555556,
             "#d8576b"
            ],
            [
             0.6666666666666666,
             "#ed7953"
            ],
            [
             0.7777777777777778,
             "#fb9f3a"
            ],
            [
             0.8888888888888888,
             "#fdca26"
            ],
            [
             1,
             "#f0f921"
            ]
           ]
          },
          "colorway": [
           "#636efa",
           "#EF553B",
           "#00cc96",
           "#ab63fa",
           "#FFA15A",
           "#19d3f3",
           "#FF6692",
           "#B6E880",
           "#FF97FF",
           "#FECB52"
          ],
          "font": {
           "color": "#2a3f5f"
          },
          "geo": {
           "bgcolor": "white",
           "lakecolor": "white",
           "landcolor": "#E5ECF6",
           "showlakes": true,
           "showland": true,
           "subunitcolor": "white"
          },
          "hoverlabel": {
           "align": "left"
          },
          "hovermode": "closest",
          "mapbox": {
           "style": "light"
          },
          "paper_bgcolor": "white",
          "plot_bgcolor": "#E5ECF6",
          "polar": {
           "angularaxis": {
            "gridcolor": "white",
            "linecolor": "white",
            "ticks": ""
           },
           "bgcolor": "#E5ECF6",
           "radialaxis": {
            "gridcolor": "white",
            "linecolor": "white",
            "ticks": ""
           }
          },
          "scene": {
           "xaxis": {
            "backgroundcolor": "#E5ECF6",
            "gridcolor": "white",
            "gridwidth": 2,
            "linecolor": "white",
            "showbackground": true,
            "ticks": "",
            "zerolinecolor": "white"
           },
           "yaxis": {
            "backgroundcolor": "#E5ECF6",
            "gridcolor": "white",
            "gridwidth": 2,
            "linecolor": "white",
            "showbackground": true,
            "ticks": "",
            "zerolinecolor": "white"
           },
           "zaxis": {
            "backgroundcolor": "#E5ECF6",
            "gridcolor": "white",
            "gridwidth": 2,
            "linecolor": "white",
            "showbackground": true,
            "ticks": "",
            "zerolinecolor": "white"
           }
          },
          "shapedefaults": {
           "line": {
            "color": "#2a3f5f"
           }
          },
          "ternary": {
           "aaxis": {
            "gridcolor": "white",
            "linecolor": "white",
            "ticks": ""
           },
           "baxis": {
            "gridcolor": "white",
            "linecolor": "white",
            "ticks": ""
           },
           "bgcolor": "#E5ECF6",
           "caxis": {
            "gridcolor": "white",
            "linecolor": "white",
            "ticks": ""
           }
          },
          "title": {
           "x": 0.05
          },
          "xaxis": {
           "automargin": true,
           "gridcolor": "white",
           "linecolor": "white",
           "ticks": "",
           "title": {
            "standoff": 15
           },
           "zerolinecolor": "white",
           "zerolinewidth": 2
          },
          "yaxis": {
           "automargin": true,
           "gridcolor": "white",
           "linecolor": "white",
           "ticks": "",
           "title": {
            "standoff": 15
           },
           "zerolinecolor": "white",
           "zerolinewidth": 2
          }
         }
        },
        "title": {
         "text": "Top 10 Countries of Respondents"
        },
        "xaxis": {
         "anchor": "y",
         "domain": [
          0,
          1
         ],
         "title": {
          "text": "Country"
         }
        },
        "yaxis": {
         "anchor": "x",
         "domain": [
          0,
          1
         ],
         "title": {
          "text": "count"
         }
        }
       }
      }
     },
     "metadata": {},
     "output_type": "display_data"
    }
   ],
   "source": [
    "top_countries = df['Country'].value_counts().head(10).index\n",
    "fig = px.bar(df[df['Country'].isin(top_countries)], x='Country', title='Top 10 Countries of Respondents')\n",
    "fig.show()"
   ]
  },
  {
   "cell_type": "markdown",
   "id": "8f0af8a8",
   "metadata": {},
   "source": [
    "### 4.Company Size Distribution"
   ]
  },
  {
   "cell_type": "code",
   "execution_count": 32,
   "id": "736fb440",
   "metadata": {},
   "outputs": [
    {
     "data": {
      "application/vnd.plotly.v1+json": {
       "config": {
        "plotlyServerURL": "https://plot.ly"
       },
       "data": [
        {
         "hovertemplate": "no_employees=%{x}<br>count=%{y}<extra></extra>",
         "legendgroup": "",
         "marker": {
          "color": "#636efa",
          "pattern": {
           "shape": ""
          }
         },
         "name": "",
         "orientation": "v",
         "showlegend": false,
         "textposition": "auto",
         "type": "bar",
         "x": [
          "6-25",
          "More than 1000",
          "6-25",
          "26-100",
          null,
          "6-25",
          "1-5",
          "1-5",
          null,
          "26-100",
          "6-25",
          null,
          "26-100",
          null,
          "6-25",
          "26-100",
          "26-100",
          "6-25",
          "1-5",
          "6-25",
          null,
          "1-5",
          "26-100",
          "More than 1000",
          "26-100",
          "More than 1000",
          "1-5",
          "6-25",
          "26-100",
          "6-25",
          "6-25",
          "1-5",
          null,
          "26-100",
          "1-5",
          "6-25",
          "1-5",
          null,
          null,
          "More than 1000",
          "6-25",
          "More than 1000",
          "1-5",
          "6-25",
          "26-100",
          "26-100",
          "26-100",
          "6-25",
          "1-5",
          "26-100",
          "6-25",
          null,
          null,
          "1-5",
          null,
          "26-100",
          "6-25",
          "26-100",
          "26-100",
          "6-25",
          "More than 1000",
          "26-100",
          null,
          "26-100",
          "6-25",
          "More than 1000",
          "1-5",
          null,
          "26-100",
          "1-5",
          "26-100",
          "6-25",
          "More than 1000",
          "26-100",
          "More than 1000",
          "1-5",
          "More than 1000",
          "1-5",
          "26-100",
          "6-25",
          null,
          "26-100",
          "26-100",
          "1-5",
          "More than 1000",
          "26-100",
          "6-25",
          null,
          "26-100",
          null,
          null,
          "26-100",
          "26-100",
          "26-100",
          "26-100",
          "26-100",
          "26-100",
          "6-25",
          "6-25",
          "1-5",
          "26-100",
          null,
          "26-100",
          "26-100",
          "More than 1000",
          "6-25",
          "26-100",
          "6-25",
          "6-25",
          "26-100",
          null,
          "26-100",
          "6-25",
          null,
          "More than 1000",
          "6-25",
          "1-5",
          "6-25",
          "1-5",
          "26-100",
          "More than 1000",
          "26-100",
          "6-25",
          "6-25",
          null,
          null,
          "6-25",
          null,
          "6-25",
          "6-25",
          "More than 1000",
          "1-5",
          "26-100",
          "26-100",
          "26-100",
          "26-100",
          "6-25",
          "More than 1000",
          "6-25",
          "6-25",
          null,
          "More than 1000",
          "26-100",
          "More than 1000",
          "More than 1000",
          null,
          "6-25",
          "6-25",
          null,
          null,
          "1-5",
          "26-100",
          "6-25",
          "6-25",
          "More than 1000",
          "26-100",
          "More than 1000",
          "26-100",
          "26-100",
          "26-100",
          "More than 1000",
          null,
          "More than 1000",
          "6-25",
          "1-5",
          "1-5",
          "26-100",
          "6-25",
          "1-5",
          null,
          "More than 1000",
          "6-25",
          "More than 1000",
          "6-25",
          "More than 1000",
          "26-100",
          null,
          "6-25",
          "1-5",
          "6-25",
          "6-25",
          "6-25",
          "26-100",
          "More than 1000",
          "More than 1000",
          null,
          "6-25",
          "6-25",
          "1-5",
          "More than 1000",
          "1-5",
          "26-100",
          "26-100",
          "6-25",
          null,
          "6-25",
          null,
          "More than 1000",
          "6-25",
          "More than 1000",
          "26-100",
          null,
          "6-25",
          "1-5",
          null,
          null,
          "6-25",
          "26-100",
          "26-100",
          null,
          "26-100",
          "26-100",
          "1-5",
          "6-25",
          null,
          "1-5",
          "6-25",
          "6-25",
          null,
          "26-100",
          "6-25",
          "26-100",
          "6-25",
          "More than 1000",
          "26-100",
          "1-5",
          "1-5",
          "1-5",
          "6-25",
          "1-5",
          "26-100",
          null,
          "More than 1000",
          "26-100",
          "26-100",
          "26-100",
          "26-100",
          "6-25",
          "More than 1000",
          "6-25",
          "6-25",
          "1-5",
          "26-100",
          "6-25",
          "More than 1000",
          "More than 1000",
          "6-25",
          "6-25",
          "1-5",
          null,
          "26-100",
          null,
          null,
          null,
          "6-25",
          "6-25",
          "6-25",
          "6-25",
          "1-5",
          "6-25",
          "6-25",
          "6-25",
          null,
          "6-25",
          "6-25",
          "6-25",
          "26-100",
          "1-5",
          "26-100",
          "6-25",
          "1-5",
          null,
          "More than 1000",
          "26-100",
          "26-100",
          null,
          "26-100",
          "6-25",
          null,
          null,
          "6-25",
          "6-25",
          "6-25",
          "26-100",
          null,
          "6-25",
          "More than 1000",
          "26-100",
          "1-5",
          "More than 1000",
          "1-5",
          "More than 1000",
          "More than 1000",
          "More than 1000",
          "More than 1000",
          null,
          "26-100",
          "More than 1000",
          "More than 1000",
          "More than 1000",
          "More than 1000",
          "More than 1000",
          null,
          null,
          "More than 1000",
          "6-25",
          "26-100",
          "26-100",
          "26-100",
          null,
          "6-25",
          null,
          "1-5",
          "More than 1000",
          "More than 1000",
          "6-25",
          null,
          "More than 1000",
          "More than 1000",
          "26-100",
          null,
          "More than 1000",
          null,
          "More than 1000",
          "6-25",
          "More than 1000",
          "More than 1000",
          "More than 1000",
          "1-5",
          "1-5",
          "26-100",
          "More than 1000",
          null,
          "1-5",
          "6-25",
          "26-100",
          "26-100",
          "More than 1000",
          "More than 1000",
          "26-100",
          "26-100",
          "26-100",
          "More than 1000",
          "More than 1000",
          "1-5",
          "26-100",
          null,
          "More than 1000",
          "More than 1000",
          "More than 1000",
          "6-25",
          "More than 1000",
          "6-25",
          "More than 1000",
          "6-25",
          null,
          "26-100",
          "More than 1000",
          null,
          "1-5",
          "6-25",
          "26-100",
          null,
          "More than 1000",
          "6-25",
          "More than 1000",
          "More than 1000",
          null,
          null,
          "6-25",
          "More than 1000",
          "More than 1000",
          "More than 1000",
          "26-100",
          "26-100",
          "26-100",
          "More than 1000",
          "26-100",
          "More than 1000",
          "More than 1000",
          null,
          "More than 1000",
          "26-100",
          "26-100",
          "6-25",
          "More than 1000",
          null,
          "1-5",
          "6-25",
          "More than 1000",
          "1-5",
          "More than 1000",
          "More than 1000",
          "26-100",
          null,
          "More than 1000",
          "26-100",
          "6-25",
          null,
          null,
          "6-25",
          "26-100",
          "More than 1000",
          null,
          "26-100",
          "6-25",
          "26-100",
          "More than 1000",
          "6-25",
          null,
          "More than 1000",
          "More than 1000",
          "More than 1000",
          "More than 1000",
          null,
          "6-25",
          null,
          "6-25",
          "6-25",
          "1-5",
          "1-5",
          "26-100",
          "6-25",
          "6-25",
          "More than 1000",
          "6-25",
          null,
          "More than 1000",
          "More than 1000",
          "More than 1000",
          null,
          "6-25",
          "1-5",
          "26-100",
          "26-100",
          "6-25",
          "More than 1000",
          null,
          "26-100",
          "1-5",
          "6-25",
          "More than 1000",
          "More than 1000",
          null,
          "6-25",
          "More than 1000",
          "More than 1000",
          null,
          "26-100",
          "More than 1000",
          "6-25",
          "More than 1000",
          "More than 1000",
          "6-25",
          null,
          "More than 1000",
          "6-25",
          null,
          "6-25",
          null,
          "26-100",
          null,
          "6-25",
          "26-100",
          "6-25",
          "26-100",
          "More than 1000",
          "More than 1000",
          "6-25",
          null,
          null,
          "More than 1000",
          "6-25",
          "More than 1000",
          "6-25",
          "More than 1000",
          "6-25",
          "26-100",
          null,
          null,
          "26-100",
          "More than 1000",
          "1-5",
          "6-25",
          "6-25",
          "26-100",
          "26-100",
          "1-5",
          "6-25",
          "6-25",
          "More than 1000",
          null,
          "26-100",
          "1-5",
          "26-100",
          "More than 1000",
          "More than 1000",
          "1-5",
          "More than 1000",
          "6-25",
          "26-100",
          "More than 1000",
          "26-100",
          "More than 1000",
          null,
          "More than 1000",
          null,
          "6-25",
          "More than 1000",
          "More than 1000",
          null,
          "6-25",
          "More than 1000",
          "26-100",
          "More than 1000",
          "6-25",
          null,
          "More than 1000",
          "6-25",
          "26-100",
          "More than 1000",
          "More than 1000",
          "More than 1000",
          "26-100",
          "1-5",
          null,
          "1-5",
          "26-100",
          "6-25",
          null,
          "6-25",
          null,
          "1-5",
          "6-25",
          "26-100",
          "6-25",
          "26-100",
          "More than 1000",
          "6-25",
          null,
          null,
          null,
          "6-25",
          null,
          null,
          "6-25",
          "26-100",
          "More than 1000",
          "More than 1000",
          "26-100",
          null,
          "6-25",
          "1-5",
          "26-100",
          null,
          "More than 1000",
          "More than 1000",
          "26-100",
          "6-25",
          "More than 1000",
          "6-25",
          null,
          "More than 1000",
          "26-100",
          "26-100",
          "More than 1000",
          null,
          "More than 1000",
          "More than 1000",
          null,
          "1-5",
          "More than 1000",
          null,
          "26-100",
          "26-100",
          "26-100",
          "26-100",
          "6-25",
          "26-100",
          "26-100",
          "More than 1000",
          null,
          "More than 1000",
          "6-25",
          "1-5",
          "26-100",
          null,
          "26-100",
          "6-25",
          "6-25",
          "26-100",
          "26-100",
          "1-5",
          "More than 1000",
          null,
          null,
          null,
          "26-100",
          null,
          null,
          null,
          "6-25",
          null,
          "1-5",
          "More than 1000",
          null,
          "1-5",
          "26-100",
          "26-100",
          "1-5",
          "6-25",
          "6-25",
          "More than 1000",
          "26-100",
          "More than 1000",
          "6-25",
          "26-100",
          null,
          "26-100",
          null,
          null,
          "1-5",
          "26-100",
          "More than 1000",
          null,
          null,
          null,
          "6-25",
          "26-100",
          "26-100",
          null,
          "6-25",
          "6-25",
          null,
          null,
          "26-100",
          "6-25",
          "26-100",
          "1-5",
          "1-5",
          "26-100",
          "26-100",
          "More than 1000",
          "26-100",
          null,
          "6-25",
          "26-100",
          "26-100",
          null,
          "6-25",
          "More than 1000",
          null,
          "1-5",
          null,
          null,
          "6-25",
          "1-5",
          "1-5",
          "More than 1000",
          "6-25",
          "More than 1000",
          "1-5",
          "More than 1000",
          "1-5",
          "More than 1000",
          "26-100",
          "1-5",
          "More than 1000",
          "26-100",
          null,
          "26-100",
          "6-25",
          null,
          null,
          "26-100",
          "26-100",
          "26-100",
          "6-25",
          "1-5",
          "1-5",
          "26-100",
          "More than 1000",
          "26-100",
          "More than 1000",
          "6-25",
          "More than 1000",
          "More than 1000",
          null,
          "26-100",
          "6-25",
          "6-25",
          "1-5",
          "26-100",
          "More than 1000",
          "6-25",
          "26-100",
          null,
          "More than 1000",
          null,
          "6-25",
          null,
          "1-5",
          null,
          "26-100",
          "26-100",
          null,
          "26-100",
          "1-5",
          "26-100",
          "26-100",
          "6-25",
          "6-25",
          null,
          "6-25",
          "1-5",
          "26-100",
          null,
          "6-25",
          "6-25",
          "26-100",
          "6-25",
          "More than 1000",
          "1-5",
          "6-25",
          "1-5",
          null,
          "6-25",
          "26-100",
          "More than 1000",
          "1-5",
          "6-25",
          "26-100",
          "6-25",
          "26-100",
          null,
          null,
          "More than 1000",
          "26-100",
          "6-25",
          "More than 1000",
          "26-100",
          "6-25",
          null,
          "26-100",
          null,
          "26-100",
          "6-25",
          "6-25",
          "6-25",
          "26-100",
          "26-100",
          "More than 1000",
          null,
          "6-25",
          "More than 1000",
          "26-100",
          "26-100",
          "More than 1000",
          "26-100",
          "More than 1000",
          "1-5",
          "26-100",
          "1-5",
          "1-5",
          null,
          "6-25",
          "1-5",
          "26-100",
          "6-25",
          "26-100",
          null,
          "1-5",
          "More than 1000",
          "More than 1000",
          "6-25",
          null,
          "6-25",
          "More than 1000",
          "More than 1000",
          "6-25",
          "26-100",
          "6-25",
          "More than 1000",
          "1-5",
          "6-25",
          "More than 1000",
          "1-5",
          "26-100",
          null,
          "More than 1000",
          null,
          "More than 1000",
          "6-25",
          null,
          "More than 1000",
          "26-100",
          null,
          "26-100",
          "26-100",
          null,
          null,
          "6-25",
          "26-100",
          "More than 1000",
          "26-100",
          "26-100",
          null,
          "6-25",
          "26-100",
          "More than 1000",
          "6-25",
          null,
          "1-5",
          "6-25",
          "1-5",
          "26-100",
          null,
          "1-5",
          "6-25",
          "1-5",
          null,
          "1-5",
          "More than 1000",
          "More than 1000",
          "More than 1000",
          "26-100",
          "26-100",
          "1-5",
          "6-25",
          "1-5",
          "More than 1000",
          null,
          "6-25",
          null,
          "1-5",
          null,
          "6-25",
          null,
          "More than 1000",
          "More than 1000",
          "More than 1000",
          "6-25",
          null,
          "More than 1000",
          "26-100",
          "26-100",
          null,
          "1-5",
          "1-5",
          "More than 1000",
          "1-5",
          "26-100",
          "6-25",
          "6-25",
          "6-25",
          "More than 1000",
          "More than 1000",
          "6-25",
          null,
          "6-25",
          "6-25",
          "1-5",
          null,
          "6-25",
          "More than 1000",
          "6-25",
          "6-25",
          "1-5",
          "1-5",
          "More than 1000",
          "More than 1000",
          null,
          "26-100",
          "More than 1000",
          null,
          "6-25",
          "26-100",
          "More than 1000",
          "More than 1000",
          "26-100",
          "26-100",
          "26-100",
          null,
          "1-5",
          "26-100",
          null,
          "6-25",
          null,
          null,
          "More than 1000",
          "6-25",
          "1-5",
          null,
          null,
          null,
          null,
          "More than 1000",
          "1-5",
          "1-5",
          "26-100",
          "26-100",
          "26-100",
          "1-5",
          "1-5",
          "1-5",
          "More than 1000",
          "More than 1000",
          "More than 1000",
          null,
          "More than 1000",
          "6-25",
          "6-25",
          "6-25",
          "26-100",
          "6-25",
          "26-100",
          "1-5",
          "1-5",
          "More than 1000",
          "More than 1000",
          "6-25",
          "26-100",
          "26-100",
          "More than 1000",
          null,
          "More than 1000",
          null,
          "26-100",
          null,
          null,
          "6-25",
          "1-5",
          null,
          null,
          "More than 1000",
          "1-5",
          "6-25",
          "6-25",
          "More than 1000",
          "6-25",
          "More than 1000",
          "More than 1000",
          null,
          null,
          "More than 1000",
          "26-100",
          "More than 1000",
          "More than 1000",
          "More than 1000",
          "6-25",
          "26-100",
          "26-100",
          "1-5",
          "6-25",
          "6-25",
          "26-100",
          "More than 1000",
          "1-5",
          "More than 1000",
          "More than 1000",
          "6-25",
          "6-25",
          "26-100",
          "1-5",
          "More than 1000",
          "1-5",
          "1-5",
          "6-25",
          null,
          "1-5",
          "More than 1000",
          "6-25",
          "6-25",
          "More than 1000",
          "6-25",
          null,
          "More than 1000",
          null,
          "6-25",
          "26-100",
          "1-5",
          "1-5",
          "26-100",
          null,
          "26-100",
          "6-25",
          null,
          "6-25",
          "26-100",
          "1-5",
          "1-5",
          "6-25",
          "26-100",
          "1-5",
          "26-100",
          "1-5",
          null,
          "More than 1000",
          null,
          "6-25",
          "6-25",
          "6-25",
          null,
          "26-100",
          "1-5",
          null,
          null,
          null,
          "6-25",
          null,
          "More than 1000",
          "1-5",
          "More than 1000",
          "26-100",
          "More than 1000",
          null,
          "6-25",
          "More than 1000",
          "26-100",
          "26-100",
          "26-100",
          null,
          "6-25",
          "6-25",
          "26-100",
          "6-25",
          "More than 1000",
          "1-5",
          null,
          "More than 1000",
          "6-25",
          "6-25",
          "More than 1000",
          "26-100",
          null,
          "6-25",
          "26-100",
          "More than 1000",
          "1-5",
          "6-25",
          "26-100",
          "6-25",
          "More than 1000",
          "6-25",
          "More than 1000",
          null,
          "6-25",
          null,
          "1-5",
          "1-5",
          "More than 1000",
          "26-100",
          "More than 1000",
          "1-5",
          "More than 1000",
          null,
          "6-25",
          "6-25",
          "More than 1000",
          "6-25",
          "More than 1000",
          null,
          "1-5",
          "6-25",
          "6-25",
          "6-25",
          "6-25",
          "More than 1000",
          "26-100",
          "26-100",
          "6-25",
          "More than 1000",
          "More than 1000",
          "More than 1000",
          null,
          "More than 1000",
          "1-5",
          "More than 1000",
          "26-100",
          "1-5",
          "1-5",
          "1-5",
          "More than 1000",
          "26-100",
          "1-5",
          "6-25",
          "More than 1000",
          "More than 1000",
          "26-100",
          null,
          "1-5",
          null,
          null,
          "More than 1000",
          null,
          "1-5",
          "6-25",
          "More than 1000",
          "More than 1000",
          null,
          "6-25",
          null,
          "1-5",
          "6-25",
          "6-25",
          "6-25",
          "26-100",
          "26-100",
          "More than 1000",
          "6-25",
          "6-25",
          "6-25",
          "6-25",
          "1-5",
          "More than 1000",
          "26-100",
          null,
          "6-25",
          "More than 1000",
          "1-5",
          "1-5",
          "More than 1000",
          null,
          "26-100",
          "6-25",
          "1-5",
          "26-100",
          "1-5",
          "6-25",
          "More than 1000",
          "26-100",
          "26-100",
          "More than 1000",
          "26-100",
          "26-100",
          "More than 1000",
          "26-100",
          "6-25",
          "6-25",
          "More than 1000",
          "26-100",
          "More than 1000",
          "More than 1000",
          "More than 1000",
          "More than 1000",
          "26-100",
          "1-5",
          "More than 1000",
          "More than 1000",
          "6-25",
          "More than 1000",
          "6-25",
          null,
          "26-100",
          "26-100",
          "6-25",
          "1-5",
          "6-25",
          "6-25",
          "More than 1000",
          "26-100",
          null,
          "26-100",
          "6-25",
          null,
          "More than 1000",
          "26-100",
          "More than 1000",
          "6-25",
          "More than 1000",
          "More than 1000",
          "More than 1000",
          "26-100",
          "1-5",
          "26-100",
          "6-25",
          null,
          "26-100",
          "1-5",
          "26-100",
          "26-100",
          "More than 1000",
          null,
          "1-5",
          "6-25",
          null,
          "1-5",
          "26-100",
          "26-100",
          "6-25",
          null,
          "More than 1000",
          "26-100",
          "26-100",
          "26-100",
          null,
          "1-5",
          "6-25",
          "26-100",
          null,
          null,
          "6-25",
          "1-5",
          null,
          "1-5",
          "6-25",
          "26-100",
          "1-5",
          null,
          "26-100",
          "1-5",
          "More than 1000",
          "More than 1000",
          "More than 1000",
          "26-100",
          "6-25",
          "More than 1000",
          "26-100",
          "6-25",
          "More than 1000",
          "26-100",
          null,
          "1-5",
          "26-100",
          "More than 1000",
          "26-100",
          "More than 1000",
          "More than 1000",
          "26-100",
          "6-25",
          "6-25",
          "6-25",
          "More than 1000",
          "6-25",
          "6-25",
          "26-100",
          "More than 1000",
          "26-100",
          "More than 1000",
          null,
          null,
          "6-25",
          "26-100",
          "More than 1000",
          "More than 1000",
          null,
          null,
          "6-25",
          "26-100",
          "26-100",
          "26-100",
          null,
          null,
          "More than 1000",
          "26-100",
          "26-100",
          "More than 1000",
          null,
          "26-100"
         ],
         "xaxis": "x",
         "y": {
          "bdata": "AQEBAQEBAQEBAQEBAQEBAQEBAQEBAQEBAQEBAQEBAQEBAQEBAQEBAQEBAQEBAQEBAQEBAQEBAQEBAQEBAQEBAQEBAQEBAQEBAQEBAQEBAQEBAQEBAQEBAQEBAQEBAQEBAQEBAQEBAQEBAQEBAQEBAQEBAQEBAQEBAQEBAQEBAQEBAQEBAQEBAQEBAQEBAQEBAQEBAQEBAQEBAQEBAQEBAQEBAQEBAQEBAQEBAQEBAQEBAQEBAQEBAQEBAQEBAQEBAQEBAQEBAQEBAQEBAQEBAQEBAQEBAQEBAQEBAQEBAQEBAQEBAQEBAQEBAQEBAQEBAQEBAQEBAQEBAQEBAQEBAQEBAQEBAQEBAQEBAQEBAQEBAQEBAQEBAQEBAQEBAQEBAQEBAQEBAQEBAQEBAQEBAQEBAQEBAQEBAQEBAQEBAQEBAQEBAQEBAQEBAQEBAQEBAQEBAQEBAQEBAQEBAQEBAQEBAQEBAQEBAQEBAQEBAQEBAQEBAQEBAQEBAQEBAQEBAQEBAQEBAQEBAQEBAQEBAQEBAQEBAQEBAQEBAQEBAQEBAQEBAQEBAQEBAQEBAQEBAQEBAQEBAQEBAQEBAQEBAQEBAQEBAQEBAQEBAQEBAQEBAQEBAQEBAQEBAQEBAQEBAQEBAQEBAQEBAQEBAQEBAQEBAQEBAQEBAQEBAQEBAQEBAQEBAQEBAQEBAQEBAQEBAQEBAQEBAQEBAQEBAQEBAQEBAQEBAQEBAQEBAQEBAQEBAQEBAQEBAQEBAQEBAQEBAQEBAQEBAQEBAQEBAQEBAQEBAQEBAQEBAQEBAQEBAQEBAQEBAQEBAQEBAQEBAQEBAQEBAQEBAQEBAQEBAQEBAQEBAQEBAQEBAQEBAQEBAQEBAQEBAQEBAQEBAQEBAQEBAQEBAQEBAQEBAQEBAQEBAQEBAQEBAQEBAQEBAQEBAQEBAQEBAQEBAQEBAQEBAQEBAQEBAQEBAQEBAQEBAQEBAQEBAQEBAQEBAQEBAQEBAQEBAQEBAQEBAQEBAQEBAQEBAQEBAQEBAQEBAQEBAQEBAQEBAQEBAQEBAQEBAQEBAQEBAQEBAQEBAQEBAQEBAQEBAQEBAQEBAQEBAQEBAQEBAQEBAQEBAQEBAQEBAQEBAQEBAQEBAQEBAQEBAQEBAQEBAQEBAQEBAQEBAQEBAQEBAQEBAQEBAQEBAQEBAQEBAQEBAQEBAQEBAQEBAQEBAQEBAQEBAQEBAQEBAQEBAQEBAQEBAQEBAQEBAQEBAQEBAQEBAQEBAQEBAQEBAQEBAQEBAQEBAQEBAQEBAQEBAQEBAQEBAQEBAQEBAQEBAQEBAQEBAQEBAQEBAQEBAQEBAQEBAQEBAQEBAQEBAQEBAQEBAQEBAQEBAQEBAQEBAQEBAQEBAQEBAQEBAQEBAQEBAQEBAQEBAQEBAQEBAQEBAQEBAQEBAQEBAQEBAQEBAQEBAQEBAQEBAQEBAQEBAQEBAQEBAQEBAQEBAQEBAQEBAQEBAQEBAQEBAQEBAQEBAQEBAQEBAQEBAQEBAQEBAQEBAQEBAQEBAQEBAQEBAQEBAQEBAQEBAQEBAQEBAQEBAQEBAQEBAQEBAQEBAQEBAQEBAQEBAQEBAQEBAQEBAQEBAQEBAQEBAQEBAQEBAQEBAQEBAQEBAQEBAQEBAQEBAQEBAQEBAQEBAQEBAQEBAQE=",
          "dtype": "i1"
         },
         "yaxis": "y"
        }
       ],
       "layout": {
        "barmode": "relative",
        "legend": {
         "tracegroupgap": 0
        },
        "template": {
         "data": {
          "bar": [
           {
            "error_x": {
             "color": "#2a3f5f"
            },
            "error_y": {
             "color": "#2a3f5f"
            },
            "marker": {
             "line": {
              "color": "#E5ECF6",
              "width": 0.5
             },
             "pattern": {
              "fillmode": "overlay",
              "size": 10,
              "solidity": 0.2
             }
            },
            "type": "bar"
           }
          ],
          "barpolar": [
           {
            "marker": {
             "line": {
              "color": "#E5ECF6",
              "width": 0.5
             },
             "pattern": {
              "fillmode": "overlay",
              "size": 10,
              "solidity": 0.2
             }
            },
            "type": "barpolar"
           }
          ],
          "carpet": [
           {
            "aaxis": {
             "endlinecolor": "#2a3f5f",
             "gridcolor": "white",
             "linecolor": "white",
             "minorgridcolor": "white",
             "startlinecolor": "#2a3f5f"
            },
            "baxis": {
             "endlinecolor": "#2a3f5f",
             "gridcolor": "white",
             "linecolor": "white",
             "minorgridcolor": "white",
             "startlinecolor": "#2a3f5f"
            },
            "type": "carpet"
           }
          ],
          "choropleth": [
           {
            "colorbar": {
             "outlinewidth": 0,
             "ticks": ""
            },
            "type": "choropleth"
           }
          ],
          "contour": [
           {
            "colorbar": {
             "outlinewidth": 0,
             "ticks": ""
            },
            "colorscale": [
             [
              0,
              "#0d0887"
             ],
             [
              0.1111111111111111,
              "#46039f"
             ],
             [
              0.2222222222222222,
              "#7201a8"
             ],
             [
              0.3333333333333333,
              "#9c179e"
             ],
             [
              0.4444444444444444,
              "#bd3786"
             ],
             [
              0.5555555555555556,
              "#d8576b"
             ],
             [
              0.6666666666666666,
              "#ed7953"
             ],
             [
              0.7777777777777778,
              "#fb9f3a"
             ],
             [
              0.8888888888888888,
              "#fdca26"
             ],
             [
              1,
              "#f0f921"
             ]
            ],
            "type": "contour"
           }
          ],
          "contourcarpet": [
           {
            "colorbar": {
             "outlinewidth": 0,
             "ticks": ""
            },
            "type": "contourcarpet"
           }
          ],
          "heatmap": [
           {
            "colorbar": {
             "outlinewidth": 0,
             "ticks": ""
            },
            "colorscale": [
             [
              0,
              "#0d0887"
             ],
             [
              0.1111111111111111,
              "#46039f"
             ],
             [
              0.2222222222222222,
              "#7201a8"
             ],
             [
              0.3333333333333333,
              "#9c179e"
             ],
             [
              0.4444444444444444,
              "#bd3786"
             ],
             [
              0.5555555555555556,
              "#d8576b"
             ],
             [
              0.6666666666666666,
              "#ed7953"
             ],
             [
              0.7777777777777778,
              "#fb9f3a"
             ],
             [
              0.8888888888888888,
              "#fdca26"
             ],
             [
              1,
              "#f0f921"
             ]
            ],
            "type": "heatmap"
           }
          ],
          "histogram": [
           {
            "marker": {
             "pattern": {
              "fillmode": "overlay",
              "size": 10,
              "solidity": 0.2
             }
            },
            "type": "histogram"
           }
          ],
          "histogram2d": [
           {
            "colorbar": {
             "outlinewidth": 0,
             "ticks": ""
            },
            "colorscale": [
             [
              0,
              "#0d0887"
             ],
             [
              0.1111111111111111,
              "#46039f"
             ],
             [
              0.2222222222222222,
              "#7201a8"
             ],
             [
              0.3333333333333333,
              "#9c179e"
             ],
             [
              0.4444444444444444,
              "#bd3786"
             ],
             [
              0.5555555555555556,
              "#d8576b"
             ],
             [
              0.6666666666666666,
              "#ed7953"
             ],
             [
              0.7777777777777778,
              "#fb9f3a"
             ],
             [
              0.8888888888888888,
              "#fdca26"
             ],
             [
              1,
              "#f0f921"
             ]
            ],
            "type": "histogram2d"
           }
          ],
          "histogram2dcontour": [
           {
            "colorbar": {
             "outlinewidth": 0,
             "ticks": ""
            },
            "colorscale": [
             [
              0,
              "#0d0887"
             ],
             [
              0.1111111111111111,
              "#46039f"
             ],
             [
              0.2222222222222222,
              "#7201a8"
             ],
             [
              0.3333333333333333,
              "#9c179e"
             ],
             [
              0.4444444444444444,
              "#bd3786"
             ],
             [
              0.5555555555555556,
              "#d8576b"
             ],
             [
              0.6666666666666666,
              "#ed7953"
             ],
             [
              0.7777777777777778,
              "#fb9f3a"
             ],
             [
              0.8888888888888888,
              "#fdca26"
             ],
             [
              1,
              "#f0f921"
             ]
            ],
            "type": "histogram2dcontour"
           }
          ],
          "mesh3d": [
           {
            "colorbar": {
             "outlinewidth": 0,
             "ticks": ""
            },
            "type": "mesh3d"
           }
          ],
          "parcoords": [
           {
            "line": {
             "colorbar": {
              "outlinewidth": 0,
              "ticks": ""
             }
            },
            "type": "parcoords"
           }
          ],
          "pie": [
           {
            "automargin": true,
            "type": "pie"
           }
          ],
          "scatter": [
           {
            "fillpattern": {
             "fillmode": "overlay",
             "size": 10,
             "solidity": 0.2
            },
            "type": "scatter"
           }
          ],
          "scatter3d": [
           {
            "line": {
             "colorbar": {
              "outlinewidth": 0,
              "ticks": ""
             }
            },
            "marker": {
             "colorbar": {
              "outlinewidth": 0,
              "ticks": ""
             }
            },
            "type": "scatter3d"
           }
          ],
          "scattercarpet": [
           {
            "marker": {
             "colorbar": {
              "outlinewidth": 0,
              "ticks": ""
             }
            },
            "type": "scattercarpet"
           }
          ],
          "scattergeo": [
           {
            "marker": {
             "colorbar": {
              "outlinewidth": 0,
              "ticks": ""
             }
            },
            "type": "scattergeo"
           }
          ],
          "scattergl": [
           {
            "marker": {
             "colorbar": {
              "outlinewidth": 0,
              "ticks": ""
             }
            },
            "type": "scattergl"
           }
          ],
          "scattermap": [
           {
            "marker": {
             "colorbar": {
              "outlinewidth": 0,
              "ticks": ""
             }
            },
            "type": "scattermap"
           }
          ],
          "scattermapbox": [
           {
            "marker": {
             "colorbar": {
              "outlinewidth": 0,
              "ticks": ""
             }
            },
            "type": "scattermapbox"
           }
          ],
          "scatterpolar": [
           {
            "marker": {
             "colorbar": {
              "outlinewidth": 0,
              "ticks": ""
             }
            },
            "type": "scatterpolar"
           }
          ],
          "scatterpolargl": [
           {
            "marker": {
             "colorbar": {
              "outlinewidth": 0,
              "ticks": ""
             }
            },
            "type": "scatterpolargl"
           }
          ],
          "scatterternary": [
           {
            "marker": {
             "colorbar": {
              "outlinewidth": 0,
              "ticks": ""
             }
            },
            "type": "scatterternary"
           }
          ],
          "surface": [
           {
            "colorbar": {
             "outlinewidth": 0,
             "ticks": ""
            },
            "colorscale": [
             [
              0,
              "#0d0887"
             ],
             [
              0.1111111111111111,
              "#46039f"
             ],
             [
              0.2222222222222222,
              "#7201a8"
             ],
             [
              0.3333333333333333,
              "#9c179e"
             ],
             [
              0.4444444444444444,
              "#bd3786"
             ],
             [
              0.5555555555555556,
              "#d8576b"
             ],
             [
              0.6666666666666666,
              "#ed7953"
             ],
             [
              0.7777777777777778,
              "#fb9f3a"
             ],
             [
              0.8888888888888888,
              "#fdca26"
             ],
             [
              1,
              "#f0f921"
             ]
            ],
            "type": "surface"
           }
          ],
          "table": [
           {
            "cells": {
             "fill": {
              "color": "#EBF0F8"
             },
             "line": {
              "color": "white"
             }
            },
            "header": {
             "fill": {
              "color": "#C8D4E3"
             },
             "line": {
              "color": "white"
             }
            },
            "type": "table"
           }
          ]
         },
         "layout": {
          "annotationdefaults": {
           "arrowcolor": "#2a3f5f",
           "arrowhead": 0,
           "arrowwidth": 1
          },
          "autotypenumbers": "strict",
          "coloraxis": {
           "colorbar": {
            "outlinewidth": 0,
            "ticks": ""
           }
          },
          "colorscale": {
           "diverging": [
            [
             0,
             "#8e0152"
            ],
            [
             0.1,
             "#c51b7d"
            ],
            [
             0.2,
             "#de77ae"
            ],
            [
             0.3,
             "#f1b6da"
            ],
            [
             0.4,
             "#fde0ef"
            ],
            [
             0.5,
             "#f7f7f7"
            ],
            [
             0.6,
             "#e6f5d0"
            ],
            [
             0.7,
             "#b8e186"
            ],
            [
             0.8,
             "#7fbc41"
            ],
            [
             0.9,
             "#4d9221"
            ],
            [
             1,
             "#276419"
            ]
           ],
           "sequential": [
            [
             0,
             "#0d0887"
            ],
            [
             0.1111111111111111,
             "#46039f"
            ],
            [
             0.2222222222222222,
             "#7201a8"
            ],
            [
             0.3333333333333333,
             "#9c179e"
            ],
            [
             0.4444444444444444,
             "#bd3786"
            ],
            [
             0.5555555555555556,
             "#d8576b"
            ],
            [
             0.6666666666666666,
             "#ed7953"
            ],
            [
             0.7777777777777778,
             "#fb9f3a"
            ],
            [
             0.8888888888888888,
             "#fdca26"
            ],
            [
             1,
             "#f0f921"
            ]
           ],
           "sequentialminus": [
            [
             0,
             "#0d0887"
            ],
            [
             0.1111111111111111,
             "#46039f"
            ],
            [
             0.2222222222222222,
             "#7201a8"
            ],
            [
             0.3333333333333333,
             "#9c179e"
            ],
            [
             0.4444444444444444,
             "#bd3786"
            ],
            [
             0.5555555555555556,
             "#d8576b"
            ],
            [
             0.6666666666666666,
             "#ed7953"
            ],
            [
             0.7777777777777778,
             "#fb9f3a"
            ],
            [
             0.8888888888888888,
             "#fdca26"
            ],
            [
             1,
             "#f0f921"
            ]
           ]
          },
          "colorway": [
           "#636efa",
           "#EF553B",
           "#00cc96",
           "#ab63fa",
           "#FFA15A",
           "#19d3f3",
           "#FF6692",
           "#B6E880",
           "#FF97FF",
           "#FECB52"
          ],
          "font": {
           "color": "#2a3f5f"
          },
          "geo": {
           "bgcolor": "white",
           "lakecolor": "white",
           "landcolor": "#E5ECF6",
           "showlakes": true,
           "showland": true,
           "subunitcolor": "white"
          },
          "hoverlabel": {
           "align": "left"
          },
          "hovermode": "closest",
          "mapbox": {
           "style": "light"
          },
          "paper_bgcolor": "white",
          "plot_bgcolor": "#E5ECF6",
          "polar": {
           "angularaxis": {
            "gridcolor": "white",
            "linecolor": "white",
            "ticks": ""
           },
           "bgcolor": "#E5ECF6",
           "radialaxis": {
            "gridcolor": "white",
            "linecolor": "white",
            "ticks": ""
           }
          },
          "scene": {
           "xaxis": {
            "backgroundcolor": "#E5ECF6",
            "gridcolor": "white",
            "gridwidth": 2,
            "linecolor": "white",
            "showbackground": true,
            "ticks": "",
            "zerolinecolor": "white"
           },
           "yaxis": {
            "backgroundcolor": "#E5ECF6",
            "gridcolor": "white",
            "gridwidth": 2,
            "linecolor": "white",
            "showbackground": true,
            "ticks": "",
            "zerolinecolor": "white"
           },
           "zaxis": {
            "backgroundcolor": "#E5ECF6",
            "gridcolor": "white",
            "gridwidth": 2,
            "linecolor": "white",
            "showbackground": true,
            "ticks": "",
            "zerolinecolor": "white"
           }
          },
          "shapedefaults": {
           "line": {
            "color": "#2a3f5f"
           }
          },
          "ternary": {
           "aaxis": {
            "gridcolor": "white",
            "linecolor": "white",
            "ticks": ""
           },
           "baxis": {
            "gridcolor": "white",
            "linecolor": "white",
            "ticks": ""
           },
           "bgcolor": "#E5ECF6",
           "caxis": {
            "gridcolor": "white",
            "linecolor": "white",
            "ticks": ""
           }
          },
          "title": {
           "x": 0.05
          },
          "xaxis": {
           "automargin": true,
           "gridcolor": "white",
           "linecolor": "white",
           "ticks": "",
           "title": {
            "standoff": 15
           },
           "zerolinecolor": "white",
           "zerolinewidth": 2
          },
          "yaxis": {
           "automargin": true,
           "gridcolor": "white",
           "linecolor": "white",
           "ticks": "",
           "title": {
            "standoff": 15
           },
           "zerolinecolor": "white",
           "zerolinewidth": 2
          }
         }
        },
        "title": {
         "text": "Distribution of Company Sizes"
        },
        "xaxis": {
         "anchor": "y",
         "domain": [
          0,
          1
         ],
         "title": {
          "text": "no_employees"
         }
        },
        "yaxis": {
         "anchor": "x",
         "domain": [
          0,
          1
         ],
         "title": {
          "text": "count"
         }
        }
       }
      }
     },
     "metadata": {},
     "output_type": "display_data"
    }
   ],
   "source": [
    "fig = px.bar(df, x='no_employees', title='Distribution of Company Sizes')\n",
    "fig.show()"
   ]
  },
  {
   "cell_type": "markdown",
   "id": "6c7116e2",
   "metadata": {},
   "source": [
    "### Question: What percentage of tech employees have sought treatment for a mental health condition, and how does this vary by Gender?"
   ]
  },
  {
   "cell_type": "code",
   "execution_count": 33,
   "id": "dd400d45",
   "metadata": {},
   "outputs": [
    {
     "data": {
      "application/vnd.plotly.v1+json": {
       "config": {
        "plotlyServerURL": "https://plot.ly"
       },
       "data": [
        {
         "alignmentgroup": "True",
         "bingroup": "x",
         "hovertemplate": "Sought Treatment=Yes<br>Gender=%{x}<br>count=%{y}<extra></extra>",
         "legendgroup": "Yes",
         "marker": {
          "color": "#636efa",
          "pattern": {
           "shape": ""
          }
         },
         "name": "Yes",
         "offsetgroup": "Yes",
         "orientation": "v",
         "showlegend": true,
         "type": "histogram",
         "x": [
          "Female",
          "Male",
          "Female",
          "Female",
          "Male",
          "Female",
          "Female",
          "Male",
          "Male",
          "Male",
          "Male",
          "Male",
          "Male",
          "Male",
          "Female",
          "Male",
          "Male",
          "Male",
          "Female",
          "Male",
          "Male",
          "Male",
          "Male",
          "Male",
          "Female",
          "Male",
          "Male",
          "Male",
          "Male",
          "Male",
          "Male",
          "Female",
          "Female",
          "Male",
          "Female",
          "Male",
          "Female",
          "Female",
          "Male",
          "Female",
          "Male",
          "Male",
          "Male",
          "Female",
          "Male",
          "Male",
          "Male",
          "Male",
          "Male",
          "Male",
          "Male",
          "Male",
          "Male",
          "Male",
          "Male",
          "Male",
          "Male",
          "Male",
          "Male",
          "Male",
          "Male",
          "Male",
          "Male",
          "Male",
          "Male",
          "Male",
          "Male",
          "Male",
          "Male",
          "Female",
          "Female",
          "Male",
          "Male",
          "Male",
          "Female",
          "Female",
          "Female",
          "Male",
          "Male",
          "Female",
          "Female",
          "Male",
          "Male",
          "Male",
          "Female",
          "Female",
          "Male",
          "Male",
          "Male",
          "Male",
          "Male",
          "Female",
          "Female",
          "Female",
          "Male",
          "Female",
          "Male",
          "Male",
          "Male",
          "Male",
          "Male",
          "Male",
          "Female",
          "Female",
          "Male",
          "Male",
          "Male",
          "Male",
          "Male",
          "Female",
          "Male",
          "Male",
          "Female",
          "Male",
          "Female",
          "Male",
          "Male",
          "Male",
          "Male",
          "Female",
          "Female",
          "Male",
          "Male",
          "Male",
          "Male",
          "Male",
          "Male",
          "Female",
          "Female",
          "Female",
          "Male",
          "Male",
          "Female",
          "Male",
          "Female",
          "Female",
          "Female",
          "Female",
          "Male",
          "Non-binary/Other",
          "Male",
          "Male",
          "Male",
          "Male",
          "Female",
          "Male",
          "Male",
          "Female",
          "Male",
          "Male",
          "Male",
          "Male",
          "Male",
          "Male",
          "Female",
          "Male",
          "Male",
          "Non-binary/Other",
          "Male",
          "Male",
          "Male",
          "Male",
          "Male",
          "Male",
          "Male",
          "Male",
          "Male",
          "Male",
          "Male",
          "Male",
          "Male",
          "Male",
          "Male",
          "Male",
          "Female",
          "Female",
          "Male",
          "Female",
          "Female",
          "Female",
          "Female",
          "Male",
          "Male",
          "Other/Unknown",
          "Male",
          "Male",
          "Female",
          "Non-binary/Other",
          "Female",
          "Female",
          "Non-binary/Other",
          "Female",
          "Male",
          "Male",
          "Male",
          "Male",
          "Male",
          "Male",
          "Male",
          "Male",
          "Female",
          "Non-binary/Other",
          "Female",
          "Non-binary/Other",
          "Male",
          "Male",
          "Male",
          "Male",
          "Female",
          "Male",
          "Female",
          "Male",
          "Female",
          "Female",
          "Male",
          "Male",
          "Male",
          "Female",
          "Male",
          "Male",
          "Male",
          "Male",
          "Male",
          "Male",
          "Male",
          "Male",
          "Male",
          "Male",
          "Female",
          "Male",
          "Male",
          "Female",
          "Male",
          "Male",
          "Male",
          "Male",
          "Female",
          "Male",
          "Male",
          "Female",
          "Male",
          "Female",
          "Female",
          "Male",
          "Female",
          "Male",
          "Female",
          "Female",
          "Male",
          "Male",
          "Male",
          "Female",
          "Male",
          "Male",
          "Female",
          "Male",
          "Male",
          "Male",
          "Female",
          "Male",
          "Male",
          "Female",
          "Male",
          "Female",
          "Male",
          "Male",
          "Female",
          "Female",
          "Female",
          "Female",
          "Other/Unknown",
          "Male",
          "Male",
          "Female",
          "Non-binary/Other",
          "Female",
          "Female",
          "Male",
          "Male",
          "Male",
          "Male",
          "Male",
          "Male",
          "Other/Unknown",
          "Male",
          "Other/Unknown",
          "Female",
          "Male",
          "Male",
          "Male",
          "Male",
          "Male",
          "Male",
          "Male",
          "Male",
          "Male",
          "Male",
          "Female",
          "Male",
          "Male",
          "Other/Unknown",
          "Male",
          "Male",
          "Male",
          "Male",
          "Female",
          "Female",
          "Female",
          "Female",
          "Other/Unknown",
          "Male",
          "Male",
          "Female",
          "Male",
          "Female",
          "Male",
          "Male",
          "Male",
          "Male",
          "Female",
          "Female",
          "Male",
          "Male",
          "Male",
          "Male",
          "Male",
          "Male",
          "Male",
          "Female",
          "Male",
          "Male",
          "Male",
          "Transgender",
          "Female",
          "Female",
          "Female",
          "Male",
          "Female",
          "Male",
          "Male",
          "Male",
          "Male",
          "Male",
          "Male",
          "Male",
          "Male",
          "Male",
          "Male",
          "Male",
          "Male",
          "Male",
          "Male",
          "Male",
          "Male",
          "Male",
          "Male",
          "Male",
          "Male",
          "Male",
          "Male",
          "Male",
          "Male",
          "Male",
          "Male",
          "Male",
          "Female",
          "Female",
          "Male",
          "Male",
          "Female",
          "Male",
          "Male",
          "Female",
          "Female",
          "Female",
          "Male",
          "Male",
          "Male",
          "Male",
          "Non-binary/Other",
          "Male",
          "Male",
          "Male",
          "Male",
          "Male",
          "Male",
          "Male",
          "Female",
          "Female",
          "Female",
          "Female",
          "Female",
          "Male",
          "Transgender",
          "Female",
          "Male",
          "Male",
          "Male",
          "Male",
          "Male",
          "Non-binary/Other",
          "Male",
          "Female",
          "Male",
          "Female",
          "Male",
          "Male",
          "Female",
          "Male",
          "Male",
          "Female",
          "Male",
          "Female",
          "Male",
          "Male",
          "Male",
          "Male",
          "Male",
          "Male",
          "Male",
          "Male",
          "Male",
          "Male",
          "Male",
          "Female",
          "Male",
          "Male",
          "Male",
          "Male",
          "Male",
          "Male",
          "Male",
          "Male",
          "Male",
          "Male",
          "Female",
          "Male",
          "Female",
          "Male",
          "Male",
          "Male",
          "Male",
          "Female",
          "Male",
          "Female",
          "Male",
          "Male",
          "Female",
          "Male",
          "Male",
          "Male",
          "Female",
          "Male",
          "Male",
          "Male",
          "Male",
          "Male",
          "Male",
          "Male",
          "Male",
          "Male",
          "Male",
          "Female",
          "Male",
          "Male",
          "Male",
          "Male",
          "Male",
          "Male",
          "Male",
          "Male",
          "Female",
          "Male",
          "Male",
          "Male",
          "Male",
          "Male",
          "Male",
          "Female",
          "Female",
          "Male",
          "Male",
          "Male",
          "Male",
          "Female",
          "Female",
          "Male",
          "Male",
          "Other/Unknown",
          "Female",
          "Male",
          "Male",
          "Male",
          "Male",
          "Male",
          "Female",
          "Male",
          "Male",
          "Male",
          "Transgender",
          "Male",
          "Female",
          "Male",
          "Male",
          "Female",
          "Male",
          "Female",
          "Male",
          "Male",
          "Female",
          "Female",
          "Male",
          "Male",
          "Male",
          "Female",
          "Male",
          "Male",
          "Male",
          "Female",
          "Female",
          "Male",
          "Male",
          "Male",
          "Male",
          "Female",
          "Male",
          "Male",
          "Male",
          "Female",
          "Female",
          "Male",
          "Male",
          "Male",
          "Female",
          "Female",
          "Male",
          "Male",
          "Male",
          "Female",
          "Male",
          "Male",
          "Male",
          "Male",
          "Male",
          "Male",
          "Female",
          "Male",
          "Male",
          "Male",
          "Female",
          "Male",
          "Male",
          "Male",
          "Male",
          "Male",
          "Male",
          "Male",
          "Male",
          "Female",
          "Female",
          "Male",
          "Female",
          "Non-binary/Other",
          "Female",
          "Female",
          "Male",
          "Male",
          "Male",
          "Male",
          "Male",
          "Male",
          "Male",
          "Male",
          "Male",
          "Male",
          "Male",
          "Male",
          "Male",
          "Male",
          "Male",
          "Female",
          "Male",
          "Female",
          "Female",
          "Male",
          "Female",
          "Female",
          "Female",
          "Male",
          "Female",
          "Female",
          "Female",
          "Male",
          "Male",
          "Male",
          "Female",
          "Male",
          "Male",
          "Male",
          "Female",
          "Male",
          "Male",
          "Male",
          "Male",
          "Male",
          "Female",
          "Male",
          "Male",
          "Male",
          "Male",
          "Female",
          "Male",
          "Female",
          "Male",
          "Female",
          "Other/Unknown",
          "Male",
          "Male",
          "Other/Unknown",
          "Male",
          "Male",
          "Male",
          "Male",
          "Male",
          "Male",
          "Female",
          "Male",
          "Male",
          "Female",
          "Male",
          "Male",
          "Male",
          "Male",
          "Male",
          "Male",
          "Male",
          "Male"
         ],
         "xaxis": "x",
         "yaxis": "y"
        },
        {
         "alignmentgroup": "True",
         "bingroup": "x",
         "hovertemplate": "Sought Treatment=No<br>Gender=%{x}<br>count=%{y}<extra></extra>",
         "legendgroup": "No",
         "marker": {
          "color": "#EF553B",
          "pattern": {
           "shape": ""
          }
         },
         "name": "No",
         "offsetgroup": "No",
         "orientation": "v",
         "showlegend": true,
         "type": "histogram",
         "x": [
          "Male",
          "Male",
          "Male",
          "Male",
          "Male",
          "Male",
          "Male",
          "Male",
          "Male",
          "Male",
          "Male",
          "Male",
          "Male",
          "Male",
          "Male",
          "Male",
          "Male",
          "Male",
          "Male",
          "Male",
          "Male",
          "Male",
          "Male",
          "Male",
          "Male",
          "Male",
          "Male",
          "Male",
          "Male",
          "Male",
          "Male",
          "Male",
          "Male",
          "Male",
          "Male",
          "Female",
          "Male",
          "Male",
          "Male",
          "Transgender",
          "Male",
          "Male",
          "Male",
          "Male",
          "Male",
          "Male",
          "Male",
          "Male",
          "Male",
          "Male",
          "Male",
          "Male",
          "Male",
          "Male",
          "Other/Unknown",
          "Male",
          "Male",
          "Female",
          "Male",
          "Male",
          "Male",
          "Male",
          "Male",
          "Male",
          "Male",
          "Male",
          "Male",
          "Male",
          "Male",
          "Male",
          "Male",
          "Male",
          "Male",
          "Male",
          "Male",
          "Male",
          "Male",
          "Male",
          "Male",
          "Female",
          "Male",
          "Male",
          "Male",
          "Female",
          "Male",
          "Male",
          "Female",
          "Male",
          "Male",
          "Male",
          "Male",
          "Male",
          "Male",
          "Male",
          "Female",
          "Male",
          "Male",
          "Male",
          "Male",
          "Female",
          "Male",
          "Male",
          "Male",
          "Male",
          "Female",
          "Female",
          "Male",
          "Male",
          "Male",
          "Male",
          "Male",
          "Female",
          "Other/Unknown",
          "Female",
          "Male",
          "Male",
          "Male",
          "Male",
          "Male",
          "Male",
          "Female",
          "Male",
          "Male",
          "Male",
          "Female",
          "Male",
          "Male",
          "Male",
          "Male",
          "Male",
          "Male",
          "Male",
          "Male",
          "Male",
          "Male",
          "Male",
          "Male",
          "Male",
          "Male",
          "Male",
          "Male",
          "Male",
          "Male",
          "Male",
          "Male",
          "Male",
          "Male",
          "Male",
          "Male",
          "Male",
          "Male",
          "Male",
          "Male",
          "Male",
          "Male",
          "Male",
          "Male",
          "Male",
          "Male",
          "Male",
          "Male",
          "Male",
          "Male",
          "Female",
          "Male",
          "Male",
          "Male",
          "Male",
          "Male",
          "Male",
          "Male",
          "Male",
          "Male",
          "Male",
          "Male",
          "Male",
          "Male",
          "Female",
          "Male",
          "Male",
          "Male",
          "Male",
          "Male",
          "Female",
          "Male",
          "Male",
          "Male",
          "Female",
          "Male",
          "Male",
          "Male",
          "Male",
          "Male",
          "Male",
          "Female",
          "Male",
          "Other/Unknown",
          "Male",
          "Female",
          "Male",
          "Male",
          "Female",
          "Male",
          "Male",
          "Male",
          "Female",
          "Male",
          "Male",
          "Male",
          "Male",
          "Female",
          "Male",
          "Male",
          "Male",
          "Male",
          "Male",
          "Male",
          "Female",
          "Male",
          "Female",
          "Male",
          "Male",
          "Male",
          "Male",
          "Male",
          "Male",
          "Male",
          "Female",
          "Male",
          "Male",
          "Non-binary/Other",
          "Male",
          "Male",
          "Male",
          "Male",
          "Male",
          "Male",
          "Female",
          "Other/Unknown",
          "Female",
          "Male",
          "Male",
          "Male",
          "Male",
          "Female",
          "Male",
          "Male",
          "Male",
          "Male",
          "Male",
          "Male",
          "Male",
          "Male",
          "Male",
          "Male",
          "Male",
          "Male",
          "Male",
          "Male",
          "Female",
          "Male",
          "Male",
          "Male",
          "Male",
          "Female",
          "Male",
          "Male",
          "Male",
          "Male",
          "Female",
          "Male",
          "Male",
          "Male",
          "Male",
          "Female",
          "Male",
          "Male",
          "Male",
          "Female",
          "Male",
          "Male",
          "Male",
          "Male",
          "Male",
          "Male",
          "Male",
          "Female",
          "Male",
          "Male",
          "Male",
          "Male",
          "Male",
          "Male",
          "Male",
          "Male",
          "Female",
          "Female",
          "Male",
          "Male",
          "Male",
          "Male",
          "Male",
          "Male",
          "Male",
          "Male",
          "Male",
          "Male",
          "Male",
          "Male",
          "Male",
          "Male",
          "Male",
          "Male",
          "Male",
          "Male",
          "Male",
          "Male",
          "Other/Unknown",
          "Male",
          "Male",
          "Male",
          "Male",
          "Male",
          "Male",
          "Male",
          "Male",
          "Female",
          "Female",
          "Male",
          "Female",
          "Male",
          "Male",
          "Male",
          "Male",
          "Female",
          "Male",
          "Male",
          "Male",
          "Male",
          "Male",
          "Male",
          "Male",
          "Male",
          "Male",
          "Male",
          "Male",
          "Female",
          "Male",
          "Male",
          "Male",
          "Female",
          "Male",
          "Male",
          "Male",
          "Female",
          "Male",
          "Male",
          "Female",
          "Male",
          "Male",
          "Male",
          "Male",
          "Female",
          "Male",
          "Male",
          "Male",
          "Male",
          "Male",
          "Male",
          "Male",
          "Male",
          "Male",
          "Male",
          "Male",
          "Male",
          "Male",
          "Male",
          "Male",
          "Male",
          "Male",
          "Male",
          "Male",
          "Male",
          "Male",
          "Male",
          "Male",
          "Male",
          "Male",
          "Male",
          "Male",
          "Male",
          "Male",
          "Male",
          "Male",
          "Male",
          "Male",
          "Male",
          "Other/Unknown",
          "Female",
          "Female",
          "Male",
          "Male",
          "Male",
          "Male",
          "Male",
          "Male",
          "Male",
          "Male",
          "Male",
          "Male",
          "Female",
          "Male",
          "Female",
          "Male",
          "Male",
          "Male",
          "Female",
          "Female",
          "Male",
          "Male",
          "Male",
          "Female",
          "Male",
          "Male",
          "Male",
          "Male",
          "Female",
          "Male",
          "Male",
          "Male",
          "Male",
          "Male",
          "Male",
          "Male",
          "Male",
          "Male",
          "Male",
          "Male",
          "Male",
          "Male",
          "Male",
          "Male",
          "Male",
          "Male",
          "Male",
          "Male",
          "Male",
          "Male",
          "Male",
          "Male",
          "Male",
          "Male",
          "Female",
          "Other/Unknown",
          "Male",
          "Male",
          "Male",
          "Male",
          "Male",
          "Male",
          "Male",
          "Male",
          "Male",
          "Male",
          "Male",
          "Male",
          "Male",
          "Male",
          "Male",
          "Male",
          "Male",
          "Male",
          "Male",
          "Male",
          "Male",
          "Male",
          "Male",
          "Male",
          "Male",
          "Male",
          "Male",
          "Male",
          "Male",
          "Male",
          "Male",
          "Male",
          "Male",
          "Male",
          "Male",
          "Male",
          "Male",
          "Male",
          "Male",
          "Male",
          "Male",
          "Male",
          "Male",
          "Male",
          "Female",
          "Male",
          "Male",
          "Male",
          "Male",
          "Male",
          "Male",
          "Female",
          "Male",
          "Male",
          "Male",
          "Male",
          "Female",
          "Male",
          "Female",
          "Female",
          "Female",
          "Male",
          "Male",
          "Female",
          "Male",
          "Male",
          "Male",
          "Male",
          "Male",
          "Female",
          "Male",
          "Female",
          "Male",
          "Male",
          "Male",
          "Male",
          "Male",
          "Male",
          "Female",
          "Male",
          "Male",
          "Male",
          "Female",
          "Male",
          "Male",
          "Male",
          "Male",
          "Male",
          "Male",
          "Male",
          "Male",
          "Male",
          "Male",
          "Male",
          "Male",
          "Male",
          "Male",
          "Male",
          "Male",
          "Male",
          "Male",
          "Male",
          "Male",
          "Female",
          "Male",
          "Male",
          "Male",
          "Male",
          "Male",
          "Male",
          "Male",
          "Male",
          "Male",
          "Male",
          "Male",
          "Male",
          "Male",
          "Male",
          "Male",
          "Female",
          "Male",
          "Female",
          "Male",
          "Male",
          "Female",
          "Male",
          "Male",
          "Male",
          "Male",
          "Male",
          "Male",
          "Male",
          "Male",
          "Male",
          "Male",
          "Male",
          "Male",
          "Male",
          "Male",
          "Female",
          "Female",
          "Female",
          "Male",
          "Male",
          "Male",
          "Male",
          "Female",
          "Male",
          "Male",
          "Male",
          "Male",
          "Male",
          "Male",
          "Male",
          "Male",
          "Male",
          "Male",
          "Male",
          "Male",
          "Male",
          "Female",
          "Male",
          "Male",
          "Male",
          "Female",
          "Male",
          "Male",
          "Female"
         ],
         "xaxis": "x",
         "yaxis": "y"
        }
       ],
       "layout": {
        "barmode": "group",
        "legend": {
         "title": {
          "text": "Sought Treatment"
         },
         "tracegroupgap": 0
        },
        "template": {
         "data": {
          "bar": [
           {
            "error_x": {
             "color": "#2a3f5f"
            },
            "error_y": {
             "color": "#2a3f5f"
            },
            "marker": {
             "line": {
              "color": "#E5ECF6",
              "width": 0.5
             },
             "pattern": {
              "fillmode": "overlay",
              "size": 10,
              "solidity": 0.2
             }
            },
            "type": "bar"
           }
          ],
          "barpolar": [
           {
            "marker": {
             "line": {
              "color": "#E5ECF6",
              "width": 0.5
             },
             "pattern": {
              "fillmode": "overlay",
              "size": 10,
              "solidity": 0.2
             }
            },
            "type": "barpolar"
           }
          ],
          "carpet": [
           {
            "aaxis": {
             "endlinecolor": "#2a3f5f",
             "gridcolor": "white",
             "linecolor": "white",
             "minorgridcolor": "white",
             "startlinecolor": "#2a3f5f"
            },
            "baxis": {
             "endlinecolor": "#2a3f5f",
             "gridcolor": "white",
             "linecolor": "white",
             "minorgridcolor": "white",
             "startlinecolor": "#2a3f5f"
            },
            "type": "carpet"
           }
          ],
          "choropleth": [
           {
            "colorbar": {
             "outlinewidth": 0,
             "ticks": ""
            },
            "type": "choropleth"
           }
          ],
          "contour": [
           {
            "colorbar": {
             "outlinewidth": 0,
             "ticks": ""
            },
            "colorscale": [
             [
              0,
              "#0d0887"
             ],
             [
              0.1111111111111111,
              "#46039f"
             ],
             [
              0.2222222222222222,
              "#7201a8"
             ],
             [
              0.3333333333333333,
              "#9c179e"
             ],
             [
              0.4444444444444444,
              "#bd3786"
             ],
             [
              0.5555555555555556,
              "#d8576b"
             ],
             [
              0.6666666666666666,
              "#ed7953"
             ],
             [
              0.7777777777777778,
              "#fb9f3a"
             ],
             [
              0.8888888888888888,
              "#fdca26"
             ],
             [
              1,
              "#f0f921"
             ]
            ],
            "type": "contour"
           }
          ],
          "contourcarpet": [
           {
            "colorbar": {
             "outlinewidth": 0,
             "ticks": ""
            },
            "type": "contourcarpet"
           }
          ],
          "heatmap": [
           {
            "colorbar": {
             "outlinewidth": 0,
             "ticks": ""
            },
            "colorscale": [
             [
              0,
              "#0d0887"
             ],
             [
              0.1111111111111111,
              "#46039f"
             ],
             [
              0.2222222222222222,
              "#7201a8"
             ],
             [
              0.3333333333333333,
              "#9c179e"
             ],
             [
              0.4444444444444444,
              "#bd3786"
             ],
             [
              0.5555555555555556,
              "#d8576b"
             ],
             [
              0.6666666666666666,
              "#ed7953"
             ],
             [
              0.7777777777777778,
              "#fb9f3a"
             ],
             [
              0.8888888888888888,
              "#fdca26"
             ],
             [
              1,
              "#f0f921"
             ]
            ],
            "type": "heatmap"
           }
          ],
          "histogram": [
           {
            "marker": {
             "pattern": {
              "fillmode": "overlay",
              "size": 10,
              "solidity": 0.2
             }
            },
            "type": "histogram"
           }
          ],
          "histogram2d": [
           {
            "colorbar": {
             "outlinewidth": 0,
             "ticks": ""
            },
            "colorscale": [
             [
              0,
              "#0d0887"
             ],
             [
              0.1111111111111111,
              "#46039f"
             ],
             [
              0.2222222222222222,
              "#7201a8"
             ],
             [
              0.3333333333333333,
              "#9c179e"
             ],
             [
              0.4444444444444444,
              "#bd3786"
             ],
             [
              0.5555555555555556,
              "#d8576b"
             ],
             [
              0.6666666666666666,
              "#ed7953"
             ],
             [
              0.7777777777777778,
              "#fb9f3a"
             ],
             [
              0.8888888888888888,
              "#fdca26"
             ],
             [
              1,
              "#f0f921"
             ]
            ],
            "type": "histogram2d"
           }
          ],
          "histogram2dcontour": [
           {
            "colorbar": {
             "outlinewidth": 0,
             "ticks": ""
            },
            "colorscale": [
             [
              0,
              "#0d0887"
             ],
             [
              0.1111111111111111,
              "#46039f"
             ],
             [
              0.2222222222222222,
              "#7201a8"
             ],
             [
              0.3333333333333333,
              "#9c179e"
             ],
             [
              0.4444444444444444,
              "#bd3786"
             ],
             [
              0.5555555555555556,
              "#d8576b"
             ],
             [
              0.6666666666666666,
              "#ed7953"
             ],
             [
              0.7777777777777778,
              "#fb9f3a"
             ],
             [
              0.8888888888888888,
              "#fdca26"
             ],
             [
              1,
              "#f0f921"
             ]
            ],
            "type": "histogram2dcontour"
           }
          ],
          "mesh3d": [
           {
            "colorbar": {
             "outlinewidth": 0,
             "ticks": ""
            },
            "type": "mesh3d"
           }
          ],
          "parcoords": [
           {
            "line": {
             "colorbar": {
              "outlinewidth": 0,
              "ticks": ""
             }
            },
            "type": "parcoords"
           }
          ],
          "pie": [
           {
            "automargin": true,
            "type": "pie"
           }
          ],
          "scatter": [
           {
            "fillpattern": {
             "fillmode": "overlay",
             "size": 10,
             "solidity": 0.2
            },
            "type": "scatter"
           }
          ],
          "scatter3d": [
           {
            "line": {
             "colorbar": {
              "outlinewidth": 0,
              "ticks": ""
             }
            },
            "marker": {
             "colorbar": {
              "outlinewidth": 0,
              "ticks": ""
             }
            },
            "type": "scatter3d"
           }
          ],
          "scattercarpet": [
           {
            "marker": {
             "colorbar": {
              "outlinewidth": 0,
              "ticks": ""
             }
            },
            "type": "scattercarpet"
           }
          ],
          "scattergeo": [
           {
            "marker": {
             "colorbar": {
              "outlinewidth": 0,
              "ticks": ""
             }
            },
            "type": "scattergeo"
           }
          ],
          "scattergl": [
           {
            "marker": {
             "colorbar": {
              "outlinewidth": 0,
              "ticks": ""
             }
            },
            "type": "scattergl"
           }
          ],
          "scattermap": [
           {
            "marker": {
             "colorbar": {
              "outlinewidth": 0,
              "ticks": ""
             }
            },
            "type": "scattermap"
           }
          ],
          "scattermapbox": [
           {
            "marker": {
             "colorbar": {
              "outlinewidth": 0,
              "ticks": ""
             }
            },
            "type": "scattermapbox"
           }
          ],
          "scatterpolar": [
           {
            "marker": {
             "colorbar": {
              "outlinewidth": 0,
              "ticks": ""
             }
            },
            "type": "scatterpolar"
           }
          ],
          "scatterpolargl": [
           {
            "marker": {
             "colorbar": {
              "outlinewidth": 0,
              "ticks": ""
             }
            },
            "type": "scatterpolargl"
           }
          ],
          "scatterternary": [
           {
            "marker": {
             "colorbar": {
              "outlinewidth": 0,
              "ticks": ""
             }
            },
            "type": "scatterternary"
           }
          ],
          "surface": [
           {
            "colorbar": {
             "outlinewidth": 0,
             "ticks": ""
            },
            "colorscale": [
             [
              0,
              "#0d0887"
             ],
             [
              0.1111111111111111,
              "#46039f"
             ],
             [
              0.2222222222222222,
              "#7201a8"
             ],
             [
              0.3333333333333333,
              "#9c179e"
             ],
             [
              0.4444444444444444,
              "#bd3786"
             ],
             [
              0.5555555555555556,
              "#d8576b"
             ],
             [
              0.6666666666666666,
              "#ed7953"
             ],
             [
              0.7777777777777778,
              "#fb9f3a"
             ],
             [
              0.8888888888888888,
              "#fdca26"
             ],
             [
              1,
              "#f0f921"
             ]
            ],
            "type": "surface"
           }
          ],
          "table": [
           {
            "cells": {
             "fill": {
              "color": "#EBF0F8"
             },
             "line": {
              "color": "white"
             }
            },
            "header": {
             "fill": {
              "color": "#C8D4E3"
             },
             "line": {
              "color": "white"
             }
            },
            "type": "table"
           }
          ]
         },
         "layout": {
          "annotationdefaults": {
           "arrowcolor": "#2a3f5f",
           "arrowhead": 0,
           "arrowwidth": 1
          },
          "autotypenumbers": "strict",
          "coloraxis": {
           "colorbar": {
            "outlinewidth": 0,
            "ticks": ""
           }
          },
          "colorscale": {
           "diverging": [
            [
             0,
             "#8e0152"
            ],
            [
             0.1,
             "#c51b7d"
            ],
            [
             0.2,
             "#de77ae"
            ],
            [
             0.3,
             "#f1b6da"
            ],
            [
             0.4,
             "#fde0ef"
            ],
            [
             0.5,
             "#f7f7f7"
            ],
            [
             0.6,
             "#e6f5d0"
            ],
            [
             0.7,
             "#b8e186"
            ],
            [
             0.8,
             "#7fbc41"
            ],
            [
             0.9,
             "#4d9221"
            ],
            [
             1,
             "#276419"
            ]
           ],
           "sequential": [
            [
             0,
             "#0d0887"
            ],
            [
             0.1111111111111111,
             "#46039f"
            ],
            [
             0.2222222222222222,
             "#7201a8"
            ],
            [
             0.3333333333333333,
             "#9c179e"
            ],
            [
             0.4444444444444444,
             "#bd3786"
            ],
            [
             0.5555555555555556,
             "#d8576b"
            ],
            [
             0.6666666666666666,
             "#ed7953"
            ],
            [
             0.7777777777777778,
             "#fb9f3a"
            ],
            [
             0.8888888888888888,
             "#fdca26"
            ],
            [
             1,
             "#f0f921"
            ]
           ],
           "sequentialminus": [
            [
             0,
             "#0d0887"
            ],
            [
             0.1111111111111111,
             "#46039f"
            ],
            [
             0.2222222222222222,
             "#7201a8"
            ],
            [
             0.3333333333333333,
             "#9c179e"
            ],
            [
             0.4444444444444444,
             "#bd3786"
            ],
            [
             0.5555555555555556,
             "#d8576b"
            ],
            [
             0.6666666666666666,
             "#ed7953"
            ],
            [
             0.7777777777777778,
             "#fb9f3a"
            ],
            [
             0.8888888888888888,
             "#fdca26"
            ],
            [
             1,
             "#f0f921"
            ]
           ]
          },
          "colorway": [
           "#636efa",
           "#EF553B",
           "#00cc96",
           "#ab63fa",
           "#FFA15A",
           "#19d3f3",
           "#FF6692",
           "#B6E880",
           "#FF97FF",
           "#FECB52"
          ],
          "font": {
           "color": "#2a3f5f"
          },
          "geo": {
           "bgcolor": "white",
           "lakecolor": "white",
           "landcolor": "#E5ECF6",
           "showlakes": true,
           "showland": true,
           "subunitcolor": "white"
          },
          "hoverlabel": {
           "align": "left"
          },
          "hovermode": "closest",
          "mapbox": {
           "style": "light"
          },
          "paper_bgcolor": "white",
          "plot_bgcolor": "#E5ECF6",
          "polar": {
           "angularaxis": {
            "gridcolor": "white",
            "linecolor": "white",
            "ticks": ""
           },
           "bgcolor": "#E5ECF6",
           "radialaxis": {
            "gridcolor": "white",
            "linecolor": "white",
            "ticks": ""
           }
          },
          "scene": {
           "xaxis": {
            "backgroundcolor": "#E5ECF6",
            "gridcolor": "white",
            "gridwidth": 2,
            "linecolor": "white",
            "showbackground": true,
            "ticks": "",
            "zerolinecolor": "white"
           },
           "yaxis": {
            "backgroundcolor": "#E5ECF6",
            "gridcolor": "white",
            "gridwidth": 2,
            "linecolor": "white",
            "showbackground": true,
            "ticks": "",
            "zerolinecolor": "white"
           },
           "zaxis": {
            "backgroundcolor": "#E5ECF6",
            "gridcolor": "white",
            "gridwidth": 2,
            "linecolor": "white",
            "showbackground": true,
            "ticks": "",
            "zerolinecolor": "white"
           }
          },
          "shapedefaults": {
           "line": {
            "color": "#2a3f5f"
           }
          },
          "ternary": {
           "aaxis": {
            "gridcolor": "white",
            "linecolor": "white",
            "ticks": ""
           },
           "baxis": {
            "gridcolor": "white",
            "linecolor": "white",
            "ticks": ""
           },
           "bgcolor": "#E5ECF6",
           "caxis": {
            "gridcolor": "white",
            "linecolor": "white",
            "ticks": ""
           }
          },
          "title": {
           "x": 0.05
          },
          "xaxis": {
           "automargin": true,
           "gridcolor": "white",
           "linecolor": "white",
           "ticks": "",
           "title": {
            "standoff": 15
           },
           "zerolinecolor": "white",
           "zerolinewidth": 2
          },
          "yaxis": {
           "automargin": true,
           "gridcolor": "white",
           "linecolor": "white",
           "ticks": "",
           "title": {
            "standoff": 15
           },
           "zerolinecolor": "white",
           "zerolinewidth": 2
          }
         }
        },
        "title": {
         "text": "Treatment Seeking by Gender"
        },
        "xaxis": {
         "anchor": "y",
         "domain": [
          0,
          1
         ],
         "title": {
          "text": "Gender"
         }
        },
        "yaxis": {
         "anchor": "x",
         "domain": [
          0,
          1
         ],
         "title": {
          "text": "Number of Respondents"
         }
        }
       }
      }
     },
     "metadata": {},
     "output_type": "display_data"
    }
   ],
   "source": [
    "fig = px.histogram(df, x='Gender', color='treatment', barmode='group',\n",
    "                   title='Treatment Seeking by Gender',\n",
    "                   category_orders={'treatment': ['Yes', 'No', 'Don\\'t Know']}, # Define order if needed\n",
    "                   labels={'treatment': 'Sought Treatment'})\n",
    "fig.update_layout(xaxis_title='Gender', yaxis_title='Number of Respondents')\n",
    "fig.show()"
   ]
  },
  {
   "cell_type": "markdown",
   "id": "e839b413",
   "metadata": {},
   "source": [
    "### Question: Among those with a mental health condition, how many feel it interferes with their work?"
   ]
  },
  {
   "cell_type": "code",
   "execution_count": 34,
   "id": "c3d35b6f",
   "metadata": {},
   "outputs": [
    {
     "data": {
      "application/vnd.plotly.v1+json": {
       "config": {
        "plotlyServerURL": "https://plot.ly"
       },
       "data": [
        {
         "alignmentgroup": "True",
         "bingroup": "x",
         "hovertemplate": "treatment=Yes<br>Interferes with Work=%{x}<br>count=%{y}<extra></extra>",
         "legendgroup": "Yes",
         "marker": {
          "color": "#636efa",
          "pattern": {
           "shape": ""
          }
         },
         "name": "Yes",
         "offsetgroup": "Yes",
         "orientation": "v",
         "showlegend": true,
         "type": "histogram",
         "x": [
          "Often",
          "Often",
          "Sometimes",
          "Sometimes",
          "Sometimes",
          "Sometimes",
          "Sometimes",
          "Sometimes",
          "Sometimes",
          "Often",
          "Never",
          "Sometimes",
          "Sometimes",
          "Sometimes",
          "Sometimes",
          "Sometimes",
          "Sometimes",
          "Sometimes",
          "Sometimes",
          "Sometimes",
          "Often",
          "Sometimes",
          "Often",
          "Sometimes",
          "Sometimes",
          "Often",
          "Sometimes",
          "Often",
          "Often",
          "Sometimes",
          "Sometimes",
          "Sometimes",
          "Sometimes",
          "Sometimes",
          "Often",
          "Sometimes",
          "Sometimes",
          "Sometimes",
          "Sometimes",
          "Sometimes",
          "Sometimes",
          "Sometimes",
          "Never",
          "Sometimes",
          "Sometimes",
          "Never",
          "Often",
          "Sometimes",
          "Sometimes",
          "Sometimes",
          "Sometimes",
          "Sometimes",
          "Sometimes",
          "Sometimes",
          "Sometimes",
          "Sometimes",
          "Often",
          "Never",
          "Sometimes",
          "Often",
          "Sometimes",
          "Sometimes",
          "Often",
          "Never",
          "Often",
          "Sometimes",
          "Sometimes",
          "Sometimes",
          "Sometimes",
          "Often",
          "Sometimes",
          "Sometimes",
          "Often",
          "Often",
          "Sometimes",
          "Sometimes",
          "Sometimes",
          "Often",
          "Never",
          "Sometimes",
          "Sometimes",
          "Sometimes",
          "Sometimes",
          "Often",
          "Sometimes",
          "Sometimes",
          "Sometimes",
          "Sometimes",
          "Sometimes",
          "Often",
          "Sometimes",
          "Sometimes",
          "Sometimes",
          "Often",
          "Sometimes",
          "Sometimes",
          "Sometimes",
          "Often",
          "Never",
          "Sometimes",
          "Sometimes",
          "Sometimes",
          "Sometimes",
          "Sometimes",
          "Sometimes",
          "Never",
          "Sometimes",
          "Sometimes",
          "Sometimes",
          "Sometimes",
          "Often",
          "Often",
          "Often",
          "Never",
          "Sometimes",
          "Often",
          "Sometimes",
          "Sometimes",
          "Sometimes",
          "Sometimes",
          "Often",
          "Sometimes",
          "Sometimes",
          "Sometimes",
          "Never",
          "Sometimes",
          "Sometimes",
          "Often",
          "Sometimes",
          "Sometimes",
          "Sometimes",
          "Sometimes",
          "Often",
          "Sometimes",
          "Often",
          "Sometimes",
          "Often",
          "Sometimes",
          "Never",
          "Sometimes",
          "Never",
          "Never",
          "Sometimes",
          "Often",
          "Sometimes",
          "Sometimes",
          "Sometimes",
          "Often",
          "Often",
          "Sometimes",
          "Often",
          "Sometimes",
          "Sometimes",
          "Sometimes",
          "Never",
          "Often",
          "Sometimes",
          "Sometimes",
          "Sometimes",
          "Sometimes",
          "Sometimes",
          "Sometimes",
          "Sometimes",
          "Often",
          "Sometimes",
          "Sometimes",
          "Sometimes",
          "Sometimes",
          "Sometimes",
          "Often",
          "Often",
          "Sometimes",
          "Sometimes",
          "Sometimes",
          "Sometimes",
          "Sometimes",
          "Sometimes",
          "Sometimes",
          "Sometimes",
          "Sometimes",
          "Often",
          "Sometimes",
          "Sometimes",
          "Sometimes",
          "Sometimes",
          "Often",
          "Sometimes",
          "Often",
          "Sometimes",
          "Often",
          "Sometimes",
          "Sometimes",
          "Sometimes",
          "Sometimes",
          "Sometimes",
          "Sometimes",
          "Sometimes",
          "Sometimes",
          "Sometimes",
          "Often",
          "Sometimes",
          "Sometimes",
          "Sometimes",
          "Sometimes",
          "Sometimes",
          "Often",
          "Never",
          "Sometimes",
          "Often",
          "Often",
          "Sometimes",
          "Sometimes",
          "Sometimes",
          "Sometimes",
          "Often",
          "Sometimes",
          "Sometimes",
          "Sometimes",
          "Sometimes",
          "Sometimes",
          "Sometimes",
          "Often",
          "Sometimes",
          "Sometimes",
          "Often",
          "Never",
          "Often",
          "Sometimes",
          "Sometimes",
          "Sometimes",
          "Sometimes",
          "Sometimes",
          "Sometimes",
          "Sometimes",
          "Sometimes",
          "Often",
          "Sometimes",
          "Often",
          "Sometimes",
          "Often",
          "Sometimes",
          "Sometimes",
          "Sometimes",
          "Sometimes",
          "Sometimes",
          "Sometimes",
          "Sometimes",
          "Often",
          "Often",
          "Sometimes",
          "Sometimes",
          "Sometimes",
          "Never",
          "Sometimes",
          "Never",
          "Sometimes",
          "Sometimes",
          "Sometimes",
          "Often",
          "Sometimes",
          "Often",
          "Sometimes",
          "Sometimes",
          "Sometimes",
          "Sometimes",
          "Sometimes",
          "Sometimes",
          "Often",
          "Sometimes",
          "Sometimes",
          "Often",
          "Sometimes",
          "Sometimes",
          "Sometimes",
          "Never",
          "Sometimes",
          "Sometimes",
          "Sometimes",
          "Often",
          "Sometimes",
          "Sometimes",
          "Sometimes",
          "Sometimes",
          "Sometimes",
          "Sometimes",
          "Sometimes",
          "Sometimes",
          "Sometimes",
          "Sometimes",
          "Sometimes",
          "Sometimes",
          "Often",
          "Sometimes",
          "Sometimes",
          "Sometimes",
          "Sometimes",
          "Never",
          "Sometimes",
          "Sometimes",
          "Sometimes",
          "Sometimes",
          "Never",
          "Sometimes",
          "Sometimes",
          "Sometimes",
          "Sometimes",
          "Never",
          "Sometimes",
          "Often",
          "Sometimes",
          "Sometimes",
          "Often",
          "Sometimes",
          "Sometimes",
          "Sometimes",
          "Sometimes",
          "Sometimes",
          "Often",
          "Never",
          "Sometimes",
          "Sometimes",
          "Sometimes",
          "Often",
          "Sometimes",
          "Often",
          "Sometimes",
          "Sometimes",
          "Sometimes",
          "Often",
          "Sometimes",
          "Sometimes",
          "Sometimes",
          "Sometimes",
          "Sometimes",
          "Sometimes",
          "Often",
          "Sometimes",
          "Sometimes",
          "Sometimes",
          "Never",
          "Sometimes",
          "Sometimes",
          "Often",
          "Sometimes",
          "Often",
          "Sometimes",
          "Sometimes",
          "Never",
          "Sometimes",
          "Often",
          "Sometimes",
          "Sometimes",
          "Sometimes",
          "Sometimes",
          "Often",
          "Sometimes",
          "Sometimes",
          "Sometimes",
          "Sometimes",
          "Sometimes",
          "Sometimes",
          "Often",
          "Sometimes",
          "Sometimes",
          "Sometimes",
          "Sometimes",
          "Often",
          "Sometimes",
          "Sometimes",
          "Often",
          "Sometimes",
          "Often",
          "Sometimes",
          "Often",
          "Sometimes",
          "Sometimes",
          "Sometimes",
          "Sometimes",
          "Often",
          "Sometimes",
          "Often",
          "Often",
          "Sometimes",
          "Often",
          "Sometimes",
          "Sometimes",
          "Often",
          "Sometimes",
          "Often",
          "Sometimes",
          "Sometimes",
          "Sometimes",
          "Sometimes",
          "Often",
          "Sometimes",
          "Sometimes",
          "Sometimes",
          "Often",
          "Sometimes",
          "Sometimes",
          "Sometimes",
          "Sometimes",
          "Often",
          "Sometimes",
          "Sometimes",
          "Often",
          "Sometimes",
          "Sometimes",
          "Often",
          "Sometimes",
          "Often",
          "Often",
          "Sometimes",
          "Often",
          "Sometimes",
          "Often",
          "Sometimes",
          "Sometimes",
          "Sometimes",
          "Sometimes",
          "Often",
          "Sometimes",
          "Sometimes",
          "Often",
          "Often",
          "Often",
          "Often",
          "Sometimes",
          "Sometimes",
          "Sometimes",
          "Sometimes",
          "Often",
          "Sometimes",
          "Sometimes",
          "Sometimes",
          "Sometimes",
          "Often",
          "Sometimes",
          "Often",
          "Sometimes",
          "Often",
          "Sometimes",
          "Never",
          "Sometimes",
          "Sometimes",
          "Never",
          "Often",
          "Sometimes",
          "Often",
          "Sometimes",
          "Sometimes",
          "Sometimes",
          "Sometimes",
          "Sometimes",
          "Often",
          "Sometimes",
          "Sometimes",
          "Often",
          "Sometimes",
          "Often",
          "Never",
          "Sometimes",
          "Sometimes",
          "Often",
          "Sometimes",
          "Sometimes",
          "Sometimes",
          "Sometimes",
          "Sometimes",
          "Sometimes",
          "Sometimes",
          "Never",
          "Sometimes",
          "Often",
          "Sometimes",
          "Sometimes",
          "Sometimes",
          "Sometimes",
          "Often",
          "Often",
          "Often",
          "Never",
          "Sometimes",
          "Sometimes",
          "Sometimes",
          "Sometimes",
          "Often",
          "Sometimes",
          "Often",
          "Sometimes",
          "Sometimes",
          "Sometimes",
          "Sometimes",
          "Sometimes",
          "Sometimes",
          "Sometimes",
          "Often",
          "Often",
          "Often",
          "Sometimes",
          "Often",
          "Often",
          "Often",
          "Sometimes",
          "Sometimes",
          "Often",
          "Often",
          "Sometimes",
          "Often",
          "Sometimes",
          "Sometimes"
         ],
         "xaxis": "x",
         "yaxis": "y"
        },
        {
         "alignmentgroup": "True",
         "bingroup": "x",
         "hovertemplate": "treatment=No<br>Interferes with Work=%{x}<br>count=%{y}<extra></extra>",
         "legendgroup": "No",
         "marker": {
          "color": "#EF553B",
          "pattern": {
           "shape": ""
          }
         },
         "name": "No",
         "offsetgroup": "No",
         "orientation": "v",
         "showlegend": true,
         "type": "histogram",
         "x": [
          "Never",
          "Sometimes",
          "Never",
          "Never",
          "Never",
          "Never",
          "Never",
          "Sometimes",
          "Never",
          "Sometimes",
          "Never",
          "Often",
          "Sometimes",
          "Never",
          "Never",
          "Sometimes",
          "Sometimes",
          "Sometimes",
          "Never",
          "Never",
          "Never",
          "Sometimes",
          "Never",
          "Sometimes",
          "Never",
          "Never",
          "Never",
          "Never",
          "Never",
          "Never",
          "Never",
          "Never",
          "Never",
          "Never",
          "Often",
          "Never",
          "Often",
          "Never",
          "Sometimes",
          "Never",
          "Never",
          "Never",
          "Never",
          "Never",
          "Sometimes",
          "Never",
          "Never",
          "Often",
          "Never",
          "Never",
          "Sometimes",
          "Never",
          "Never",
          "Sometimes",
          "Never",
          "Sometimes",
          "Sometimes",
          "Sometimes",
          "Never",
          "Never",
          "Sometimes",
          "Never",
          "Sometimes",
          "Never",
          "Sometimes",
          "Never",
          "Sometimes",
          "Never",
          "Never",
          "Sometimes",
          "Often",
          "Never",
          "Sometimes",
          "Never",
          "Sometimes",
          "Sometimes",
          "Sometimes",
          "Sometimes",
          "Never",
          "Never",
          "Never",
          "Never",
          "Never",
          "Never",
          "Sometimes",
          "Never",
          "Never",
          "Never",
          "Never",
          "Never",
          "Sometimes",
          "Sometimes",
          "Sometimes",
          "Sometimes",
          "Often",
          "Never",
          "Sometimes",
          "Never",
          "Never",
          "Never",
          "Sometimes",
          "Never",
          "Never",
          "Never",
          "Often",
          "Never",
          "Sometimes",
          "Never",
          "Sometimes",
          "Never",
          "Sometimes",
          "Often",
          "Never",
          "Sometimes",
          "Never",
          "Never",
          "Never",
          "Sometimes",
          "Never",
          "Never",
          "Sometimes",
          "Sometimes",
          "Never",
          "Never",
          "Sometimes",
          "Never",
          "Never",
          "Never",
          "Sometimes",
          "Never",
          "Never",
          "Sometimes",
          "Sometimes",
          "Never",
          "Never",
          "Never",
          "Never",
          "Often",
          "Sometimes",
          "Never",
          "Never",
          "Sometimes",
          "Sometimes",
          "Never",
          "Never",
          "Sometimes",
          "Never",
          "Never",
          "Sometimes",
          "Never",
          "Never",
          "Never",
          "Often",
          "Sometimes",
          "Sometimes",
          "Never",
          "Never",
          "Often",
          "Sometimes",
          "Never",
          "Often",
          "Sometimes",
          "Never",
          "Sometimes",
          "Sometimes",
          "Never",
          "Never",
          "Never",
          "Sometimes",
          "Sometimes",
          "Often",
          "Never",
          "Never",
          "Never",
          "Never",
          "Never",
          "Sometimes",
          "Never",
          "Never",
          "Sometimes",
          "Never",
          "Sometimes",
          "Never",
          "Never",
          "Never",
          "Never",
          "Never",
          "Never",
          "Never",
          "Never",
          "Sometimes",
          "Never",
          "Never",
          "Sometimes",
          "Never",
          "Never",
          "Sometimes",
          "Never",
          "Sometimes",
          "Sometimes",
          "Never",
          "Often",
          "Never",
          "Sometimes",
          "Sometimes",
          "Never",
          "Sometimes",
          "Sometimes",
          "Sometimes",
          "Never",
          "Sometimes",
          "Never",
          "Never",
          "Sometimes",
          "Never",
          "Never",
          "Never",
          "Never",
          "Never",
          "Sometimes",
          "Sometimes",
          "Never",
          "Never",
          "Never",
          "Sometimes",
          "Never",
          "Never",
          "Sometimes",
          "Sometimes",
          "Sometimes",
          "Never",
          "Often",
          "Sometimes",
          "Never",
          "Sometimes",
          "Often",
          "Never",
          "Sometimes",
          "Never",
          "Never",
          "Never",
          "Never",
          "Often",
          "Sometimes",
          "Sometimes",
          "Never",
          "Never",
          "Sometimes",
          "Never",
          "Sometimes",
          "Sometimes",
          "Sometimes",
          "Never",
          "Never",
          "Sometimes",
          "Never",
          "Sometimes",
          "Never",
          "Sometimes",
          "Never",
          "Sometimes",
          "Sometimes",
          "Sometimes",
          "Sometimes",
          "Never",
          "Never",
          "Never",
          "Never",
          "Never",
          "Never",
          "Never",
          "Sometimes",
          "Never",
          "Never",
          "Never",
          "Never",
          "Never",
          "Sometimes",
          "Sometimes",
          "Never",
          "Often",
          "Sometimes",
          "Never",
          "Sometimes",
          "Sometimes",
          "Never",
          "Sometimes",
          "Never",
          "Never",
          "Never",
          "Never",
          "Never",
          "Sometimes",
          "Never",
          "Often",
          "Never",
          "Sometimes",
          "Never",
          "Sometimes",
          "Never",
          "Never",
          "Often",
          "Often",
          "Never",
          "Sometimes",
          "Never",
          "Never",
          "Never",
          "Sometimes",
          "Sometimes",
          "Never"
         ],
         "xaxis": "x",
         "yaxis": "y"
        }
       ],
       "layout": {
        "barmode": "group",
        "legend": {
         "title": {
          "text": "treatment"
         },
         "tracegroupgap": 0
        },
        "template": {
         "data": {
          "bar": [
           {
            "error_x": {
             "color": "#2a3f5f"
            },
            "error_y": {
             "color": "#2a3f5f"
            },
            "marker": {
             "line": {
              "color": "#E5ECF6",
              "width": 0.5
             },
             "pattern": {
              "fillmode": "overlay",
              "size": 10,
              "solidity": 0.2
             }
            },
            "type": "bar"
           }
          ],
          "barpolar": [
           {
            "marker": {
             "line": {
              "color": "#E5ECF6",
              "width": 0.5
             },
             "pattern": {
              "fillmode": "overlay",
              "size": 10,
              "solidity": 0.2
             }
            },
            "type": "barpolar"
           }
          ],
          "carpet": [
           {
            "aaxis": {
             "endlinecolor": "#2a3f5f",
             "gridcolor": "white",
             "linecolor": "white",
             "minorgridcolor": "white",
             "startlinecolor": "#2a3f5f"
            },
            "baxis": {
             "endlinecolor": "#2a3f5f",
             "gridcolor": "white",
             "linecolor": "white",
             "minorgridcolor": "white",
             "startlinecolor": "#2a3f5f"
            },
            "type": "carpet"
           }
          ],
          "choropleth": [
           {
            "colorbar": {
             "outlinewidth": 0,
             "ticks": ""
            },
            "type": "choropleth"
           }
          ],
          "contour": [
           {
            "colorbar": {
             "outlinewidth": 0,
             "ticks": ""
            },
            "colorscale": [
             [
              0,
              "#0d0887"
             ],
             [
              0.1111111111111111,
              "#46039f"
             ],
             [
              0.2222222222222222,
              "#7201a8"
             ],
             [
              0.3333333333333333,
              "#9c179e"
             ],
             [
              0.4444444444444444,
              "#bd3786"
             ],
             [
              0.5555555555555556,
              "#d8576b"
             ],
             [
              0.6666666666666666,
              "#ed7953"
             ],
             [
              0.7777777777777778,
              "#fb9f3a"
             ],
             [
              0.8888888888888888,
              "#fdca26"
             ],
             [
              1,
              "#f0f921"
             ]
            ],
            "type": "contour"
           }
          ],
          "contourcarpet": [
           {
            "colorbar": {
             "outlinewidth": 0,
             "ticks": ""
            },
            "type": "contourcarpet"
           }
          ],
          "heatmap": [
           {
            "colorbar": {
             "outlinewidth": 0,
             "ticks": ""
            },
            "colorscale": [
             [
              0,
              "#0d0887"
             ],
             [
              0.1111111111111111,
              "#46039f"
             ],
             [
              0.2222222222222222,
              "#7201a8"
             ],
             [
              0.3333333333333333,
              "#9c179e"
             ],
             [
              0.4444444444444444,
              "#bd3786"
             ],
             [
              0.5555555555555556,
              "#d8576b"
             ],
             [
              0.6666666666666666,
              "#ed7953"
             ],
             [
              0.7777777777777778,
              "#fb9f3a"
             ],
             [
              0.8888888888888888,
              "#fdca26"
             ],
             [
              1,
              "#f0f921"
             ]
            ],
            "type": "heatmap"
           }
          ],
          "histogram": [
           {
            "marker": {
             "pattern": {
              "fillmode": "overlay",
              "size": 10,
              "solidity": 0.2
             }
            },
            "type": "histogram"
           }
          ],
          "histogram2d": [
           {
            "colorbar": {
             "outlinewidth": 0,
             "ticks": ""
            },
            "colorscale": [
             [
              0,
              "#0d0887"
             ],
             [
              0.1111111111111111,
              "#46039f"
             ],
             [
              0.2222222222222222,
              "#7201a8"
             ],
             [
              0.3333333333333333,
              "#9c179e"
             ],
             [
              0.4444444444444444,
              "#bd3786"
             ],
             [
              0.5555555555555556,
              "#d8576b"
             ],
             [
              0.6666666666666666,
              "#ed7953"
             ],
             [
              0.7777777777777778,
              "#fb9f3a"
             ],
             [
              0.8888888888888888,
              "#fdca26"
             ],
             [
              1,
              "#f0f921"
             ]
            ],
            "type": "histogram2d"
           }
          ],
          "histogram2dcontour": [
           {
            "colorbar": {
             "outlinewidth": 0,
             "ticks": ""
            },
            "colorscale": [
             [
              0,
              "#0d0887"
             ],
             [
              0.1111111111111111,
              "#46039f"
             ],
             [
              0.2222222222222222,
              "#7201a8"
             ],
             [
              0.3333333333333333,
              "#9c179e"
             ],
             [
              0.4444444444444444,
              "#bd3786"
             ],
             [
              0.5555555555555556,
              "#d8576b"
             ],
             [
              0.6666666666666666,
              "#ed7953"
             ],
             [
              0.7777777777777778,
              "#fb9f3a"
             ],
             [
              0.8888888888888888,
              "#fdca26"
             ],
             [
              1,
              "#f0f921"
             ]
            ],
            "type": "histogram2dcontour"
           }
          ],
          "mesh3d": [
           {
            "colorbar": {
             "outlinewidth": 0,
             "ticks": ""
            },
            "type": "mesh3d"
           }
          ],
          "parcoords": [
           {
            "line": {
             "colorbar": {
              "outlinewidth": 0,
              "ticks": ""
             }
            },
            "type": "parcoords"
           }
          ],
          "pie": [
           {
            "automargin": true,
            "type": "pie"
           }
          ],
          "scatter": [
           {
            "fillpattern": {
             "fillmode": "overlay",
             "size": 10,
             "solidity": 0.2
            },
            "type": "scatter"
           }
          ],
          "scatter3d": [
           {
            "line": {
             "colorbar": {
              "outlinewidth": 0,
              "ticks": ""
             }
            },
            "marker": {
             "colorbar": {
              "outlinewidth": 0,
              "ticks": ""
             }
            },
            "type": "scatter3d"
           }
          ],
          "scattercarpet": [
           {
            "marker": {
             "colorbar": {
              "outlinewidth": 0,
              "ticks": ""
             }
            },
            "type": "scattercarpet"
           }
          ],
          "scattergeo": [
           {
            "marker": {
             "colorbar": {
              "outlinewidth": 0,
              "ticks": ""
             }
            },
            "type": "scattergeo"
           }
          ],
          "scattergl": [
           {
            "marker": {
             "colorbar": {
              "outlinewidth": 0,
              "ticks": ""
             }
            },
            "type": "scattergl"
           }
          ],
          "scattermap": [
           {
            "marker": {
             "colorbar": {
              "outlinewidth": 0,
              "ticks": ""
             }
            },
            "type": "scattermap"
           }
          ],
          "scattermapbox": [
           {
            "marker": {
             "colorbar": {
              "outlinewidth": 0,
              "ticks": ""
             }
            },
            "type": "scattermapbox"
           }
          ],
          "scatterpolar": [
           {
            "marker": {
             "colorbar": {
              "outlinewidth": 0,
              "ticks": ""
             }
            },
            "type": "scatterpolar"
           }
          ],
          "scatterpolargl": [
           {
            "marker": {
             "colorbar": {
              "outlinewidth": 0,
              "ticks": ""
             }
            },
            "type": "scatterpolargl"
           }
          ],
          "scatterternary": [
           {
            "marker": {
             "colorbar": {
              "outlinewidth": 0,
              "ticks": ""
             }
            },
            "type": "scatterternary"
           }
          ],
          "surface": [
           {
            "colorbar": {
             "outlinewidth": 0,
             "ticks": ""
            },
            "colorscale": [
             [
              0,
              "#0d0887"
             ],
             [
              0.1111111111111111,
              "#46039f"
             ],
             [
              0.2222222222222222,
              "#7201a8"
             ],
             [
              0.3333333333333333,
              "#9c179e"
             ],
             [
              0.4444444444444444,
              "#bd3786"
             ],
             [
              0.5555555555555556,
              "#d8576b"
             ],
             [
              0.6666666666666666,
              "#ed7953"
             ],
             [
              0.7777777777777778,
              "#fb9f3a"
             ],
             [
              0.8888888888888888,
              "#fdca26"
             ],
             [
              1,
              "#f0f921"
             ]
            ],
            "type": "surface"
           }
          ],
          "table": [
           {
            "cells": {
             "fill": {
              "color": "#EBF0F8"
             },
             "line": {
              "color": "white"
             }
            },
            "header": {
             "fill": {
              "color": "#C8D4E3"
             },
             "line": {
              "color": "white"
             }
            },
            "type": "table"
           }
          ]
         },
         "layout": {
          "annotationdefaults": {
           "arrowcolor": "#2a3f5f",
           "arrowhead": 0,
           "arrowwidth": 1
          },
          "autotypenumbers": "strict",
          "coloraxis": {
           "colorbar": {
            "outlinewidth": 0,
            "ticks": ""
           }
          },
          "colorscale": {
           "diverging": [
            [
             0,
             "#8e0152"
            ],
            [
             0.1,
             "#c51b7d"
            ],
            [
             0.2,
             "#de77ae"
            ],
            [
             0.3,
             "#f1b6da"
            ],
            [
             0.4,
             "#fde0ef"
            ],
            [
             0.5,
             "#f7f7f7"
            ],
            [
             0.6,
             "#e6f5d0"
            ],
            [
             0.7,
             "#b8e186"
            ],
            [
             0.8,
             "#7fbc41"
            ],
            [
             0.9,
             "#4d9221"
            ],
            [
             1,
             "#276419"
            ]
           ],
           "sequential": [
            [
             0,
             "#0d0887"
            ],
            [
             0.1111111111111111,
             "#46039f"
            ],
            [
             0.2222222222222222,
             "#7201a8"
            ],
            [
             0.3333333333333333,
             "#9c179e"
            ],
            [
             0.4444444444444444,
             "#bd3786"
            ],
            [
             0.5555555555555556,
             "#d8576b"
            ],
            [
             0.6666666666666666,
             "#ed7953"
            ],
            [
             0.7777777777777778,
             "#fb9f3a"
            ],
            [
             0.8888888888888888,
             "#fdca26"
            ],
            [
             1,
             "#f0f921"
            ]
           ],
           "sequentialminus": [
            [
             0,
             "#0d0887"
            ],
            [
             0.1111111111111111,
             "#46039f"
            ],
            [
             0.2222222222222222,
             "#7201a8"
            ],
            [
             0.3333333333333333,
             "#9c179e"
            ],
            [
             0.4444444444444444,
             "#bd3786"
            ],
            [
             0.5555555555555556,
             "#d8576b"
            ],
            [
             0.6666666666666666,
             "#ed7953"
            ],
            [
             0.7777777777777778,
             "#fb9f3a"
            ],
            [
             0.8888888888888888,
             "#fdca26"
            ],
            [
             1,
             "#f0f921"
            ]
           ]
          },
          "colorway": [
           "#636efa",
           "#EF553B",
           "#00cc96",
           "#ab63fa",
           "#FFA15A",
           "#19d3f3",
           "#FF6692",
           "#B6E880",
           "#FF97FF",
           "#FECB52"
          ],
          "font": {
           "color": "#2a3f5f"
          },
          "geo": {
           "bgcolor": "white",
           "lakecolor": "white",
           "landcolor": "#E5ECF6",
           "showlakes": true,
           "showland": true,
           "subunitcolor": "white"
          },
          "hoverlabel": {
           "align": "left"
          },
          "hovermode": "closest",
          "mapbox": {
           "style": "light"
          },
          "paper_bgcolor": "white",
          "plot_bgcolor": "#E5ECF6",
          "polar": {
           "angularaxis": {
            "gridcolor": "white",
            "linecolor": "white",
            "ticks": ""
           },
           "bgcolor": "#E5ECF6",
           "radialaxis": {
            "gridcolor": "white",
            "linecolor": "white",
            "ticks": ""
           }
          },
          "scene": {
           "xaxis": {
            "backgroundcolor": "#E5ECF6",
            "gridcolor": "white",
            "gridwidth": 2,
            "linecolor": "white",
            "showbackground": true,
            "ticks": "",
            "zerolinecolor": "white"
           },
           "yaxis": {
            "backgroundcolor": "#E5ECF6",
            "gridcolor": "white",
            "gridwidth": 2,
            "linecolor": "white",
            "showbackground": true,
            "ticks": "",
            "zerolinecolor": "white"
           },
           "zaxis": {
            "backgroundcolor": "#E5ECF6",
            "gridcolor": "white",
            "gridwidth": 2,
            "linecolor": "white",
            "showbackground": true,
            "ticks": "",
            "zerolinecolor": "white"
           }
          },
          "shapedefaults": {
           "line": {
            "color": "#2a3f5f"
           }
          },
          "ternary": {
           "aaxis": {
            "gridcolor": "white",
            "linecolor": "white",
            "ticks": ""
           },
           "baxis": {
            "gridcolor": "white",
            "linecolor": "white",
            "ticks": ""
           },
           "bgcolor": "#E5ECF6",
           "caxis": {
            "gridcolor": "white",
            "linecolor": "white",
            "ticks": ""
           }
          },
          "title": {
           "x": 0.05
          },
          "xaxis": {
           "automargin": true,
           "gridcolor": "white",
           "linecolor": "white",
           "ticks": "",
           "title": {
            "standoff": 15
           },
           "zerolinecolor": "white",
           "zerolinewidth": 2
          },
          "yaxis": {
           "automargin": true,
           "gridcolor": "white",
           "linecolor": "white",
           "ticks": "",
           "title": {
            "standoff": 15
           },
           "zerolinecolor": "white",
           "zerolinewidth": 2
          }
         }
        },
        "title": {
         "text": "Work Interference by Treatment Status"
        },
        "xaxis": {
         "anchor": "y",
         "categoryarray": [
          "Often",
          "Sometimes",
          "Never",
          "Yes",
          "No"
         ],
         "categoryorder": "array",
         "domain": [
          0,
          1
         ],
         "title": {
          "text": "Mental Health Interferes with Work"
         }
        },
        "yaxis": {
         "anchor": "x",
         "domain": [
          0,
          1
         ],
         "title": {
          "text": "Number of Respondents"
         }
        }
       }
      }
     },
     "metadata": {},
     "output_type": "display_data"
    }
   ],
   "source": [
    "work_interfere_filtered_df = df[df['work_interfere'].isin(['Yes', 'No', 'Often', 'Sometimes', 'Never'])]\n",
    "\n",
    "fig = px.histogram(work_interfere_filtered_df, x='work_interfere', color='treatment', barmode='group',\n",
    "                   title='Work Interference by Treatment Status',\n",
    "                   category_orders={'work_interfere': ['Often', 'Sometimes', 'Never', 'Yes', 'No']}, # Adjust order based on your standardized values\n",
    "                   labels={'work_interfere': 'Interferes with Work'})\n",
    "fig.update_layout(xaxis_title='Mental Health Interferes with Work', yaxis_title='Number of Respondents')\n",
    "fig.show()"
   ]
  },
  {
   "cell_type": "code",
   "execution_count": 35,
   "id": "7ce83b04",
   "metadata": {},
   "outputs": [
    {
     "name": "stdout",
     "output_type": "stream",
     "text": [
      "work_interfere\n",
      "Sometimes         465\n",
      "Not applicable    264\n",
      "Never             213\n",
      "rarely            173\n",
      "Often             144\n",
      "Name: count, dtype: int64\n"
     ]
    }
   ],
   "source": [
    "# Re-run or ensure this part of your cleaning script was thorough\n",
    "def standardize_yes_no_like(series):\n",
    "    series = series.astype(str).str.lower().str.strip()\n",
    "    series = series.replace({\n",
    "        'yes': 'Yes',\n",
    "        'no': 'No',\n",
    "        'don\\'t know': 'Don\\'t Know',\n",
    "        'not sure': 'Don\\'t Know',\n",
    "        'some of them': 'Some',\n",
    "        'maybe': 'Don\\'t Know',\n",
    "        'unknown': 'Unknown',\n",
    "        'not applicable': 'Not applicable',\n",
    "        'often': 'Often',\n",
    "        'sometimes': 'Sometimes',\n",
    "        'never': 'Never'\n",
    "    })\n",
    "    return series\n",
    "\n",
    "# Re-apply to all relevant columns if you modify this function || # For work_interfere specifically:\n",
    "df['work_interfere'] = standardize_yes_no_like(df['work_interfere'])\n",
    "print(df['work_interfere'].value_counts()) # Check the counts"
   ]
  },
  {
   "cell_type": "markdown",
   "id": "5ff2f00f",
   "metadata": {},
   "source": [
    "### Question: What is the prevalence of mental health benefits, care options, and wellness programs provided by employers, and how does this correlate with company size?"
   ]
  },
  {
   "cell_type": "code",
   "execution_count": 36,
   "id": "fbd097f6",
   "metadata": {},
   "outputs": [
    {
     "data": {
      "application/vnd.plotly.v1+json": {
       "config": {
        "plotlyServerURL": "https://plot.ly"
       },
       "data": [
        {
         "alignmentgroup": "True",
         "bingroup": "x",
         "hovertemplate": "Provides Benefits=Yes<br>no_employees=%{x}<br>count=%{y}<extra></extra>",
         "legendgroup": "Yes",
         "marker": {
          "color": "#636efa",
          "pattern": {
           "shape": ""
          }
         },
         "name": "Yes",
         "offsetgroup": "Yes",
         "orientation": "v",
         "showlegend": true,
         "type": "histogram",
         "x": [
          "6-25",
          null,
          "6-25",
          null,
          "26-100",
          "26-100",
          "6-25",
          "1-5",
          null,
          "26-100",
          "26-100",
          "More than 1000",
          "6-25",
          "26-100",
          "1-5",
          null,
          "More than 1000",
          "More than 1000",
          "26-100",
          "26-100",
          "26-100",
          "More than 1000",
          null,
          "More than 1000",
          null,
          "More than 1000",
          "More than 1000",
          null,
          "26-100",
          "1-5",
          null,
          "26-100",
          null,
          "26-100",
          "26-100",
          null,
          "26-100",
          "More than 1000",
          "6-25",
          "6-25",
          "26-100",
          null,
          "26-100",
          "6-25",
          null,
          "6-25",
          "More than 1000",
          "6-25",
          null,
          null,
          null,
          "More than 1000",
          "More than 1000",
          "More than 1000",
          null,
          "More than 1000",
          "More than 1000",
          null,
          "More than 1000",
          "More than 1000",
          "More than 1000",
          "6-25",
          "1-5",
          "More than 1000",
          null,
          "More than 1000",
          "26-100",
          "More than 1000",
          "6-25",
          "26-100",
          null,
          "26-100",
          null,
          "6-25",
          "6-25",
          null,
          "26-100",
          "6-25",
          "6-25",
          "26-100",
          null,
          "26-100",
          "More than 1000",
          "6-25",
          "26-100",
          "More than 1000",
          "More than 1000",
          null,
          null,
          null,
          "6-25",
          null,
          "26-100",
          "26-100",
          null,
          "More than 1000",
          "26-100",
          null,
          "26-100",
          null,
          "26-100",
          "More than 1000",
          "More than 1000",
          "More than 1000",
          "More than 1000",
          "More than 1000",
          "26-100",
          "More than 1000",
          "More than 1000",
          "More than 1000",
          "More than 1000",
          "More than 1000",
          null,
          null,
          "More than 1000",
          "6-25",
          "26-100",
          null,
          null,
          "More than 1000",
          "More than 1000",
          "More than 1000",
          null,
          "More than 1000",
          null,
          "More than 1000",
          "6-25",
          "More than 1000",
          "26-100",
          "More than 1000",
          "26-100",
          "More than 1000",
          "More than 1000",
          "26-100",
          "26-100",
          "More than 1000",
          "More than 1000",
          "More than 1000",
          "6-25",
          "More than 1000",
          "More than 1000",
          "6-25",
          "More than 1000",
          null,
          "More than 1000",
          "More than 1000",
          "More than 1000",
          "26-100",
          "26-100",
          "More than 1000",
          "More than 1000",
          "More than 1000",
          null,
          "More than 1000",
          "26-100",
          "More than 1000",
          "1-5",
          "More than 1000",
          "More than 1000",
          "More than 1000",
          "6-25",
          "26-100",
          null,
          "6-25",
          "26-100",
          "More than 1000",
          "1-5",
          "6-25",
          "More than 1000",
          "More than 1000",
          "More than 1000",
          "More than 1000",
          "26-100",
          "1-5",
          "More than 1000",
          "More than 1000",
          null,
          "6-25",
          "More than 1000",
          "More than 1000",
          null,
          "26-100",
          "More than 1000",
          "6-25",
          "More than 1000",
          "More than 1000",
          null,
          null,
          null,
          "More than 1000",
          null,
          null,
          "More than 1000",
          "More than 1000",
          "More than 1000",
          "More than 1000",
          "6-25",
          "More than 1000",
          "More than 1000",
          "More than 1000",
          "26-100",
          "More than 1000",
          null,
          "6-25",
          "More than 1000",
          "More than 1000",
          null,
          "26-100",
          "More than 1000",
          null,
          "More than 1000",
          "6-25",
          "More than 1000",
          null,
          "1-5",
          "6-25",
          null,
          "26-100",
          null,
          null,
          null,
          "More than 1000",
          "More than 1000",
          "More than 1000",
          "More than 1000",
          null,
          "More than 1000",
          "More than 1000",
          "More than 1000",
          "26-100",
          "26-100",
          "26-100",
          "More than 1000",
          "More than 1000",
          "26-100",
          "26-100",
          "More than 1000",
          null,
          null,
          null,
          null,
          null,
          "More than 1000",
          "More than 1000",
          "26-100",
          null,
          null,
          "26-100",
          "More than 1000",
          null,
          null,
          "26-100",
          "6-25",
          null,
          "1-5",
          "26-100",
          "More than 1000",
          "26-100",
          null,
          null,
          "More than 1000",
          "More than 1000",
          null,
          "1-5",
          "More than 1000",
          "More than 1000",
          "More than 1000",
          null,
          "6-25",
          "More than 1000",
          "26-100",
          null,
          null,
          "26-100",
          "26-100",
          "26-100",
          "6-25",
          "1-5",
          null,
          "6-25",
          "26-100",
          "26-100",
          "More than 1000",
          "26-100",
          null,
          "6-25",
          "6-25",
          "26-100",
          "More than 1000",
          "26-100",
          "More than 1000",
          "26-100",
          "1-5",
          "6-25",
          null,
          "More than 1000",
          "26-100",
          "More than 1000",
          "More than 1000",
          null,
          "26-100",
          null,
          null,
          "26-100",
          "More than 1000",
          null,
          "More than 1000",
          null,
          null,
          "More than 1000",
          "More than 1000",
          null,
          null,
          "6-25",
          "More than 1000",
          null,
          "26-100",
          "More than 1000",
          "26-100",
          "More than 1000",
          "More than 1000",
          "More than 1000",
          "6-25",
          "More than 1000",
          "26-100",
          null,
          "26-100",
          "26-100",
          "26-100",
          null,
          "1-5",
          "26-100",
          null,
          "More than 1000",
          "6-25",
          null,
          "More than 1000",
          "1-5",
          "More than 1000",
          "More than 1000",
          "More than 1000",
          null,
          "More than 1000",
          "6-25",
          "6-25",
          "More than 1000",
          "26-100",
          "26-100",
          null,
          "More than 1000",
          null,
          "26-100",
          null,
          "6-25",
          null,
          "More than 1000",
          "6-25",
          "More than 1000",
          "More than 1000",
          null,
          null,
          "26-100",
          "More than 1000",
          "More than 1000",
          "More than 1000",
          "6-25",
          "1-5",
          "More than 1000",
          "More than 1000",
          "More than 1000",
          "More than 1000",
          null,
          "6-25",
          "26-100",
          "26-100",
          "26-100",
          "1-5",
          "6-25",
          "26-100",
          null,
          "More than 1000",
          "6-25",
          null,
          null,
          "More than 1000",
          "More than 1000",
          "More than 1000",
          "More than 1000",
          "26-100",
          null,
          "6-25",
          "More than 1000",
          null,
          "More than 1000",
          "More than 1000",
          "6-25",
          "More than 1000",
          "6-25",
          "More than 1000",
          null,
          "More than 1000",
          null,
          "More than 1000",
          "6-25",
          "More than 1000",
          "6-25",
          "More than 1000",
          "26-100",
          "More than 1000",
          "More than 1000",
          null,
          "More than 1000",
          "1-5",
          "More than 1000",
          "26-100",
          "More than 1000",
          "1-5",
          "More than 1000",
          "26-100",
          null,
          null,
          "More than 1000",
          null,
          "More than 1000",
          "6-25",
          "6-25",
          "More than 1000",
          "6-25",
          "6-25",
          "More than 1000",
          "26-100",
          "More than 1000",
          "1-5",
          "More than 1000",
          "26-100",
          "More than 1000",
          "More than 1000",
          "6-25",
          "More than 1000",
          "26-100",
          "26-100",
          null,
          null,
          "More than 1000",
          "26-100",
          "More than 1000",
          "More than 1000",
          "26-100",
          null,
          "26-100",
          "More than 1000",
          null,
          "26-100",
          "6-25",
          null,
          "More than 1000",
          null,
          "26-100",
          "6-25",
          "26-100",
          "More than 1000",
          "More than 1000",
          "More than 1000",
          "More than 1000",
          "More than 1000",
          "26-100",
          "More than 1000",
          "More than 1000",
          null,
          null,
          "26-100",
          "26-100",
          "26-100",
          null,
          "26-100",
          "More than 1000",
          "26-100"
         ],
         "xaxis": "x",
         "yaxis": "y"
        },
        {
         "alignmentgroup": "True",
         "bingroup": "x",
         "hovertemplate": "Provides Benefits=No<br>no_employees=%{x}<br>count=%{y}<extra></extra>",
         "legendgroup": "No",
         "marker": {
          "color": "#EF553B",
          "pattern": {
           "shape": ""
          }
         },
         "name": "No",
         "offsetgroup": "No",
         "orientation": "v",
         "showlegend": true,
         "type": "histogram",
         "x": [
          "6-25",
          "26-100",
          "1-5",
          "1-5",
          "6-25",
          "1-5",
          "6-25",
          "6-25",
          "1-5",
          "6-25",
          "1-5",
          null,
          "6-25",
          "1-5",
          "6-25",
          "6-25",
          "1-5",
          "6-25",
          null,
          "26-100",
          "26-100",
          "1-5",
          "1-5",
          "26-100",
          "26-100",
          "1-5",
          "1-5",
          "26-100",
          "26-100",
          "More than 1000",
          "6-25",
          "26-100",
          "6-25",
          "1-5",
          "26-100",
          "6-25",
          "1-5",
          "1-5",
          "6-25",
          "6-25",
          "1-5",
          "26-100",
          "26-100",
          "More than 1000",
          "6-25",
          "6-25",
          null,
          "6-25",
          "26-100",
          "1-5",
          "1-5",
          "26-100",
          "6-25",
          "1-5",
          null,
          "6-25",
          "6-25",
          "6-25",
          "1-5",
          "26-100",
          "6-25",
          null,
          "6-25",
          "6-25",
          "1-5",
          "6-25",
          "26-100",
          null,
          "26-100",
          "1-5",
          "1-5",
          "More than 1000",
          "1-5",
          "1-5",
          "26-100",
          "6-25",
          "1-5",
          "6-25",
          "6-25",
          "1-5",
          "6-25",
          "6-25",
          "1-5",
          "6-25",
          "6-25",
          "6-25",
          "6-25",
          "6-25",
          "6-25",
          "1-5",
          "26-100",
          "6-25",
          "6-25",
          "6-25",
          "1-5",
          "1-5",
          "26-100",
          "1-5",
          "26-100",
          "1-5",
          "1-5",
          "1-5",
          "6-25",
          "26-100",
          "6-25",
          null,
          null,
          "1-5",
          "6-25",
          "26-100",
          null,
          null,
          "26-100",
          "1-5",
          null,
          "6-25",
          null,
          "6-25",
          "6-25",
          "1-5",
          "6-25",
          null,
          "6-25",
          "1-5",
          "6-25",
          "6-25",
          "6-25",
          "6-25",
          "26-100",
          "More than 1000",
          "6-25",
          "6-25",
          "26-100",
          "1-5",
          "6-25",
          "6-25",
          "26-100",
          "1-5",
          "More than 1000",
          "More than 1000",
          "26-100",
          null,
          "6-25",
          "26-100",
          "More than 1000",
          "26-100",
          "6-25",
          "1-5",
          "6-25",
          null,
          "26-100",
          "6-25",
          "1-5",
          "26-100",
          null,
          "6-25",
          "6-25",
          "26-100",
          "1-5",
          "26-100",
          "6-25",
          "1-5",
          null,
          "6-25",
          "6-25",
          "1-5",
          null,
          "6-25",
          "1-5",
          null,
          "1-5",
          "6-25",
          "6-25",
          "6-25",
          "26-100",
          "6-25",
          "26-100",
          null,
          "6-25",
          "26-100",
          "6-25",
          "26-100",
          "1-5",
          "26-100",
          "6-25",
          "26-100",
          "26-100",
          null,
          "6-25",
          "6-25",
          "1-5",
          "1-5",
          "1-5",
          "26-100",
          "26-100",
          "26-100",
          "26-100",
          "1-5",
          "26-100",
          "6-25",
          "1-5",
          "6-25",
          null,
          "More than 1000",
          "6-25",
          "1-5",
          "6-25",
          "26-100",
          "6-25",
          "1-5",
          "1-5",
          null,
          "1-5",
          "6-25",
          "26-100",
          null,
          "6-25",
          "26-100",
          "6-25",
          null,
          "6-25",
          "6-25",
          "26-100",
          "More than 1000",
          "1-5",
          "1-5",
          "1-5",
          "6-25",
          "1-5",
          "6-25",
          "6-25",
          "1-5",
          "26-100",
          "6-25",
          "26-100",
          null,
          "1-5",
          "6-25",
          "1-5",
          "6-25",
          "1-5",
          "1-5",
          "More than 1000",
          "1-5",
          "6-25",
          "1-5",
          "6-25",
          "1-5",
          "1-5",
          "1-5",
          "6-25",
          "6-25",
          null,
          "6-25",
          "6-25",
          "1-5",
          "6-25",
          "6-25",
          "1-5",
          "1-5",
          "More than 1000",
          null,
          "1-5",
          "1-5",
          "1-5",
          "26-100",
          "26-100",
          "1-5",
          "1-5",
          "6-25",
          "6-25",
          "26-100",
          "1-5",
          "1-5",
          "More than 1000",
          null,
          "1-5",
          "26-100",
          "1-5",
          "6-25",
          "6-25",
          "1-5",
          "1-5",
          "1-5",
          "More than 1000",
          "6-25",
          "26-100",
          "1-5",
          "1-5",
          "6-25",
          "6-25",
          "1-5",
          "1-5",
          null,
          "6-25",
          "1-5",
          "6-25",
          "1-5",
          "6-25",
          "26-100",
          "6-25",
          "26-100",
          "1-5",
          "6-25",
          "6-25",
          null,
          "1-5",
          "1-5",
          "26-100",
          "6-25",
          "26-100",
          "6-25",
          "1-5",
          "1-5",
          "1-5",
          null,
          "1-5",
          "1-5",
          "6-25",
          "26-100",
          "26-100",
          "6-25",
          "6-25",
          "1-5",
          "1-5",
          "More than 1000",
          "1-5",
          "6-25",
          "26-100",
          "26-100",
          "26-100",
          "More than 1000",
          "26-100",
          "6-25",
          "26-100",
          "More than 1000",
          "More than 1000",
          "More than 1000",
          "1-5",
          "More than 1000",
          "6-25",
          "6-25",
          "6-25",
          "1-5",
          "26-100",
          "26-100",
          "1-5",
          "26-100",
          "1-5",
          "6-25",
          "6-25",
          null,
          "1-5",
          "1-5",
          "6-25",
          "1-5",
          null,
          "1-5",
          "More than 1000",
          "6-25",
          "26-100",
          "6-25",
          "26-100",
          "6-25",
          "6-25",
          "6-25",
          "6-25",
          "26-100",
          "6-25",
          "More than 1000",
          "6-25",
          null,
          "26-100",
          null
         ],
         "xaxis": "x",
         "yaxis": "y"
        },
        {
         "alignmentgroup": "True",
         "bingroup": "x",
         "hovertemplate": "Provides Benefits=Don't Know<br>no_employees=%{x}<br>count=%{y}<extra></extra>",
         "legendgroup": "Don't Know",
         "marker": {
          "color": "#00cc96",
          "pattern": {
           "shape": ""
          }
         },
         "name": "Don't Know",
         "offsetgroup": "Don't Know",
         "orientation": "v",
         "showlegend": true,
         "type": "histogram",
         "x": [
          "More than 1000",
          "26-100",
          "6-25",
          null,
          null,
          "6-25",
          "26-100",
          "More than 1000",
          "1-5",
          "26-100",
          null,
          "26-100",
          "26-100",
          null,
          null,
          "1-5",
          "6-25",
          "26-100",
          "6-25",
          "26-100",
          "6-25",
          "26-100",
          "6-25",
          "More than 1000",
          "6-25",
          "26-100",
          null,
          "26-100",
          "26-100",
          "26-100",
          "6-25",
          "26-100",
          "26-100",
          "More than 1000",
          "6-25",
          "26-100",
          "26-100",
          "6-25",
          "6-25",
          "26-100",
          "26-100",
          "6-25",
          "6-25",
          "6-25",
          null,
          "26-100",
          "More than 1000",
          null,
          "1-5",
          "26-100",
          "6-25",
          "26-100",
          "More than 1000",
          "26-100",
          "26-100",
          "6-25",
          null,
          "6-25",
          "More than 1000",
          "6-25",
          "26-100",
          "6-25",
          "26-100",
          "More than 1000",
          "6-25",
          "1-5",
          null,
          "More than 1000",
          null,
          null,
          "26-100",
          "6-25",
          "26-100",
          "6-25",
          "26-100",
          "1-5",
          "1-5",
          "More than 1000",
          "26-100",
          "26-100",
          "6-25",
          "6-25",
          "26-100",
          null,
          "6-25",
          "6-25",
          "1-5",
          null,
          "6-25",
          "6-25",
          null,
          "26-100",
          "More than 1000",
          null,
          "26-100",
          "6-25",
          "More than 1000",
          "6-25",
          null,
          "More than 1000",
          "More than 1000",
          null,
          "26-100",
          "26-100",
          "More than 1000",
          "More than 1000",
          "1-5",
          null,
          "More than 1000",
          "More than 1000",
          "6-25",
          "26-100",
          "More than 1000",
          "6-25",
          "26-100",
          "26-100",
          "6-25",
          null,
          "6-25",
          "More than 1000",
          "26-100",
          "26-100",
          null,
          null,
          "More than 1000",
          "26-100",
          "More than 1000",
          "6-25",
          "More than 1000",
          "More than 1000",
          "More than 1000",
          null,
          "6-25",
          null,
          "26-100",
          "6-25",
          null,
          "26-100",
          "26-100",
          "6-25",
          "More than 1000",
          null,
          "6-25",
          null,
          "More than 1000",
          "26-100",
          "26-100",
          "6-25",
          "6-25",
          "6-25",
          "26-100",
          null,
          null,
          "26-100",
          "1-5",
          "6-25",
          "26-100",
          null,
          "26-100",
          "1-5",
          "6-25",
          "More than 1000",
          "More than 1000",
          "6-25",
          "More than 1000",
          "26-100",
          "1-5",
          null,
          "6-25",
          "26-100",
          "More than 1000",
          "6-25",
          null,
          "6-25",
          "6-25",
          "26-100",
          null,
          "More than 1000",
          "26-100",
          "More than 1000",
          null,
          "More than 1000",
          "26-100",
          null,
          null,
          "26-100",
          "26-100",
          "6-25",
          null,
          "26-100",
          "26-100",
          "26-100",
          null,
          "1-5",
          "26-100",
          "26-100",
          "More than 1000",
          "26-100",
          null,
          "1-5",
          null,
          null,
          "More than 1000",
          null,
          "1-5",
          null,
          "6-25",
          "1-5",
          "More than 1000",
          "More than 1000",
          "1-5",
          "More than 1000",
          null,
          "6-25",
          null,
          "26-100",
          "26-100",
          "6-25",
          "26-100",
          "More than 1000",
          "26-100",
          "6-25",
          "26-100",
          null,
          null,
          "26-100",
          "1-5",
          "26-100",
          "6-25",
          null,
          "6-25",
          "More than 1000",
          "6-25",
          "6-25",
          "26-100",
          "More than 1000",
          "6-25",
          null,
          "26-100",
          "More than 1000",
          "26-100",
          "26-100",
          "More than 1000",
          null,
          "26-100",
          null,
          "26-100",
          "26-100",
          null,
          "More than 1000",
          "More than 1000",
          "6-25",
          "More than 1000",
          "More than 1000",
          "6-25",
          "26-100",
          "More than 1000",
          "1-5",
          "6-25",
          null,
          null,
          "6-25",
          "More than 1000",
          "26-100",
          null,
          "26-100",
          "6-25",
          "26-100",
          "6-25",
          "1-5",
          "26-100",
          "More than 1000",
          "26-100",
          "26-100",
          "1-5",
          "6-25",
          null,
          null,
          "More than 1000",
          "More than 1000",
          "More than 1000",
          "26-100",
          null,
          "6-25",
          "6-25",
          null,
          "More than 1000",
          null,
          "More than 1000",
          "6-25",
          "More than 1000",
          "26-100",
          null,
          "6-25",
          null,
          null,
          null,
          "26-100",
          "26-100",
          "More than 1000",
          "6-25",
          null,
          "1-5",
          "More than 1000",
          "6-25",
          "6-25",
          "More than 1000",
          "26-100",
          "6-25",
          "26-100",
          "More than 1000",
          "More than 1000",
          "6-25",
          "26-100",
          "1-5",
          "6-25",
          null,
          "6-25",
          "6-25",
          null,
          null,
          null,
          "26-100",
          "1-5",
          "6-25",
          "26-100",
          null,
          null,
          null,
          "26-100",
          null,
          "6-25",
          "26-100",
          "26-100",
          "26-100",
          "6-25",
          "1-5",
          "6-25",
          "6-25",
          null,
          "More than 1000",
          "26-100",
          "More than 1000",
          "1-5",
          "More than 1000",
          "6-25",
          "6-25",
          null,
          "1-5",
          "6-25",
          "6-25",
          "More than 1000",
          "1-5",
          "26-100",
          "6-25",
          "More than 1000",
          "6-25",
          "More than 1000",
          null,
          null,
          "6-25",
          "1-5",
          null,
          "6-25",
          null,
          "26-100",
          "6-25",
          "26-100",
          "6-25",
          "More than 1000",
          "More than 1000",
          "26-100",
          null,
          "26-100",
          "6-25",
          "1-5",
          "6-25",
          "More than 1000",
          "26-100",
          "6-25",
          "More than 1000",
          "More than 1000",
          "6-25",
          null,
          "1-5",
          "26-100",
          "26-100",
          "26-100",
          "26-100",
          "1-5",
          null,
          null,
          "26-100",
          "26-100",
          "More than 1000",
          "More than 1000",
          "More than 1000",
          "26-100",
          null,
          "1-5",
          "26-100",
          "26-100",
          "6-25",
          "More than 1000",
          null,
          null,
          "26-100",
          "More than 1000"
         ],
         "xaxis": "x",
         "yaxis": "y"
        }
       ],
       "layout": {
        "barmode": "group",
        "legend": {
         "title": {
          "text": "Provides Benefits"
         },
         "tracegroupgap": 0
        },
        "template": {
         "data": {
          "bar": [
           {
            "error_x": {
             "color": "#2a3f5f"
            },
            "error_y": {
             "color": "#2a3f5f"
            },
            "marker": {
             "line": {
              "color": "#E5ECF6",
              "width": 0.5
             },
             "pattern": {
              "fillmode": "overlay",
              "size": 10,
              "solidity": 0.2
             }
            },
            "type": "bar"
           }
          ],
          "barpolar": [
           {
            "marker": {
             "line": {
              "color": "#E5ECF6",
              "width": 0.5
             },
             "pattern": {
              "fillmode": "overlay",
              "size": 10,
              "solidity": 0.2
             }
            },
            "type": "barpolar"
           }
          ],
          "carpet": [
           {
            "aaxis": {
             "endlinecolor": "#2a3f5f",
             "gridcolor": "white",
             "linecolor": "white",
             "minorgridcolor": "white",
             "startlinecolor": "#2a3f5f"
            },
            "baxis": {
             "endlinecolor": "#2a3f5f",
             "gridcolor": "white",
             "linecolor": "white",
             "minorgridcolor": "white",
             "startlinecolor": "#2a3f5f"
            },
            "type": "carpet"
           }
          ],
          "choropleth": [
           {
            "colorbar": {
             "outlinewidth": 0,
             "ticks": ""
            },
            "type": "choropleth"
           }
          ],
          "contour": [
           {
            "colorbar": {
             "outlinewidth": 0,
             "ticks": ""
            },
            "colorscale": [
             [
              0,
              "#0d0887"
             ],
             [
              0.1111111111111111,
              "#46039f"
             ],
             [
              0.2222222222222222,
              "#7201a8"
             ],
             [
              0.3333333333333333,
              "#9c179e"
             ],
             [
              0.4444444444444444,
              "#bd3786"
             ],
             [
              0.5555555555555556,
              "#d8576b"
             ],
             [
              0.6666666666666666,
              "#ed7953"
             ],
             [
              0.7777777777777778,
              "#fb9f3a"
             ],
             [
              0.8888888888888888,
              "#fdca26"
             ],
             [
              1,
              "#f0f921"
             ]
            ],
            "type": "contour"
           }
          ],
          "contourcarpet": [
           {
            "colorbar": {
             "outlinewidth": 0,
             "ticks": ""
            },
            "type": "contourcarpet"
           }
          ],
          "heatmap": [
           {
            "colorbar": {
             "outlinewidth": 0,
             "ticks": ""
            },
            "colorscale": [
             [
              0,
              "#0d0887"
             ],
             [
              0.1111111111111111,
              "#46039f"
             ],
             [
              0.2222222222222222,
              "#7201a8"
             ],
             [
              0.3333333333333333,
              "#9c179e"
             ],
             [
              0.4444444444444444,
              "#bd3786"
             ],
             [
              0.5555555555555556,
              "#d8576b"
             ],
             [
              0.6666666666666666,
              "#ed7953"
             ],
             [
              0.7777777777777778,
              "#fb9f3a"
             ],
             [
              0.8888888888888888,
              "#fdca26"
             ],
             [
              1,
              "#f0f921"
             ]
            ],
            "type": "heatmap"
           }
          ],
          "histogram": [
           {
            "marker": {
             "pattern": {
              "fillmode": "overlay",
              "size": 10,
              "solidity": 0.2
             }
            },
            "type": "histogram"
           }
          ],
          "histogram2d": [
           {
            "colorbar": {
             "outlinewidth": 0,
             "ticks": ""
            },
            "colorscale": [
             [
              0,
              "#0d0887"
             ],
             [
              0.1111111111111111,
              "#46039f"
             ],
             [
              0.2222222222222222,
              "#7201a8"
             ],
             [
              0.3333333333333333,
              "#9c179e"
             ],
             [
              0.4444444444444444,
              "#bd3786"
             ],
             [
              0.5555555555555556,
              "#d8576b"
             ],
             [
              0.6666666666666666,
              "#ed7953"
             ],
             [
              0.7777777777777778,
              "#fb9f3a"
             ],
             [
              0.8888888888888888,
              "#fdca26"
             ],
             [
              1,
              "#f0f921"
             ]
            ],
            "type": "histogram2d"
           }
          ],
          "histogram2dcontour": [
           {
            "colorbar": {
             "outlinewidth": 0,
             "ticks": ""
            },
            "colorscale": [
             [
              0,
              "#0d0887"
             ],
             [
              0.1111111111111111,
              "#46039f"
             ],
             [
              0.2222222222222222,
              "#7201a8"
             ],
             [
              0.3333333333333333,
              "#9c179e"
             ],
             [
              0.4444444444444444,
              "#bd3786"
             ],
             [
              0.5555555555555556,
              "#d8576b"
             ],
             [
              0.6666666666666666,
              "#ed7953"
             ],
             [
              0.7777777777777778,
              "#fb9f3a"
             ],
             [
              0.8888888888888888,
              "#fdca26"
             ],
             [
              1,
              "#f0f921"
             ]
            ],
            "type": "histogram2dcontour"
           }
          ],
          "mesh3d": [
           {
            "colorbar": {
             "outlinewidth": 0,
             "ticks": ""
            },
            "type": "mesh3d"
           }
          ],
          "parcoords": [
           {
            "line": {
             "colorbar": {
              "outlinewidth": 0,
              "ticks": ""
             }
            },
            "type": "parcoords"
           }
          ],
          "pie": [
           {
            "automargin": true,
            "type": "pie"
           }
          ],
          "scatter": [
           {
            "fillpattern": {
             "fillmode": "overlay",
             "size": 10,
             "solidity": 0.2
            },
            "type": "scatter"
           }
          ],
          "scatter3d": [
           {
            "line": {
             "colorbar": {
              "outlinewidth": 0,
              "ticks": ""
             }
            },
            "marker": {
             "colorbar": {
              "outlinewidth": 0,
              "ticks": ""
             }
            },
            "type": "scatter3d"
           }
          ],
          "scattercarpet": [
           {
            "marker": {
             "colorbar": {
              "outlinewidth": 0,
              "ticks": ""
             }
            },
            "type": "scattercarpet"
           }
          ],
          "scattergeo": [
           {
            "marker": {
             "colorbar": {
              "outlinewidth": 0,
              "ticks": ""
             }
            },
            "type": "scattergeo"
           }
          ],
          "scattergl": [
           {
            "marker": {
             "colorbar": {
              "outlinewidth": 0,
              "ticks": ""
             }
            },
            "type": "scattergl"
           }
          ],
          "scattermap": [
           {
            "marker": {
             "colorbar": {
              "outlinewidth": 0,
              "ticks": ""
             }
            },
            "type": "scattermap"
           }
          ],
          "scattermapbox": [
           {
            "marker": {
             "colorbar": {
              "outlinewidth": 0,
              "ticks": ""
             }
            },
            "type": "scattermapbox"
           }
          ],
          "scatterpolar": [
           {
            "marker": {
             "colorbar": {
              "outlinewidth": 0,
              "ticks": ""
             }
            },
            "type": "scatterpolar"
           }
          ],
          "scatterpolargl": [
           {
            "marker": {
             "colorbar": {
              "outlinewidth": 0,
              "ticks": ""
             }
            },
            "type": "scatterpolargl"
           }
          ],
          "scatterternary": [
           {
            "marker": {
             "colorbar": {
              "outlinewidth": 0,
              "ticks": ""
             }
            },
            "type": "scatterternary"
           }
          ],
          "surface": [
           {
            "colorbar": {
             "outlinewidth": 0,
             "ticks": ""
            },
            "colorscale": [
             [
              0,
              "#0d0887"
             ],
             [
              0.1111111111111111,
              "#46039f"
             ],
             [
              0.2222222222222222,
              "#7201a8"
             ],
             [
              0.3333333333333333,
              "#9c179e"
             ],
             [
              0.4444444444444444,
              "#bd3786"
             ],
             [
              0.5555555555555556,
              "#d8576b"
             ],
             [
              0.6666666666666666,
              "#ed7953"
             ],
             [
              0.7777777777777778,
              "#fb9f3a"
             ],
             [
              0.8888888888888888,
              "#fdca26"
             ],
             [
              1,
              "#f0f921"
             ]
            ],
            "type": "surface"
           }
          ],
          "table": [
           {
            "cells": {
             "fill": {
              "color": "#EBF0F8"
             },
             "line": {
              "color": "white"
             }
            },
            "header": {
             "fill": {
              "color": "#C8D4E3"
             },
             "line": {
              "color": "white"
             }
            },
            "type": "table"
           }
          ]
         },
         "layout": {
          "annotationdefaults": {
           "arrowcolor": "#2a3f5f",
           "arrowhead": 0,
           "arrowwidth": 1
          },
          "autotypenumbers": "strict",
          "coloraxis": {
           "colorbar": {
            "outlinewidth": 0,
            "ticks": ""
           }
          },
          "colorscale": {
           "diverging": [
            [
             0,
             "#8e0152"
            ],
            [
             0.1,
             "#c51b7d"
            ],
            [
             0.2,
             "#de77ae"
            ],
            [
             0.3,
             "#f1b6da"
            ],
            [
             0.4,
             "#fde0ef"
            ],
            [
             0.5,
             "#f7f7f7"
            ],
            [
             0.6,
             "#e6f5d0"
            ],
            [
             0.7,
             "#b8e186"
            ],
            [
             0.8,
             "#7fbc41"
            ],
            [
             0.9,
             "#4d9221"
            ],
            [
             1,
             "#276419"
            ]
           ],
           "sequential": [
            [
             0,
             "#0d0887"
            ],
            [
             0.1111111111111111,
             "#46039f"
            ],
            [
             0.2222222222222222,
             "#7201a8"
            ],
            [
             0.3333333333333333,
             "#9c179e"
            ],
            [
             0.4444444444444444,
             "#bd3786"
            ],
            [
             0.5555555555555556,
             "#d8576b"
            ],
            [
             0.6666666666666666,
             "#ed7953"
            ],
            [
             0.7777777777777778,
             "#fb9f3a"
            ],
            [
             0.8888888888888888,
             "#fdca26"
            ],
            [
             1,
             "#f0f921"
            ]
           ],
           "sequentialminus": [
            [
             0,
             "#0d0887"
            ],
            [
             0.1111111111111111,
             "#46039f"
            ],
            [
             0.2222222222222222,
             "#7201a8"
            ],
            [
             0.3333333333333333,
             "#9c179e"
            ],
            [
             0.4444444444444444,
             "#bd3786"
            ],
            [
             0.5555555555555556,
             "#d8576b"
            ],
            [
             0.6666666666666666,
             "#ed7953"
            ],
            [
             0.7777777777777778,
             "#fb9f3a"
            ],
            [
             0.8888888888888888,
             "#fdca26"
            ],
            [
             1,
             "#f0f921"
            ]
           ]
          },
          "colorway": [
           "#636efa",
           "#EF553B",
           "#00cc96",
           "#ab63fa",
           "#FFA15A",
           "#19d3f3",
           "#FF6692",
           "#B6E880",
           "#FF97FF",
           "#FECB52"
          ],
          "font": {
           "color": "#2a3f5f"
          },
          "geo": {
           "bgcolor": "white",
           "lakecolor": "white",
           "landcolor": "#E5ECF6",
           "showlakes": true,
           "showland": true,
           "subunitcolor": "white"
          },
          "hoverlabel": {
           "align": "left"
          },
          "hovermode": "closest",
          "mapbox": {
           "style": "light"
          },
          "paper_bgcolor": "white",
          "plot_bgcolor": "#E5ECF6",
          "polar": {
           "angularaxis": {
            "gridcolor": "white",
            "linecolor": "white",
            "ticks": ""
           },
           "bgcolor": "#E5ECF6",
           "radialaxis": {
            "gridcolor": "white",
            "linecolor": "white",
            "ticks": ""
           }
          },
          "scene": {
           "xaxis": {
            "backgroundcolor": "#E5ECF6",
            "gridcolor": "white",
            "gridwidth": 2,
            "linecolor": "white",
            "showbackground": true,
            "ticks": "",
            "zerolinecolor": "white"
           },
           "yaxis": {
            "backgroundcolor": "#E5ECF6",
            "gridcolor": "white",
            "gridwidth": 2,
            "linecolor": "white",
            "showbackground": true,
            "ticks": "",
            "zerolinecolor": "white"
           },
           "zaxis": {
            "backgroundcolor": "#E5ECF6",
            "gridcolor": "white",
            "gridwidth": 2,
            "linecolor": "white",
            "showbackground": true,
            "ticks": "",
            "zerolinecolor": "white"
           }
          },
          "shapedefaults": {
           "line": {
            "color": "#2a3f5f"
           }
          },
          "ternary": {
           "aaxis": {
            "gridcolor": "white",
            "linecolor": "white",
            "ticks": ""
           },
           "baxis": {
            "gridcolor": "white",
            "linecolor": "white",
            "ticks": ""
           },
           "bgcolor": "#E5ECF6",
           "caxis": {
            "gridcolor": "white",
            "linecolor": "white",
            "ticks": ""
           }
          },
          "title": {
           "x": 0.05
          },
          "xaxis": {
           "automargin": true,
           "gridcolor": "white",
           "linecolor": "white",
           "ticks": "",
           "title": {
            "standoff": 15
           },
           "zerolinecolor": "white",
           "zerolinewidth": 2
          },
          "yaxis": {
           "automargin": true,
           "gridcolor": "white",
           "linecolor": "white",
           "ticks": "",
           "title": {
            "standoff": 15
           },
           "zerolinecolor": "white",
           "zerolinewidth": 2
          }
         }
        },
        "title": {
         "text": "Mental Health Benefits by Company Size"
        },
        "xaxis": {
         "anchor": "y",
         "categoryarray": [
          "1-5",
          "6-25",
          "26-100",
          "100-500",
          "500-1000",
          "More than 1000"
         ],
         "categoryorder": "array",
         "domain": [
          0,
          1
         ],
         "title": {
          "text": "Company Size"
         }
        },
        "yaxis": {
         "anchor": "x",
         "domain": [
          0,
          1
         ],
         "title": {
          "text": "Number of Companies"
         }
        }
       }
      }
     },
     "metadata": {},
     "output_type": "display_data"
    }
   ],
   "source": [
    "fig = px.histogram(df, x='no_employees', color='benefits', barmode='group',\n",
    "                   title='Mental Health Benefits by Company Size',\n",
    "                   category_orders={'no_employees': df['no_employees'].cat.categories, 'benefits': ['Yes', 'No', 'Don\\'t Know']},\n",
    "                   labels={'benefits': 'Provides Benefits'})\n",
    "fig.update_layout(xaxis_title='Company Size', yaxis_title='Number of Companies')\n",
    "fig.show()"
   ]
  },
  {
   "cell_type": "markdown",
   "id": "ac5187bf",
   "metadata": {},
   "source": [
    "### Question: Do people with family history of mental illness seek more treatment?"
   ]
  },
  {
   "cell_type": "code",
   "execution_count": 37,
   "id": "df25948e",
   "metadata": {},
   "outputs": [
    {
     "data": {
      "application/vnd.plotly.v1+json": {
       "config": {
        "plotlyServerURL": "https://plot.ly"
       },
       "data": [
        {
         "alignmentgroup": "True",
         "bingroup": "x",
         "hovertemplate": "Sought Treatment=Yes<br>Family History of Mental Illness=%{x}<br>count=%{y}<extra></extra>",
         "legendgroup": "Yes",
         "marker": {
          "color": "#636efa",
          "pattern": {
           "shape": ""
          }
         },
         "name": "Yes",
         "offsetgroup": "Yes",
         "orientation": "v",
         "showlegend": true,
         "type": "histogram",
         "x": [
          "No",
          "Yes",
          "Yes",
          "Yes",
          "No",
          "Yes",
          "Yes",
          "No",
          "No",
          "Yes",
          "No",
          "No",
          "Yes",
          "Yes",
          "Yes",
          "No",
          "Yes",
          "Yes",
          "No",
          "No",
          "No",
          "No",
          "Yes",
          "No",
          "Yes",
          "Yes",
          "Yes",
          "Yes",
          "Yes",
          "Yes",
          "Yes",
          "No",
          "Yes",
          "Yes",
          "No",
          "No",
          "Yes",
          "No",
          "No",
          "No",
          "Yes",
          "No",
          "No",
          "Yes",
          "Yes",
          "Yes",
          "Yes",
          "No",
          "No",
          "No",
          "Yes",
          "No",
          "Yes",
          "No",
          "No",
          "No",
          "Yes",
          "No",
          "No",
          "Yes",
          "No",
          "Yes",
          "No",
          "Yes",
          "Yes",
          "Yes",
          "No",
          "Yes",
          "No",
          "Yes",
          "Yes",
          "No",
          "No",
          "No",
          "Yes",
          "No",
          "No",
          "No",
          "Yes",
          "Yes",
          "Yes",
          "Yes",
          "No",
          "Yes",
          "Yes",
          "No",
          "No",
          "Yes",
          "No",
          "No",
          "No",
          "Yes",
          "No",
          "Yes",
          "No",
          "No",
          "No",
          "No",
          "No",
          "No",
          "No",
          "Yes",
          "Yes",
          "Yes",
          "Yes",
          "Yes",
          "No",
          "No",
          "Yes",
          "Yes",
          "Yes",
          "Yes",
          "No",
          "Yes",
          "No",
          "No",
          "Yes",
          "No",
          "Yes",
          "Yes",
          "Yes",
          "No",
          "No",
          "Yes",
          "No",
          "Yes",
          "Yes",
          "Yes",
          "No",
          "Yes",
          "Yes",
          "No",
          "Yes",
          "Yes",
          "No",
          "No",
          "Yes",
          "No",
          "Yes",
          "Yes",
          "No",
          "No",
          "No",
          "Yes",
          "Yes",
          "Yes",
          "No",
          "Yes",
          "No",
          "Yes",
          "Yes",
          "Yes",
          "No",
          "No",
          "Yes",
          "Yes",
          "Yes",
          "Yes",
          "No",
          "Yes",
          "No",
          "Yes",
          "Yes",
          "No",
          "Yes",
          "Yes",
          "Yes",
          "No",
          "Yes",
          "Yes",
          "Yes",
          "No",
          "Yes",
          "Yes",
          "No",
          "Yes",
          "No",
          "No",
          "Yes",
          "Yes",
          "Yes",
          "No",
          "No",
          "Yes",
          "Yes",
          "No",
          "Yes",
          "Yes",
          "No",
          "Yes",
          "Yes",
          "Yes",
          "Yes",
          "No",
          "Yes",
          "Yes",
          "Yes",
          "Yes",
          "Yes",
          "Yes",
          "Yes",
          "Yes",
          "No",
          "Yes",
          "Yes",
          "Yes",
          "Yes",
          "Yes",
          "No",
          "Yes",
          "Yes",
          "No",
          "No",
          "No",
          "Yes",
          "No",
          "Yes",
          "No",
          "No",
          "Yes",
          "Yes",
          "Yes",
          "No",
          "Yes",
          "Yes",
          "No",
          "Yes",
          "No",
          "No",
          "No",
          "No",
          "No",
          "No",
          "Yes",
          "Yes",
          "No",
          "Yes",
          "No",
          "No",
          "Yes",
          "Yes",
          "Yes",
          "Yes",
          "No",
          "Yes",
          "No",
          "No",
          "No",
          "No",
          "Yes",
          "Yes",
          "No",
          "Yes",
          "No",
          "Yes",
          "No",
          "Yes",
          "Yes",
          "Yes",
          "No",
          "No",
          "Yes",
          "No",
          "Yes",
          "Yes",
          "Yes",
          "Yes",
          "Yes",
          "Yes",
          "Yes",
          "Yes",
          "Yes",
          "No",
          "No",
          "No",
          "Yes",
          "No",
          "Yes",
          "Yes",
          "No",
          "No",
          "No",
          "No",
          "Yes",
          "Yes",
          "No",
          "Yes",
          "Yes",
          "Yes",
          "No",
          "No",
          "Yes",
          "No",
          "Yes",
          "Yes",
          "Yes",
          "Yes",
          "Yes",
          "Yes",
          "Yes",
          "Yes",
          "No",
          "No",
          "Yes",
          "Yes",
          "No",
          "Yes",
          "Yes",
          "Yes",
          "Yes",
          "Yes",
          "Yes",
          "No",
          "Yes",
          "No",
          "No",
          "Yes",
          "No",
          "Yes",
          "Yes",
          "Yes",
          "Yes",
          "Yes",
          "Yes",
          "No",
          "Yes",
          "No",
          "No",
          "Yes",
          "No",
          "No",
          "No",
          "Yes",
          "No",
          "Yes",
          "Yes",
          "Yes",
          "No",
          "No",
          "No",
          "Yes",
          "Yes",
          "No",
          "Yes",
          "No",
          "No",
          "No",
          "Yes",
          "No",
          "Yes",
          "Yes",
          "Yes",
          "Yes",
          "No",
          "No",
          "No",
          "Yes",
          "Yes",
          "No",
          "Yes",
          "No",
          "No",
          "Yes",
          "No",
          "Yes",
          "Yes",
          "Yes",
          "Yes",
          "No",
          "Yes",
          "Yes",
          "Yes",
          "No",
          "Yes",
          "No",
          "No",
          "Yes",
          "Yes",
          "No",
          "No",
          "No",
          "No",
          "Yes",
          "Yes",
          "Yes",
          "No",
          "No",
          "No",
          "No",
          "Yes",
          "Yes",
          "No",
          "Yes",
          "No",
          "Yes",
          "No",
          "No",
          "No",
          "Yes",
          "Yes",
          "No",
          "Yes",
          "Yes",
          "Yes",
          "No",
          "Yes",
          "No",
          "Yes",
          "No",
          "Yes",
          "Yes",
          "No",
          "Yes",
          "No",
          "No",
          "Yes",
          "No",
          "Yes",
          "Yes",
          "No",
          "Yes",
          "No",
          "Yes",
          "No",
          "Yes",
          "Yes",
          "No",
          "Yes",
          "Yes",
          "No",
          "Yes",
          "Yes",
          "No",
          "Yes",
          "Yes",
          "No",
          "Yes",
          "Yes",
          "No",
          "No",
          "No",
          "No",
          "Yes",
          "Yes",
          "Yes",
          "No",
          "No",
          "Yes",
          "Yes",
          "Yes",
          "No",
          "Yes",
          "No",
          "Yes",
          "Yes",
          "Yes",
          "No",
          "Yes",
          "No",
          "Yes",
          "Yes",
          "Yes",
          "Yes",
          "Yes",
          "Yes",
          "No",
          "No",
          "Yes",
          "No",
          "Yes",
          "No",
          "Yes",
          "Yes",
          "Yes",
          "No",
          "No",
          "No",
          "Yes",
          "Yes",
          "No",
          "No",
          "Yes",
          "Yes",
          "Yes",
          "Yes",
          "Yes",
          "Yes",
          "No",
          "Yes",
          "Yes",
          "No",
          "No",
          "Yes",
          "Yes",
          "Yes",
          "No",
          "Yes",
          "Yes",
          "Yes",
          "No",
          "Yes",
          "Yes",
          "Yes",
          "Yes",
          "Yes",
          "Yes",
          "Yes",
          "Yes",
          "No",
          "No",
          "Yes",
          "Yes",
          "No",
          "Yes",
          "Yes",
          "Yes",
          "Yes",
          "Yes",
          "No",
          "No",
          "No",
          "No",
          "Yes",
          "Yes",
          "No",
          "No",
          "Yes",
          "Yes",
          "Yes",
          "Yes",
          "No",
          "Yes",
          "Yes",
          "Yes",
          "Yes",
          "Yes",
          "No",
          "No",
          "Yes",
          "Yes",
          "No",
          "No",
          "No",
          "Yes",
          "Yes",
          "Yes",
          "No",
          "No",
          "Yes",
          "No",
          "Yes",
          "No",
          "Yes",
          "No",
          "Yes",
          "Yes",
          "No",
          "No",
          "No",
          "No",
          "Yes",
          "No",
          "Yes",
          "Yes",
          "Yes",
          "No",
          "Yes",
          "Yes",
          "No",
          "No",
          "Yes",
          "Yes",
          "Yes",
          "No",
          "Yes",
          "Yes",
          "Yes",
          "Yes",
          "No",
          "Yes",
          "No",
          "Yes",
          "No",
          "Yes",
          "No",
          "Yes",
          "No",
          "No",
          "Yes",
          "Yes",
          "Yes",
          "No",
          "Yes",
          "Yes",
          "Yes",
          "No",
          "No",
          "No",
          "No",
          "No",
          "No",
          "Yes",
          "No",
          "No",
          "Yes",
          "No",
          "No",
          "No",
          "Yes",
          "Yes",
          "No",
          "Yes",
          "No",
          "Yes",
          "Yes",
          "No",
          "Yes",
          "No",
          "No",
          "No",
          "No",
          "Yes",
          "Yes",
          "No",
          "No",
          "Yes",
          "Yes",
          "No",
          "Yes",
          "Yes",
          "Yes",
          "Yes",
          "Yes",
          "No",
          "Yes",
          "Yes",
          "Yes"
         ],
         "xaxis": "x",
         "yaxis": "y"
        },
        {
         "alignmentgroup": "True",
         "bingroup": "x",
         "hovertemplate": "Sought Treatment=No<br>Family History of Mental Illness=%{x}<br>count=%{y}<extra></extra>",
         "legendgroup": "No",
         "marker": {
          "color": "#EF553B",
          "pattern": {
           "shape": ""
          }
         },
         "name": "No",
         "offsetgroup": "No",
         "orientation": "v",
         "showlegend": true,
         "type": "histogram",
         "x": [
          "No",
          "No",
          "No",
          "Yes",
          "No",
          "No",
          "No",
          "Yes",
          "No",
          "Yes",
          "Yes",
          "No",
          "No",
          "No",
          "No",
          "Yes",
          "No",
          "No",
          "No",
          "No",
          "No",
          "No",
          "No",
          "No",
          "No",
          "No",
          "No",
          "No",
          "Yes",
          "No",
          "No",
          "No",
          "No",
          "Yes",
          "No",
          "No",
          "No",
          "No",
          "No",
          "No",
          "No",
          "No",
          "No",
          "No",
          "Yes",
          "No",
          "Yes",
          "No",
          "No",
          "Yes",
          "No",
          "No",
          "No",
          "No",
          "No",
          "No",
          "Yes",
          "No",
          "Yes",
          "No",
          "Yes",
          "Yes",
          "No",
          "No",
          "No",
          "No",
          "No",
          "No",
          "No",
          "No",
          "No",
          "Yes",
          "No",
          "Yes",
          "No",
          "No",
          "No",
          "No",
          "No",
          "No",
          "No",
          "No",
          "No",
          "Yes",
          "No",
          "No",
          "No",
          "Yes",
          "Yes",
          "No",
          "No",
          "No",
          "No",
          "Yes",
          "Yes",
          "No",
          "No",
          "Yes",
          "No",
          "No",
          "No",
          "No",
          "No",
          "No",
          "No",
          "No",
          "No",
          "No",
          "No",
          "Yes",
          "No",
          "No",
          "Yes",
          "No",
          "No",
          "Yes",
          "No",
          "Yes",
          "No",
          "No",
          "No",
          "Yes",
          "No",
          "No",
          "No",
          "No",
          "No",
          "No",
          "No",
          "No",
          "No",
          "No",
          "No",
          "No",
          "No",
          "Yes",
          "No",
          "No",
          "No",
          "No",
          "Yes",
          "No",
          "No",
          "No",
          "No",
          "No",
          "No",
          "No",
          "No",
          "No",
          "No",
          "No",
          "No",
          "No",
          "No",
          "No",
          "Yes",
          "No",
          "No",
          "No",
          "No",
          "No",
          "No",
          "No",
          "No",
          "No",
          "No",
          "No",
          "No",
          "No",
          "Yes",
          "No",
          "No",
          "No",
          "No",
          "No",
          "No",
          "No",
          "No",
          "No",
          "No",
          "No",
          "No",
          "No",
          "No",
          "No",
          "No",
          "Yes",
          "No",
          "No",
          "No",
          "No",
          "No",
          "No",
          "Yes",
          "No",
          "No",
          "Yes",
          "No",
          "No",
          "No",
          "Yes",
          "No",
          "No",
          "No",
          "No",
          "No",
          "Yes",
          "No",
          "No",
          "Yes",
          "Yes",
          "Yes",
          "No",
          "No",
          "No",
          "No",
          "No",
          "No",
          "No",
          "No",
          "No",
          "No",
          "No",
          "No",
          "Yes",
          "No",
          "No",
          "Yes",
          "Yes",
          "Yes",
          "No",
          "No",
          "Yes",
          "No",
          "No",
          "No",
          "No",
          "No",
          "Yes",
          "No",
          "No",
          "No",
          "No",
          "No",
          "No",
          "No",
          "No",
          "No",
          "No",
          "No",
          "No",
          "No",
          "No",
          "Yes",
          "No",
          "No",
          "No",
          "No",
          "No",
          "No",
          "No",
          "No",
          "No",
          "No",
          "No",
          "Yes",
          "No",
          "No",
          "Yes",
          "No",
          "No",
          "No",
          "No",
          "No",
          "No",
          "Yes",
          "No",
          "Yes",
          "No",
          "No",
          "No",
          "No",
          "No",
          "No",
          "Yes",
          "No",
          "No",
          "Yes",
          "No",
          "Yes",
          "No",
          "Yes",
          "No",
          "No",
          "No",
          "No",
          "Yes",
          "No",
          "No",
          "No",
          "Yes",
          "Yes",
          "No",
          "No",
          "No",
          "No",
          "No",
          "No",
          "No",
          "No",
          "No",
          "No",
          "No",
          "Yes",
          "Yes",
          "No",
          "No",
          "No",
          "No",
          "No",
          "No",
          "No",
          "No",
          "No",
          "No",
          "Yes",
          "No",
          "No",
          "Yes",
          "No",
          "No",
          "No",
          "No",
          "No",
          "No",
          "No",
          "No",
          "No",
          "No",
          "No",
          "No",
          "No",
          "No",
          "Yes",
          "No",
          "Yes",
          "Yes",
          "No",
          "No",
          "No",
          "No",
          "No",
          "No",
          "No",
          "No",
          "No",
          "No",
          "No",
          "No",
          "No",
          "No",
          "No",
          "No",
          "No",
          "Yes",
          "No",
          "No",
          "No",
          "Yes",
          "No",
          "No",
          "No",
          "No",
          "No",
          "No",
          "No",
          "No",
          "No",
          "No",
          "No",
          "No",
          "No",
          "No",
          "No",
          "No",
          "Yes",
          "No",
          "No",
          "No",
          "No",
          "Yes",
          "No",
          "No",
          "No",
          "No",
          "No",
          "No",
          "No",
          "No",
          "No",
          "No",
          "Yes",
          "No",
          "No",
          "No",
          "No",
          "Yes",
          "No",
          "No",
          "No",
          "No",
          "Yes",
          "No",
          "Yes",
          "No",
          "No",
          "No",
          "No",
          "No",
          "No",
          "Yes",
          "No",
          "No",
          "Yes",
          "No",
          "No",
          "Yes",
          "No",
          "No",
          "No",
          "Yes",
          "No",
          "No",
          "Yes",
          "Yes",
          "No",
          "Yes",
          "Yes",
          "No",
          "No",
          "No",
          "No",
          "No",
          "No",
          "No",
          "No",
          "No",
          "No",
          "Yes",
          "No",
          "No",
          "Yes",
          "No",
          "No",
          "No",
          "Yes",
          "Yes",
          "No",
          "Yes",
          "Yes",
          "Yes",
          "Yes",
          "No",
          "No",
          "No",
          "No",
          "No",
          "No",
          "No",
          "No",
          "No",
          "Yes",
          "Yes",
          "No",
          "Yes",
          "No",
          "No",
          "Yes",
          "No",
          "Yes",
          "No",
          "No",
          "Yes",
          "No",
          "No",
          "No",
          "Yes",
          "No",
          "Yes",
          "No",
          "Yes",
          "No",
          "No",
          "No",
          "Yes",
          "No",
          "No",
          "Yes",
          "No",
          "Yes",
          "No",
          "No",
          "No",
          "No",
          "Yes",
          "No",
          "No",
          "No",
          "No",
          "No",
          "No",
          "No",
          "Yes",
          "Yes",
          "No",
          "No",
          "No",
          "No",
          "No",
          "No",
          "No",
          "Yes",
          "No",
          "No",
          "Yes",
          "No",
          "Yes",
          "Yes",
          "No",
          "Yes",
          "No",
          "No",
          "No",
          "No",
          "Yes",
          "Yes",
          "No",
          "No",
          "No",
          "No",
          "No",
          "No",
          "No",
          "No",
          "No",
          "No",
          "No",
          "No",
          "No",
          "Yes",
          "No",
          "Yes",
          "No",
          "No",
          "No",
          "Yes",
          "Yes",
          "No",
          "No",
          "No",
          "No",
          "No",
          "No",
          "No",
          "Yes",
          "No",
          "No",
          "No",
          "No",
          "Yes",
          "No",
          "No",
          "Yes",
          "No",
          "Yes",
          "No",
          "No",
          "Yes",
          "No",
          "No",
          "No",
          "No",
          "No",
          "Yes",
          "No",
          "No",
          "No",
          "No",
          "No",
          "Yes",
          "No",
          "No",
          "No",
          "No",
          "No",
          "Yes",
          "No",
          "No",
          "No",
          "No",
          "No",
          "No",
          "Yes",
          "Yes",
          "Yes",
          "No",
          "No",
          "No",
          "No",
          "No",
          "No",
          "No",
          "No",
          "Yes",
          "No",
          "No",
          "No",
          "No",
          "No",
          "Yes",
          "No"
         ],
         "xaxis": "x",
         "yaxis": "y"
        }
       ],
       "layout": {
        "barmode": "group",
        "legend": {
         "title": {
          "text": "Sought Treatment"
         },
         "tracegroupgap": 0
        },
        "template": {
         "data": {
          "bar": [
           {
            "error_x": {
             "color": "#2a3f5f"
            },
            "error_y": {
             "color": "#2a3f5f"
            },
            "marker": {
             "line": {
              "color": "#E5ECF6",
              "width": 0.5
             },
             "pattern": {
              "fillmode": "overlay",
              "size": 10,
              "solidity": 0.2
             }
            },
            "type": "bar"
           }
          ],
          "barpolar": [
           {
            "marker": {
             "line": {
              "color": "#E5ECF6",
              "width": 0.5
             },
             "pattern": {
              "fillmode": "overlay",
              "size": 10,
              "solidity": 0.2
             }
            },
            "type": "barpolar"
           }
          ],
          "carpet": [
           {
            "aaxis": {
             "endlinecolor": "#2a3f5f",
             "gridcolor": "white",
             "linecolor": "white",
             "minorgridcolor": "white",
             "startlinecolor": "#2a3f5f"
            },
            "baxis": {
             "endlinecolor": "#2a3f5f",
             "gridcolor": "white",
             "linecolor": "white",
             "minorgridcolor": "white",
             "startlinecolor": "#2a3f5f"
            },
            "type": "carpet"
           }
          ],
          "choropleth": [
           {
            "colorbar": {
             "outlinewidth": 0,
             "ticks": ""
            },
            "type": "choropleth"
           }
          ],
          "contour": [
           {
            "colorbar": {
             "outlinewidth": 0,
             "ticks": ""
            },
            "colorscale": [
             [
              0,
              "#0d0887"
             ],
             [
              0.1111111111111111,
              "#46039f"
             ],
             [
              0.2222222222222222,
              "#7201a8"
             ],
             [
              0.3333333333333333,
              "#9c179e"
             ],
             [
              0.4444444444444444,
              "#bd3786"
             ],
             [
              0.5555555555555556,
              "#d8576b"
             ],
             [
              0.6666666666666666,
              "#ed7953"
             ],
             [
              0.7777777777777778,
              "#fb9f3a"
             ],
             [
              0.8888888888888888,
              "#fdca26"
             ],
             [
              1,
              "#f0f921"
             ]
            ],
            "type": "contour"
           }
          ],
          "contourcarpet": [
           {
            "colorbar": {
             "outlinewidth": 0,
             "ticks": ""
            },
            "type": "contourcarpet"
           }
          ],
          "heatmap": [
           {
            "colorbar": {
             "outlinewidth": 0,
             "ticks": ""
            },
            "colorscale": [
             [
              0,
              "#0d0887"
             ],
             [
              0.1111111111111111,
              "#46039f"
             ],
             [
              0.2222222222222222,
              "#7201a8"
             ],
             [
              0.3333333333333333,
              "#9c179e"
             ],
             [
              0.4444444444444444,
              "#bd3786"
             ],
             [
              0.5555555555555556,
              "#d8576b"
             ],
             [
              0.6666666666666666,
              "#ed7953"
             ],
             [
              0.7777777777777778,
              "#fb9f3a"
             ],
             [
              0.8888888888888888,
              "#fdca26"
             ],
             [
              1,
              "#f0f921"
             ]
            ],
            "type": "heatmap"
           }
          ],
          "histogram": [
           {
            "marker": {
             "pattern": {
              "fillmode": "overlay",
              "size": 10,
              "solidity": 0.2
             }
            },
            "type": "histogram"
           }
          ],
          "histogram2d": [
           {
            "colorbar": {
             "outlinewidth": 0,
             "ticks": ""
            },
            "colorscale": [
             [
              0,
              "#0d0887"
             ],
             [
              0.1111111111111111,
              "#46039f"
             ],
             [
              0.2222222222222222,
              "#7201a8"
             ],
             [
              0.3333333333333333,
              "#9c179e"
             ],
             [
              0.4444444444444444,
              "#bd3786"
             ],
             [
              0.5555555555555556,
              "#d8576b"
             ],
             [
              0.6666666666666666,
              "#ed7953"
             ],
             [
              0.7777777777777778,
              "#fb9f3a"
             ],
             [
              0.8888888888888888,
              "#fdca26"
             ],
             [
              1,
              "#f0f921"
             ]
            ],
            "type": "histogram2d"
           }
          ],
          "histogram2dcontour": [
           {
            "colorbar": {
             "outlinewidth": 0,
             "ticks": ""
            },
            "colorscale": [
             [
              0,
              "#0d0887"
             ],
             [
              0.1111111111111111,
              "#46039f"
             ],
             [
              0.2222222222222222,
              "#7201a8"
             ],
             [
              0.3333333333333333,
              "#9c179e"
             ],
             [
              0.4444444444444444,
              "#bd3786"
             ],
             [
              0.5555555555555556,
              "#d8576b"
             ],
             [
              0.6666666666666666,
              "#ed7953"
             ],
             [
              0.7777777777777778,
              "#fb9f3a"
             ],
             [
              0.8888888888888888,
              "#fdca26"
             ],
             [
              1,
              "#f0f921"
             ]
            ],
            "type": "histogram2dcontour"
           }
          ],
          "mesh3d": [
           {
            "colorbar": {
             "outlinewidth": 0,
             "ticks": ""
            },
            "type": "mesh3d"
           }
          ],
          "parcoords": [
           {
            "line": {
             "colorbar": {
              "outlinewidth": 0,
              "ticks": ""
             }
            },
            "type": "parcoords"
           }
          ],
          "pie": [
           {
            "automargin": true,
            "type": "pie"
           }
          ],
          "scatter": [
           {
            "fillpattern": {
             "fillmode": "overlay",
             "size": 10,
             "solidity": 0.2
            },
            "type": "scatter"
           }
          ],
          "scatter3d": [
           {
            "line": {
             "colorbar": {
              "outlinewidth": 0,
              "ticks": ""
             }
            },
            "marker": {
             "colorbar": {
              "outlinewidth": 0,
              "ticks": ""
             }
            },
            "type": "scatter3d"
           }
          ],
          "scattercarpet": [
           {
            "marker": {
             "colorbar": {
              "outlinewidth": 0,
              "ticks": ""
             }
            },
            "type": "scattercarpet"
           }
          ],
          "scattergeo": [
           {
            "marker": {
             "colorbar": {
              "outlinewidth": 0,
              "ticks": ""
             }
            },
            "type": "scattergeo"
           }
          ],
          "scattergl": [
           {
            "marker": {
             "colorbar": {
              "outlinewidth": 0,
              "ticks": ""
             }
            },
            "type": "scattergl"
           }
          ],
          "scattermap": [
           {
            "marker": {
             "colorbar": {
              "outlinewidth": 0,
              "ticks": ""
             }
            },
            "type": "scattermap"
           }
          ],
          "scattermapbox": [
           {
            "marker": {
             "colorbar": {
              "outlinewidth": 0,
              "ticks": ""
             }
            },
            "type": "scattermapbox"
           }
          ],
          "scatterpolar": [
           {
            "marker": {
             "colorbar": {
              "outlinewidth": 0,
              "ticks": ""
             }
            },
            "type": "scatterpolar"
           }
          ],
          "scatterpolargl": [
           {
            "marker": {
             "colorbar": {
              "outlinewidth": 0,
              "ticks": ""
             }
            },
            "type": "scatterpolargl"
           }
          ],
          "scatterternary": [
           {
            "marker": {
             "colorbar": {
              "outlinewidth": 0,
              "ticks": ""
             }
            },
            "type": "scatterternary"
           }
          ],
          "surface": [
           {
            "colorbar": {
             "outlinewidth": 0,
             "ticks": ""
            },
            "colorscale": [
             [
              0,
              "#0d0887"
             ],
             [
              0.1111111111111111,
              "#46039f"
             ],
             [
              0.2222222222222222,
              "#7201a8"
             ],
             [
              0.3333333333333333,
              "#9c179e"
             ],
             [
              0.4444444444444444,
              "#bd3786"
             ],
             [
              0.5555555555555556,
              "#d8576b"
             ],
             [
              0.6666666666666666,
              "#ed7953"
             ],
             [
              0.7777777777777778,
              "#fb9f3a"
             ],
             [
              0.8888888888888888,
              "#fdca26"
             ],
             [
              1,
              "#f0f921"
             ]
            ],
            "type": "surface"
           }
          ],
          "table": [
           {
            "cells": {
             "fill": {
              "color": "#EBF0F8"
             },
             "line": {
              "color": "white"
             }
            },
            "header": {
             "fill": {
              "color": "#C8D4E3"
             },
             "line": {
              "color": "white"
             }
            },
            "type": "table"
           }
          ]
         },
         "layout": {
          "annotationdefaults": {
           "arrowcolor": "#2a3f5f",
           "arrowhead": 0,
           "arrowwidth": 1
          },
          "autotypenumbers": "strict",
          "coloraxis": {
           "colorbar": {
            "outlinewidth": 0,
            "ticks": ""
           }
          },
          "colorscale": {
           "diverging": [
            [
             0,
             "#8e0152"
            ],
            [
             0.1,
             "#c51b7d"
            ],
            [
             0.2,
             "#de77ae"
            ],
            [
             0.3,
             "#f1b6da"
            ],
            [
             0.4,
             "#fde0ef"
            ],
            [
             0.5,
             "#f7f7f7"
            ],
            [
             0.6,
             "#e6f5d0"
            ],
            [
             0.7,
             "#b8e186"
            ],
            [
             0.8,
             "#7fbc41"
            ],
            [
             0.9,
             "#4d9221"
            ],
            [
             1,
             "#276419"
            ]
           ],
           "sequential": [
            [
             0,
             "#0d0887"
            ],
            [
             0.1111111111111111,
             "#46039f"
            ],
            [
             0.2222222222222222,
             "#7201a8"
            ],
            [
             0.3333333333333333,
             "#9c179e"
            ],
            [
             0.4444444444444444,
             "#bd3786"
            ],
            [
             0.5555555555555556,
             "#d8576b"
            ],
            [
             0.6666666666666666,
             "#ed7953"
            ],
            [
             0.7777777777777778,
             "#fb9f3a"
            ],
            [
             0.8888888888888888,
             "#fdca26"
            ],
            [
             1,
             "#f0f921"
            ]
           ],
           "sequentialminus": [
            [
             0,
             "#0d0887"
            ],
            [
             0.1111111111111111,
             "#46039f"
            ],
            [
             0.2222222222222222,
             "#7201a8"
            ],
            [
             0.3333333333333333,
             "#9c179e"
            ],
            [
             0.4444444444444444,
             "#bd3786"
            ],
            [
             0.5555555555555556,
             "#d8576b"
            ],
            [
             0.6666666666666666,
             "#ed7953"
            ],
            [
             0.7777777777777778,
             "#fb9f3a"
            ],
            [
             0.8888888888888888,
             "#fdca26"
            ],
            [
             1,
             "#f0f921"
            ]
           ]
          },
          "colorway": [
           "#636efa",
           "#EF553B",
           "#00cc96",
           "#ab63fa",
           "#FFA15A",
           "#19d3f3",
           "#FF6692",
           "#B6E880",
           "#FF97FF",
           "#FECB52"
          ],
          "font": {
           "color": "#2a3f5f"
          },
          "geo": {
           "bgcolor": "white",
           "lakecolor": "white",
           "landcolor": "#E5ECF6",
           "showlakes": true,
           "showland": true,
           "subunitcolor": "white"
          },
          "hoverlabel": {
           "align": "left"
          },
          "hovermode": "closest",
          "mapbox": {
           "style": "light"
          },
          "paper_bgcolor": "white",
          "plot_bgcolor": "#E5ECF6",
          "polar": {
           "angularaxis": {
            "gridcolor": "white",
            "linecolor": "white",
            "ticks": ""
           },
           "bgcolor": "#E5ECF6",
           "radialaxis": {
            "gridcolor": "white",
            "linecolor": "white",
            "ticks": ""
           }
          },
          "scene": {
           "xaxis": {
            "backgroundcolor": "#E5ECF6",
            "gridcolor": "white",
            "gridwidth": 2,
            "linecolor": "white",
            "showbackground": true,
            "ticks": "",
            "zerolinecolor": "white"
           },
           "yaxis": {
            "backgroundcolor": "#E5ECF6",
            "gridcolor": "white",
            "gridwidth": 2,
            "linecolor": "white",
            "showbackground": true,
            "ticks": "",
            "zerolinecolor": "white"
           },
           "zaxis": {
            "backgroundcolor": "#E5ECF6",
            "gridcolor": "white",
            "gridwidth": 2,
            "linecolor": "white",
            "showbackground": true,
            "ticks": "",
            "zerolinecolor": "white"
           }
          },
          "shapedefaults": {
           "line": {
            "color": "#2a3f5f"
           }
          },
          "ternary": {
           "aaxis": {
            "gridcolor": "white",
            "linecolor": "white",
            "ticks": ""
           },
           "baxis": {
            "gridcolor": "white",
            "linecolor": "white",
            "ticks": ""
           },
           "bgcolor": "#E5ECF6",
           "caxis": {
            "gridcolor": "white",
            "linecolor": "white",
            "ticks": ""
           }
          },
          "title": {
           "x": 0.05
          },
          "xaxis": {
           "automargin": true,
           "gridcolor": "white",
           "linecolor": "white",
           "ticks": "",
           "title": {
            "standoff": 15
           },
           "zerolinecolor": "white",
           "zerolinewidth": 2
          },
          "yaxis": {
           "automargin": true,
           "gridcolor": "white",
           "linecolor": "white",
           "ticks": "",
           "title": {
            "standoff": 15
           },
           "zerolinecolor": "white",
           "zerolinewidth": 2
          }
         }
        },
        "title": {
         "text": "Treatment Seeking by Family History of Mental Illness"
        },
        "xaxis": {
         "anchor": "y",
         "categoryarray": [
          "Yes",
          "No"
         ],
         "categoryorder": "array",
         "domain": [
          0,
          1
         ],
         "title": {
          "text": "Family History"
         }
        },
        "yaxis": {
         "anchor": "x",
         "domain": [
          0,
          1
         ],
         "title": {
          "text": "Number of Respondents"
         }
        }
       }
      }
     },
     "metadata": {},
     "output_type": "display_data"
    }
   ],
   "source": [
    "import plotly.express as px\n",
    "\n",
    "fig = px.histogram(df, x='family_history', color='treatment', barmode='group',\n",
    "                   title='Treatment Seeking by Family History of Mental Illness',\n",
    "                   category_orders={'family_history': ['Yes', 'No'], 'treatment': ['Yes', 'No', 'Don\\'t Know']},\n",
    "                   labels={'family_history': 'Family History of Mental Illness', 'treatment': 'Sought Treatment'})\n",
    "fig.update_layout(xaxis_title='Family History', yaxis_title='Number of Respondents')\n",
    "fig.show()"
   ]
  },
  {
   "cell_type": "markdown",
   "id": "7f5ede5d",
   "metadata": {},
   "source": [
    "### Question: Is there a stigma around mental vs physical health? (Partially addressed by this; specifically looking at how fear of consequences affects discussion.)"
   ]
  },
  {
   "cell_type": "code",
   "execution_count": 38,
   "id": "204c394e",
   "metadata": {},
   "outputs": [
    {
     "data": {
      "application/vnd.plotly.v1+json": {
       "config": {
        "plotlyServerURL": "https://plot.ly"
       },
       "data": [
        {
         "alignmentgroup": "True",
         "bingroup": "x",
         "hovertemplate": "Willing to Discuss with Coworkers=Yes<br>Discussing MH has Negative Consequence=%{x}<br>count=%{y}<extra></extra>",
         "legendgroup": "Yes",
         "marker": {
          "color": "#636efa",
          "pattern": {
           "shape": ""
          }
         },
         "name": "Yes",
         "offsetgroup": "Yes",
         "orientation": "v",
         "showlegend": true,
         "type": "histogram",
         "x": [
          "No",
          "No",
          "Don't Know",
          "No",
          "No",
          "Yes",
          "No",
          "No",
          "No",
          "No",
          "No",
          "No",
          "No",
          "No",
          "No",
          "No",
          "No",
          "No",
          "Don't Know",
          "No",
          "No",
          "No",
          "No",
          "No",
          "No",
          "No",
          "Don't Know",
          "No",
          "No",
          "Don't Know",
          "Don't Know",
          "No",
          "No",
          "No",
          "No",
          "No",
          "Don't Know",
          "No",
          "No",
          "No",
          "No",
          "No",
          "No",
          "Don't Know",
          "No",
          "No",
          "No",
          "No",
          "No",
          "Don't Know",
          "Don't Know",
          "No",
          "Don't Know",
          "No",
          "Don't Know",
          "No",
          "Don't Know",
          "No",
          "Don't Know",
          "Don't Know",
          "No",
          "No",
          "No",
          "No",
          "No",
          "No",
          "No",
          "No",
          "Don't Know",
          "No",
          "No",
          "No",
          "Don't Know",
          "No",
          "No",
          "No",
          "No",
          "Yes",
          "No",
          "No",
          "No",
          "No",
          "No",
          "No",
          "Don't Know",
          "No",
          "No",
          "No",
          "No",
          "Don't Know",
          "No",
          "No",
          "No",
          "No",
          "No",
          "Don't Know",
          "No",
          "No",
          "Don't Know",
          "Don't Know",
          "No",
          "No",
          "No",
          "No",
          "Yes",
          "No",
          "Don't Know",
          "No",
          "No",
          "No",
          "Don't Know",
          "Don't Know",
          "No",
          "No",
          "No",
          "No",
          "No",
          "No",
          "No",
          "No",
          "Don't Know",
          "No",
          "No",
          "No",
          "No",
          "No",
          "Don't Know",
          "Don't Know",
          "No",
          "No",
          "No",
          "No",
          "No",
          "Don't Know",
          "No",
          "Yes",
          "Yes",
          "Don't Know",
          "No",
          "No",
          "No",
          "No",
          "Don't Know",
          "Don't Know",
          "No",
          "Don't Know",
          "No",
          "No",
          "No",
          "No",
          "No",
          "Don't Know",
          "Yes",
          "No",
          "No",
          "No",
          "No",
          "No",
          "No",
          "No",
          "No",
          "No",
          "Don't Know",
          "No",
          "No",
          "No",
          "No",
          "No",
          "No",
          "No",
          "No",
          "Yes",
          "No",
          "No",
          "No",
          "Don't Know",
          "No",
          "No",
          "Yes",
          "No",
          "No",
          "No",
          "Don't Know",
          "No",
          "No",
          "No",
          "No",
          "No",
          "No",
          "Don't Know",
          "Don't Know",
          "Don't Know",
          "No",
          "No",
          "No",
          "Yes",
          "No",
          "No",
          "No",
          "No",
          "Don't Know",
          "No",
          "Don't Know",
          "Don't Know",
          "Yes",
          "Don't Know",
          "No",
          "No",
          "No",
          "No",
          "Don't Know",
          "No",
          "Don't Know",
          "Don't Know",
          "No",
          "Yes",
          "No",
          "No",
          "No",
          "No",
          "No",
          "No",
          "Don't Know",
          "Don't Know",
          "No"
         ],
         "xaxis": "x",
         "yaxis": "y"
        },
        {
         "alignmentgroup": "True",
         "bingroup": "x",
         "hovertemplate": "Willing to Discuss with Coworkers=No<br>Discussing MH has Negative Consequence=%{x}<br>count=%{y}<extra></extra>",
         "legendgroup": "No",
         "marker": {
          "color": "#EF553B",
          "pattern": {
           "shape": ""
          }
         },
         "name": "No",
         "offsetgroup": "No",
         "orientation": "v",
         "showlegend": true,
         "type": "histogram",
         "x": [
          "Don't Know",
          "No",
          "Don't Know",
          "Yes",
          "Yes",
          "No",
          "Don't Know",
          "No",
          "Don't Know",
          "Yes",
          "Yes",
          "Yes",
          "Yes",
          "Yes",
          "Don't Know",
          "Don't Know",
          "Yes",
          "Yes",
          "Don't Know",
          "Yes",
          "Don't Know",
          "Yes",
          "Don't Know",
          "Yes",
          "Don't Know",
          "No",
          "Yes",
          "Yes",
          "Don't Know",
          "Don't Know",
          "Yes",
          "Don't Know",
          "Yes",
          "Yes",
          "Yes",
          "Yes",
          "Yes",
          "Yes",
          "Yes",
          "No",
          "Yes",
          "Yes",
          "Yes",
          "Yes",
          "Don't Know",
          "Yes",
          "Yes",
          "Yes",
          "Don't Know",
          "Yes",
          "Yes",
          "Yes",
          "Yes",
          "Yes",
          "Yes",
          "Don't Know",
          "Don't Know",
          "Don't Know",
          "Don't Know",
          "Don't Know",
          "Yes",
          "Don't Know",
          "No",
          "Yes",
          "Yes",
          "Yes",
          "Yes",
          "No",
          "No",
          "Don't Know",
          "Don't Know",
          "No",
          "Don't Know",
          "Yes",
          "Don't Know",
          "Don't Know",
          "Yes",
          "Don't Know",
          "Yes",
          "Don't Know",
          "Don't Know",
          "Yes",
          "Yes",
          "Yes",
          "Yes",
          "Yes",
          "Don't Know",
          "Yes",
          "Don't Know",
          "Don't Know",
          "Yes",
          "Yes",
          "Yes",
          "Yes",
          "Yes",
          "Don't Know",
          "Yes",
          "Yes",
          "Don't Know",
          "No",
          "Don't Know",
          "No",
          "Yes",
          "Don't Know",
          "Yes",
          "Don't Know",
          "Don't Know",
          "Yes",
          "No",
          "Yes",
          "Yes",
          "Don't Know",
          "Don't Know",
          "Don't Know",
          "Don't Know",
          "No",
          "Yes",
          "Yes",
          "Yes",
          "Don't Know",
          "Yes",
          "Yes",
          "Don't Know",
          "Don't Know",
          "Yes",
          "Yes",
          "Yes",
          "No",
          "Don't Know",
          "Yes",
          "Don't Know",
          "No",
          "Don't Know",
          "Don't Know",
          "Yes",
          "Don't Know",
          "No",
          "Yes",
          "Yes",
          "No",
          "Yes",
          "Yes",
          "Yes",
          "Yes",
          "Yes",
          "Yes",
          "No",
          "Don't Know",
          "Yes",
          "Don't Know",
          "No",
          "Yes",
          "Don't Know",
          "No",
          "Yes",
          "Yes",
          "No",
          "Yes",
          "Yes",
          "Yes",
          "Yes",
          "Yes",
          "Don't Know",
          "Don't Know",
          "Yes",
          "Yes",
          "Don't Know",
          "Yes",
          "Don't Know",
          "Yes",
          "Don't Know",
          "Don't Know",
          "Yes",
          "No",
          "Yes",
          "Yes",
          "Yes",
          "Don't Know",
          "Yes",
          "Yes",
          "Don't Know",
          "Yes",
          "Don't Know",
          "Yes",
          "Yes",
          "No",
          "Yes",
          "Yes",
          "Yes",
          "Don't Know",
          "Don't Know",
          "Yes",
          "Yes",
          "No",
          "Don't Know",
          "Yes",
          "Yes",
          "Yes",
          "No",
          "Yes",
          "Don't Know",
          "Don't Know",
          "Don't Know",
          "Yes",
          "Yes",
          "Yes",
          "Don't Know",
          "No",
          "Yes",
          "Yes",
          "No",
          "Don't Know",
          "Don't Know",
          "Don't Know",
          "Yes",
          "Yes",
          "Yes",
          "Yes",
          "No",
          "No",
          "Yes",
          "Don't Know",
          "Yes",
          "Don't Know",
          "Yes",
          "Yes",
          "Yes",
          "No",
          "Don't Know",
          "Don't Know",
          "Yes",
          "Yes",
          "Don't Know",
          "Don't Know",
          "Yes",
          "Don't Know",
          "Don't Know",
          "Yes",
          "Don't Know",
          "No",
          "Yes",
          "Yes",
          "Yes",
          "Yes",
          "Don't Know",
          "Don't Know",
          "Don't Know",
          "Yes",
          "Don't Know",
          "Don't Know",
          "Don't Know",
          "Yes",
          "Yes",
          "Yes",
          "Don't Know",
          "Don't Know",
          "No",
          "Yes",
          "Yes",
          "Yes"
         ],
         "xaxis": "x",
         "yaxis": "y"
        },
        {
         "alignmentgroup": "True",
         "bingroup": "x",
         "hovertemplate": "Willing to Discuss with Coworkers=some<br>Discussing MH has Negative Consequence=%{x}<br>count=%{y}<extra></extra>",
         "legendgroup": "some",
         "marker": {
          "color": "#ab63fa",
          "pattern": {
           "shape": ""
          }
         },
         "name": "some",
         "offsetgroup": "some",
         "orientation": "v",
         "showlegend": true,
         "type": "histogram",
         "x": [
          "No",
          "Yes",
          "No",
          "Don't Know",
          "No",
          "No",
          "Don't Know",
          "Don't Know",
          "No",
          "Don't Know",
          "No",
          "Don't Know",
          "Yes",
          "Don't Know",
          "No",
          "Yes",
          "Yes",
          "Don't Know",
          "Don't Know",
          "Don't Know",
          "Yes",
          "Don't Know",
          "No",
          "Don't Know",
          "Yes",
          "Don't Know",
          "No",
          "No",
          "Don't Know",
          "No",
          "Don't Know",
          "Don't Know",
          "No",
          "No",
          "Yes",
          "No",
          "Yes",
          "No",
          "Don't Know",
          "Don't Know",
          "Don't Know",
          "Don't Know",
          "No",
          "No",
          "Don't Know",
          "Yes",
          "No",
          "No",
          "No",
          "Don't Know",
          "No",
          "Don't Know",
          "Yes",
          "Don't Know",
          "No",
          "No",
          "Don't Know",
          "Don't Know",
          "Don't Know",
          "No",
          "Don't Know",
          "No",
          "No",
          "No",
          "No",
          "No",
          "Don't Know",
          "No",
          "Don't Know",
          "Don't Know",
          "No",
          "Yes",
          "Don't Know",
          "No",
          "No",
          "No",
          "Don't Know",
          "Yes",
          "No",
          "Yes",
          "No",
          "No",
          "Don't Know",
          "No",
          "Don't Know",
          "Yes",
          "Yes",
          "No",
          "Don't Know",
          "Don't Know",
          "Yes",
          "Don't Know",
          "No",
          "No",
          "Yes",
          "Don't Know",
          "Yes",
          "Don't Know",
          "Don't Know",
          "Don't Know",
          "Yes",
          "No",
          "Don't Know",
          "No",
          "Don't Know",
          "Don't Know",
          "Don't Know",
          "Don't Know",
          "No",
          "No",
          "Don't Know",
          "Yes",
          "Yes",
          "Don't Know",
          "No",
          "No",
          "Don't Know",
          "Don't Know",
          "No",
          "Yes",
          "Don't Know",
          "Don't Know",
          "No",
          "Don't Know",
          "Don't Know",
          "No",
          "Don't Know",
          "Don't Know",
          "No",
          "No",
          "No",
          "Yes",
          "Yes",
          "No",
          "No",
          "No",
          "Don't Know",
          "No",
          "No",
          "Don't Know",
          "Don't Know",
          "Don't Know",
          "Don't Know",
          "Don't Know",
          "No",
          "Don't Know",
          "No",
          "No",
          "No",
          "No",
          "Don't Know",
          "No",
          "Don't Know",
          "No",
          "Don't Know",
          "Don't Know",
          "No",
          "No",
          "Don't Know",
          "No",
          "Yes",
          "Yes",
          "Don't Know",
          "No",
          "Don't Know",
          "No",
          "No",
          "No",
          "No",
          "Don't Know",
          "Don't Know",
          "Don't Know",
          "Don't Know",
          "No",
          "Don't Know",
          "No",
          "No",
          "Don't Know",
          "Yes",
          "Don't Know",
          "Don't Know",
          "Don't Know",
          "No",
          "No",
          "No",
          "No",
          "Yes",
          "No",
          "Don't Know",
          "Don't Know",
          "No",
          "No",
          "Don't Know",
          "No",
          "Don't Know",
          "Don't Know",
          "No",
          "Don't Know",
          "No",
          "Yes",
          "No",
          "Don't Know",
          "Don't Know",
          "No",
          "Yes",
          "Don't Know",
          "No",
          "Don't Know",
          "No",
          "Yes",
          "Don't Know",
          "No",
          "Don't Know",
          "Don't Know",
          "No",
          "Don't Know",
          "No",
          "No",
          "Don't Know",
          "Yes",
          "Don't Know",
          "Don't Know",
          "No",
          "Don't Know",
          "No",
          "No",
          "Yes",
          "Don't Know",
          "Yes",
          "Don't Know",
          "Don't Know",
          "No",
          "No",
          "Yes",
          "No",
          "Yes",
          "Yes",
          "Don't Know",
          "Yes",
          "Don't Know",
          "Don't Know",
          "Don't Know",
          "Don't Know",
          "Don't Know",
          "No",
          "Don't Know",
          "Don't Know",
          "No",
          "Yes",
          "No",
          "No",
          "Don't Know",
          "No",
          "No",
          "No",
          "No",
          "Yes",
          "Don't Know",
          "No",
          "Don't Know",
          "Yes",
          "Don't Know",
          "No",
          "No",
          "No",
          "Don't Know",
          "Don't Know",
          "No",
          "Yes",
          "Don't Know",
          "Yes",
          "No",
          "Don't Know",
          "Yes",
          "Yes",
          "Don't Know",
          "Don't Know",
          "Don't Know",
          "No",
          "Don't Know",
          "Yes",
          "Don't Know",
          "Yes",
          "Don't Know",
          "Don't Know",
          "Yes",
          "No",
          "Don't Know",
          "Yes",
          "Don't Know",
          "Yes",
          "Don't Know",
          "Don't Know",
          "Don't Know",
          "Don't Know",
          "Yes",
          "Don't Know",
          "Don't Know",
          "No",
          "Yes",
          "No",
          "Don't Know",
          "Don't Know",
          "Yes",
          "Yes",
          "No",
          "Yes",
          "Don't Know",
          "No",
          "No",
          "No",
          "Don't Know",
          "Don't Know",
          "No",
          "Yes",
          "Don't Know",
          "Don't Know",
          "Don't Know",
          "Don't Know",
          "No",
          "Don't Know",
          "No",
          "No",
          "Yes",
          "Yes",
          "Don't Know",
          "No",
          "Yes",
          "Yes",
          "Yes",
          "No",
          "Don't Know",
          "Don't Know",
          "No",
          "Don't Know",
          "Don't Know",
          "Don't Know",
          "Don't Know",
          "No",
          "Yes",
          "No",
          "Don't Know",
          "Don't Know",
          "No",
          "No",
          "No",
          "No",
          "Don't Know",
          "Don't Know",
          "Don't Know",
          "No",
          "No",
          "Yes",
          "Don't Know",
          "Don't Know",
          "No",
          "Don't Know",
          "No",
          "Yes",
          "Don't Know",
          "Don't Know",
          "Don't Know",
          "Yes",
          "Don't Know",
          "Don't Know",
          "No",
          "No",
          "Yes",
          "No",
          "Don't Know",
          "Yes",
          "Don't Know",
          "No",
          "No",
          "Don't Know",
          "Don't Know",
          "Yes",
          "No",
          "Yes",
          "Don't Know",
          "No",
          "No",
          "No",
          "Don't Know",
          "No",
          "Yes",
          "No",
          "Yes",
          "Yes",
          "Yes",
          "Don't Know",
          "No",
          "No",
          "No",
          "No",
          "No",
          "No",
          "Don't Know",
          "Yes",
          "Don't Know",
          "Don't Know",
          "No",
          "No",
          "No",
          "No",
          "No",
          "Don't Know",
          "No",
          "No",
          "No",
          "Don't Know",
          "Don't Know",
          "No",
          "Don't Know",
          "Don't Know",
          "No",
          "No",
          "No",
          "Don't Know",
          "Don't Know",
          "No",
          "Don't Know",
          "Don't Know",
          "No",
          "Yes",
          "No",
          "Don't Know",
          "Don't Know",
          "Don't Know",
          "No",
          "No",
          "Don't Know",
          "Don't Know",
          "Don't Know",
          "Don't Know",
          "No",
          "Yes",
          "Yes",
          "Don't Know",
          "No",
          "Don't Know",
          "Yes",
          "Don't Know",
          "No",
          "Don't Know",
          "Yes",
          "Yes",
          "No",
          "No",
          "Don't Know",
          "No",
          "Don't Know",
          "No",
          "Don't Know",
          "Don't Know",
          "No",
          "No",
          "Don't Know",
          "No",
          "No",
          "No",
          "No",
          "Don't Know",
          "No",
          "No",
          "Don't Know",
          "Yes",
          "Yes",
          "No",
          "Don't Know",
          "No",
          "Don't Know",
          "No",
          "Don't Know",
          "Don't Know",
          "No",
          "Yes",
          "Yes",
          "Don't Know",
          "No",
          "No",
          "Don't Know",
          "Don't Know",
          "No",
          "No",
          "Don't Know",
          "Yes",
          "Yes",
          "Don't Know",
          "Yes",
          "Don't Know",
          "Don't Know",
          "Don't Know",
          "No",
          "No",
          "Don't Know",
          "Yes",
          "Don't Know",
          "Don't Know",
          "Don't Know",
          "No",
          "Yes",
          "Don't Know",
          "Don't Know",
          "Don't Know",
          "Yes",
          "No",
          "No",
          "Yes",
          "No",
          "No",
          "No",
          "No",
          "Yes",
          "Don't Know",
          "No",
          "Don't Know",
          "Don't Know",
          "No",
          "Don't Know",
          "No",
          "Don't Know",
          "No",
          "Don't Know",
          "Don't Know",
          "No",
          "Yes",
          "Don't Know",
          "No",
          "Don't Know",
          "Yes",
          "Don't Know",
          "No",
          "No",
          "Don't Know",
          "Yes",
          "Yes",
          "Don't Know",
          "Yes",
          "Don't Know",
          "Don't Know",
          "No",
          "No",
          "Don't Know",
          "Don't Know",
          "No",
          "Don't Know",
          "Don't Know",
          "No",
          "Don't Know",
          "No",
          "Don't Know",
          "No",
          "No",
          "No",
          "Don't Know",
          "Don't Know",
          "Yes",
          "No",
          "Yes",
          "Don't Know",
          "No",
          "No",
          "Don't Know",
          "No",
          "No",
          "Yes",
          "Don't Know",
          "No",
          "Yes",
          "Don't Know",
          "No",
          "Yes",
          "Don't Know",
          "No",
          "No",
          "No",
          "Don't Know",
          "Don't Know",
          "Yes",
          "No",
          "No",
          "Don't Know",
          "No",
          "Yes",
          "Don't Know",
          "Don't Know",
          "Don't Know",
          "Don't Know",
          "Yes",
          "Don't Know",
          "Yes",
          "Don't Know",
          "Yes",
          "No",
          "Don't Know",
          "Don't Know",
          "Yes",
          "Yes",
          "Yes",
          "Don't Know",
          "No",
          "No",
          "No",
          "No",
          "Don't Know",
          "Yes",
          "Don't Know",
          "Don't Know",
          "No",
          "No",
          "No",
          "Don't Know",
          "Don't Know",
          "Yes",
          "Yes",
          "Don't Know",
          "No",
          "No",
          "No",
          "Don't Know",
          "Don't Know",
          "Don't Know",
          "Yes",
          "Yes",
          "No",
          "Yes",
          "No",
          "Yes",
          "Don't Know",
          "Yes",
          "Don't Know",
          "Yes",
          "No",
          "Don't Know",
          "Don't Know",
          "Don't Know",
          "Don't Know",
          "No",
          "Don't Know",
          "No",
          "Yes",
          "Yes",
          "No",
          "Yes",
          "No",
          "Don't Know",
          "Don't Know",
          "Don't Know",
          "No",
          "No",
          "No",
          "No",
          "No",
          "No",
          "Don't Know",
          "No",
          "Don't Know",
          "Don't Know",
          "Don't Know",
          "No",
          "No",
          "Don't Know",
          "Don't Know",
          "No",
          "Don't Know",
          "Yes",
          "Don't Know",
          "Don't Know",
          "No",
          "Don't Know",
          "Don't Know",
          "Don't Know",
          "No",
          "Don't Know",
          "Yes",
          "No",
          "Don't Know",
          "No",
          "Don't Know",
          "Don't Know",
          "No",
          "Don't Know",
          "Don't Know",
          "Yes",
          "Don't Know",
          "Don't Know",
          "No",
          "Don't Know",
          "Don't Know",
          "No",
          "Don't Know",
          "Don't Know",
          "No",
          "No",
          "Don't Know",
          "Yes",
          "Don't Know",
          "No",
          "Don't Know",
          "Don't Know",
          "No",
          "Don't Know",
          "Don't Know",
          "Yes",
          "No",
          "Yes",
          "Yes",
          "No",
          "Yes",
          "Don't Know",
          "Don't Know",
          "Don't Know",
          "Don't Know",
          "Don't Know",
          "Don't Know",
          "Don't Know",
          "Yes",
          "No",
          "No",
          "No",
          "Don't Know",
          "Don't Know",
          "Don't Know",
          "Don't Know",
          "Yes",
          "No",
          "Don't Know",
          "Don't Know",
          "Don't Know",
          "Don't Know",
          "No",
          "No",
          "No",
          "Yes",
          "Don't Know",
          "Yes",
          "Yes",
          "Don't Know",
          "Yes",
          "Don't Know",
          "Don't Know",
          "No",
          "Don't Know",
          "Don't Know",
          "No",
          "Don't Know",
          "Yes",
          "Don't Know",
          "Don't Know",
          "No",
          "Yes",
          "Don't Know",
          "Don't Know",
          "No",
          "Don't Know",
          "Don't Know",
          "Don't Know",
          "Yes",
          "Don't Know",
          "Don't Know",
          "Yes",
          "No",
          "Don't Know",
          "No",
          "Don't Know",
          "Yes",
          "No",
          "No",
          "Yes",
          "Don't Know",
          "No",
          "No",
          "Don't Know"
         ],
         "xaxis": "x",
         "yaxis": "y"
        }
       ],
       "layout": {
        "barmode": "group",
        "legend": {
         "title": {
          "text": "Willing to Discuss with Coworkers"
         },
         "tracegroupgap": 0
        },
        "template": {
         "data": {
          "bar": [
           {
            "error_x": {
             "color": "#2a3f5f"
            },
            "error_y": {
             "color": "#2a3f5f"
            },
            "marker": {
             "line": {
              "color": "#E5ECF6",
              "width": 0.5
             },
             "pattern": {
              "fillmode": "overlay",
              "size": 10,
              "solidity": 0.2
             }
            },
            "type": "bar"
           }
          ],
          "barpolar": [
           {
            "marker": {
             "line": {
              "color": "#E5ECF6",
              "width": 0.5
             },
             "pattern": {
              "fillmode": "overlay",
              "size": 10,
              "solidity": 0.2
             }
            },
            "type": "barpolar"
           }
          ],
          "carpet": [
           {
            "aaxis": {
             "endlinecolor": "#2a3f5f",
             "gridcolor": "white",
             "linecolor": "white",
             "minorgridcolor": "white",
             "startlinecolor": "#2a3f5f"
            },
            "baxis": {
             "endlinecolor": "#2a3f5f",
             "gridcolor": "white",
             "linecolor": "white",
             "minorgridcolor": "white",
             "startlinecolor": "#2a3f5f"
            },
            "type": "carpet"
           }
          ],
          "choropleth": [
           {
            "colorbar": {
             "outlinewidth": 0,
             "ticks": ""
            },
            "type": "choropleth"
           }
          ],
          "contour": [
           {
            "colorbar": {
             "outlinewidth": 0,
             "ticks": ""
            },
            "colorscale": [
             [
              0,
              "#0d0887"
             ],
             [
              0.1111111111111111,
              "#46039f"
             ],
             [
              0.2222222222222222,
              "#7201a8"
             ],
             [
              0.3333333333333333,
              "#9c179e"
             ],
             [
              0.4444444444444444,
              "#bd3786"
             ],
             [
              0.5555555555555556,
              "#d8576b"
             ],
             [
              0.6666666666666666,
              "#ed7953"
             ],
             [
              0.7777777777777778,
              "#fb9f3a"
             ],
             [
              0.8888888888888888,
              "#fdca26"
             ],
             [
              1,
              "#f0f921"
             ]
            ],
            "type": "contour"
           }
          ],
          "contourcarpet": [
           {
            "colorbar": {
             "outlinewidth": 0,
             "ticks": ""
            },
            "type": "contourcarpet"
           }
          ],
          "heatmap": [
           {
            "colorbar": {
             "outlinewidth": 0,
             "ticks": ""
            },
            "colorscale": [
             [
              0,
              "#0d0887"
             ],
             [
              0.1111111111111111,
              "#46039f"
             ],
             [
              0.2222222222222222,
              "#7201a8"
             ],
             [
              0.3333333333333333,
              "#9c179e"
             ],
             [
              0.4444444444444444,
              "#bd3786"
             ],
             [
              0.5555555555555556,
              "#d8576b"
             ],
             [
              0.6666666666666666,
              "#ed7953"
             ],
             [
              0.7777777777777778,
              "#fb9f3a"
             ],
             [
              0.8888888888888888,
              "#fdca26"
             ],
             [
              1,
              "#f0f921"
             ]
            ],
            "type": "heatmap"
           }
          ],
          "histogram": [
           {
            "marker": {
             "pattern": {
              "fillmode": "overlay",
              "size": 10,
              "solidity": 0.2
             }
            },
            "type": "histogram"
           }
          ],
          "histogram2d": [
           {
            "colorbar": {
             "outlinewidth": 0,
             "ticks": ""
            },
            "colorscale": [
             [
              0,
              "#0d0887"
             ],
             [
              0.1111111111111111,
              "#46039f"
             ],
             [
              0.2222222222222222,
              "#7201a8"
             ],
             [
              0.3333333333333333,
              "#9c179e"
             ],
             [
              0.4444444444444444,
              "#bd3786"
             ],
             [
              0.5555555555555556,
              "#d8576b"
             ],
             [
              0.6666666666666666,
              "#ed7953"
             ],
             [
              0.7777777777777778,
              "#fb9f3a"
             ],
             [
              0.8888888888888888,
              "#fdca26"
             ],
             [
              1,
              "#f0f921"
             ]
            ],
            "type": "histogram2d"
           }
          ],
          "histogram2dcontour": [
           {
            "colorbar": {
             "outlinewidth": 0,
             "ticks": ""
            },
            "colorscale": [
             [
              0,
              "#0d0887"
             ],
             [
              0.1111111111111111,
              "#46039f"
             ],
             [
              0.2222222222222222,
              "#7201a8"
             ],
             [
              0.3333333333333333,
              "#9c179e"
             ],
             [
              0.4444444444444444,
              "#bd3786"
             ],
             [
              0.5555555555555556,
              "#d8576b"
             ],
             [
              0.6666666666666666,
              "#ed7953"
             ],
             [
              0.7777777777777778,
              "#fb9f3a"
             ],
             [
              0.8888888888888888,
              "#fdca26"
             ],
             [
              1,
              "#f0f921"
             ]
            ],
            "type": "histogram2dcontour"
           }
          ],
          "mesh3d": [
           {
            "colorbar": {
             "outlinewidth": 0,
             "ticks": ""
            },
            "type": "mesh3d"
           }
          ],
          "parcoords": [
           {
            "line": {
             "colorbar": {
              "outlinewidth": 0,
              "ticks": ""
             }
            },
            "type": "parcoords"
           }
          ],
          "pie": [
           {
            "automargin": true,
            "type": "pie"
           }
          ],
          "scatter": [
           {
            "fillpattern": {
             "fillmode": "overlay",
             "size": 10,
             "solidity": 0.2
            },
            "type": "scatter"
           }
          ],
          "scatter3d": [
           {
            "line": {
             "colorbar": {
              "outlinewidth": 0,
              "ticks": ""
             }
            },
            "marker": {
             "colorbar": {
              "outlinewidth": 0,
              "ticks": ""
             }
            },
            "type": "scatter3d"
           }
          ],
          "scattercarpet": [
           {
            "marker": {
             "colorbar": {
              "outlinewidth": 0,
              "ticks": ""
             }
            },
            "type": "scattercarpet"
           }
          ],
          "scattergeo": [
           {
            "marker": {
             "colorbar": {
              "outlinewidth": 0,
              "ticks": ""
             }
            },
            "type": "scattergeo"
           }
          ],
          "scattergl": [
           {
            "marker": {
             "colorbar": {
              "outlinewidth": 0,
              "ticks": ""
             }
            },
            "type": "scattergl"
           }
          ],
          "scattermap": [
           {
            "marker": {
             "colorbar": {
              "outlinewidth": 0,
              "ticks": ""
             }
            },
            "type": "scattermap"
           }
          ],
          "scattermapbox": [
           {
            "marker": {
             "colorbar": {
              "outlinewidth": 0,
              "ticks": ""
             }
            },
            "type": "scattermapbox"
           }
          ],
          "scatterpolar": [
           {
            "marker": {
             "colorbar": {
              "outlinewidth": 0,
              "ticks": ""
             }
            },
            "type": "scatterpolar"
           }
          ],
          "scatterpolargl": [
           {
            "marker": {
             "colorbar": {
              "outlinewidth": 0,
              "ticks": ""
             }
            },
            "type": "scatterpolargl"
           }
          ],
          "scatterternary": [
           {
            "marker": {
             "colorbar": {
              "outlinewidth": 0,
              "ticks": ""
             }
            },
            "type": "scatterternary"
           }
          ],
          "surface": [
           {
            "colorbar": {
             "outlinewidth": 0,
             "ticks": ""
            },
            "colorscale": [
             [
              0,
              "#0d0887"
             ],
             [
              0.1111111111111111,
              "#46039f"
             ],
             [
              0.2222222222222222,
              "#7201a8"
             ],
             [
              0.3333333333333333,
              "#9c179e"
             ],
             [
              0.4444444444444444,
              "#bd3786"
             ],
             [
              0.5555555555555556,
              "#d8576b"
             ],
             [
              0.6666666666666666,
              "#ed7953"
             ],
             [
              0.7777777777777778,
              "#fb9f3a"
             ],
             [
              0.8888888888888888,
              "#fdca26"
             ],
             [
              1,
              "#f0f921"
             ]
            ],
            "type": "surface"
           }
          ],
          "table": [
           {
            "cells": {
             "fill": {
              "color": "#EBF0F8"
             },
             "line": {
              "color": "white"
             }
            },
            "header": {
             "fill": {
              "color": "#C8D4E3"
             },
             "line": {
              "color": "white"
             }
            },
            "type": "table"
           }
          ]
         },
         "layout": {
          "annotationdefaults": {
           "arrowcolor": "#2a3f5f",
           "arrowhead": 0,
           "arrowwidth": 1
          },
          "autotypenumbers": "strict",
          "coloraxis": {
           "colorbar": {
            "outlinewidth": 0,
            "ticks": ""
           }
          },
          "colorscale": {
           "diverging": [
            [
             0,
             "#8e0152"
            ],
            [
             0.1,
             "#c51b7d"
            ],
            [
             0.2,
             "#de77ae"
            ],
            [
             0.3,
             "#f1b6da"
            ],
            [
             0.4,
             "#fde0ef"
            ],
            [
             0.5,
             "#f7f7f7"
            ],
            [
             0.6,
             "#e6f5d0"
            ],
            [
             0.7,
             "#b8e186"
            ],
            [
             0.8,
             "#7fbc41"
            ],
            [
             0.9,
             "#4d9221"
            ],
            [
             1,
             "#276419"
            ]
           ],
           "sequential": [
            [
             0,
             "#0d0887"
            ],
            [
             0.1111111111111111,
             "#46039f"
            ],
            [
             0.2222222222222222,
             "#7201a8"
            ],
            [
             0.3333333333333333,
             "#9c179e"
            ],
            [
             0.4444444444444444,
             "#bd3786"
            ],
            [
             0.5555555555555556,
             "#d8576b"
            ],
            [
             0.6666666666666666,
             "#ed7953"
            ],
            [
             0.7777777777777778,
             "#fb9f3a"
            ],
            [
             0.8888888888888888,
             "#fdca26"
            ],
            [
             1,
             "#f0f921"
            ]
           ],
           "sequentialminus": [
            [
             0,
             "#0d0887"
            ],
            [
             0.1111111111111111,
             "#46039f"
            ],
            [
             0.2222222222222222,
             "#7201a8"
            ],
            [
             0.3333333333333333,
             "#9c179e"
            ],
            [
             0.4444444444444444,
             "#bd3786"
            ],
            [
             0.5555555555555556,
             "#d8576b"
            ],
            [
             0.6666666666666666,
             "#ed7953"
            ],
            [
             0.7777777777777778,
             "#fb9f3a"
            ],
            [
             0.8888888888888888,
             "#fdca26"
            ],
            [
             1,
             "#f0f921"
            ]
           ]
          },
          "colorway": [
           "#636efa",
           "#EF553B",
           "#00cc96",
           "#ab63fa",
           "#FFA15A",
           "#19d3f3",
           "#FF6692",
           "#B6E880",
           "#FF97FF",
           "#FECB52"
          ],
          "font": {
           "color": "#2a3f5f"
          },
          "geo": {
           "bgcolor": "white",
           "lakecolor": "white",
           "landcolor": "#E5ECF6",
           "showlakes": true,
           "showland": true,
           "subunitcolor": "white"
          },
          "hoverlabel": {
           "align": "left"
          },
          "hovermode": "closest",
          "mapbox": {
           "style": "light"
          },
          "paper_bgcolor": "white",
          "plot_bgcolor": "#E5ECF6",
          "polar": {
           "angularaxis": {
            "gridcolor": "white",
            "linecolor": "white",
            "ticks": ""
           },
           "bgcolor": "#E5ECF6",
           "radialaxis": {
            "gridcolor": "white",
            "linecolor": "white",
            "ticks": ""
           }
          },
          "scene": {
           "xaxis": {
            "backgroundcolor": "#E5ECF6",
            "gridcolor": "white",
            "gridwidth": 2,
            "linecolor": "white",
            "showbackground": true,
            "ticks": "",
            "zerolinecolor": "white"
           },
           "yaxis": {
            "backgroundcolor": "#E5ECF6",
            "gridcolor": "white",
            "gridwidth": 2,
            "linecolor": "white",
            "showbackground": true,
            "ticks": "",
            "zerolinecolor": "white"
           },
           "zaxis": {
            "backgroundcolor": "#E5ECF6",
            "gridcolor": "white",
            "gridwidth": 2,
            "linecolor": "white",
            "showbackground": true,
            "ticks": "",
            "zerolinecolor": "white"
           }
          },
          "shapedefaults": {
           "line": {
            "color": "#2a3f5f"
           }
          },
          "ternary": {
           "aaxis": {
            "gridcolor": "white",
            "linecolor": "white",
            "ticks": ""
           },
           "baxis": {
            "gridcolor": "white",
            "linecolor": "white",
            "ticks": ""
           },
           "bgcolor": "#E5ECF6",
           "caxis": {
            "gridcolor": "white",
            "linecolor": "white",
            "ticks": ""
           }
          },
          "title": {
           "x": 0.05
          },
          "xaxis": {
           "automargin": true,
           "gridcolor": "white",
           "linecolor": "white",
           "ticks": "",
           "title": {
            "standoff": 15
           },
           "zerolinecolor": "white",
           "zerolinewidth": 2
          },
          "yaxis": {
           "automargin": true,
           "gridcolor": "white",
           "linecolor": "white",
           "ticks": "",
           "title": {
            "standoff": 15
           },
           "zerolinecolor": "white",
           "zerolinewidth": 2
          }
         }
        },
        "title": {
         "text": "Willingness to Discuss Mental Health with Coworkers by Perceived Negative Consequence"
        },
        "xaxis": {
         "anchor": "y",
         "categoryarray": [
          "Yes",
          "No",
          "Maybe"
         ],
         "categoryorder": "array",
         "domain": [
          0,
          1
         ],
         "title": {
          "text": "Perceived Negative Consequences"
         }
        },
        "yaxis": {
         "anchor": "x",
         "domain": [
          0,
          1
         ],
         "title": {
          "text": "Number of Respondents"
         }
        }
       }
      }
     },
     "metadata": {},
     "output_type": "display_data"
    }
   ],
   "source": [
    "fig = px.histogram(df, x='mental_health_consequence', color='coworkers', barmode='group',\n",
    "                   title='Willingness to Discuss Mental Health with Coworkers by Perceived Negative Consequence',\n",
    "                   category_orders={'mental_health_consequence': ['Yes', 'No', 'Maybe'], 'coworkers': ['Yes', 'No', 'Some of them']},\n",
    "                   labels={'mental_health_consequence': 'Discussing MH has Negative Consequence', 'coworkers': 'Willing to Discuss with Coworkers'})\n",
    "fig.update_layout(xaxis_title='Perceived Negative Consequences', yaxis_title='Number of Respondents')\n",
    "fig.show()"
   ]
  },
  {
   "cell_type": "markdown",
   "id": "1833e8c1",
   "metadata": {},
   "source": [
    "### Question: Do employees feel their employer takes mental health as seriously as physical health?"
   ]
  },
  {
   "cell_type": "code",
   "execution_count": 39,
   "id": "4551a8da",
   "metadata": {},
   "outputs": [
    {
     "data": {
      "application/vnd.plotly.v1+json": {
       "config": {
        "plotlyServerURL": "https://plot.ly"
       },
       "data": [
        {
         "hovertemplate": "mental_vs_physical=%{x}<br>count=%{y}<extra></extra>",
         "legendgroup": "",
         "marker": {
          "color": "#636efa",
          "pattern": {
           "shape": ""
          }
         },
         "name": "",
         "orientation": "v",
         "showlegend": false,
         "textposition": "auto",
         "type": "bar",
         "x": [
          "Yes",
          "Don't Know",
          "No",
          "No",
          "Don't Know",
          "Don't Know",
          "Don't Know",
          "No",
          "No",
          "Yes",
          "Don't Know",
          "Don't Know",
          "No",
          "Don't Know",
          "Yes",
          "Don't Know",
          "No",
          "No",
          "Yes",
          "Don't Know",
          "No",
          "Yes",
          "No",
          "Don't Know",
          "Don't Know",
          "No",
          "Don't Know",
          "Yes",
          "No",
          "No",
          "No",
          "No",
          "Don't Know",
          "Don't Know",
          "Yes",
          "Don't Know",
          "Don't Know",
          "No",
          "Don't Know",
          "Yes",
          "No",
          "Don't Know",
          "Yes",
          "No",
          "Don't Know",
          "Yes",
          "Don't Know",
          "Don't Know",
          "Yes",
          "Don't Know",
          "Don't Know",
          "Don't Know",
          "Don't Know",
          "Don't Know",
          "Don't Know",
          "Don't Know",
          "Yes",
          "No",
          "Don't Know",
          "Don't Know",
          "Don't Know",
          "Yes",
          "Yes",
          "No",
          "Don't Know",
          "No",
          "Yes",
          "Yes",
          "Don't Know",
          "Don't Know",
          "Don't Know",
          "Don't Know",
          "No",
          "Yes",
          "Yes",
          "No",
          "Yes",
          "Yes",
          "No",
          "Yes",
          "Yes",
          "Yes",
          "No",
          "Yes",
          "No",
          "No",
          "No",
          "Don't Know",
          "No",
          "Don't Know",
          "Yes",
          "No",
          "Don't Know",
          "Don't Know",
          "Don't Know",
          "No",
          "Don't Know",
          "No",
          "No",
          "Yes",
          "No",
          "Don't Know",
          "Don't Know",
          "Yes",
          "Don't Know",
          "Don't Know",
          "No",
          "Don't Know",
          "Don't Know",
          "Yes",
          "No",
          "Yes",
          "Yes",
          "Don't Know",
          "Don't Know",
          "Don't Know",
          "No",
          "Don't Know",
          "Don't Know",
          "Don't Know",
          "Don't Know",
          "Don't Know",
          "Yes",
          "Don't Know",
          "No",
          "Don't Know",
          "Don't Know",
          "Don't Know",
          "Yes",
          "Don't Know",
          "No",
          "Don't Know",
          "Don't Know",
          "No",
          "Don't Know",
          "Don't Know",
          "Yes",
          "Don't Know",
          "Don't Know",
          "Don't Know",
          "Don't Know",
          "Yes",
          "Don't Know",
          "Don't Know",
          "Don't Know",
          "Don't Know",
          "Don't Know",
          "No",
          "No",
          "Don't Know",
          "Don't Know",
          "No",
          "Yes",
          "Don't Know",
          "No",
          "No",
          "Don't Know",
          "No",
          "Don't Know",
          "Don't Know",
          "Don't Know",
          "Don't Know",
          "Don't Know",
          "Don't Know",
          "Yes",
          "Yes",
          "Don't Know",
          "No",
          "No",
          "Don't Know",
          "Don't Know",
          "Don't Know",
          "No",
          "Yes",
          "No",
          "Don't Know",
          "Yes",
          "Yes",
          "Yes",
          "Don't Know",
          "No",
          "Don't Know",
          "Don't Know",
          "Don't Know",
          "No",
          "No",
          "Yes",
          "Yes",
          "Don't Know",
          "Don't Know",
          "Don't Know",
          "No",
          "Don't Know",
          "Don't Know",
          "No",
          "Don't Know",
          "Don't Know",
          "No",
          "Yes",
          "Don't Know",
          "Yes",
          "Yes",
          "Don't Know",
          "Don't Know",
          "Yes",
          "No",
          "Yes",
          "Don't Know",
          "Don't Know",
          "Don't Know",
          "Yes",
          "Don't Know",
          "Don't Know",
          "No",
          "Yes",
          "Don't Know",
          "Yes",
          "Yes",
          "Don't Know",
          "Don't Know",
          "Yes",
          "Don't Know",
          "Don't Know",
          "No",
          "Yes",
          "Yes",
          "Yes",
          "Yes",
          "Yes",
          "Yes",
          "Don't Know",
          "No",
          "No",
          "No",
          "Yes",
          "No",
          "Don't Know",
          "No",
          "Yes",
          "No",
          "No",
          "No",
          "Don't Know",
          "No",
          "Yes",
          "No",
          "Don't Know",
          "Yes",
          "Don't Know",
          "Don't Know",
          "Yes",
          "Yes",
          "Yes",
          "Don't Know",
          "Don't Know",
          "Don't Know",
          "Yes",
          "Yes",
          "No",
          "No",
          "Don't Know",
          "No",
          "Yes",
          "No",
          "Don't Know",
          "Don't Know",
          "Yes",
          "Don't Know",
          "Don't Know",
          "Don't Know",
          "No",
          "Yes",
          "Yes",
          "Don't Know",
          "No",
          "Don't Know",
          "Don't Know",
          "Don't Know",
          "Yes",
          "No",
          "No",
          "Don't Know",
          "Don't Know",
          "Don't Know",
          "No",
          "Yes",
          "Don't Know",
          "Yes",
          "Don't Know",
          "Don't Know",
          "Yes",
          "Don't Know",
          "Don't Know",
          "Don't Know",
          "Don't Know",
          "No",
          "Yes",
          "Yes",
          "Don't Know",
          "Don't Know",
          "Yes",
          "Yes",
          "Don't Know",
          "Yes",
          "Yes",
          "Yes",
          "Don't Know",
          "Don't Know",
          "Don't Know",
          "Don't Know",
          "Don't Know",
          "Don't Know",
          "Yes",
          "No",
          "Yes",
          "Don't Know",
          "Don't Know",
          "Yes",
          "Yes",
          "Don't Know",
          "Yes",
          "No",
          "Yes",
          "Don't Know",
          "Don't Know",
          "Don't Know",
          "Don't Know",
          "Yes",
          "Don't Know",
          "Yes",
          "Yes",
          "No",
          "No",
          "Don't Know",
          "No",
          "Don't Know",
          "Don't Know",
          "Don't Know",
          "Don't Know",
          "Yes",
          "No",
          "No",
          "No",
          "Don't Know",
          "No",
          "Don't Know",
          "Don't Know",
          "Don't Know",
          "Don't Know",
          "Yes",
          "Don't Know",
          "Yes",
          "Yes",
          "Don't Know",
          "No",
          "No",
          "Don't Know",
          "Don't Know",
          "Don't Know",
          "Yes",
          "Don't Know",
          "Yes",
          "No",
          "Yes",
          "No",
          "No",
          "Don't Know",
          "Don't Know",
          "Don't Know",
          "No",
          "Yes",
          "No",
          "Yes",
          "Yes",
          "Don't Know",
          "Don't Know",
          "No",
          "Yes",
          "Yes",
          "Don't Know",
          "Don't Know",
          "Yes",
          "Don't Know",
          "No",
          "No",
          "Don't Know",
          "Don't Know",
          "No",
          "Don't Know",
          "Don't Know",
          "No",
          "Don't Know",
          "Don't Know",
          "Yes",
          "No",
          "Don't Know",
          "No",
          "No",
          "Don't Know",
          "Yes",
          "No",
          "No",
          "No",
          "No",
          "Don't Know",
          "No",
          "Yes",
          "Yes",
          "Don't Know",
          "Don't Know",
          "No",
          "No",
          "Don't Know",
          "Yes",
          "Yes",
          "Don't Know",
          "No",
          "No",
          "Don't Know",
          "No",
          "Yes",
          "Don't Know",
          "Yes",
          "Don't Know",
          "Don't Know",
          "Yes",
          "No",
          "Don't Know",
          "Don't Know",
          "Yes",
          "Yes",
          "Yes",
          "Don't Know",
          "Don't Know",
          "Don't Know",
          "Don't Know",
          "Don't Know",
          "Don't Know",
          "Don't Know",
          "Yes",
          "No",
          "Don't Know",
          "Yes",
          "Yes",
          "Yes",
          "No",
          "Don't Know",
          "No",
          "Don't Know",
          "Don't Know",
          "Yes",
          "Yes",
          "No",
          "Don't Know",
          "Don't Know",
          "Don't Know",
          "No",
          "Don't Know",
          "Yes",
          "Don't Know",
          "Yes",
          "Yes",
          "Don't Know",
          "No",
          "Yes",
          "Yes",
          "No",
          "No",
          "No",
          "Don't Know",
          "Yes",
          "Yes",
          "No",
          "No",
          "Don't Know",
          "Don't Know",
          "No",
          "Don't Know",
          "Don't Know",
          "Don't Know",
          "Yes",
          "Don't Know",
          "Don't Know",
          "Don't Know",
          "Don't Know",
          "No",
          "Don't Know",
          "Yes",
          "Yes",
          "No",
          "Yes",
          "Don't Know",
          "No",
          "Don't Know",
          "Don't Know",
          "Yes",
          "No",
          "No",
          "No",
          "Yes",
          "No",
          "No",
          "Don't Know",
          "Don't Know",
          "No",
          "Yes",
          "No",
          "Yes",
          "Yes",
          "Yes",
          "Don't Know",
          "Yes",
          "Don't Know",
          "Yes",
          "No",
          "Don't Know",
          "Yes",
          "No",
          "No",
          "No",
          "Yes",
          "Don't Know",
          "No",
          "Don't Know",
          "Yes",
          "Yes",
          "Yes",
          "Don't Know",
          "Yes",
          "Yes",
          "Don't Know",
          "No",
          "No",
          "Yes",
          "Don't Know",
          "No",
          "No",
          "No",
          "Don't Know",
          "No",
          "No",
          "Yes",
          "Yes",
          "No",
          "No",
          "Yes",
          "Yes",
          "No",
          "Yes",
          "Don't Know",
          "Don't Know",
          "Don't Know",
          "Yes",
          "Yes",
          "Don't Know",
          "Don't Know",
          "Yes",
          "Don't Know",
          "Yes",
          "Yes",
          "Yes",
          "Yes",
          "Yes",
          "Don't Know",
          "No",
          "No",
          "Don't Know",
          "Don't Know",
          "No",
          "Don't Know",
          "Yes",
          "Don't Know",
          "Yes",
          "No",
          "No",
          "Yes",
          "Don't Know",
          "Yes",
          "No",
          "Don't Know",
          "Don't Know",
          "Don't Know",
          "Don't Know",
          "Yes",
          "No",
          "Don't Know",
          "No",
          "Don't Know",
          "Don't Know",
          "Don't Know",
          "Don't Know",
          "Don't Know",
          "Don't Know",
          "No",
          "Yes",
          "Yes",
          "No",
          "Don't Know",
          "Yes",
          "No",
          "Don't Know",
          "Yes",
          "No",
          "Yes",
          "No",
          "No",
          "Don't Know",
          "No",
          "Yes",
          "Don't Know",
          "Yes",
          "Yes",
          "No",
          "No",
          "Don't Know",
          "Yes",
          "Yes",
          "No",
          "Don't Know",
          "Yes",
          "Don't Know",
          "No",
          "Don't Know",
          "Don't Know",
          "Don't Know",
          "No",
          "No",
          "No",
          "No",
          "Don't Know",
          "Don't Know",
          "Don't Know",
          "Yes",
          "Yes",
          "Yes",
          "Don't Know",
          "Yes",
          "Yes",
          "Yes",
          "No",
          "Yes",
          "Don't Know",
          "No",
          "Don't Know",
          "Don't Know",
          "Don't Know",
          "No",
          "Don't Know",
          "Don't Know",
          "Don't Know",
          "Don't Know",
          "No",
          "Don't Know",
          "Don't Know",
          "Yes",
          "Don't Know",
          "Yes",
          "Don't Know",
          "Yes",
          "Don't Know",
          "Yes",
          "Don't Know",
          "Don't Know",
          "Yes",
          "Don't Know",
          "No",
          "Yes",
          "Don't Know",
          "Don't Know",
          "Don't Know",
          "Don't Know",
          "Don't Know",
          "Yes",
          "Yes",
          "No",
          "Don't Know",
          "Don't Know",
          "Don't Know",
          "Yes",
          "Yes",
          "Don't Know",
          "Don't Know",
          "No",
          "Don't Know",
          "Don't Know",
          "Don't Know",
          "Yes",
          "Yes",
          "Don't Know",
          "Yes",
          "Don't Know",
          "Yes",
          "Don't Know",
          "Don't Know",
          "No",
          "Yes",
          "No",
          "No",
          "Yes",
          "Don't Know",
          "Don't Know",
          "Yes",
          "Don't Know",
          "Yes",
          "No",
          "No",
          "No",
          "Don't Know",
          "Don't Know",
          "Yes",
          "Don't Know",
          "Yes",
          "Don't Know",
          "No",
          "No",
          "Don't Know",
          "Yes",
          "Yes",
          "Yes",
          "Don't Know",
          "Don't Know",
          "No",
          "Don't Know",
          "No",
          "Don't Know",
          "No",
          "No",
          "No",
          "No",
          "No",
          "No",
          "Don't Know",
          "Don't Know",
          "Don't Know",
          "Yes",
          "No",
          "Don't Know",
          "Don't Know",
          "Yes",
          "Don't Know",
          "Yes",
          "No",
          "Yes",
          "Don't Know",
          "Don't Know",
          "Don't Know",
          "Yes",
          "No",
          "Yes",
          "Don't Know",
          "Don't Know",
          "Yes",
          "Don't Know",
          "Yes",
          "Yes",
          "Don't Know",
          "Don't Know",
          "No",
          "Yes",
          "No",
          "Yes",
          "Yes",
          "Yes",
          "No",
          "No",
          "Yes",
          "No",
          "Don't Know",
          "No",
          "Don't Know",
          "Don't Know",
          "Yes",
          "Don't Know",
          "No",
          "No",
          "No",
          "No",
          "Yes",
          "Don't Know",
          "Don't Know",
          "Don't Know",
          "Don't Know",
          "Yes",
          "Don't Know",
          "Don't Know",
          "No",
          "No",
          "Don't Know",
          "Don't Know",
          "Yes",
          "Don't Know",
          "Don't Know",
          "No",
          "No",
          "No",
          "No",
          "Don't Know",
          "No",
          "No",
          "Yes",
          "Don't Know",
          "Yes",
          "Don't Know",
          "Yes",
          "Don't Know",
          "No",
          "Don't Know",
          "Yes",
          "Yes",
          "No",
          "Don't Know",
          "No",
          "No",
          "Don't Know",
          "Don't Know",
          "Don't Know",
          "Don't Know",
          "Yes",
          "Yes",
          "Yes",
          "Don't Know",
          "Yes",
          "Don't Know",
          "Yes",
          "Don't Know",
          "No",
          "Yes",
          "Don't Know",
          "Don't Know",
          "Yes",
          "Yes",
          "Don't Know",
          "Yes",
          "Don't Know",
          "Don't Know",
          "No",
          "No",
          "No",
          "Don't Know",
          "No",
          "Don't Know",
          "Don't Know",
          "Don't Know",
          "Don't Know",
          "Don't Know",
          "No",
          "Don't Know",
          "Yes",
          "Yes",
          "Don't Know",
          "Don't Know",
          "Don't Know",
          "Don't Know",
          "Don't Know",
          "Don't Know",
          "Yes",
          "Yes",
          "Don't Know",
          "No",
          "No",
          "No",
          "Yes",
          "Don't Know",
          "No",
          "Yes",
          "No",
          "Don't Know",
          "No",
          "No",
          "Don't Know",
          "Yes",
          "Don't Know",
          "No",
          "Don't Know",
          "No",
          "Don't Know",
          "No",
          "Don't Know",
          "Don't Know",
          "Don't Know",
          "Yes",
          "Yes",
          "Yes",
          "Yes",
          "No",
          "Don't Know",
          "Don't Know",
          "No",
          "Yes",
          "Don't Know",
          "Don't Know",
          "Don't Know",
          "Don't Know",
          "No",
          "Don't Know",
          "Don't Know",
          "Yes",
          "Don't Know",
          "Yes",
          "No",
          "No",
          "No",
          "Yes",
          "Yes",
          "Don't Know",
          "No",
          "Don't Know",
          "No",
          "Don't Know",
          "Yes",
          "No",
          "Don't Know",
          "Don't Know",
          "Don't Know",
          "Don't Know",
          "No",
          "Don't Know",
          "Yes",
          "Yes",
          "Don't Know",
          "Don't Know",
          "No",
          "Yes",
          "No",
          "Yes",
          "Don't Know",
          "No",
          "Yes",
          "Don't Know",
          "Don't Know",
          "Yes",
          "Yes",
          "No",
          "No",
          "No",
          "No",
          "Don't Know",
          "Yes",
          "Don't Know",
          "No",
          "No",
          "Don't Know",
          "Yes",
          "Don't Know",
          "No",
          "No",
          "Yes",
          "Yes",
          "Don't Know",
          "Don't Know",
          "Yes",
          "No",
          "No",
          "Don't Know",
          "Don't Know",
          "Yes",
          "No",
          "Yes",
          "No",
          "Don't Know",
          "No",
          "Yes",
          "Don't Know",
          "Don't Know",
          "No",
          "No",
          "Yes",
          "Don't Know",
          "Don't Know",
          "Don't Know",
          "No",
          "Yes",
          "Don't Know",
          "Yes",
          "Don't Know",
          "Don't Know",
          "No",
          "Don't Know",
          "Don't Know",
          "No",
          "No",
          "Don't Know",
          "Don't Know",
          "Don't Know",
          "Yes",
          "Yes",
          "No",
          "Yes",
          "Don't Know",
          "Yes",
          "Don't Know",
          "Yes",
          "Yes",
          "Yes",
          "Yes",
          "Don't Know",
          "Don't Know",
          "Don't Know",
          "Don't Know",
          "Don't Know",
          "Don't Know",
          "Don't Know",
          "Don't Know",
          "Don't Know",
          "Yes",
          "Yes",
          "Don't Know",
          "Don't Know",
          "Yes",
          "Don't Know",
          "Don't Know",
          "Yes",
          "No",
          "Don't Know",
          "Yes",
          "Don't Know",
          "Yes",
          "No",
          "Don't Know",
          "Don't Know",
          "No",
          "No",
          "Yes",
          "Don't Know",
          "No",
          "Don't Know",
          "Yes",
          "Don't Know",
          "Don't Know",
          "Don't Know",
          "Yes",
          "Yes",
          "No",
          "No",
          "Don't Know",
          "Don't Know",
          "Yes",
          "No",
          "Yes",
          "Don't Know",
          "No",
          "Yes",
          "Don't Know",
          "Don't Know",
          "No",
          "Don't Know",
          "Don't Know",
          "Don't Know",
          "Yes",
          "Yes",
          "No",
          "No",
          "No",
          "Don't Know",
          "No",
          "Yes",
          "Don't Know",
          "Yes",
          "Don't Know",
          "Don't Know",
          "Don't Know",
          "No",
          "Don't Know",
          "Don't Know",
          "Don't Know",
          "No",
          "Don't Know",
          "Don't Know",
          "Don't Know",
          "No",
          "No",
          "Don't Know",
          "Yes",
          "Don't Know",
          "No",
          "No",
          "Don't Know",
          "No",
          "Don't Know",
          "No",
          "No",
          "Yes",
          "No",
          "Yes",
          "No",
          "Yes",
          "Yes",
          "No",
          "Don't Know",
          "Yes",
          "Yes",
          "No",
          "No",
          "Yes",
          "Yes",
          "No",
          "Yes",
          "Don't Know",
          "Yes",
          "Yes",
          "Don't Know",
          "Don't Know",
          "No",
          "Yes",
          "Don't Know",
          "Don't Know",
          "Don't Know",
          "Yes",
          "Don't Know",
          "Don't Know",
          "Yes",
          "No",
          "Don't Know",
          "Don't Know",
          "Don't Know",
          "Don't Know",
          "Don't Know",
          "Don't Know",
          "Don't Know",
          "Don't Know",
          "No",
          "No",
          "No",
          "Don't Know",
          "Yes",
          "No",
          "Don't Know",
          "Yes",
          "Yes",
          "No",
          "No",
          "Don't Know",
          "Don't Know",
          "No",
          "No",
          "No",
          "Yes",
          "Don't Know",
          "Don't Know",
          "Don't Know",
          "Don't Know",
          "Don't Know",
          "Don't Know",
          "Yes",
          "Yes",
          "Don't Know",
          "Don't Know",
          "Yes",
          "Don't Know",
          "Don't Know",
          "Don't Know",
          "Don't Know",
          "No",
          "Yes",
          "Don't Know",
          "Yes",
          "Don't Know",
          "Don't Know",
          "Don't Know",
          "No",
          "Don't Know",
          "Yes",
          "Don't Know",
          "Don't Know",
          "No",
          "Don't Know",
          "Don't Know",
          "Don't Know",
          "Yes",
          "No",
          "No",
          "Don't Know",
          "Yes",
          "No",
          "No",
          "Don't Know",
          "No",
          "No",
          "Don't Know",
          "No",
          "No",
          "No",
          "Don't Know",
          "Yes",
          "Don't Know",
          "Yes",
          "Don't Know",
          "Don't Know",
          "Don't Know",
          "Yes",
          "Don't Know",
          "Don't Know",
          "Don't Know",
          "No",
          "Don't Know",
          "Yes",
          "No",
          "No",
          "Don't Know",
          "Don't Know",
          "No",
          "No",
          "Don't Know",
          "Don't Know",
          "Don't Know",
          "Don't Know",
          "Yes",
          "No",
          "Don't Know",
          "No",
          "Don't Know",
          "No",
          "No",
          "No",
          "Don't Know",
          "Don't Know",
          "Don't Know",
          "No",
          "Don't Know",
          "Don't Know",
          "No",
          "Don't Know",
          "Yes",
          "Yes",
          "Yes",
          "Don't Know",
          "Yes",
          "Don't Know",
          "Don't Know",
          "Don't Know",
          "Yes",
          "Don't Know",
          "Yes",
          "Don't Know",
          "Don't Know",
          "Don't Know",
          "Don't Know",
          "No",
          "No",
          "Don't Know",
          "Don't Know",
          "Don't Know",
          "Don't Know",
          "Don't Know",
          "No",
          "Don't Know",
          "Don't Know",
          "Don't Know",
          "Don't Know",
          "Yes",
          "Yes",
          "Yes",
          "No",
          "Don't Know",
          "Don't Know",
          "Yes",
          "No",
          "No",
          "Don't Know"
         ],
         "xaxis": "x",
         "y": {
          "bdata": "AQEBAQEBAQEBAQEBAQEBAQEBAQEBAQEBAQEBAQEBAQEBAQEBAQEBAQEBAQEBAQEBAQEBAQEBAQEBAQEBAQEBAQEBAQEBAQEBAQEBAQEBAQEBAQEBAQEBAQEBAQEBAQEBAQEBAQEBAQEBAQEBAQEBAQEBAQEBAQEBAQEBAQEBAQEBAQEBAQEBAQEBAQEBAQEBAQEBAQEBAQEBAQEBAQEBAQEBAQEBAQEBAQEBAQEBAQEBAQEBAQEBAQEBAQEBAQEBAQEBAQEBAQEBAQEBAQEBAQEBAQEBAQEBAQEBAQEBAQEBAQEBAQEBAQEBAQEBAQEBAQEBAQEBAQEBAQEBAQEBAQEBAQEBAQEBAQEBAQEBAQEBAQEBAQEBAQEBAQEBAQEBAQEBAQEBAQEBAQEBAQEBAQEBAQEBAQEBAQEBAQEBAQEBAQEBAQEBAQEBAQEBAQEBAQEBAQEBAQEBAQEBAQEBAQEBAQEBAQEBAQEBAQEBAQEBAQEBAQEBAQEBAQEBAQEBAQEBAQEBAQEBAQEBAQEBAQEBAQEBAQEBAQEBAQEBAQEBAQEBAQEBAQEBAQEBAQEBAQEBAQEBAQEBAQEBAQEBAQEBAQEBAQEBAQEBAQEBAQEBAQEBAQEBAQEBAQEBAQEBAQEBAQEBAQEBAQEBAQEBAQEBAQEBAQEBAQEBAQEBAQEBAQEBAQEBAQEBAQEBAQEBAQEBAQEBAQEBAQEBAQEBAQEBAQEBAQEBAQEBAQEBAQEBAQEBAQEBAQEBAQEBAQEBAQEBAQEBAQEBAQEBAQEBAQEBAQEBAQEBAQEBAQEBAQEBAQEBAQEBAQEBAQEBAQEBAQEBAQEBAQEBAQEBAQEBAQEBAQEBAQEBAQEBAQEBAQEBAQEBAQEBAQEBAQEBAQEBAQEBAQEBAQEBAQEBAQEBAQEBAQEBAQEBAQEBAQEBAQEBAQEBAQEBAQEBAQEBAQEBAQEBAQEBAQEBAQEBAQEBAQEBAQEBAQEBAQEBAQEBAQEBAQEBAQEBAQEBAQEBAQEBAQEBAQEBAQEBAQEBAQEBAQEBAQEBAQEBAQEBAQEBAQEBAQEBAQEBAQEBAQEBAQEBAQEBAQEBAQEBAQEBAQEBAQEBAQEBAQEBAQEBAQEBAQEBAQEBAQEBAQEBAQEBAQEBAQEBAQEBAQEBAQEBAQEBAQEBAQEBAQEBAQEBAQEBAQEBAQEBAQEBAQEBAQEBAQEBAQEBAQEBAQEBAQEBAQEBAQEBAQEBAQEBAQEBAQEBAQEBAQEBAQEBAQEBAQEBAQEBAQEBAQEBAQEBAQEBAQEBAQEBAQEBAQEBAQEBAQEBAQEBAQEBAQEBAQEBAQEBAQEBAQEBAQEBAQEBAQEBAQEBAQEBAQEBAQEBAQEBAQEBAQEBAQEBAQEBAQEBAQEBAQEBAQEBAQEBAQEBAQEBAQEBAQEBAQEBAQEBAQEBAQEBAQEBAQEBAQEBAQEBAQEBAQEBAQEBAQEBAQEBAQEBAQEBAQEBAQEBAQEBAQEBAQEBAQEBAQEBAQEBAQEBAQEBAQEBAQEBAQEBAQEBAQEBAQEBAQEBAQEBAQEBAQEBAQEBAQEBAQEBAQEBAQEBAQEBAQEBAQEBAQEBAQEBAQEBAQEBAQEBAQEBAQEBAQEBAQEBAQEBAQEBAQEBAQEBAQEBAQEBAQEBAQEBAQEBAQE=",
          "dtype": "i1"
         },
         "yaxis": "y"
        }
       ],
       "layout": {
        "barmode": "relative",
        "legend": {
         "tracegroupgap": 0
        },
        "template": {
         "data": {
          "bar": [
           {
            "error_x": {
             "color": "#2a3f5f"
            },
            "error_y": {
             "color": "#2a3f5f"
            },
            "marker": {
             "line": {
              "color": "#E5ECF6",
              "width": 0.5
             },
             "pattern": {
              "fillmode": "overlay",
              "size": 10,
              "solidity": 0.2
             }
            },
            "type": "bar"
           }
          ],
          "barpolar": [
           {
            "marker": {
             "line": {
              "color": "#E5ECF6",
              "width": 0.5
             },
             "pattern": {
              "fillmode": "overlay",
              "size": 10,
              "solidity": 0.2
             }
            },
            "type": "barpolar"
           }
          ],
          "carpet": [
           {
            "aaxis": {
             "endlinecolor": "#2a3f5f",
             "gridcolor": "white",
             "linecolor": "white",
             "minorgridcolor": "white",
             "startlinecolor": "#2a3f5f"
            },
            "baxis": {
             "endlinecolor": "#2a3f5f",
             "gridcolor": "white",
             "linecolor": "white",
             "minorgridcolor": "white",
             "startlinecolor": "#2a3f5f"
            },
            "type": "carpet"
           }
          ],
          "choropleth": [
           {
            "colorbar": {
             "outlinewidth": 0,
             "ticks": ""
            },
            "type": "choropleth"
           }
          ],
          "contour": [
           {
            "colorbar": {
             "outlinewidth": 0,
             "ticks": ""
            },
            "colorscale": [
             [
              0,
              "#0d0887"
             ],
             [
              0.1111111111111111,
              "#46039f"
             ],
             [
              0.2222222222222222,
              "#7201a8"
             ],
             [
              0.3333333333333333,
              "#9c179e"
             ],
             [
              0.4444444444444444,
              "#bd3786"
             ],
             [
              0.5555555555555556,
              "#d8576b"
             ],
             [
              0.6666666666666666,
              "#ed7953"
             ],
             [
              0.7777777777777778,
              "#fb9f3a"
             ],
             [
              0.8888888888888888,
              "#fdca26"
             ],
             [
              1,
              "#f0f921"
             ]
            ],
            "type": "contour"
           }
          ],
          "contourcarpet": [
           {
            "colorbar": {
             "outlinewidth": 0,
             "ticks": ""
            },
            "type": "contourcarpet"
           }
          ],
          "heatmap": [
           {
            "colorbar": {
             "outlinewidth": 0,
             "ticks": ""
            },
            "colorscale": [
             [
              0,
              "#0d0887"
             ],
             [
              0.1111111111111111,
              "#46039f"
             ],
             [
              0.2222222222222222,
              "#7201a8"
             ],
             [
              0.3333333333333333,
              "#9c179e"
             ],
             [
              0.4444444444444444,
              "#bd3786"
             ],
             [
              0.5555555555555556,
              "#d8576b"
             ],
             [
              0.6666666666666666,
              "#ed7953"
             ],
             [
              0.7777777777777778,
              "#fb9f3a"
             ],
             [
              0.8888888888888888,
              "#fdca26"
             ],
             [
              1,
              "#f0f921"
             ]
            ],
            "type": "heatmap"
           }
          ],
          "histogram": [
           {
            "marker": {
             "pattern": {
              "fillmode": "overlay",
              "size": 10,
              "solidity": 0.2
             }
            },
            "type": "histogram"
           }
          ],
          "histogram2d": [
           {
            "colorbar": {
             "outlinewidth": 0,
             "ticks": ""
            },
            "colorscale": [
             [
              0,
              "#0d0887"
             ],
             [
              0.1111111111111111,
              "#46039f"
             ],
             [
              0.2222222222222222,
              "#7201a8"
             ],
             [
              0.3333333333333333,
              "#9c179e"
             ],
             [
              0.4444444444444444,
              "#bd3786"
             ],
             [
              0.5555555555555556,
              "#d8576b"
             ],
             [
              0.6666666666666666,
              "#ed7953"
             ],
             [
              0.7777777777777778,
              "#fb9f3a"
             ],
             [
              0.8888888888888888,
              "#fdca26"
             ],
             [
              1,
              "#f0f921"
             ]
            ],
            "type": "histogram2d"
           }
          ],
          "histogram2dcontour": [
           {
            "colorbar": {
             "outlinewidth": 0,
             "ticks": ""
            },
            "colorscale": [
             [
              0,
              "#0d0887"
             ],
             [
              0.1111111111111111,
              "#46039f"
             ],
             [
              0.2222222222222222,
              "#7201a8"
             ],
             [
              0.3333333333333333,
              "#9c179e"
             ],
             [
              0.4444444444444444,
              "#bd3786"
             ],
             [
              0.5555555555555556,
              "#d8576b"
             ],
             [
              0.6666666666666666,
              "#ed7953"
             ],
             [
              0.7777777777777778,
              "#fb9f3a"
             ],
             [
              0.8888888888888888,
              "#fdca26"
             ],
             [
              1,
              "#f0f921"
             ]
            ],
            "type": "histogram2dcontour"
           }
          ],
          "mesh3d": [
           {
            "colorbar": {
             "outlinewidth": 0,
             "ticks": ""
            },
            "type": "mesh3d"
           }
          ],
          "parcoords": [
           {
            "line": {
             "colorbar": {
              "outlinewidth": 0,
              "ticks": ""
             }
            },
            "type": "parcoords"
           }
          ],
          "pie": [
           {
            "automargin": true,
            "type": "pie"
           }
          ],
          "scatter": [
           {
            "fillpattern": {
             "fillmode": "overlay",
             "size": 10,
             "solidity": 0.2
            },
            "type": "scatter"
           }
          ],
          "scatter3d": [
           {
            "line": {
             "colorbar": {
              "outlinewidth": 0,
              "ticks": ""
             }
            },
            "marker": {
             "colorbar": {
              "outlinewidth": 0,
              "ticks": ""
             }
            },
            "type": "scatter3d"
           }
          ],
          "scattercarpet": [
           {
            "marker": {
             "colorbar": {
              "outlinewidth": 0,
              "ticks": ""
             }
            },
            "type": "scattercarpet"
           }
          ],
          "scattergeo": [
           {
            "marker": {
             "colorbar": {
              "outlinewidth": 0,
              "ticks": ""
             }
            },
            "type": "scattergeo"
           }
          ],
          "scattergl": [
           {
            "marker": {
             "colorbar": {
              "outlinewidth": 0,
              "ticks": ""
             }
            },
            "type": "scattergl"
           }
          ],
          "scattermap": [
           {
            "marker": {
             "colorbar": {
              "outlinewidth": 0,
              "ticks": ""
             }
            },
            "type": "scattermap"
           }
          ],
          "scattermapbox": [
           {
            "marker": {
             "colorbar": {
              "outlinewidth": 0,
              "ticks": ""
             }
            },
            "type": "scattermapbox"
           }
          ],
          "scatterpolar": [
           {
            "marker": {
             "colorbar": {
              "outlinewidth": 0,
              "ticks": ""
             }
            },
            "type": "scatterpolar"
           }
          ],
          "scatterpolargl": [
           {
            "marker": {
             "colorbar": {
              "outlinewidth": 0,
              "ticks": ""
             }
            },
            "type": "scatterpolargl"
           }
          ],
          "scatterternary": [
           {
            "marker": {
             "colorbar": {
              "outlinewidth": 0,
              "ticks": ""
             }
            },
            "type": "scatterternary"
           }
          ],
          "surface": [
           {
            "colorbar": {
             "outlinewidth": 0,
             "ticks": ""
            },
            "colorscale": [
             [
              0,
              "#0d0887"
             ],
             [
              0.1111111111111111,
              "#46039f"
             ],
             [
              0.2222222222222222,
              "#7201a8"
             ],
             [
              0.3333333333333333,
              "#9c179e"
             ],
             [
              0.4444444444444444,
              "#bd3786"
             ],
             [
              0.5555555555555556,
              "#d8576b"
             ],
             [
              0.6666666666666666,
              "#ed7953"
             ],
             [
              0.7777777777777778,
              "#fb9f3a"
             ],
             [
              0.8888888888888888,
              "#fdca26"
             ],
             [
              1,
              "#f0f921"
             ]
            ],
            "type": "surface"
           }
          ],
          "table": [
           {
            "cells": {
             "fill": {
              "color": "#EBF0F8"
             },
             "line": {
              "color": "white"
             }
            },
            "header": {
             "fill": {
              "color": "#C8D4E3"
             },
             "line": {
              "color": "white"
             }
            },
            "type": "table"
           }
          ]
         },
         "layout": {
          "annotationdefaults": {
           "arrowcolor": "#2a3f5f",
           "arrowhead": 0,
           "arrowwidth": 1
          },
          "autotypenumbers": "strict",
          "coloraxis": {
           "colorbar": {
            "outlinewidth": 0,
            "ticks": ""
           }
          },
          "colorscale": {
           "diverging": [
            [
             0,
             "#8e0152"
            ],
            [
             0.1,
             "#c51b7d"
            ],
            [
             0.2,
             "#de77ae"
            ],
            [
             0.3,
             "#f1b6da"
            ],
            [
             0.4,
             "#fde0ef"
            ],
            [
             0.5,
             "#f7f7f7"
            ],
            [
             0.6,
             "#e6f5d0"
            ],
            [
             0.7,
             "#b8e186"
            ],
            [
             0.8,
             "#7fbc41"
            ],
            [
             0.9,
             "#4d9221"
            ],
            [
             1,
             "#276419"
            ]
           ],
           "sequential": [
            [
             0,
             "#0d0887"
            ],
            [
             0.1111111111111111,
             "#46039f"
            ],
            [
             0.2222222222222222,
             "#7201a8"
            ],
            [
             0.3333333333333333,
             "#9c179e"
            ],
            [
             0.4444444444444444,
             "#bd3786"
            ],
            [
             0.5555555555555556,
             "#d8576b"
            ],
            [
             0.6666666666666666,
             "#ed7953"
            ],
            [
             0.7777777777777778,
             "#fb9f3a"
            ],
            [
             0.8888888888888888,
             "#fdca26"
            ],
            [
             1,
             "#f0f921"
            ]
           ],
           "sequentialminus": [
            [
             0,
             "#0d0887"
            ],
            [
             0.1111111111111111,
             "#46039f"
            ],
            [
             0.2222222222222222,
             "#7201a8"
            ],
            [
             0.3333333333333333,
             "#9c179e"
            ],
            [
             0.4444444444444444,
             "#bd3786"
            ],
            [
             0.5555555555555556,
             "#d8576b"
            ],
            [
             0.6666666666666666,
             "#ed7953"
            ],
            [
             0.7777777777777778,
             "#fb9f3a"
            ],
            [
             0.8888888888888888,
             "#fdca26"
            ],
            [
             1,
             "#f0f921"
            ]
           ]
          },
          "colorway": [
           "#636efa",
           "#EF553B",
           "#00cc96",
           "#ab63fa",
           "#FFA15A",
           "#19d3f3",
           "#FF6692",
           "#B6E880",
           "#FF97FF",
           "#FECB52"
          ],
          "font": {
           "color": "#2a3f5f"
          },
          "geo": {
           "bgcolor": "white",
           "lakecolor": "white",
           "landcolor": "#E5ECF6",
           "showlakes": true,
           "showland": true,
           "subunitcolor": "white"
          },
          "hoverlabel": {
           "align": "left"
          },
          "hovermode": "closest",
          "mapbox": {
           "style": "light"
          },
          "paper_bgcolor": "white",
          "plot_bgcolor": "#E5ECF6",
          "polar": {
           "angularaxis": {
            "gridcolor": "white",
            "linecolor": "white",
            "ticks": ""
           },
           "bgcolor": "#E5ECF6",
           "radialaxis": {
            "gridcolor": "white",
            "linecolor": "white",
            "ticks": ""
           }
          },
          "scene": {
           "xaxis": {
            "backgroundcolor": "#E5ECF6",
            "gridcolor": "white",
            "gridwidth": 2,
            "linecolor": "white",
            "showbackground": true,
            "ticks": "",
            "zerolinecolor": "white"
           },
           "yaxis": {
            "backgroundcolor": "#E5ECF6",
            "gridcolor": "white",
            "gridwidth": 2,
            "linecolor": "white",
            "showbackground": true,
            "ticks": "",
            "zerolinecolor": "white"
           },
           "zaxis": {
            "backgroundcolor": "#E5ECF6",
            "gridcolor": "white",
            "gridwidth": 2,
            "linecolor": "white",
            "showbackground": true,
            "ticks": "",
            "zerolinecolor": "white"
           }
          },
          "shapedefaults": {
           "line": {
            "color": "#2a3f5f"
           }
          },
          "ternary": {
           "aaxis": {
            "gridcolor": "white",
            "linecolor": "white",
            "ticks": ""
           },
           "baxis": {
            "gridcolor": "white",
            "linecolor": "white",
            "ticks": ""
           },
           "bgcolor": "#E5ECF6",
           "caxis": {
            "gridcolor": "white",
            "linecolor": "white",
            "ticks": ""
           }
          },
          "title": {
           "x": 0.05
          },
          "xaxis": {
           "automargin": true,
           "gridcolor": "white",
           "linecolor": "white",
           "ticks": "",
           "title": {
            "standoff": 15
           },
           "zerolinecolor": "white",
           "zerolinewidth": 2
          },
          "yaxis": {
           "automargin": true,
           "gridcolor": "white",
           "linecolor": "white",
           "ticks": "",
           "title": {
            "standoff": 15
           },
           "zerolinecolor": "white",
           "zerolinewidth": 2
          }
         }
        },
        "title": {
         "text": "Employer Takes Mental Health as Seriously as Physical Health?"
        },
        "xaxis": {
         "anchor": "y",
         "categoryarray": [
          "Yes",
          "No",
          "Don't Know"
         ],
         "categoryorder": "array",
         "domain": [
          0,
          1
         ],
         "title": {
          "text": "Employer Perception"
         }
        },
        "yaxis": {
         "anchor": "x",
         "domain": [
          0,
          1
         ],
         "title": {
          "text": "Number of Respondents"
         }
        }
       }
      }
     },
     "metadata": {},
     "output_type": "display_data"
    }
   ],
   "source": [
    "fig = px.bar(df, x='mental_vs_physical', title='Employer Takes Mental Health as Seriously as Physical Health?',\n",
    "             category_orders={'mental_vs_physical': ['Yes', 'No', 'Don\\'t Know']})\n",
    "fig.update_layout(xaxis_title='Employer Perception', yaxis_title='Number of Respondents')\n",
    "fig.show()"
   ]
  },
  {
   "cell_type": "markdown",
   "id": "db06d9d3",
   "metadata": {},
   "source": [
    "### Question: Would you talk to a supervisor or peer about your mental health? (Let's focus on supervisor here, as you already did coworkers.)"
   ]
  },
  {
   "cell_type": "code",
   "execution_count": 40,
   "id": "384350dc",
   "metadata": {},
   "outputs": [
    {
     "data": {
      "application/vnd.plotly.v1+json": {
       "config": {
        "plotlyServerURL": "https://plot.ly"
       },
       "data": [
        {
         "alignmentgroup": "True",
         "bingroup": "x",
         "hovertemplate": "Willing to Discuss with Supervisor=Yes<br>Discussing MH has Negative Consequence=%{x}<br>count=%{y}<extra></extra>",
         "legendgroup": "Yes",
         "marker": {
          "color": "#636efa",
          "pattern": {
           "shape": ""
          }
         },
         "name": "Yes",
         "offsetgroup": "Yes",
         "orientation": "v",
         "showlegend": true,
         "type": "histogram",
         "x": [
          "No",
          "No",
          "No",
          "No",
          "Don't Know",
          "No",
          "No",
          "No",
          "Yes",
          "No",
          "Don't Know",
          "No",
          "Don't Know",
          "No",
          "Yes",
          "No",
          "Don't Know",
          "No",
          "No",
          "No",
          "No",
          "No",
          "No",
          "No",
          "Don't Know",
          "No",
          "Don't Know",
          "No",
          "No",
          "No",
          "No",
          "No",
          "No",
          "No",
          "No",
          "Don't Know",
          "No",
          "No",
          "No",
          "No",
          "No",
          "Don't Know",
          "No",
          "No",
          "No",
          "No",
          "Don't Know",
          "No",
          "No",
          "No",
          "No",
          "No",
          "No",
          "No",
          "No",
          "Don't Know",
          "Don't Know",
          "No",
          "Yes",
          "Don't Know",
          "No",
          "No",
          "No",
          "Don't Know",
          "Yes",
          "No",
          "No",
          "No",
          "No",
          "No",
          "Don't Know",
          "No",
          "Don't Know",
          "No",
          "Yes",
          "Don't Know",
          "Don't Know",
          "No",
          "No",
          "Don't Know",
          "No",
          "Don't Know",
          "Don't Know",
          "No",
          "No",
          "No",
          "No",
          "Don't Know",
          "No",
          "Don't Know",
          "No",
          "No",
          "No",
          "Don't Know",
          "No",
          "Don't Know",
          "No",
          "No",
          "Yes",
          "No",
          "No",
          "No",
          "No",
          "No",
          "No",
          "No",
          "Don't Know",
          "No",
          "No",
          "No",
          "No",
          "Don't Know",
          "No",
          "No",
          "Don't Know",
          "No",
          "No",
          "Don't Know",
          "No",
          "No",
          "No",
          "Don't Know",
          "No",
          "No",
          "No",
          "No",
          "No",
          "No",
          "Don't Know",
          "Don't Know",
          "No",
          "No",
          "No",
          "No",
          "No",
          "No",
          "Yes",
          "No",
          "Don't Know",
          "No",
          "Don't Know",
          "No",
          "Don't Know",
          "No",
          "No",
          "No",
          "No",
          "No",
          "No",
          "No",
          "No",
          "No",
          "No",
          "Don't Know",
          "No",
          "No",
          "No",
          "No",
          "Don't Know",
          "No",
          "No",
          "No",
          "No",
          "Don't Know",
          "Don't Know",
          "No",
          "No",
          "No",
          "Don't Know",
          "No",
          "No",
          "Don't Know",
          "Don't Know",
          "No",
          "No",
          "No",
          "Don't Know",
          "No",
          "No",
          "No",
          "No",
          "No",
          "No",
          "Don't Know",
          "Don't Know",
          "No",
          "No",
          "No",
          "No",
          "Don't Know",
          "No",
          "No",
          "No",
          "No",
          "No",
          "No",
          "Don't Know",
          "Yes",
          "Don't Know",
          "Don't Know",
          "Don't Know",
          "No",
          "Don't Know",
          "Don't Know",
          "No",
          "Don't Know",
          "No",
          "No",
          "Don't Know",
          "No",
          "No",
          "Don't Know",
          "No",
          "No",
          "No",
          "No",
          "No",
          "Don't Know",
          "Don't Know",
          "Don't Know",
          "Don't Know",
          "Don't Know",
          "No",
          "No",
          "No",
          "Yes",
          "No",
          "No",
          "No",
          "Yes",
          "No",
          "No",
          "No",
          "No",
          "No",
          "Yes",
          "Don't Know",
          "Don't Know",
          "No",
          "No",
          "No",
          "No",
          "No",
          "No",
          "No",
          "Yes",
          "Don't Know",
          "Don't Know",
          "No",
          "No",
          "No",
          "No",
          "No",
          "No",
          "No",
          "No",
          "No",
          "No",
          "No",
          "No",
          "No",
          "Don't Know",
          "No",
          "No",
          "No",
          "No",
          "No",
          "No",
          "No",
          "Don't Know",
          "No",
          "Don't Know",
          "No",
          "No",
          "Don't Know",
          "No",
          "No",
          "Don't Know",
          "No",
          "No",
          "No",
          "No",
          "No",
          "Don't Know",
          "No",
          "No",
          "No",
          "No",
          "Don't Know",
          "No",
          "Don't Know",
          "No",
          "Don't Know",
          "No",
          "No",
          "Don't Know",
          "No",
          "No",
          "Don't Know",
          "No",
          "No",
          "No",
          "Don't Know",
          "Yes",
          "No",
          "No",
          "Yes",
          "No",
          "No",
          "No",
          "No",
          "No",
          "Don't Know",
          "No",
          "No",
          "No",
          "No",
          "No",
          "No",
          "Don't Know",
          "No",
          "No",
          "No",
          "Don't Know",
          "Yes",
          "Yes",
          "Don't Know",
          "No",
          "No",
          "No",
          "No",
          "No",
          "No",
          "No",
          "Don't Know",
          "No",
          "Don't Know",
          "Yes",
          "Don't Know",
          "Don't Know",
          "Yes",
          "No",
          "Don't Know",
          "No",
          "Don't Know",
          "No",
          "No",
          "No",
          "No",
          "No",
          "No",
          "Don't Know",
          "No",
          "Don't Know",
          "No",
          "Don't Know",
          "No",
          "No",
          "No",
          "No",
          "No",
          "No",
          "Don't Know",
          "No",
          "Yes",
          "Don't Know",
          "No",
          "No",
          "No",
          "No",
          "Don't Know",
          "No",
          "No",
          "No",
          "No",
          "Don't Know",
          "No",
          "No",
          "No",
          "No",
          "No",
          "Don't Know",
          "No",
          "No",
          "No",
          "No",
          "No",
          "No",
          "No",
          "No",
          "Don't Know",
          "No",
          "No",
          "Don't Know",
          "Don't Know",
          "No",
          "No",
          "Yes",
          "Yes",
          "Don't Know",
          "No",
          "No",
          "No",
          "No",
          "Don't Know",
          "No",
          "No",
          "No",
          "No",
          "No",
          "Don't Know",
          "Don't Know",
          "No",
          "No",
          "Yes",
          "No",
          "No",
          "No",
          "Don't Know",
          "No",
          "Don't Know",
          "No",
          "Don't Know",
          "No",
          "No",
          "Don't Know",
          "No",
          "Don't Know",
          "No",
          "No",
          "Don't Know",
          "No",
          "Don't Know",
          "No",
          "No",
          "No",
          "No",
          "No",
          "No",
          "No",
          "No",
          "No",
          "Don't Know",
          "Don't Know",
          "No",
          "Don't Know",
          "No",
          "Don't Know",
          "Don't Know",
          "No",
          "Don't Know",
          "Don't Know",
          "No",
          "No",
          "No",
          "No",
          "Yes",
          "No",
          "No",
          "No",
          "Don't Know",
          "Don't Know",
          "No",
          "No",
          "No",
          "Yes",
          "No",
          "Don't Know",
          "Yes",
          "Don't Know",
          "Don't Know",
          "No",
          "No",
          "No",
          "No",
          "Don't Know",
          "No",
          "No",
          "No",
          "Don't Know",
          "Don't Know",
          "No",
          "Don't Know",
          "No",
          "No",
          "Don't Know",
          "No",
          "No",
          "No",
          "No",
          "Yes",
          "Don't Know",
          "No",
          "Don't Know",
          "Don't Know",
          "No",
          "Don't Know",
          "Don't Know",
          "No",
          "Don't Know",
          "No",
          "No",
          "No",
          "No",
          "No",
          "No",
          "No",
          "Yes",
          "Don't Know",
          "No",
          "Don't Know",
          "Don't Know",
          "No",
          "No",
          "No",
          "No"
         ],
         "xaxis": "x",
         "yaxis": "y"
        },
        {
         "alignmentgroup": "True",
         "bingroup": "x",
         "hovertemplate": "Willing to Discuss with Supervisor=No<br>Discussing MH has Negative Consequence=%{x}<br>count=%{y}<extra></extra>",
         "legendgroup": "No",
         "marker": {
          "color": "#EF553B",
          "pattern": {
           "shape": ""
          }
         },
         "name": "No",
         "offsetgroup": "No",
         "orientation": "v",
         "showlegend": true,
         "type": "histogram",
         "x": [
          "Don't Know",
          "Yes",
          "Don't Know",
          "No",
          "Don't Know",
          "Don't Know",
          "Don't Know",
          "No",
          "Yes",
          "Yes",
          "Don't Know",
          "Yes",
          "Don't Know",
          "Yes",
          "Don't Know",
          "No",
          "Don't Know",
          "No",
          "Don't Know",
          "Yes",
          "Yes",
          "Yes",
          "Yes",
          "Don't Know",
          "Don't Know",
          "Yes",
          "Yes",
          "Yes",
          "Don't Know",
          "Don't Know",
          "Don't Know",
          "Don't Know",
          "Yes",
          "Don't Know",
          "Yes",
          "Don't Know",
          "No",
          "Yes",
          "Don't Know",
          "Yes",
          "Don't Know",
          "Yes",
          "Yes",
          "Don't Know",
          "Yes",
          "Yes",
          "Yes",
          "Yes",
          "Yes",
          "Don't Know",
          "Yes",
          "Yes",
          "Yes",
          "Yes",
          "No",
          "Don't Know",
          "Don't Know",
          "Yes",
          "Yes",
          "Don't Know",
          "Don't Know",
          "Yes",
          "Yes",
          "Yes",
          "Yes",
          "No",
          "Don't Know",
          "Yes",
          "Don't Know",
          "Don't Know",
          "Yes",
          "Yes",
          "Yes",
          "Don't Know",
          "Don't Know",
          "Yes",
          "Yes",
          "Don't Know",
          "Yes",
          "Don't Know",
          "Don't Know",
          "Yes",
          "Yes",
          "No",
          "Don't Know",
          "Don't Know",
          "Yes",
          "Yes",
          "Yes",
          "Don't Know",
          "Don't Know",
          "Don't Know",
          "Don't Know",
          "Yes",
          "Yes",
          "Don't Know",
          "No",
          "Yes",
          "Yes",
          "Yes",
          "Yes",
          "Don't Know",
          "No",
          "Don't Know",
          "No",
          "Don't Know",
          "Don't Know",
          "Don't Know",
          "Yes",
          "Yes",
          "Yes",
          "Don't Know",
          "Yes",
          "Yes",
          "Yes",
          "Don't Know",
          "Yes",
          "Don't Know",
          "Yes",
          "Yes",
          "Don't Know",
          "Don't Know",
          "Yes",
          "Yes",
          "Yes",
          "Yes",
          "Yes",
          "Yes",
          "No",
          "Don't Know",
          "Don't Know",
          "No",
          "Don't Know",
          "Don't Know",
          "Don't Know",
          "Yes",
          "Yes",
          "Yes",
          "Yes",
          "Don't Know",
          "Yes",
          "Don't Know",
          "Yes",
          "Yes",
          "Don't Know",
          "Yes",
          "Yes",
          "Yes",
          "Don't Know",
          "Don't Know",
          "Yes",
          "Yes",
          "Don't Know",
          "Yes",
          "Yes",
          "Don't Know",
          "Yes",
          "Yes",
          "Don't Know",
          "Don't Know",
          "Don't Know",
          "Yes",
          "Don't Know",
          "Don't Know",
          "Don't Know",
          "Yes",
          "Yes",
          "Yes",
          "Don't Know",
          "Don't Know",
          "Yes",
          "Don't Know",
          "No",
          "Don't Know",
          "Don't Know",
          "No",
          "Yes",
          "Don't Know",
          "Don't Know",
          "Don't Know",
          "Yes",
          "Yes",
          "Yes",
          "Yes",
          "Don't Know",
          "Don't Know",
          "Yes",
          "Don't Know",
          "Don't Know",
          "Yes",
          "Yes",
          "Yes",
          "Yes",
          "Yes",
          "Yes",
          "Don't Know",
          "Yes",
          "Don't Know",
          "Yes",
          "Don't Know",
          "No",
          "Don't Know",
          "No",
          "Don't Know",
          "No",
          "Don't Know",
          "Don't Know",
          "Yes",
          "Don't Know",
          "Yes",
          "Yes",
          "Don't Know",
          "No",
          "Yes",
          "Yes",
          "Don't Know",
          "Don't Know",
          "Yes",
          "Yes",
          "Yes",
          "Yes",
          "Yes",
          "Yes",
          "Yes",
          "Yes",
          "Don't Know",
          "Yes",
          "Yes",
          "Don't Know",
          "No",
          "Don't Know",
          "Yes",
          "No",
          "Yes",
          "Yes",
          "Don't Know",
          "No",
          "Don't Know",
          "Don't Know",
          "Yes",
          "No",
          "Don't Know",
          "Don't Know",
          "Yes",
          "Yes",
          "Yes",
          "Yes",
          "Yes",
          "Don't Know",
          "Don't Know",
          "Yes",
          "Yes",
          "Don't Know",
          "Yes",
          "Don't Know",
          "No",
          "Don't Know",
          "Yes",
          "Yes",
          "Yes",
          "Yes",
          "Don't Know",
          "Yes",
          "Yes",
          "Don't Know",
          "Don't Know",
          "Don't Know",
          "Don't Know",
          "Yes",
          "Yes",
          "Yes",
          "Yes",
          "No",
          "Yes",
          "Yes",
          "Yes",
          "Don't Know",
          "Yes",
          "Don't Know",
          "Yes",
          "Yes",
          "Yes",
          "Yes",
          "Don't Know",
          "Yes",
          "Don't Know",
          "Yes",
          "Don't Know",
          "Yes",
          "Yes",
          "Yes",
          "Yes",
          "Don't Know",
          "Yes",
          "Yes",
          "Don't Know",
          "Yes",
          "Yes",
          "Yes",
          "No",
          "No",
          "Don't Know",
          "Yes",
          "Yes",
          "Yes",
          "No",
          "Don't Know",
          "Yes",
          "Yes",
          "Don't Know",
          "Don't Know",
          "Yes",
          "Yes",
          "Yes",
          "Yes",
          "No",
          "Yes",
          "Don't Know",
          "Don't Know",
          "Don't Know",
          "Don't Know",
          "Don't Know",
          "Don't Know",
          "No",
          "Don't Know",
          "Yes",
          "Don't Know",
          "Don't Know",
          "Don't Know",
          "Yes",
          "Yes",
          "Yes",
          "Yes",
          "Yes",
          "No",
          "Don't Know",
          "Yes",
          "Yes",
          "Yes",
          "Don't Know",
          "Don't Know",
          "Yes",
          "No",
          "Don't Know",
          "Don't Know",
          "Don't Know",
          "Yes",
          "Yes",
          "Don't Know",
          "Don't Know",
          "Don't Know",
          "Yes",
          "Don't Know",
          "Don't Know",
          "Yes",
          "No",
          "Yes",
          "Don't Know",
          "Yes",
          "Don't Know",
          "Yes",
          "Don't Know",
          "Yes",
          "Yes",
          "Don't Know",
          "Don't Know",
          "Don't Know",
          "Don't Know",
          "Don't Know",
          "Don't Know",
          "Don't Know",
          "Yes",
          "Yes",
          "Yes",
          "Don't Know",
          "Don't Know",
          "Yes",
          "Don't Know",
          "Don't Know",
          "Don't Know",
          "Yes",
          "Yes",
          "Don't Know",
          "Yes",
          "No",
          "Don't Know",
          "Don't Know",
          "Yes",
          "Yes",
          "Yes",
          "Yes",
          "Yes",
          "Don't Know"
         ],
         "xaxis": "x",
         "yaxis": "y"
        },
        {
         "alignmentgroup": "True",
         "bingroup": "x",
         "hovertemplate": "Willing to Discuss with Supervisor=some<br>Discussing MH has Negative Consequence=%{x}<br>count=%{y}<extra></extra>",
         "legendgroup": "some",
         "marker": {
          "color": "#ab63fa",
          "pattern": {
           "shape": ""
          }
         },
         "name": "some",
         "offsetgroup": "some",
         "orientation": "v",
         "showlegend": true,
         "type": "histogram",
         "x": [
          "No",
          "No",
          "No",
          "Don't Know",
          "No",
          "Yes",
          "Don't Know",
          "Don't Know",
          "Yes",
          "Don't Know",
          "Don't Know",
          "Don't Know",
          "Don't Know",
          "No",
          "No",
          "Yes",
          "Don't Know",
          "No",
          "Don't Know",
          "No",
          "Don't Know",
          "No",
          "No",
          "Don't Know",
          "Don't Know",
          "No",
          "Don't Know",
          "Don't Know",
          "Don't Know",
          "Don't Know",
          "No",
          "No",
          "Don't Know",
          "No",
          "Don't Know",
          "Yes",
          "No",
          "Don't Know",
          "Don't Know",
          "Don't Know",
          "No",
          "Don't Know",
          "Yes",
          "Don't Know",
          "Don't Know",
          "Don't Know",
          "No",
          "Don't Know",
          "No",
          "Yes",
          "No",
          "Yes",
          "No",
          "Yes",
          "Don't Know",
          "Don't Know",
          "No",
          "Don't Know",
          "No",
          "Don't Know",
          "Don't Know",
          "Don't Know",
          "Yes",
          "Yes",
          "Don't Know",
          "Don't Know",
          "Don't Know",
          "No",
          "Don't Know",
          "Don't Know",
          "Don't Know",
          "Yes",
          "No",
          "Don't Know",
          "No",
          "Yes",
          "Don't Know",
          "Don't Know",
          "No",
          "No",
          "Don't Know",
          "No",
          "Don't Know",
          "Don't Know",
          "Don't Know",
          "Yes",
          "Don't Know",
          "Don't Know",
          "No",
          "Don't Know",
          "No",
          "Don't Know",
          "Yes",
          "Don't Know",
          "Don't Know",
          "Don't Know",
          "Yes",
          "Don't Know",
          "No",
          "No",
          "Don't Know",
          "Don't Know",
          "Don't Know",
          "No",
          "Don't Know",
          "Don't Know",
          "Don't Know",
          "Don't Know",
          "Don't Know",
          "Yes",
          "No",
          "No",
          "No",
          "Yes",
          "No",
          "Yes",
          "Yes",
          "Don't Know",
          "Yes",
          "Don't Know",
          "Yes",
          "Don't Know",
          "Yes",
          "Don't Know",
          "Don't Know",
          "Yes",
          "Yes",
          "Don't Know",
          "Don't Know",
          "Don't Know",
          "No",
          "No",
          "No",
          "Don't Know",
          "No",
          "No",
          "No",
          "Yes",
          "Don't Know",
          "Don't Know",
          "No",
          "No",
          "Yes",
          "Don't Know",
          "No",
          "Yes",
          "Yes",
          "Don't Know",
          "Don't Know",
          "Don't Know",
          "Don't Know",
          "Don't Know",
          "Don't Know",
          "Don't Know",
          "Don't Know",
          "No",
          "No",
          "No",
          "Don't Know",
          "Don't Know",
          "Don't Know",
          "Don't Know",
          "Don't Know",
          "Yes",
          "Don't Know",
          "No",
          "Don't Know",
          "Yes",
          "No",
          "Don't Know",
          "No",
          "Don't Know",
          "No",
          "Don't Know",
          "Yes",
          "No",
          "Yes",
          "Don't Know",
          "Yes",
          "No",
          "Don't Know",
          "Yes",
          "Don't Know",
          "No",
          "No",
          "No",
          "No",
          "Don't Know",
          "No",
          "Don't Know",
          "No",
          "Don't Know",
          "Don't Know",
          "Don't Know",
          "Don't Know",
          "Don't Know",
          "Don't Know",
          "No",
          "Don't Know",
          "Don't Know",
          "No",
          "Don't Know",
          "No",
          "Don't Know",
          "No",
          "Don't Know",
          "Don't Know",
          "Yes",
          "Don't Know",
          "Don't Know",
          "Don't Know",
          "Don't Know",
          "No",
          "No",
          "Don't Know",
          "Don't Know",
          "No",
          "Don't Know",
          "Yes",
          "Yes",
          "Yes",
          "Don't Know",
          "Yes",
          "No",
          "Don't Know",
          "No",
          "Yes",
          "Don't Know",
          "No",
          "No",
          "No",
          "Yes",
          "Don't Know",
          "No",
          "No",
          "Don't Know",
          "Don't Know",
          "Yes",
          "Don't Know",
          "Don't Know",
          "Don't Know",
          "No",
          "Don't Know",
          "Don't Know",
          "Don't Know",
          "Don't Know",
          "Don't Know",
          "Don't Know",
          "Don't Know",
          "Don't Know",
          "No",
          "Don't Know",
          "No",
          "Don't Know",
          "Don't Know",
          "Yes",
          "Don't Know",
          "No",
          "Yes",
          "Don't Know",
          "Don't Know",
          "Yes",
          "No",
          "Don't Know",
          "Don't Know",
          "No",
          "No",
          "Don't Know",
          "Yes",
          "Yes",
          "No",
          "Don't Know",
          "Don't Know",
          "Yes",
          "Don't Know",
          "Yes",
          "Don't Know",
          "Yes",
          "Yes",
          "Yes",
          "Yes",
          "No",
          "Don't Know",
          "Don't Know",
          "Don't Know",
          "Yes",
          "Don't Know",
          "Yes",
          "No",
          "No",
          "Yes",
          "No",
          "No",
          "No",
          "Don't Know",
          "Don't Know",
          "Don't Know",
          "Don't Know",
          "No",
          "Don't Know",
          "Don't Know",
          "No",
          "Don't Know",
          "Don't Know",
          "No",
          "No",
          "Don't Know",
          "Don't Know",
          "Don't Know",
          "Don't Know",
          "Don't Know",
          "Yes",
          "Don't Know",
          "Don't Know",
          "No",
          "No",
          "Yes",
          "Don't Know",
          "Yes",
          "Don't Know",
          "Don't Know",
          "Yes",
          "Yes",
          "No",
          "Yes",
          "Don't Know",
          "Don't Know",
          "Don't Know",
          "No",
          "Don't Know",
          "Don't Know",
          "Yes",
          "Don't Know",
          "Don't Know",
          "Don't Know",
          "Yes",
          "Yes",
          "Don't Know",
          "Yes",
          "Don't Know",
          "Don't Know",
          "No",
          "Don't Know",
          "Don't Know",
          "Yes",
          "Don't Know",
          "Don't Know",
          "No",
          "Don't Know",
          "No"
         ],
         "xaxis": "x",
         "yaxis": "y"
        }
       ],
       "layout": {
        "barmode": "group",
        "legend": {
         "title": {
          "text": "Willing to Discuss with Supervisor"
         },
         "tracegroupgap": 0
        },
        "template": {
         "data": {
          "bar": [
           {
            "error_x": {
             "color": "#2a3f5f"
            },
            "error_y": {
             "color": "#2a3f5f"
            },
            "marker": {
             "line": {
              "color": "#E5ECF6",
              "width": 0.5
             },
             "pattern": {
              "fillmode": "overlay",
              "size": 10,
              "solidity": 0.2
             }
            },
            "type": "bar"
           }
          ],
          "barpolar": [
           {
            "marker": {
             "line": {
              "color": "#E5ECF6",
              "width": 0.5
             },
             "pattern": {
              "fillmode": "overlay",
              "size": 10,
              "solidity": 0.2
             }
            },
            "type": "barpolar"
           }
          ],
          "carpet": [
           {
            "aaxis": {
             "endlinecolor": "#2a3f5f",
             "gridcolor": "white",
             "linecolor": "white",
             "minorgridcolor": "white",
             "startlinecolor": "#2a3f5f"
            },
            "baxis": {
             "endlinecolor": "#2a3f5f",
             "gridcolor": "white",
             "linecolor": "white",
             "minorgridcolor": "white",
             "startlinecolor": "#2a3f5f"
            },
            "type": "carpet"
           }
          ],
          "choropleth": [
           {
            "colorbar": {
             "outlinewidth": 0,
             "ticks": ""
            },
            "type": "choropleth"
           }
          ],
          "contour": [
           {
            "colorbar": {
             "outlinewidth": 0,
             "ticks": ""
            },
            "colorscale": [
             [
              0,
              "#0d0887"
             ],
             [
              0.1111111111111111,
              "#46039f"
             ],
             [
              0.2222222222222222,
              "#7201a8"
             ],
             [
              0.3333333333333333,
              "#9c179e"
             ],
             [
              0.4444444444444444,
              "#bd3786"
             ],
             [
              0.5555555555555556,
              "#d8576b"
             ],
             [
              0.6666666666666666,
              "#ed7953"
             ],
             [
              0.7777777777777778,
              "#fb9f3a"
             ],
             [
              0.8888888888888888,
              "#fdca26"
             ],
             [
              1,
              "#f0f921"
             ]
            ],
            "type": "contour"
           }
          ],
          "contourcarpet": [
           {
            "colorbar": {
             "outlinewidth": 0,
             "ticks": ""
            },
            "type": "contourcarpet"
           }
          ],
          "heatmap": [
           {
            "colorbar": {
             "outlinewidth": 0,
             "ticks": ""
            },
            "colorscale": [
             [
              0,
              "#0d0887"
             ],
             [
              0.1111111111111111,
              "#46039f"
             ],
             [
              0.2222222222222222,
              "#7201a8"
             ],
             [
              0.3333333333333333,
              "#9c179e"
             ],
             [
              0.4444444444444444,
              "#bd3786"
             ],
             [
              0.5555555555555556,
              "#d8576b"
             ],
             [
              0.6666666666666666,
              "#ed7953"
             ],
             [
              0.7777777777777778,
              "#fb9f3a"
             ],
             [
              0.8888888888888888,
              "#fdca26"
             ],
             [
              1,
              "#f0f921"
             ]
            ],
            "type": "heatmap"
           }
          ],
          "histogram": [
           {
            "marker": {
             "pattern": {
              "fillmode": "overlay",
              "size": 10,
              "solidity": 0.2
             }
            },
            "type": "histogram"
           }
          ],
          "histogram2d": [
           {
            "colorbar": {
             "outlinewidth": 0,
             "ticks": ""
            },
            "colorscale": [
             [
              0,
              "#0d0887"
             ],
             [
              0.1111111111111111,
              "#46039f"
             ],
             [
              0.2222222222222222,
              "#7201a8"
             ],
             [
              0.3333333333333333,
              "#9c179e"
             ],
             [
              0.4444444444444444,
              "#bd3786"
             ],
             [
              0.5555555555555556,
              "#d8576b"
             ],
             [
              0.6666666666666666,
              "#ed7953"
             ],
             [
              0.7777777777777778,
              "#fb9f3a"
             ],
             [
              0.8888888888888888,
              "#fdca26"
             ],
             [
              1,
              "#f0f921"
             ]
            ],
            "type": "histogram2d"
           }
          ],
          "histogram2dcontour": [
           {
            "colorbar": {
             "outlinewidth": 0,
             "ticks": ""
            },
            "colorscale": [
             [
              0,
              "#0d0887"
             ],
             [
              0.1111111111111111,
              "#46039f"
             ],
             [
              0.2222222222222222,
              "#7201a8"
             ],
             [
              0.3333333333333333,
              "#9c179e"
             ],
             [
              0.4444444444444444,
              "#bd3786"
             ],
             [
              0.5555555555555556,
              "#d8576b"
             ],
             [
              0.6666666666666666,
              "#ed7953"
             ],
             [
              0.7777777777777778,
              "#fb9f3a"
             ],
             [
              0.8888888888888888,
              "#fdca26"
             ],
             [
              1,
              "#f0f921"
             ]
            ],
            "type": "histogram2dcontour"
           }
          ],
          "mesh3d": [
           {
            "colorbar": {
             "outlinewidth": 0,
             "ticks": ""
            },
            "type": "mesh3d"
           }
          ],
          "parcoords": [
           {
            "line": {
             "colorbar": {
              "outlinewidth": 0,
              "ticks": ""
             }
            },
            "type": "parcoords"
           }
          ],
          "pie": [
           {
            "automargin": true,
            "type": "pie"
           }
          ],
          "scatter": [
           {
            "fillpattern": {
             "fillmode": "overlay",
             "size": 10,
             "solidity": 0.2
            },
            "type": "scatter"
           }
          ],
          "scatter3d": [
           {
            "line": {
             "colorbar": {
              "outlinewidth": 0,
              "ticks": ""
             }
            },
            "marker": {
             "colorbar": {
              "outlinewidth": 0,
              "ticks": ""
             }
            },
            "type": "scatter3d"
           }
          ],
          "scattercarpet": [
           {
            "marker": {
             "colorbar": {
              "outlinewidth": 0,
              "ticks": ""
             }
            },
            "type": "scattercarpet"
           }
          ],
          "scattergeo": [
           {
            "marker": {
             "colorbar": {
              "outlinewidth": 0,
              "ticks": ""
             }
            },
            "type": "scattergeo"
           }
          ],
          "scattergl": [
           {
            "marker": {
             "colorbar": {
              "outlinewidth": 0,
              "ticks": ""
             }
            },
            "type": "scattergl"
           }
          ],
          "scattermap": [
           {
            "marker": {
             "colorbar": {
              "outlinewidth": 0,
              "ticks": ""
             }
            },
            "type": "scattermap"
           }
          ],
          "scattermapbox": [
           {
            "marker": {
             "colorbar": {
              "outlinewidth": 0,
              "ticks": ""
             }
            },
            "type": "scattermapbox"
           }
          ],
          "scatterpolar": [
           {
            "marker": {
             "colorbar": {
              "outlinewidth": 0,
              "ticks": ""
             }
            },
            "type": "scatterpolar"
           }
          ],
          "scatterpolargl": [
           {
            "marker": {
             "colorbar": {
              "outlinewidth": 0,
              "ticks": ""
             }
            },
            "type": "scatterpolargl"
           }
          ],
          "scatterternary": [
           {
            "marker": {
             "colorbar": {
              "outlinewidth": 0,
              "ticks": ""
             }
            },
            "type": "scatterternary"
           }
          ],
          "surface": [
           {
            "colorbar": {
             "outlinewidth": 0,
             "ticks": ""
            },
            "colorscale": [
             [
              0,
              "#0d0887"
             ],
             [
              0.1111111111111111,
              "#46039f"
             ],
             [
              0.2222222222222222,
              "#7201a8"
             ],
             [
              0.3333333333333333,
              "#9c179e"
             ],
             [
              0.4444444444444444,
              "#bd3786"
             ],
             [
              0.5555555555555556,
              "#d8576b"
             ],
             [
              0.6666666666666666,
              "#ed7953"
             ],
             [
              0.7777777777777778,
              "#fb9f3a"
             ],
             [
              0.8888888888888888,
              "#fdca26"
             ],
             [
              1,
              "#f0f921"
             ]
            ],
            "type": "surface"
           }
          ],
          "table": [
           {
            "cells": {
             "fill": {
              "color": "#EBF0F8"
             },
             "line": {
              "color": "white"
             }
            },
            "header": {
             "fill": {
              "color": "#C8D4E3"
             },
             "line": {
              "color": "white"
             }
            },
            "type": "table"
           }
          ]
         },
         "layout": {
          "annotationdefaults": {
           "arrowcolor": "#2a3f5f",
           "arrowhead": 0,
           "arrowwidth": 1
          },
          "autotypenumbers": "strict",
          "coloraxis": {
           "colorbar": {
            "outlinewidth": 0,
            "ticks": ""
           }
          },
          "colorscale": {
           "diverging": [
            [
             0,
             "#8e0152"
            ],
            [
             0.1,
             "#c51b7d"
            ],
            [
             0.2,
             "#de77ae"
            ],
            [
             0.3,
             "#f1b6da"
            ],
            [
             0.4,
             "#fde0ef"
            ],
            [
             0.5,
             "#f7f7f7"
            ],
            [
             0.6,
             "#e6f5d0"
            ],
            [
             0.7,
             "#b8e186"
            ],
            [
             0.8,
             "#7fbc41"
            ],
            [
             0.9,
             "#4d9221"
            ],
            [
             1,
             "#276419"
            ]
           ],
           "sequential": [
            [
             0,
             "#0d0887"
            ],
            [
             0.1111111111111111,
             "#46039f"
            ],
            [
             0.2222222222222222,
             "#7201a8"
            ],
            [
             0.3333333333333333,
             "#9c179e"
            ],
            [
             0.4444444444444444,
             "#bd3786"
            ],
            [
             0.5555555555555556,
             "#d8576b"
            ],
            [
             0.6666666666666666,
             "#ed7953"
            ],
            [
             0.7777777777777778,
             "#fb9f3a"
            ],
            [
             0.8888888888888888,
             "#fdca26"
            ],
            [
             1,
             "#f0f921"
            ]
           ],
           "sequentialminus": [
            [
             0,
             "#0d0887"
            ],
            [
             0.1111111111111111,
             "#46039f"
            ],
            [
             0.2222222222222222,
             "#7201a8"
            ],
            [
             0.3333333333333333,
             "#9c179e"
            ],
            [
             0.4444444444444444,
             "#bd3786"
            ],
            [
             0.5555555555555556,
             "#d8576b"
            ],
            [
             0.6666666666666666,
             "#ed7953"
            ],
            [
             0.7777777777777778,
             "#fb9f3a"
            ],
            [
             0.8888888888888888,
             "#fdca26"
            ],
            [
             1,
             "#f0f921"
            ]
           ]
          },
          "colorway": [
           "#636efa",
           "#EF553B",
           "#00cc96",
           "#ab63fa",
           "#FFA15A",
           "#19d3f3",
           "#FF6692",
           "#B6E880",
           "#FF97FF",
           "#FECB52"
          ],
          "font": {
           "color": "#2a3f5f"
          },
          "geo": {
           "bgcolor": "white",
           "lakecolor": "white",
           "landcolor": "#E5ECF6",
           "showlakes": true,
           "showland": true,
           "subunitcolor": "white"
          },
          "hoverlabel": {
           "align": "left"
          },
          "hovermode": "closest",
          "mapbox": {
           "style": "light"
          },
          "paper_bgcolor": "white",
          "plot_bgcolor": "#E5ECF6",
          "polar": {
           "angularaxis": {
            "gridcolor": "white",
            "linecolor": "white",
            "ticks": ""
           },
           "bgcolor": "#E5ECF6",
           "radialaxis": {
            "gridcolor": "white",
            "linecolor": "white",
            "ticks": ""
           }
          },
          "scene": {
           "xaxis": {
            "backgroundcolor": "#E5ECF6",
            "gridcolor": "white",
            "gridwidth": 2,
            "linecolor": "white",
            "showbackground": true,
            "ticks": "",
            "zerolinecolor": "white"
           },
           "yaxis": {
            "backgroundcolor": "#E5ECF6",
            "gridcolor": "white",
            "gridwidth": 2,
            "linecolor": "white",
            "showbackground": true,
            "ticks": "",
            "zerolinecolor": "white"
           },
           "zaxis": {
            "backgroundcolor": "#E5ECF6",
            "gridcolor": "white",
            "gridwidth": 2,
            "linecolor": "white",
            "showbackground": true,
            "ticks": "",
            "zerolinecolor": "white"
           }
          },
          "shapedefaults": {
           "line": {
            "color": "#2a3f5f"
           }
          },
          "ternary": {
           "aaxis": {
            "gridcolor": "white",
            "linecolor": "white",
            "ticks": ""
           },
           "baxis": {
            "gridcolor": "white",
            "linecolor": "white",
            "ticks": ""
           },
           "bgcolor": "#E5ECF6",
           "caxis": {
            "gridcolor": "white",
            "linecolor": "white",
            "ticks": ""
           }
          },
          "title": {
           "x": 0.05
          },
          "xaxis": {
           "automargin": true,
           "gridcolor": "white",
           "linecolor": "white",
           "ticks": "",
           "title": {
            "standoff": 15
           },
           "zerolinecolor": "white",
           "zerolinewidth": 2
          },
          "yaxis": {
           "automargin": true,
           "gridcolor": "white",
           "linecolor": "white",
           "ticks": "",
           "title": {
            "standoff": 15
           },
           "zerolinecolor": "white",
           "zerolinewidth": 2
          }
         }
        },
        "title": {
         "text": "Willingness to Discuss Mental Health with Supervisor by Perceived Negative Consequence"
        },
        "xaxis": {
         "anchor": "y",
         "categoryarray": [
          "Yes",
          "No",
          "Maybe"
         ],
         "categoryorder": "array",
         "domain": [
          0,
          1
         ],
         "title": {
          "text": "Perceived Negative Consequences"
         }
        },
        "yaxis": {
         "anchor": "x",
         "domain": [
          0,
          1
         ],
         "title": {
          "text": "Number of Respondents"
         }
        }
       }
      }
     },
     "metadata": {},
     "output_type": "display_data"
    }
   ],
   "source": [
    "import plotly.express as px\n",
    "\n",
    "fig = px.histogram(df, x='mental_health_consequence', color='supervisor', barmode='group',\n",
    "                   title='Willingness to Discuss Mental Health with Supervisor by Perceived Negative Consequence',\n",
    "                   category_orders={'mental_health_consequence': ['Yes', 'No', 'Maybe'], 'supervisor': ['Yes', 'No', 'Some of them']},\n",
    "                   labels={'mental_health_consequence': 'Discussing MH has Negative Consequence', 'supervisor': 'Willing to Discuss with Supervisor'})\n",
    "fig.update_layout(xaxis_title='Perceived Negative Consequences', yaxis_title='Number of Respondents')\n",
    "fig.show()"
   ]
  },
  {
   "cell_type": "markdown",
   "id": "a022afb8",
   "metadata": {},
   "source": [
    "# IV) KPI"
   ]
  },
  {
   "cell_type": "markdown",
   "id": "dd7c4348",
   "metadata": {},
   "source": [
    "### Question: What percentage of tech employees have sought treatment for a mental health condition?"
   ]
  },
  {
   "cell_type": "code",
   "execution_count": 41,
   "id": "0fd25f14",
   "metadata": {},
   "outputs": [
    {
     "name": "stdout",
     "output_type": "stream",
     "text": [
      "\n",
      "Percentage of respondents who sought treatment: 50.60%\n"
     ]
    }
   ],
   "source": [
    "treatment_counts = df['treatment'].value_counts()\n",
    "total_respondents = len(df)\n",
    "percent_seeking_treatment = (treatment_counts.get('Yes', 0) / total_respondents) * 100\n",
    "print(f\"\\nPercentage of respondents who sought treatment: {percent_seeking_treatment:.2f}%\")"
   ]
  },
  {
   "cell_type": "markdown",
   "id": "8885cd83",
   "metadata": {},
   "source": [
    "### Question: What percentage of employers provide mental health benefits?"
   ]
  },
  {
   "cell_type": "code",
   "execution_count": 42,
   "id": "36dd264f",
   "metadata": {},
   "outputs": [
    {
     "name": "stdout",
     "output_type": "stream",
     "text": [
      "Percentage of employers providing mental health benefits: 37.89%\n"
     ]
    }
   ],
   "source": [
    "benefits_counts = df['benefits'].value_counts()\n",
    "total_companies = len(df) # Assuming each row represents a unique company response for benefits context\n",
    "percent_with_benefits = (benefits_counts.get('Yes', 0) / total_companies) * 100\n",
    "print(f\"Percentage of employers providing mental health benefits: {percent_with_benefits:.2f}%\")"
   ]
  },
  {
   "cell_type": "markdown",
   "id": "6b48ebd8",
   "metadata": {},
   "source": [
    "### Question: Among those who answer work_interfere (i.e., those who potentially have a condition), what percentage feel it interferes with their work?"
   ]
  },
  {
   "cell_type": "code",
   "execution_count": 43,
   "id": "8251be0a",
   "metadata": {},
   "outputs": [
    {
     "name": "stdout",
     "output_type": "stream",
     "text": [
      "Percentage of relevant respondents for 'work_interfere' who feel it interferes (Yes/Often/Sometimes): 74.09%\n"
     ]
    }
   ],
   "source": [
    "# Filter out 'Not applicable' from work_interfere for this KPI\n",
    "work_interfere_respondents = df[df['work_interfere'].isin(['Yes', 'No', 'Often', 'Sometimes', 'Never'])]\n",
    "total_work_interfere_respondents = len(work_interfere_respondents)\n",
    "\n",
    "if total_work_interfere_respondents > 0:\n",
    "    interference_counts = work_interfere_respondents['work_interfere'].isin(['Yes', 'Often', 'Sometimes']).sum()\n",
    "    percent_interfering = (interference_counts / total_work_interfere_respondents) * 100\n",
    "    print(f\"Percentage of relevant respondents for 'work_interfere' who feel it interferes (Yes/Often/Sometimes): {percent_interfering:.2f}%\")\n",
    "else:\n",
    "    print(\"No relevant respondents for 'work_interfere' to calculate interference percentage.\")"
   ]
  }
 ],
 "metadata": {
  "kernelspec": {
   "display_name": "venv",
   "language": "python",
   "name": "python3"
  },
  "language_info": {
   "codemirror_mode": {
    "name": "ipython",
    "version": 3
   },
   "file_extension": ".py",
   "mimetype": "text/x-python",
   "name": "python",
   "nbconvert_exporter": "python",
   "pygments_lexer": "ipython3",
   "version": "3.12.5"
  }
 },
 "nbformat": 4,
 "nbformat_minor": 5
}
